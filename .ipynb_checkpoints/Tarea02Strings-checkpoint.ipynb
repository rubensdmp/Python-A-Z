{
 "cells": [
  {
   "cell_type": "code",
   "execution_count": 2,
   "id": "aa26c5ac",
   "metadata": {},
   "outputs": [
    {
     "name": "stdout",
     "output_type": "stream",
     "text": [
      "Había una vez, un barquito chiquitito Había una vez, un barquito chiquitito que no podía, que no podía, que no podía navegar.\n"
     ]
    }
   ],
   "source": [
    "#Utiliza las funciones de concatenar, + y repetir strings, *, junto con la función print() para dados los siguientes\n",
    "#strings s1, s2, s3 y s4, conseguir el resultado siguiente: Había una vez, un barquito chiquitito\n",
    "#Había una vez, un barquito chiquitito que no podía, que no podía, que no podía navegar.\n",
    "\n",
    "\n",
    "s1 = \"Había una vez, \"\n",
    "s2 = \"un barquito chiquitito \"\n",
    "s3 = \"que no podía, \"\n",
    "s4 = \"que no podía navegar.\"\n",
    "\n",
    "print((s1 + s2)*2 + s3*2 + s4)"
   ]
  },
  {
   "cell_type": "code",
   "execution_count": 4,
   "id": "a507c722",
   "metadata": {},
   "outputs": [
    {
     "name": "stdout",
     "output_type": "stream",
     "text": [
      "Érase un hombre a una nariz pegado, \n",
      "Érase una nariz superlativa,\n",
      "Érase una alquitara medio viva,\n",
      "Érase un peje espada mal barbado;\n",
      "\n"
     ]
    }
   ],
   "source": [
    "#Utiliza la función print() y el comando de salto de línea, \\n, para reproducir exactamente el siguiente texto:\n",
    "s1 = \"Érase un hombre a una nariz pegado, \"\n",
    "s2 = \"Érase una nariz superlativa,\"\n",
    "s3 = \"Érase una alquitara medio viva,\"\n",
    "s4 = \"Érase un peje espada mal barbado;\"\n",
    "\n",
    "\n",
    "print(s1 + \"\\n\" + s2 + \"\\n\" + s3 + \"\\n\" + s4 + \"\\n\")\n"
   ]
  },
  {
   "cell_type": "code",
   "execution_count": 5,
   "id": "8d1de728",
   "metadata": {},
   "outputs": [
    {
     "name": "stdout",
     "output_type": "stream",
     "text": [
      "ME ENCANTAN LAS MATEMÁTICAS\n"
     ]
    }
   ],
   "source": [
    "#Transforma el siguiente string s a mayúsculas y muéstralo por pantalla con la función print():\n",
    "\n",
    "s = \"me encantan las matemáticas\"\n",
    "print(s.upper())"
   ]
  },
  {
   "cell_type": "code",
   "execution_count": 6,
   "id": "229f75fd",
   "metadata": {},
   "outputs": [
    {
     "data": {
      "text/plain": [
       "52"
      ]
     },
     "execution_count": 6,
     "metadata": {},
     "output_type": "execute_result"
    }
   ],
   "source": [
    "#Calcula la longitud del string s\n",
    "\n",
    "s = \"Mi pasión por el chocolate es superior a mis fuerzas\"\n",
    "len(s)"
   ]
  },
  {
   "cell_type": "code",
   "execution_count": 19,
   "id": "e12ff77e",
   "metadata": {},
   "outputs": [
    {
     "name": "stdout",
     "output_type": "stream",
     "text": [
      "chocolate\n"
     ]
    }
   ],
   "source": [
    "#Del string s del ejercicio anterior, obtén el substring chocolate y guárdalo en una variable llamada s_sub.\n",
    "#No vale contar, deberás hallar los índices del substring con el método .find() (o el que mejor consideres) y\n",
    "#la función len().\n",
    "#Finalmente, imprime tu resultado por pantalla\n",
    "\n",
    "\n",
    "\n",
    "print(s[(s.find(\"chocolate\")) : (s.find(\"chocolate\")+len(\"chocolate\"))])\n"
   ]
  },
  {
   "cell_type": "code",
   "execution_count": 20,
   "id": "4ccd35d5",
   "metadata": {},
   "outputs": [
    {
     "name": "stdout",
     "output_type": "stream",
     "text": [
      "Introduce tu nombre:pepe\n"
     ]
    }
   ],
   "source": [
    "#Con la función input(), indícale al usuario que introduzca su nombre y guárdalo en la variable llamada nombre\n",
    "\n",
    "nombre = input(\"Introduce tu nombre:\")"
   ]
  },
  {
   "cell_type": "code",
   "execution_count": 21,
   "id": "98411121",
   "metadata": {},
   "outputs": [
    {
     "name": "stdout",
     "output_type": "stream",
     "text": [
      "Introduce tu apellido:morsa\n"
     ]
    }
   ],
   "source": [
    "#Con la función input(), indícale al usuario que introduzca su apellido y guárdalo en la variable llamada apellido\n",
    "\n",
    "apellido = input(\"Introduce tu apellido:\")"
   ]
  },
  {
   "cell_type": "code",
   "execution_count": 22,
   "id": "50d423c8",
   "metadata": {},
   "outputs": [
    {
     "name": "stdout",
     "output_type": "stream",
     "text": [
      "Introduce tu edad:44\n"
     ]
    }
   ],
   "source": [
    "#Con la función input(), indícale al usuario que introduzca su edad y guárdala en la variable llamada edad.\n",
    "#¡Ojo con el tipo de dato!\n",
    "\n",
    "edad = int(input(\"Introduce tu edad:\"))"
   ]
  },
  {
   "cell_type": "code",
   "execution_count": 23,
   "id": "3734766b",
   "metadata": {},
   "outputs": [
    {
     "name": "stdout",
     "output_type": "stream",
     "text": [
      "Introduce la ciudad donde vives:Montevideo\n"
     ]
    }
   ],
   "source": [
    "#Con la función input(), indícale al usuario que introduzca la ciudad en la que vive y guárdala en la variable llamada ciudad.\n",
    "\n",
    "ciudad = input(\"Introduce la ciudad donde vives:\")"
   ]
  },
  {
   "cell_type": "code",
   "execution_count": 24,
   "id": "1dee3fec",
   "metadata": {},
   "outputs": [
    {
     "name": "stdout",
     "output_type": "stream",
     "text": [
      "Su nombre es pepe morsa, tiene 44 años y actualmente viven en Montevideo.\n"
     ]
    }
   ],
   "source": [
    "#Con lo hecho en los ejercicios 6, 7, 8 y 9, imprime por pantalla todos los datos introducidos por el usuario\n",
    "#tal y como se muestra en el siguiente ejemplo, donde el usuario ha indicado que su nombre es María; su\n",
    "#apellido, Santos; su edad, 21; y su ciudad, Palma de Mallorca.\n",
    "#Su nombre es María Santos, tiene 21 años y actualmente vive en Palma de Mallorca.\n",
    "\n",
    "print(\"Su nombre es {} {}, tiene {} años y actualmente viven en {}.\".format(nombre, apellido, edad, ciudad))\n",
    "\n"
   ]
  },
  {
   "cell_type": "code",
   "execution_count": null,
   "id": "b43ec5b5",
   "metadata": {},
   "outputs": [],
   "source": []
  },
  {
   "cell_type": "code",
   "execution_count": 26,
   "id": "52ae1e3f",
   "metadata": {},
   "outputs": [],
   "source": [
    "title = \"se busca tripulante\"\n",
    "message = \"se ofrece puesto en la tripulación del capitán pyratilla para llevar a cabo labores de marinero. comida y bebida garantizada a lo largo de toda la aventura.\"\n",
    "contact = \"para más información, ir al puerto y buscar al capitán pyratilla, ya famoso en este pueblo costero (evitar preguntar en el casino).\""
   ]
  },
  {
   "cell_type": "markdown",
   "id": "5a0f9bd7",
   "metadata": {},
   "source": [
    "Ayuda a Pyratilla a que el anuncio le quede bien:\n",
    "\n",
    "- El título debe estar todo en mayúsculas\n",
    "- El principio de cada frase debe estar en mayúscula\n",
    "- Cada vez que hay un cambio de variable, debe haber un salto de línea\n",
    "- El nombre de Pyratilla debe estar en mayúscula\n",
    "\n",
    "Pista: puede que te sea más fácil si guardas las dos frases de la variable `message` en dos variables diferentes y una vez las tengas listas, las vuelves a unir."
   ]
  },
  {
   "cell_type": "code",
   "execution_count": 27,
   "id": "6458a60d",
   "metadata": {},
   "outputs": [
    {
     "name": "stdout",
     "output_type": "stream",
     "text": [
      "SE BUSCA TRIPULANTE\n",
      "Se ofrece puesto en la tripulación del capitán pyratilla para llevar a cabo labores de marinero. \n",
      "Comida y bebida garantizada a lo largo de toda la aventura.\n",
      "Para más información, ir al puerto y buscar al capitán PYRATILLA, ya famoso en este pueblo costero (evitar preguntar en el casino).\n"
     ]
    }
   ],
   "source": [
    "print(title.upper() + \"\\n\" + \n",
    "message[:message.find(\".\")].capitalize() + \". \" + \"\\n\" + \n",
    "message[message.find(\".\")+2:].capitalize() + \"\\n\" +\n",
    "contact[:contact.find(\"pyratilla\")].capitalize() + \n",
    "contact[contact.find(\"pyratilla\"):contact.find(\"pyratilla\")+len(\"pyratilla\")].upper() + \n",
    "contact[contact.find(\"pyratilla\")+len(\"pyratilla\"):].capitalize())\n"
   ]
  },
  {
   "cell_type": "markdown",
   "id": "9f7ae595",
   "metadata": {},
   "source": [
    "## El formulario para los interesados en el anuncio\n",
    "\n",
    "Para evitar hacer entrevistas innecesarias, Pyratilla decide hacer un formulario para que cualquier interesado lo rellene y si pasa esa prueba, entonces le realizará una entrevista.\n",
    "\n",
    "Ayuda a Pyratilla a crear un formulario donde se pida amablemente el nombre, la edad, el hobby y el sueño al interesado en formar parte de la tripulación del capitán Pyratilla."
   ]
  },
  {
   "cell_type": "code",
   "execution_count": null,
   "id": "76f7e783",
   "metadata": {},
   "outputs": [
    {
     "name": "stdout",
     "output_type": "stream",
     "text": [
      "Por favor escribe tu nombre: s\n",
      "Por favor escribe tu edad: s\n"
     ]
    }
   ],
   "source": [
    "nombre = input(\"Por favor escribe tu nombre: \")\n",
    "edad = int(input(\"Por favor escribe tu edad: \"))\n",
    "hobby = input(\"Por favor cuentanos tu hobby: \")\n",
    "sueno = input(\"Por favor cuentanos tu sueño: \")"
   ]
  }
 ],
 "metadata": {
  "kernelspec": {
   "display_name": "Python 3",
   "language": "python",
   "name": "python3"
  },
  "language_info": {
   "codemirror_mode": {
    "name": "ipython",
    "version": 3
   },
   "file_extension": ".py",
   "mimetype": "text/x-python",
   "name": "python",
   "nbconvert_exporter": "python",
   "pygments_lexer": "ipython3",
   "version": "3.8.8"
  }
 },
 "nbformat": 4,
 "nbformat_minor": 5
}
