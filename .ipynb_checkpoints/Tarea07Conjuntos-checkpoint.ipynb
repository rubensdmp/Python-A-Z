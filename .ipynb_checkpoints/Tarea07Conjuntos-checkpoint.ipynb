{
 "cells": [
  {
   "cell_type": "code",
   "execution_count": 11,
   "id": "cf8ddc04",
   "metadata": {},
   "outputs": [
    {
     "name": "stdout",
     "output_type": "stream",
     "text": [
      "introduce un número entero: 8473\n",
      "{1, 37, 229, 8473}\n"
     ]
    }
   ],
   "source": [
    "num = int(input(\"introduce un número entero: \"))\n",
    "\n",
    "if num >= 0:\n",
    "    divs = set()\n",
    "    for i in range(1, num + 1):\n",
    "        if num % i == 0:\n",
    "            divs.add(i)\n",
    "else:\n",
    "    print(\"No has introducido un número entero positivo. Vuelve a intentarlo.\")\n",
    "    \n",
    "print(divs)"
   ]
  },
  {
   "cell_type": "code",
   "execution_count": 13,
   "id": "d98ff641",
   "metadata": {},
   "outputs": [
    {
     "name": "stdout",
     "output_type": "stream",
     "text": [
      "El mínimo de {2, 66, 3, 47, 51, 85, -8, -6, 251, -99} es -99\n"
     ]
    }
   ],
   "source": [
    "conj = {51,2,66,-99,85,47,3,-6,-8,251}\n",
    "min = 999999\n",
    "\n",
    "for i in conj:\n",
    "    if i < min:\n",
    "        min = i\n",
    "\n",
    "print(\"El mínimo de {} es: {}\".format(conj, min))\n",
    "       \n"
   ]
  },
  {
   "cell_type": "code",
   "execution_count": 15,
   "id": "1ca00832",
   "metadata": {},
   "outputs": [
    {
     "name": "stdout",
     "output_type": "stream",
     "text": [
      "Escribe una frase: y donde esta el piloto\n",
      "Escribe la letra a extraer: f\n",
      "set()\n"
     ]
    }
   ],
   "source": [
    "frase = input(\"Escribe una frase: \")\n",
    "letra = input(\"Escribe la letra a extraer: \")\n",
    "frase = frase.lower()\n",
    "letra = letra.lower()\n",
    "\n",
    "palabras = frase.split(\" \")\n",
    "conj = set()\n",
    "for p in palabras:\n",
    "    if p.startswith(letra):\n",
    "        conj.add(p)\n",
    "\n",
    "print(conj)"
   ]
  },
  {
   "cell_type": "code",
   "execution_count": 24,
   "id": "da6dec96",
   "metadata": {},
   "outputs": [
    {
     "name": "stdout",
     "output_type": "stream",
     "text": [
      "3\n",
      "3\n",
      "r\n",
      "5\n",
      "6\n",
      "4\n",
      "─\n",
      "«\n",
      "d\n",
      "El caracter con menor valor ASCII es ─, con valor: 9472\n"
     ]
    }
   ],
   "source": [
    "conj = {'d', 3, 5, 'r', '─',6,'3','«',4,}\n",
    "maxim = -999999\n",
    "\n",
    "for i in conj:\n",
    "    print(i)\n",
    "    if ord(str(i)) > maxim:\n",
    "        maxim = ord(str(i))\n",
    "\n",
    "print(\"El caracter con menor valor ASCII es {}, con valor: {}\".format(chr(maxim), maxim))"
   ]
  },
  {
   "cell_type": "code",
   "execution_count": 23,
   "id": "ada14992",
   "metadata": {},
   "outputs": [
    {
     "name": "stdout",
     "output_type": "stream",
     "text": [
      "3\n",
      "3\n",
      "r\n",
      "5\n",
      "6\n",
      "4\n",
      "─\n",
      "«\n",
      "d\n",
      "El caracter con menor valor ASCII es 3, con valor: 51\n"
     ]
    }
   ],
   "source": [
    "conj = {'d', 3, 5, 'r', '─',6,'3','«',4,}\n",
    "mini = 999999\n",
    "\n",
    "for i in conj:\n",
    "    print(i)\n",
    "    if ord(str(i)) < mini:\n",
    "        mini = ord(str(i))\n",
    "\n",
    "print(\"El caracter con menor valor ASCII es {}, con valor: {}\".format(chr(mini), mini))"
   ]
  },
  {
   "cell_type": "code",
   "execution_count": 26,
   "id": "05f72a81",
   "metadata": {},
   "outputs": [
    {
     "name": "stdout",
     "output_type": "stream",
     "text": [
      "Escribe una frase: loa dd\n",
      "Escribe la letra a extraer: s\n"
     ]
    },
    {
     "data": {
      "text/plain": [
       "['loa', 'dd']"
      ]
     },
     "execution_count": 26,
     "metadata": {},
     "output_type": "execute_result"
    }
   ],
   "source": [
    "frase = input(\"Escribe una frase: \")\n",
    "letra = input(\"Escribe la letra a extraer: \")\n",
    "frase = frase.lower()\n",
    "letra = letra.lower()\n",
    "\n",
    "palabras = frase.split(\" \")\n",
    "conj = set()\n",
    "for p in palabras:\n",
    "    if letra in p:\n",
    "        conj.add(p)\n",
    "\n",
    "print(conj)\n"
   ]
  },
  {
   "cell_type": "code",
   "execution_count": 29,
   "id": "ce734124",
   "metadata": {},
   "outputs": [
    {
     "name": "stdout",
     "output_type": "stream",
     "text": [
      "Escribe una frase: hola manola\n",
      "{'h', 'm'}\n"
     ]
    }
   ],
   "source": [
    "frase = input(\"Escribe una frase: \")\n",
    "letras = set()\n",
    "\n",
    "for c in frase.title():\n",
    "    if c.isupper():\n",
    "        letras.add(c.lower())\n",
    "\n",
    "print(letras)"
   ]
  },
  {
   "cell_type": "code",
   "execution_count": 31,
   "id": "3ab46072",
   "metadata": {},
   "outputs": [
    {
     "name": "stdout",
     "output_type": "stream",
     "text": [
      "Escribe una frase: hola petuñas\n",
      "{'hola'}\n"
     ]
    }
   ],
   "source": [
    "frase = input(\"Escribe una frase: \")\n",
    "frase = frase.lower()\n",
    "\n",
    "palabras = frase.split(\" \")\n",
    "conj = set()\n",
    "for p in palabras:\n",
    "    if len(p)%2 == 0:\n",
    "        conj.add(p)\n",
    "\n",
    "print(conj)\n",
    "\n",
    "\n"
   ]
  },
  {
   "cell_type": "code",
   "execution_count": 32,
   "id": "715add4d",
   "metadata": {},
   "outputs": [
    {
     "name": "stdout",
     "output_type": "stream",
     "text": [
      "Escribe una frase: hola corol\n",
      "Escribe la letra a extraer: a\n",
      "{'hola'}\n"
     ]
    }
   ],
   "source": [
    "frase = input(\"Escribe una frase: \")\n",
    "letra = input(\"Escribe la letra a extraer: \")\n",
    "frase = frase.lower()\n",
    "letra = letra.lower()\n",
    "\n",
    "palabras = frase.split(\" \")\n",
    "conj = set()\n",
    "for p in palabras:\n",
    "    if p.endswith(letra):\n",
    "        conj.add(p)\n",
    "\n",
    "print(conj)\n",
    "\n"
   ]
  },
  {
   "cell_type": "code",
   "execution_count": 46,
   "id": "e76f21dc",
   "metadata": {},
   "outputs": [
    {
     "name": "stdout",
     "output_type": "stream",
     "text": [
      "Escribe una frase: menem se la come\n",
      "{'menem'}\n"
     ]
    }
   ],
   "source": [
    "frase = input(\"Escribe una frase: \")\n",
    "frase = frase.lower()\n",
    "\n",
    "palabras = frase.split(\" \")\n",
    "conj = set()\n",
    "for p in palabras:\n",
    "    isPalindrom = True\n",
    "    for c in p:\n",
    "        for i in range(int(len(p) // 2)):\n",
    "            if p[i] != p[len(p) - i - 1]:\n",
    "                isPalindrom = False\n",
    "                \n",
    "    if isPalindrom:\n",
    "        conj.add(p)\n",
    "\n",
    "\n",
    "print(conj)"
   ]
  },
  {
   "cell_type": "code",
   "execution_count": 42,
   "id": "c44192dd",
   "metadata": {},
   "outputs": [
    {
     "name": "stdout",
     "output_type": "stream",
     "text": [
      "Frase: menem se la \n",
      "{''}\n"
     ]
    }
   ],
   "source": [
    "#ESTA MAL EL EJEMPLO:\n",
    "\n",
    "\n",
    "s = input(\"Frase: \")\n",
    "s = s.lower()\n",
    "words = s.split(\" \")\n",
    "palindroms = set()\n",
    "for w in words:\n",
    "    isPalindrom = True\n",
    "    l = []\n",
    "    for c in w:\n",
    "        l.append(c)\n",
    "        n = len(l)\n",
    "        for i in range(int(n / 2)):\n",
    "            if l[i] != l[n - (i + 1)]:\n",
    "                isPalindrom = False\n",
    "    if isPalindrom:\n",
    "        palindroms.add(w)\n",
    "        \n",
    "print(palindroms)"
   ]
  }
 ],
 "metadata": {
  "kernelspec": {
   "display_name": "Python 3",
   "language": "python",
   "name": "python3"
  },
  "language_info": {
   "codemirror_mode": {
    "name": "ipython",
    "version": 3
   },
   "file_extension": ".py",
   "mimetype": "text/x-python",
   "name": "python",
   "nbconvert_exporter": "python",
   "pygments_lexer": "ipython3",
   "version": "3.8.8"
  }
 },
 "nbformat": 4,
 "nbformat_minor": 5
}
