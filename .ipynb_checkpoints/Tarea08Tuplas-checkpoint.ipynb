{
 "cells": [
  {
   "cell_type": "code",
   "execution_count": 4,
   "id": "3f7d4186",
   "metadata": {},
   "outputs": [
    {
     "name": "stdout",
     "output_type": "stream",
     "text": [
      "¿Cuántos números enteros vas a introducir? 3\n",
      "6\n",
      "2\n",
      "1\n",
      "[(6, 'par'), (2, 'par'), (1, 'impar')]\n"
     ]
    }
   ],
   "source": [
    "n = int(input(\"¿Cuántos números enteros vas a introducir? \"))\n",
    "nums = []\n",
    "\n",
    "for _ in range(n):\n",
    "    isEven = False\n",
    "    num = int(input())\n",
    "    if num % 2 == 0:\n",
    "        isEven = True\n",
    "    nums.append((num, \"par\" if isEven else \"impar\"))\n",
    "\n",
    "print(nums)"
   ]
  },
  {
   "cell_type": "code",
   "execution_count": 3,
   "id": "2c1035a4",
   "metadata": {},
   "outputs": [
    {
     "name": "stdout",
     "output_type": "stream",
     "text": [
      "Introduce un año 1985\n",
      "(1985, 'Buey')\n"
     ]
    }
   ],
   "source": [
    "year = int(input(\"Introduce un año \"))\n",
    "horoscopes = [\"Mono\", \"Gallo\", \"Perro\", \"Cerdo\", \"Rata\", \"Buey\", \"Tigre\", \"Conejo\", \"Dragón\", \"Serpiente\", \"Caballo\", \"Cabra\"]\n",
    "horoscope = horoscopes[year % 12]\n",
    "result = (year, horoscope)\n",
    "print(result)\n"
   ]
  },
  {
   "cell_type": "code",
   "execution_count": 6,
   "id": "b7141d8d",
   "metadata": {},
   "outputs": [
    {
     "name": "stdout",
     "output_type": "stream",
     "text": [
      "Escribe una frase: loco de atar\n",
      "[('loco', 4, 'l', 0), ('de', 2, 'd', 1), ('atar', 4, 'a', 2)]\n"
     ]
    }
   ],
   "source": [
    "s = input(\"Escribe una frase: \")\n",
    "s = s.lower()\n",
    "words = s.split(\" \")\n",
    "info = []\n",
    "for i in range(len(words)):\n",
    "    info.append((words[i], len(words[i]), words[i][0], i))\n",
    "print(info)"
   ]
  },
  {
   "cell_type": "code",
   "execution_count": 8,
   "id": "d00532f9",
   "metadata": {},
   "outputs": [
    {
     "name": "stdout",
     "output_type": "stream",
     "text": [
      "Escribe una palabra (vacío para terminar): lle\n",
      "Escribe una palabra (vacío para terminar): la\n",
      "Escribe una palabra (vacío para terminar): \n",
      "Primera palabra: lle\n",
      "Última palabra: la\n"
     ]
    }
   ],
   "source": [
    "w = input(\"Escribe una palabra (vacío para terminar): \")\n",
    "words = []\n",
    "while w != \"\":\n",
    "    words.append(w)\n",
    "    w = input(\"Escribe una palabra (vacío para terminar): \")\n",
    "\n",
    "words = tuple(words)\n",
    "\n",
    "first, *_, last = words\n",
    "print(\"Primera palabra:\", first)\n",
    "print(\"Última palabra:\", last)"
   ]
  },
  {
   "cell_type": "code",
   "execution_count": 10,
   "id": "27cdb5d1",
   "metadata": {},
   "outputs": [
    {
     "name": "stdout",
     "output_type": "stream",
     "text": [
      "{'Mazorca': 7, 'Peñarol': 7, 'Valverde': 8, 'zarangandunga': 13}\n"
     ]
    }
   ],
   "source": [
    "words = [\"Mazorca\", \"Peñarol\", \"Valverde\", \"zarangandunga\"]\n",
    "words_len = []\n",
    "\n",
    "for w in words:\n",
    "    words_len.append(len(w))\n",
    "    \n",
    "print(dict(zip(words, words_len)))"
   ]
  },
  {
   "cell_type": "code",
   "execution_count": 14,
   "id": "3fc5835d",
   "metadata": {},
   "outputs": [
    {
     "name": "stdout",
     "output_type": "stream",
     "text": [
      "Escribe una palabra (vacío para terminar): d\n",
      "Escribe una palabra (vacío para terminar): la\n",
      "Escribe una palabra (vacío para terminar): concha\n",
      "Escribe una palabra (vacío para terminar): de\n",
      "Escribe una palabra (vacío para terminar): tu madre\n",
      "Escribe una palabra (vacío para terminar): \n",
      "Tus palabras han sido ('d', 'la', 'concha', 'de', 'tu madre') y suman 19 caracteres\n"
     ]
    }
   ],
   "source": [
    "w = input(\"Escribe una palabra (vacío para terminar): \")\n",
    "words = []\n",
    "\n",
    "while w != \"\":\n",
    "    words.append(w)\n",
    "    w = input(\"Escribe una palabra (vacío para terminar): \")\n",
    "    \n",
    "words = tuple(words)\n",
    "total_chrs = 0\n",
    "\n",
    "for w in words:\n",
    "    total_chrs += len(w)\n",
    "\n",
    "print(\"Tus palabras han sido {} y suman {} caracteres\".format(words, total_chrs))"
   ]
  },
  {
   "cell_type": "code",
   "execution_count": null,
   "id": "ef4955bc",
   "metadata": {},
   "outputs": [],
   "source": [
    "multiplication_tables = []\n",
    "for i in range(1, 21):\n",
    "multiplication_tables.append((i, [i * j for j in range(1, 11)]))\n",
    "for item in multiplication_tables:\n",
    "print(\"\\n=== TABLA DEL {}===\".format(item[0]))\n",
    "for multiple in item[1]:\n",
    "print(\"{} x {} = {}\".format(item[0], item[1].index(multiple) + 1, multiple))"
   ]
  },
  {
   "cell_type": "code",
   "execution_count": null,
   "id": "5328845a",
   "metadata": {},
   "outputs": [],
   "source": [
    "dividend = int(input(\"Introduce un número entero: \"))\n",
    "divisor = int(input(\"Introduce un número entero menor o igual al anterior: \"))\n",
    "if divisor > dividend:\n",
    "print(\"El segundo número entero que introduzcas debe ser menor o igual al primero\")\n",
    "else:\n",
    "print((dividend, divisor, dividend // divisor, dividend % divisor))"
   ]
  },
  {
   "cell_type": "code",
   "execution_count": null,
   "id": "0cbe7161",
   "metadata": {},
   "outputs": [],
   "source": [
    "degree = float(input(\"Introduce un número del intervalo [0, 360] \"))\n",
    "print((degree, degree * 2 * 3.141592653589793 / 360))"
   ]
  },
  {
   "cell_type": "code",
   "execution_count": null,
   "id": "385b44c4",
   "metadata": {},
   "outputs": [],
   "source": [
    "z = complex(float(input(\"Introduce la parte real de un número complejo: \")),\n",
    "float(input(\"Introduce la parte imaginaria de un número complejo: \")))\n",
    "print((z, -z, z.conjugate()))"
   ]
  },
  {
   "cell_type": "code",
   "execution_count": null,
   "id": "44518c84",
   "metadata": {},
   "outputs": [],
   "source": []
  },
  {
   "cell_type": "code",
   "execution_count": null,
   "id": "4ad8d503",
   "metadata": {},
   "outputs": [],
   "source": []
  },
  {
   "cell_type": "code",
   "execution_count": null,
   "id": "fb1323f3",
   "metadata": {},
   "outputs": [],
   "source": []
  },
  {
   "cell_type": "code",
   "execution_count": null,
   "id": "2e8cce15",
   "metadata": {},
   "outputs": [],
   "source": []
  }
 ],
 "metadata": {
  "kernelspec": {
   "display_name": "Python 3",
   "language": "python",
   "name": "python3"
  },
  "language_info": {
   "codemirror_mode": {
    "name": "ipython",
    "version": 3
   },
   "file_extension": ".py",
   "mimetype": "text/x-python",
   "name": "python",
   "nbconvert_exporter": "python",
   "pygments_lexer": "ipython3",
   "version": "3.8.8"
  }
 },
 "nbformat": 4,
 "nbformat_minor": 5
}
