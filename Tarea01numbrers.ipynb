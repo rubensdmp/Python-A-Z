{
 "cells": [
  {
   "cell_type": "code",
   "execution_count": 1,
   "id": "fbfa39af",
   "metadata": {},
   "outputs": [
    {
     "data": {
      "text/plain": [
       "7"
      ]
     },
     "execution_count": 1,
     "metadata": {},
     "output_type": "execute_result"
    }
   ],
   "source": [
    "#Calcula la división entera de 45 entre 6\n",
    "\n",
    "45//6"
   ]
  },
  {
   "cell_type": "code",
   "execution_count": 2,
   "id": "89f60a27",
   "metadata": {},
   "outputs": [
    {
     "data": {
      "text/plain": [
       "3"
      ]
     },
     "execution_count": 2,
     "metadata": {},
     "output_type": "execute_result"
    }
   ],
   "source": [
    "#Calcula el resto de la división entera de 45 entre 6\n",
    "\n",
    "45%6"
   ]
  },
  {
   "cell_type": "code",
   "execution_count": 3,
   "id": "8b1760f8",
   "metadata": {},
   "outputs": [
    {
     "data": {
      "text/plain": [
       "10.857142857142858"
      ]
     },
     "execution_count": 3,
     "metadata": {},
     "output_type": "execute_result"
    }
   ],
   "source": [
    "#Realiza la siguiente operación en Python, donde ÷ indica la división entera:\n",
    "#10 + 20 ÷ 7 − 2\n",
    "\n",
    "10 + 20 / 7 - 2"
   ]
  },
  {
   "cell_type": "code",
   "execution_count": 4,
   "id": "614b4265",
   "metadata": {},
   "outputs": [
    {
     "data": {
      "text/plain": [
       "1.0"
      ]
     },
     "execution_count": 4,
     "metadata": {},
     "output_type": "execute_result"
    }
   ],
   "source": [
    "#Realiza la siguiente operación en Python\n",
    "#9 − 25+5−2\n",
    "#7\u00034\n",
    "#23\n",
    "\n",
    "(9-((25+5-2)/(7*4)))/(2**3)"
   ]
  },
  {
   "cell_type": "code",
   "execution_count": 5,
   "id": "21f07ec2",
   "metadata": {},
   "outputs": [
    {
     "data": {
      "text/plain": [
       "-4.0"
      ]
     },
     "execution_count": 5,
     "metadata": {},
     "output_type": "execute_result"
    }
   ],
   "source": [
    "#Realiza la siguiente operación en Python\n",
    "\n",
    "((2+2**3)-(2*(2-(2**5)))+((2**2)*2)+2)/((2*((2*2)-2**4))+2**2)"
   ]
  },
  {
   "cell_type": "code",
   "execution_count": 6,
   "id": "8f2acb49",
   "metadata": {},
   "outputs": [
    {
     "data": {
      "text/plain": [
       "(-8+4j)"
      ]
     },
     "execution_count": 6,
     "metadata": {},
     "output_type": "execute_result"
    }
   ],
   "source": [
    "#Realiza la siguiente operación en Python\n",
    "\n",
    "6j - (4+1j) * 2\n"
   ]
  },
  {
   "cell_type": "code",
   "execution_count": 7,
   "id": "08b5049c",
   "metadata": {},
   "outputs": [
    {
     "data": {
      "text/plain": [
       "(-1+0j)"
      ]
     },
     "execution_count": 7,
     "metadata": {},
     "output_type": "execute_result"
    }
   ],
   "source": [
    "((1+1j)/(1-1j))+((2)/(-1+1j))\n"
   ]
  },
  {
   "cell_type": "code",
   "execution_count": 8,
   "id": "e0caf614",
   "metadata": {},
   "outputs": [
    {
     "data": {
      "text/plain": [
       "2j"
      ]
     },
     "execution_count": 8,
     "metadata": {},
     "output_type": "execute_result"
    }
   ],
   "source": [
    "(1+1j)**2"
   ]
  },
  {
   "cell_type": "code",
   "execution_count": 9,
   "id": "e96e6b98",
   "metadata": {},
   "outputs": [
    {
     "data": {
      "text/plain": [
       "4.242640687119285"
      ]
     },
     "execution_count": 9,
     "metadata": {},
     "output_type": "execute_result"
    }
   ],
   "source": [
    "abs((9-3j)/(-2-1j))"
   ]
  },
  {
   "cell_type": "code",
   "execution_count": 10,
   "id": "9a96d27e",
   "metadata": {},
   "outputs": [
    {
     "data": {
      "text/plain": [
       "1.5707963267948966"
      ]
     },
     "execution_count": 10,
     "metadata": {},
     "output_type": "execute_result"
    }
   ],
   "source": [
    "import cmath\n",
    "cmath.phase(1j)"
   ]
  }
 ],
 "metadata": {
  "kernelspec": {
   "display_name": "Python 3",
   "language": "python",
   "name": "python3"
  },
  "language_info": {
   "codemirror_mode": {
    "name": "ipython",
    "version": 3
   },
   "file_extension": ".py",
   "mimetype": "text/x-python",
   "name": "python",
   "nbconvert_exporter": "python",
   "pygments_lexer": "ipython3",
   "version": "3.8.8"
  }
 },
 "nbformat": 4,
 "nbformat_minor": 5
}
