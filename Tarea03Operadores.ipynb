{
 "cells": [
  {
   "cell_type": "code",
   "execution_count": 6,
   "id": "41ca30d6",
   "metadata": {},
   "outputs": [
    {
     "name": "stdout",
     "output_type": "stream",
     "text": [
      "introduce un número real-874\n",
      "El número -874.0 es negativo\n"
     ]
    }
   ],
   "source": [
    "#Ejercicio 1\n",
    "#Haz que un usuario introduzca un número real y evalúa si dicho número es positivo, negativo o cero. Devuelve\n",
    "#por pantalla el resultado en cada caso.\n",
    "num = float(input(\"introduce un número real\"))\n",
    "if num == 0:\n",
    "    print(\"El número {} es cero\".format(num))\n",
    "elif num > 0:\n",
    "    print(\"El número {} es positivo\".format(num))\n",
    "else:\n",
    "    print(\"El número {} es negativo\".format(num))"
   ]
  },
  {
   "cell_type": "code",
   "execution_count": 8,
   "id": "8d7d2240",
   "metadata": {},
   "outputs": [
    {
     "name": "stdout",
     "output_type": "stream",
     "text": [
      "introduce tu nombre: mornoss ool\n",
      "Tu nombre tiene una longitud mayor a 10 caracteres\n"
     ]
    }
   ],
   "source": [
    "#Ejercicio 2\n",
    "#Haz que un usuario introduzca su nombre y evalúa con operadores if y else si \n",
    "#dicho nombre tiene una longitud mayor a 10 caracteres o no. Devuelve por pantalla el resultado en cada caso.\n",
    "\n",
    "nombre = input(\"introduce tu nombre: \")\n",
    "if len(nombre) > 10:\n",
    "    print(\"Tu nombre tiene una longitud mayor a 10 caracteres\")\n",
    "else:\n",
    "    print(\"Tu nombre tiene una longitud menor a 10 caracteres\")"
   ]
  },
  {
   "cell_type": "code",
   "execution_count": 9,
   "id": "9006f211",
   "metadata": {
    "scrolled": true
   },
   "outputs": [
    {
     "name": "stdout",
     "output_type": "stream",
     "text": [
      "introduce tu nombre: rodolfos\n",
      "Tu nombre tiene una longitud menor a 10 caracteres\n"
     ]
    }
   ],
   "source": [
    "#Ejercicio 3\n",
    "#Realiza el ejercicio anterior con el uso del operador ternario.\n",
    "nombre = input(\"introduce tu nombre: \")\n",
    "print(\"Tu nombre tiene una longitud mayor a 10 caracteres\") if len(nombre) > 10 else print(\"Tu nombre tiene una longitud menor a 10 caracteres\")"
   ]
  },
  {
   "cell_type": "code",
   "execution_count": 2,
   "id": "528815b9",
   "metadata": {},
   "outputs": [
    {
     "name": "stdout",
     "output_type": "stream",
     "text": [
      "Introduce dos números enteros positivos:  1\n",
      "2\n",
      "El primer número es menor o igual al segundo número\n"
     ]
    }
   ],
   "source": [
    "#Ejercicio 4\n",
    "#Haz que un usuario introduzca dos números enteros positivos. Comprueba si el primer número introducido\n",
    "#por el usuario es mayor o igual que el segundo número introducido por el usuario. Devuelve por pantalla\n",
    "#el resultado en cada caso.\n",
    "\n",
    "print(\"Introduce dos números enteros positivos: \", end = \"\")\n",
    "\n",
    "num1 = int(input())\n",
    "num2 = int(input())\n",
    "\n",
    "if num1 >= num2:\n",
    "    print(\"El primer número es mayor o igual al segundo número\")\n",
    "else:\n",
    "    print(\"El primer número es menor al segundo número\")"
   ]
  },
  {
   "cell_type": "code",
   "execution_count": 8,
   "id": "9fc986d5",
   "metadata": {},
   "outputs": [
    {
     "name": "stdout",
     "output_type": "stream",
     "text": [
      "Introduce dos números enteros positivos: 6\n",
      "3\n",
      "La división es entera 6/3 = 2.0\n"
     ]
    }
   ],
   "source": [
    "#Ejercicio 5\n",
    "#Haz que un usuario introduzca dos números enteros positivos. Suponiendo que el primer número introducido\n",
    "#por el usuario es mayor o igual al segundo número introducido por el usuario, comprueba que la división del\n",
    "#primer número entre el segundo número es entera.\n",
    "#En caso de la división ser entera, devuelve el cociente por pantalla e indica que la división en efecto es entera.\n",
    "#En caso de la división no ser entera, devuelve el cociente y el resto por pantalla e indica que la división entre\n",
    "#los dos números no es entera.\n",
    "\n",
    "print(\"Introduce dos números enteros positivos: \", end = \"\")\n",
    "\n",
    "num1 = int(input())\n",
    "num2 = int(input())\n",
    "\n",
    "if num1 >= num2:\n",
    "    if num1%num2 == 0:\n",
    "        print(\"La división es entera {}/{} = {}\".format(num1, num2, num1/num2))\n",
    "    else:\n",
    "        print(\"La división es entera {}/{} = {} con un resto de {}\".format(num1, num2, num1/num2, num1%num2))\n",
    "else:\n",
    "    print(\"El primer número es menor al segundo número\")\n",
    "\n"
   ]
  },
  {
   "cell_type": "code",
   "execution_count": null,
   "id": "7aee404c",
   "metadata": {},
   "outputs": [],
   "source": [
    "#Ejercicio 6\n",
    "#Fusiona lo hecho en los ejercicios 4 y 5 para que\n",
    "#1. Un usuario introduzca dos números enteros por pantalla.\n",
    "#2. Comprobar si el primer número es mayor o igual al segundo número introducido por el usuario. Devolver por pantalla en que caso nos encontramos.\n",
    "#3. Hacer la división entera pertinente en cada caso.\n",
    "#4. Si la división es entera, entonces devolver por pantalla el cociente e indicar que la división es entera.\n",
    "#Si la división no es entera, entonces devolver por pantalla el cociente y el resto e indicar que la división realizada no es entera.\n",
    "\n",
    "print(\"Introduce dos números enteros positivos: \", end = \"\")\n",
    "\n",
    "num1 = int(input())\n",
    "num2 = int(input())\n",
    "\n",
    "if num1 >= num2:\n",
    "    if num1%num2 == 0:\n",
    "        print(\"La división es entera {}/{} = {}\".format(num1, num2, num1/num2))\n",
    "    else:\n",
    "        print(\"La división es entera {}/{} = {} con un resto de {}\".format(num1, num2, num1/num2, num1%num2))\n",
    "else:\n",
    "    print(\"El primer número es menor al segundo número\")\n",
    "\n"
   ]
  },
  {
   "cell_type": "code",
   "execution_count": 9,
   "id": "b4e6b6b6",
   "metadata": {},
   "outputs": [
    {
     "name": "stdout",
     "output_type": "stream",
     "text": [
      "Introduce dos números enteros positivos: 6\n",
      "3\n",
      "El número 6 es múltiplo de 3\n"
     ]
    }
   ],
   "source": [
    "#Ejercicio 7\n",
    "#Haz que un usuario introduzca dos números enteros positivos. Comprueba si el mayor es múltiplo del menor.\n",
    "#Devuelve por pantalla el resultado en cada caso.\n",
    "\n",
    "print(\"Introduce dos números enteros positivos: \", end = \"\")\n",
    "\n",
    "num1 = int(input())\n",
    "num2 = int(input())\n",
    "\n",
    "if num1 >= num2 and num1%num2 == 0:\n",
    "    print(\"El número {} es múltiplo de {}\".format(num1, num2))\n",
    "else:\n",
    "    print(\"El número {} NO es múltiplo de {}\".format(num1, num2))"
   ]
  },
  {
   "cell_type": "code",
   "execution_count": 11,
   "id": "a14892ef",
   "metadata": {},
   "outputs": [
    {
     "name": "stdout",
     "output_type": "stream",
     "text": [
      "Introduce una palabra: Rubens\n",
      "La primer letra es Mayúscula\n"
     ]
    }
   ],
   "source": [
    "#Ejercicio 8\n",
    "#Haz que un usuario introduzca una palabra y comprueba si dicha palabra empieza por mayúscula. Devuelve\n",
    "#por pantalla el resultado en cada caso.\n",
    "\n",
    "\n",
    "s = input(\"Introduce una palabra: \")\n",
    "if s[0].isupper():\n",
    "    print(\"La primer letra es Mayúscula\")\n",
    "else:\n",
    "    print(\"La primer letra es Minúscula\")\n",
    "\n"
   ]
  },
  {
   "cell_type": "code",
   "execution_count": 13,
   "id": "f5426583",
   "metadata": {},
   "outputs": [
    {
     "name": "stdout",
     "output_type": "stream",
     "text": [
      "Introduce una letra: re\n",
      "No se puede procesar el dato, debes introducir solo 1 letra, hazlo denuevo: re\n",
      "No se puede procesar el dato, debes introducir solo 1 letra, hazlo denuevo: re\n",
      "No se puede procesar el dato, debes introducir solo 1 letra, hazlo denuevo: re\n",
      "No se puede procesar el dato, debes introducir solo 1 letra, hazlo denuevo: re\n",
      "No se puede procesar el dato, debes introducir solo 1 letra, hazlo denuevo: re\n",
      "No se puede procesar el dato, debes introducir solo 1 letra, hazlo denuevo: re\n",
      "No se puede procesar el dato, debes introducir solo 1 letra, hazlo denuevo: re\n",
      "No se puede procesar el dato, debes introducir solo 1 letra, hazlo denuevo: 2\n",
      "La letra es una consonante\n"
     ]
    }
   ],
   "source": [
    "#Ejercicio 9\n",
    "#Haz un usuario introduza una letra y comprueba si se trata de una vocal. Si el usuario introduce un string\n",
    "#de más de un carácter, infórmale de que no se puede procesar el dato, pues debe tener como máximo tamaño 1.\n",
    "#PISTA: Convierte la letra introducida a minúsculas para tener que realizar menos comprobaciones\n",
    "\n",
    "s = input(\"Introduce una letra: \")\n",
    "while len(s) > 1:\n",
    "    s=input(\"No se puede procesar el dato, debes introducir solo 1 letra, hazlo denuevo: \")\n",
    "\n",
    "s = s.lower()    \n",
    "if s == \"a\" or s == \"e\" or s == \"i\" or s == \"o\" or s == \"u\":\n",
    "    print(\"La letra es una vocal\")\n",
    "else:\n",
    "    print(\"La letra es una consonante\")\n"
   ]
  },
  {
   "cell_type": "code",
   "execution_count": 25,
   "id": "418f8742",
   "metadata": {},
   "outputs": [
    {
     "name": "stdout",
     "output_type": "stream",
     "text": [
      "Introduce los coeficientes a, b y c: \n",
      "\n",
      "1\n",
      "2\n",
      "0\n",
      "4\n",
      "Tendremos dos soluciones disitintas en R x1 = 0.0 y x2 = -2.0\n"
     ]
    }
   ],
   "source": [
    "#Con toda esta información, haz que el usuario introduzca los valores de los coeficientes a, b, c. Con ello,\n",
    "#1. Comprueba que el coeficiente a es distinto de 0\n",
    "#2. En función del discriminante, calcula cuántas soluciones va a tener la ecuación de segundo grado\n",
    "#ax2 + bx + c = 0.\n",
    "#3. Devuelve por pantalla el resultado en cada caso (tanto el número de soluciones en los números reales\n",
    "#como el valor de éstas).\n",
    "\n",
    "import math as mt\n",
    "\n",
    "print(\"Introduce los coeficientes a, b y c: \\n\")\n",
    "a = int(input())\n",
    "b = int(input())\n",
    "c = int(input())\n",
    "\n",
    "if a != 0:\n",
    "    det= ((b**2) - (4*a*c))\n",
    "    print(det)\n",
    "    if det > 0:\n",
    "        x1 = (-b + mt.sqrt(det))/2*a\n",
    "        x2 = (-b - mt.sqrt(det))/2*a\n",
    "        print(\"Tendremos dos soluciones disitintas en R x1 = {} y x2 = {}\".format(x1,x2))\n",
    "    elif det == 0:\n",
    "        x1 = x2 =-b/(2*a)\n",
    "        print(\"Tendremos dos soluciones iguales en R x1 = {} y x2 = {}\".format(x1,x2))\n",
    "    else:\n",
    "        print(\"no existe solución dentro del conjunto de los números reales para esta ecuación de segundo grado.\")\n",
    "\n",
    "\n"
   ]
  }
 ],
 "metadata": {
  "kernelspec": {
   "display_name": "Python 3",
   "language": "python",
   "name": "python3"
  },
  "language_info": {
   "codemirror_mode": {
    "name": "ipython",
    "version": 3
   },
   "file_extension": ".py",
   "mimetype": "text/x-python",
   "name": "python",
   "nbconvert_exporter": "python",
   "pygments_lexer": "ipython3",
   "version": "3.8.8"
  }
 },
 "nbformat": 4,
 "nbformat_minor": 5
}
