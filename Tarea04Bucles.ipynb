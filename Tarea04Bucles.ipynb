{
 "cells": [
  {
   "cell_type": "code",
   "execution_count": 3,
   "id": "e3b6faa1",
   "metadata": {},
   "outputs": [
    {
     "name": "stdout",
     "output_type": "stream",
     "text": [
      "ingresa el número que desees para saber si es par o impar, 0 para terminar: 2\n",
      "El número 2 es Par\n",
      "ingresa el número que desees para saber si es par o impar, 0 para terminar: 5\n",
      "El número 5 es impar\n",
      "ingresa el número que desees para saber si es par o impar, 0 para terminar: 55897\n",
      "El número 55897 es impar\n",
      "ingresa el número que desees para saber si es par o impar, 0 para terminar: 335556\n",
      "El número 335556 es Par\n",
      "ingresa el número que desees para saber si es par o impar, 0 para terminar: 0\n"
     ]
    }
   ],
   "source": [
    "#Ejercicio 1\n",
    "#Haz que el usuario introduzca números enteros por teclado. Mientras el usuario no introduzca el 0, muestra\n",
    "#si el número introducido es par o impar.\n",
    "\n",
    "n = int(input(\"ingresa el número que desees para saber si es par o impar, 0 para terminar: \"))\n",
    "\n",
    "while n != 0:    \n",
    "    if n%2==0:\n",
    "        print(\"El número {} es Par\".format(n))\n",
    "    else:\n",
    "        print(\"El número {} es impar\".format(n))    \n",
    "    n = int(input(\"ingresa el número que desees para saber si es par o impar, 0 para terminar: \"))\n",
    "        \n",
    "        "
   ]
  },
  {
   "cell_type": "code",
   "execution_count": 11,
   "id": "848ec85b",
   "metadata": {},
   "outputs": [
    {
     "name": "stdout",
     "output_type": "stream",
     "text": [
      "Ingresa la palabra que desees: macarrones\n",
      "Ingresa la letras que decidas buscar: s\n",
      "La palabra contiene la letra:  s\n"
     ]
    }
   ],
   "source": [
    "#Ejercicio 2\n",
    "#Haz que el usuario introduzca una palabra y una letra por teclado. Comprueba si la palabra contiene la\n",
    "#letra o no e indícaselo al usuario por pantalla.\n",
    "\n",
    "palabra = input(\"Ingresa la palabra que desees: \")\n",
    "l = input(\"Ingresa la letras que decidas buscar: \")\n",
    "find = False\n",
    "\n",
    "for c in palabra:\n",
    "    if c == l:\n",
    "\n",
    "        find = True\n",
    "        break\n",
    "    \n",
    "print(\"La palabra contiene la letra: \", l) if find else print(\"La palabra NO contiene la letra: \", l)\n"
   ]
  },
  {
   "cell_type": "code",
   "execution_count": 32,
   "id": "085d8e6e",
   "metadata": {},
   "outputs": [
    {
     "name": "stdout",
     "output_type": "stream",
     "text": [
      "Ingresa un nuevo precio: 555\n",
      "Se te ha acabado el presupuesto\n"
     ]
    }
   ],
   "source": [
    "#Ejercicio 3\n",
    "#Haz que el usuario introduzca precios por teclado (si introduce 0, entonces es que ha finalizado). Si el usuario\n",
    "#pasa de 200€, entonces ya no debe poder introducir más precios pues se ha pasado de presupuesto. Sea cual\n",
    "#sea el resultado (o bien el precio final o bien que no tiene más presupuesto), indícaselo por pantalla al usuario.\n",
    "\n",
    "pres = 200\n",
    "n= 1\n",
    "\n",
    "while (pres >= 0 and n != 0):\n",
    "    n = int(input(\"Ingresa un nuevo precio: \"))\n",
    "    pres -= n\n",
    "\n",
    "\n",
    "if pres <= 0:\n",
    "    print(\"Se te ha acabado el presupuesto\")\n",
    "else:\n",
    "    print(\"El presupuesto final es de {}\".format(200-pres))"
   ]
  },
  {
   "cell_type": "code",
   "execution_count": 1,
   "id": "23b46e12",
   "metadata": {},
   "outputs": [
    {
     "name": "stdout",
     "output_type": "stream",
     "text": [
      "ingresa números positivos y negativos, 0 para terminar: 4\n",
      "ingresa números positivos y negativos, 0 para terminar: 2\n",
      "ingresa números positivos y negativos, 0 para terminar: -5\n",
      "ingresa números positivos y negativos, 0 para terminar: -6\n",
      "ingresa números positivos y negativos, 0 para terminar: 2\n",
      "ingresa números positivos y negativos, 0 para terminar: 5\n",
      "ingresa números positivos y negativos, 0 para terminar: 0\n",
      "Ud. escribió 4 números pares y 2 números impares\n"
     ]
    }
   ],
   "source": [
    "#Ejercicio 4\n",
    "#Haz que el usuario introduzca números enteros por teclado. Mientras el usuario no introduzca el 0, calcula\n",
    "#cuántos números positivos y cuántos negativos ha introducido y muéstraselo al final.\n",
    "\n",
    "n = int(input(\"ingresa números positivos y negativos, 0 para terminar: \"))\n",
    "par, impar = 0,0\n",
    "\n",
    "while n != 0:    \n",
    "    if n%2==0:\n",
    "        par += 1               \n",
    "    else:\n",
    "        impar += 1\n",
    "    n = int(input(\"ingresa números positivos y negativos, 0 para terminar: \"))\n",
    "        \n",
    "print(\"Ud. escribió {} números pares y {} números impares\".format(par,impar))    \n",
    "\n"
   ]
  },
  {
   "cell_type": "code",
   "execution_count": 2,
   "id": "f6bc12b9",
   "metadata": {},
   "outputs": [
    {
     "name": "stdout",
     "output_type": "stream",
     "text": [
      "ingresa un número para obtener la media aritmética, 0 para terminar: 4\n",
      "ingresa un número para obtener la media aritmética, 0 para terminar: 6\n",
      "ingresa un número para obtener la media aritmética, 0 para terminar: 0\n",
      "La media aritmética de los valores es: 5.0\n"
     ]
    }
   ],
   "source": [
    "#Ejercicio 5\n",
    "#Haz que el usuario introduzca números por teclado. Mientras el usuario no introduzca el 0, pídele otro\n",
    "#número. Cuando el usuario introduzca el 0, muéstrale la media aritmética de los números que ha introducido.\n",
    "\n",
    "n = int(input(\"ingresa un número para obtener la media aritmética, 0 para terminar: \"))\n",
    "suma = 0\n",
    "\n",
    "while n != 0:    \n",
    "    suma += n\n",
    "    n = int(input(\"ingresa un número para obtener la media aritmética, 0 para terminar: \"))\n",
    "        \n",
    "print(\"La media aritmética de los valores es: {}\".format(suma/2))    "
   ]
  },
  {
   "cell_type": "code",
   "execution_count": 12,
   "id": "c322f8d8",
   "metadata": {},
   "outputs": [
    {
     "name": "stdout",
     "output_type": "stream",
     "text": [
      "Ingresa el número base: 1\n",
      "Ingresa el número tope: 2\n",
      "1\n",
      "2\n"
     ]
    }
   ],
   "source": [
    "#Ejercicio 6\n",
    "#Haz que el usuario introduzca dos números enteros por teclado. El primero será el extremo izquierdo del\n",
    "#intervalo y, el segundo, el extremo derecho. Imprime todos los números que se encuentren entre los dos\n",
    "#números introducidos por el usuario (los extremos incluidos).\n",
    "\n",
    "\n",
    "pri = int(input(\"Ingresa el número base: \"))\n",
    "seg = int(input(\"Ingresa el número tope: \"))\n",
    "\n",
    "for i in range(seg-pri+1):\n",
    "    print(pri+i)\n"
   ]
  },
  {
   "cell_type": "code",
   "execution_count": 16,
   "id": "dfcc32fd",
   "metadata": {},
   "outputs": [
    {
     "name": "stdout",
     "output_type": "stream",
     "text": [
      "Ingresa el número base: 1\n",
      "Ingresa el número tope: 6\n",
      "La de los múltiplos de 3 dentro del intervalo es de:  9\n"
     ]
    }
   ],
   "source": [
    "#Ejercicio 7\n",
    "#Haz que el usuario introduzca dos números enteros por teclado. El primero será el extremo izquierdo del\n",
    "#intervalo y, el segundo, el extremo derecho. Imprime la suma de todos los múltiplos de 3 que se encuentren\n",
    "#entre los dos números introducidos por el usuario (los extremos incluidos). Finalmente, muestra por pantalla\n",
    "#el resultado de la suma.\n",
    "\n",
    "pri = int(input(\"Ingresa el número base: \"))\n",
    "seg = int(input(\"Ingresa el número tope: \"))\n",
    "suma=0\n",
    "\n",
    "for i in range(seg-pri+1):\n",
    "    if (pri+i)%3 == 0:\n",
    "        suma += pri+i\n",
    "\n",
    "print(\"La de los múltiplos de 3 dentro del intervalo es de: \", suma)"
   ]
  },
  {
   "cell_type": "code",
   "execution_count": 17,
   "id": "b7047ea4",
   "metadata": {},
   "outputs": [
    {
     "name": "stdout",
     "output_type": "stream",
     "text": [
      "Ingresa la candidad de números a introducir: 5\n",
      "Ingresa la candidad de números a introducir: 1\n",
      "Ingresa la candidad de números a introducir: 2\n",
      "Ingresa la candidad de números a introducir: 3\n",
      "Ingresa la candidad de números a introducir: 4\n",
      "Ingresa la candidad de números a introducir: 5\n",
      "El producto de todos los números ingresadoe es de:  120\n"
     ]
    }
   ],
   "source": [
    "#Ejercicio 8\n",
    "#Pídele al usuario cuántos números va a introducir. Con un bucle for, solicítale esa cantidad de números y\n",
    "#calcula su producto.\n",
    "\n",
    "cant = int(input(\"Ingresa la candidad de números a introducir: \"))\n",
    "prod=1\n",
    "\n",
    "for i in range(cant):\n",
    "    n = int(input(\"Ingresa la candidad de números a introducir: \"))\n",
    "    prod = prod * n\n",
    "\n",
    "print(\"El producto de todos los números ingresadoe es de: \", prod)"
   ]
  },
  {
   "cell_type": "code",
   "execution_count": 20,
   "id": "f0fd5dcb",
   "metadata": {},
   "outputs": [
    {
     "name": "stdout",
     "output_type": "stream",
     "text": [
      "Ingresa tu edad: 36\n",
      "Ingresa el año actual: 2021\n",
      "1985\n",
      "1986\n",
      "1987\n",
      "1988\n",
      "1989\n",
      "1990\n",
      "1991\n",
      "1992\n",
      "1993\n",
      "1994\n",
      "1995\n",
      "1996\n",
      "1997\n",
      "1998\n",
      "1999\n",
      "2000\n",
      "2001\n",
      "2002\n",
      "2003\n",
      "2004\n",
      "2005\n",
      "2006\n",
      "2007\n",
      "2008\n",
      "2009\n",
      "2010\n",
      "2011\n",
      "2012\n",
      "2013\n",
      "2014\n",
      "2015\n",
      "2016\n",
      "2017\n",
      "2018\n",
      "2019\n",
      "2020\n",
      "2021\n"
     ]
    }
   ],
   "source": [
    "#Ejercicio 9\n",
    "#Haz que el usuario introduzca su edad y el año actual. Imprime todos los años que han pasado desde su año\n",
    "#de nacimiento hasta el año actual (ambos incluidos).\n",
    "\n",
    "edad = int(input(\"Ingresa tu edad: \"))\n",
    "ano = int(input(\"Ingresa el año actual: \"))\n",
    "\n",
    "for i in range(edad+1):\n",
    "    print(ano-edad+i)\n",
    "    \n"
   ]
  },
  {
   "cell_type": "code",
   "execution_count": 29,
   "id": "03b7f0a5",
   "metadata": {},
   "outputs": [
    {
     "name": "stdout",
     "output_type": "stream",
     "text": [
      "Ingreas el número para dibujar: 5\n",
      "* * * * * \n",
      "* * * * * \n",
      "* * * * * \n",
      "* * * * * \n",
      "* * * * * \n",
      "\n",
      "\n",
      "* \n",
      "* * \n",
      "* * * \n",
      "* * * * \n",
      "* * * * * \n"
     ]
    }
   ],
   "source": [
    "#Ejercicio 10\n",
    "#Haz que el usuario introduzca un número entero. Muestra un cuadrado y luego un triángulo rectángulo de\n",
    "#lado y altura, respectivamente, el número entero introducido. Por ejemplo, si el usuario introduce como\n",
    "#número 5, se deberá mostrar:\n",
    "\n",
    "n = int(input(\"Ingreas el número para dibujar: \"))\n",
    "c=\"* \"\n",
    "\n",
    "for i in range(n):\n",
    "    print(c * n)\n",
    "\n",
    "print(\"\\n\")\n",
    "    \n",
    "for i in range(n):\n",
    "    print(c * (i+1))\n",
    "\n"
   ]
  },
  {
   "cell_type": "markdown",
   "id": "45eb1899",
   "metadata": {},
   "source": [
    "# Filtrando solicitudes\n",
    "\n",
    "Pyratilla hizo un formulario para que los interesados en formar parte de su tripulación rellenaran y así poder evitarse más de una entrevista innecesaria.\n",
    "\n",
    "Ahora es momento de filtrar las convocatorias:\n",
    "\n",
    "- El nombre debe empezar por mayúscula. Si es un nombre compuesto, entonces todos deben empezar por mayúscula.\n",
    "- La edad debe ser mayor o igual a 16 y menor o igual a 40.\n",
    "- El hobby indicado debe tener más de 10 caracteres.\n",
    "- La casilla del sueño no puede haber sido dejada en blanco.\n",
    "\n",
    "Ayuda a Pyratilla a crear este filtro para descartar solicitudes que no cumplan estos requisitos.\n",
    "\n",
    "\n",
    "$$\\left.\\begin{array}{l}\n",
    "ax+by=c\\\\\n",
    "ex-fy=g\n",
    "\\end{array}\\right\\}$$\n",
    "\n",
    "\n",
    "```{python, echo = FALSE }\n",
    "print(\"toronja\")\n",
    "```"
   ]
  },
  {
   "cell_type": "code",
   "execution_count": 35,
   "id": "44e92181",
   "metadata": {},
   "outputs": [],
   "source": [
    "nombre=\"pirata morgan\"\n",
    "edad=25\n",
    "hobby=\"juntar caracolas\"\n",
    "sueno=\"\"\n",
    "\n",
    "\n",
    "\n",
    "\n",
    "nombreOK, edadOK, hobbyOK, suenoOK = False,False,False,False\n",
    "\n",
    "if nombre.istitle():\n",
    "    nombreOK = True\n",
    "if 16 <= edad <= 40:\n",
    "    edadOK = True\n",
    "if len(hobby) >=10:\n",
    "    hobbyOK = True\n",
    "if len(sueno) >0:\n",
    "    suenoOK = True\n",
    "    "
   ]
  },
  {
   "cell_type": "code",
   "execution_count": null,
   "id": "16d2b1d2",
   "metadata": {},
   "outputs": [],
   "source": []
  }
 ],
 "metadata": {
  "kernelspec": {
   "display_name": "Python 3",
   "language": "python",
   "name": "python3"
  },
  "language_info": {
   "codemirror_mode": {
    "name": "ipython",
    "version": 3
   },
   "file_extension": ".py",
   "mimetype": "text/x-python",
   "name": "python",
   "nbconvert_exporter": "python",
   "pygments_lexer": "ipython3",
   "version": "3.8.8"
  }
 },
 "nbformat": 4,
 "nbformat_minor": 5
}
