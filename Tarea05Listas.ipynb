{
 "cells": [
  {
   "cell_type": "code",
   "execution_count": 9,
   "id": "0b06519a",
   "metadata": {},
   "outputs": [
    {
     "name": "stdout",
     "output_type": "stream",
     "text": [
      "Ingresa una secuencia de caracteres: ff\n",
      "La secuencia queda ['f', 'f']\n"
     ]
    }
   ],
   "source": [
    "#Ejercicio 1\n",
    "#Crea un programa que lea una secuencia de caracteres, guarde cada caracter en una posición de una lista y\n",
    "#finalmente muestre la secuencia invertida.\n",
    "\n",
    "cadena = input(\"Ingresa una secuencia de caracteres: \")\n",
    "lista = []\n",
    "\n",
    "for i in cadena:\n",
    "    lista.append(i)\n",
    "\n",
    "lista.reverse()\n",
    "print(\"La secuencia queda\", lista)\n"
   ]
  },
  {
   "cell_type": "code",
   "execution_count": 12,
   "id": "ddef18ec",
   "metadata": {},
   "outputs": [
    {
     "name": "stdout",
     "output_type": "stream",
     "text": [
      "Ingresa la primer secuencia: hola\n",
      "Ingresa la segunda secuencia: hola\n",
      "hhoollaa"
     ]
    }
   ],
   "source": [
    "#Ejercicio 2\n",
    "#Crea un programa que lea dos strings de la misma longitud, los guarde intercalados en una lista. Por último,\n",
    "#mostrar el contenido de la lista.\n",
    "#Por ejemplo, si introducimos hola caracola y adios marieta, debería mostrarse haodleao sc\n",
    "#amraarcioeltaa.\n",
    "\n",
    "\n",
    "cad1 = input(\"Ingresa la primer secuencia: \")\n",
    "cad2 = input(\"Ingresa la segunda secuencia: \")\n",
    "\n",
    "lista = []\n",
    "\n",
    "if len(cad1) == len(cad2):\n",
    "    for i in range(len(cad1)):\n",
    "        lista.append(cad1[i])\n",
    "        lista.append(cad2[i])\n",
    "    for c in lista:\n",
    "        print(c, end = \"\")\n",
    "else:\n",
    "    print(\"Las cadenas no tienen el mismo largo, inténtalo otra vez\")\n",
    "        "
   ]
  },
  {
   "cell_type": "code",
   "execution_count": 15,
   "id": "3cc9b950",
   "metadata": {},
   "outputs": [
    {
     "name": "stdout",
     "output_type": "stream",
     "text": [
      "Ingresa un texto para obtener las consonantes: hola\n",
      "Las cosonantes son:  ['h', 'l']\n"
     ]
    }
   ],
   "source": [
    "#Ejercicio 3\n",
    "#crea un programa que lea un string y guarde en una lista todas las consonantes.\n",
    "\n",
    "cad = input(\"Ingresa un texto para obtener las consonantes: \")\n",
    "\n",
    "lista = []\n",
    "\n",
    "\n",
    "for i in cad.lower():\n",
    "    if i not in (\"a\", \"e\", \"i\", \"o\", \"u\"):\n",
    "        lista.append(i)\n",
    "\n",
    "print(\"Las cosonantes son: \", lista)\n",
    "\n"
   ]
  },
  {
   "cell_type": "code",
   "execution_count": 36,
   "id": "429297b9",
   "metadata": {},
   "outputs": [
    {
     "name": "stdout",
     "output_type": "stream",
     "text": [
      "Ingresa una secuencia de caracteres: la osa lava la losa\n",
      "La secuencia NO es un palindromo\n"
     ]
    }
   ],
   "source": [
    "#Ejercicio 4\n",
    "#Crea un programa que lea una palabra, la guarde en una lista y compruebe si se trata de un palíndromo.\n",
    "\n",
    "cadena = input(\"Ingresa una secuencia de caracteres: \")\n",
    "lista = []\n",
    "\n",
    "for i in cadena:\n",
    "    lista.append(i)\n",
    "\n",
    "listaInversa = lista.copy()\n",
    "lista.reverse()\n",
    "    \n",
    "if lista == listaInversa:\n",
    "    print(\"La secuencia es un palindromo\")\n",
    "else: \n",
    "    print(\"La secuencia NO es un palindromo\")"
   ]
  },
  {
   "cell_type": "code",
   "execution_count": 50,
   "id": "a2f61d53",
   "metadata": {},
   "outputs": [
    {
     "name": "stdout",
     "output_type": "stream",
     "text": [
      "Introduce el elemento (0,0) de la Matriz A: 4\n",
      "Introduce el elemento (0,1) de la Matriz A: 5\n",
      "Introduce el elemento (0,2) de la Matriz A: 1\n",
      "Introduce el elemento (1,0) de la Matriz A: 6\n",
      "Introduce el elemento (1,1) de la Matriz A: 88\n",
      "Introduce el elemento (1,2) de la Matriz A: 9\n",
      "Introduce el elemento (2,0) de la Matriz A: 1\n",
      "Introduce el elemento (2,1) de la Matriz A: 55\n",
      "Introduce el elemento (2,2) de la Matriz A: 2\n",
      "El máximo de la fila 0 es 5.0\n",
      "El máximo de la fila 1 es 88.0\n",
      "El máximo de la fila 2 es 55.0\n"
     ]
    }
   ],
   "source": [
    "#Ejercicio 5\n",
    "#Crea un programa que lea una matriz 3 x 3 y devuelva el máximo de cada fila.\n",
    "\n",
    "A = []        \n",
    "\n",
    "for i in range(3):\n",
    "    A.append([])\n",
    "    for j in range(3):\n",
    "        A[i].append(float(input(\"Introduce el elemento ({},{}) de la Matriz A: \".format(i,j))))\n",
    "\n",
    "for i in range(3):\n",
    "    A[i].sort()\n",
    "    print(\"El máximo de la fila {} es {}\".format(i,A[i][2]))"
   ]
  },
  {
   "cell_type": "code",
   "execution_count": 67,
   "id": "db54ebed",
   "metadata": {},
   "outputs": [
    {
     "name": "stdout",
     "output_type": "stream",
     "text": [
      "Escribe el tamaño de la Matriz A3\n",
      "[0, 1, 2]\n",
      "[3, 4, 5]\n",
      "[6, 7, 8]\n"
     ]
    }
   ],
   "source": [
    "#Ejercicio 6\n",
    "#Crea un programa que lea un entero, n, de teclado y construya una matriz de tamaño n × n. Cada posición\n",
    "#debe contener su orden en la matriz (desde 0 hasta n2 − 1. Por ejemplo, si n es 3, deberá crearse la matriz\n",
    "#[0, 1, 2]\n",
    "#[3, 4, 5]\n",
    "#[6, 7, 8]\n",
    "\n",
    "num = int(input(\"Escribe el tamaño de la Matriz A\"))\n",
    "A = []\n",
    "\n",
    "for i in range(num):\n",
    "    A.append([])\n",
    "    for j in range(num):\n",
    "        A[i].append((num * i) +j) \n",
    "\n",
    "for i in range(num):\n",
    "    print(A[i])\n",
    "\n"
   ]
  },
  {
   "cell_type": "code",
   "execution_count": 65,
   "id": "4db5b951",
   "metadata": {},
   "outputs": [
    {
     "name": "stdout",
     "output_type": "stream",
     "text": [
      "Escribe el n de la Matriz A3\n",
      "Escribe el m de la Matriz A3\n",
      "Introduce el elemento (0,0) de la Matriz A: 1\n",
      "Introduce el elemento (0,1) de la Matriz A: 25\n",
      "Introduce el elemento (0,2) de la Matriz A: 1\n",
      "Introduce el elemento (1,0) de la Matriz A: 1\n",
      "Introduce el elemento (1,1) de la Matriz A: 1\n",
      "Introduce el elemento (1,2) de la Matriz A: 1\n",
      "Introduce el elemento (2,0) de la Matriz A: 1\n",
      "Introduce el elemento (2,1) de la Matriz A: 1\n",
      "Introduce el elemento (2,2) de la Matriz A: 1\n",
      "La suma de las filas No es igual\n"
     ]
    }
   ],
   "source": [
    "#Ejercicio 7\n",
    "#Crea una matriz de n × m y asigna los valores manualmente. El programa debe indicar si la suma de cada\n",
    "#columna es el mismo valor.\n",
    "\n",
    "num1 = int(input(\"Escribe el n de la Matriz A: \"))\n",
    "num2 = int(input(\"Escribe el m de la Matriz A: \"))\n",
    "A = []\n",
    "\n",
    "for i in range(num1):\n",
    "    A.append([])\n",
    "    for j in range(num2):\n",
    "        A[i].append(float(input(\"Introduce el elemento ({},{}) de la Matriz A: \".format(i,j))))\n",
    "\n",
    "\n",
    "listaSuma = []\n",
    "\n",
    "for i in range(num1):\n",
    "    suma = 0\n",
    "    for j in range(num2):\n",
    "        suma += A[i][j]\n",
    "    listaSuma.append(suma)\n",
    "\n",
    "mismaSuma = True\n",
    "for i in range(len(listaSuma)-1):\n",
    "    if listaSuma[i] != listaSuma[i+1]:\n",
    "        mismaSuma = False\n",
    "\n",
    "print(\"La suma de las filas {} es igual\".format(\"Si\" if mismaSuma else \"No\"))\n"
   ]
  },
  {
   "cell_type": "code",
   "execution_count": 66,
   "id": "7440d717",
   "metadata": {},
   "outputs": [
    {
     "name": "stdout",
     "output_type": "stream",
     "text": [
      "Escribe el n de la Matriz A: 3\n",
      "Escribe el m de la Matriz A: 3\n",
      "Introduce el elemento (0,0) de la Matriz A: 1\n",
      "Introduce el elemento (0,1) de la Matriz A: 0\n",
      "Introduce el elemento (0,2) de la Matriz A: 0\n",
      "Introduce el elemento (1,0) de la Matriz A: 0\n",
      "Introduce el elemento (1,1) de la Matriz A: 1\n",
      "Introduce el elemento (1,2) de la Matriz A: 0\n",
      "Introduce el elemento (2,0) de la Matriz A: 0\n",
      "Introduce el elemento (2,1) de la Matriz A: 0\n",
      "Introduce el elemento (2,2) de la Matriz A: 1\n",
      "Es la Matriz identidad\n"
     ]
    }
   ],
   "source": [
    "#Ejercicio 8\n",
    "#Crear un programa determina si la matriz introducida manualmente (tanto sus dimensiones como los elementos)\n",
    "#se trata de la matriz identidad. Recuerda que la matriz identidad debe ser una matriz cuadrada.\n",
    "\n",
    "\n",
    "num1 = int(input(\"Escribe el n de la Matriz A: \"))\n",
    "num2 = int(input(\"Escribe el m de la Matriz A: \"))\n",
    "A = []\n",
    "\n",
    "\n",
    "for i in range(num1):\n",
    "    A.append([])\n",
    "    for j in range(num2):\n",
    "        A[i].append(float(input(\"Introduce el elemento ({},{}) de la Matriz A: \".format(i,j))))\n",
    "\n",
    "\n",
    "identidad = True\n",
    "\n",
    "if num1 == num2:\n",
    "    for i in range(num1):\n",
    "        for j in range(num2):\n",
    "            if (i == j and A[i][j] != 1) or (i != j and A[i][j] != 0):\n",
    "                identidad = False\n",
    "\n",
    "else:\n",
    "    identidad = False\n",
    "\n",
    "print(\"{}Es la Matriz identidad\".format(\"\" if identidad else \"NO \"))\n"
   ]
  },
  {
   "cell_type": "code",
   "execution_count": 86,
   "id": "77f6848d",
   "metadata": {},
   "outputs": [
    {
     "name": "stdout",
     "output_type": "stream",
     "text": [
      "Matriz Original:\n",
      "['a', 'a', 'a']\n",
      "['b', 'b', 'b']\n",
      "['c', 'c', 'c']\n",
      "\n",
      " Matriz Traspuesta:\n",
      "['a', 'b', 'c']\n",
      "['a', 'b', 'c']\n",
      "['a', 'b', 'c']\n"
     ]
    }
   ],
   "source": [
    "#Ejercicio 9\n",
    "#Realiza un programa que calcule la matriz transpuesta.\n",
    "\n",
    "\n",
    "A = [[\"a\",\"a\",\"a\"],[\"b\",\"b\",\"b\"],[\"c\",\"c\",\"c\"]]\n",
    "\n",
    "T = []\n",
    "for i in range(len(A[0])):\n",
    "    T.append([])\n",
    "    for j in range(len(A)):\n",
    "        T[i].append(A[j][i])\n",
    "\n",
    "print(\"Matriz Original:\")\n",
    "for i in range(len(A)):\n",
    "    print(A[i])\n",
    "\n",
    "print(\"\\n Matriz Traspuesta:\")\n",
    "for i in range(len(A)):\n",
    "    print(T[i])"
   ]
  },
  {
   "cell_type": "code",
   "execution_count": 87,
   "id": "e4ff9bf2",
   "metadata": {},
   "outputs": [
    {
     "name": "stdout",
     "output_type": "stream",
     "text": [
      "3\n",
      "[[1. 0. 0.]\n",
      " [0. 1. 0.]\n",
      " [0. 0. 1.]]\n"
     ]
    },
    {
     "data": {
      "text/plain": [
       "numpy.ndarray"
      ]
     },
     "execution_count": 87,
     "metadata": {},
     "output_type": "execute_result"
    }
   ],
   "source": [
    "#Ejercicio 10\n",
    "#Crea un programa que pida al usuario la dimensión y cree la matriz identidad de orden correspondiente con\n",
    "#numpy.\n",
    "\n",
    "import numpy as np\n",
    "\n",
    "num = int(input())\n",
    "A = np.zeros((num,num))\n",
    "for i in range(num):\n",
    "    A[i, i] = 1\n",
    "\n",
    "print(A)\n"
   ]
  }
 ],
 "metadata": {
  "kernelspec": {
   "display_name": "Python 3",
   "language": "python",
   "name": "python3"
  },
  "language_info": {
   "codemirror_mode": {
    "name": "ipython",
    "version": 3
   },
   "file_extension": ".py",
   "mimetype": "text/x-python",
   "name": "python",
   "nbconvert_exporter": "python",
   "pygments_lexer": "ipython3",
   "version": "3.8.8"
  }
 },
 "nbformat": 4,
 "nbformat_minor": 5
}
