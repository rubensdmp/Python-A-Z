{
 "cells": [
  {
   "cell_type": "code",
   "execution_count": null,
   "id": "7658b247",
   "metadata": {},
   "outputs": [],
   "source": [
    "\n",
    "Ejercicio 2\n",
    "Escribe un programa que pregunte al usuario su nombre, edad y teléfono y lo guarde en un diccionario.\n",
    "Después, debe mostrar por pantalla el mensaje ‘{nombre} tiene {edad} años y su número de teléfono es\n",
    "{teléfono}.\n",
    "Ejercicio 3\n",
    "Escribe un programa que cree un diccionario simulando una cesta de la compra. El programa debe preguntar\n",
    "el artículo y su precio por unidad. El artículo será la clave y el valor el precio, hasta que el usuario decida\n",
    "terminar. Después se debe mostrar por pantalla la lista de la compra y el coste total, con el siguiente formato\n",
    "Artículo 1 Precio\n",
    "Artículo 2 Precio\n",
    "Artículo 3 Precio\n",
    ". . . . . .\n",
    "Total Precio Total\n",
    "Ejercicio 4\n",
    "Crea un programa que lea números enteros hasta que introduzca el 0 y devuelva un diccionario con la\n",
    "cantidad números positivos y negativos introducidos.\n",
    "Ejercicio 5\n",
    "Crea un programa que lea números enteros hasta que introduzca el 0 y devuelva un diccionario con la\n",
    "cantidad números pares e impares introducidos.\n",
    "Ejercicio 6\n",
    "Crea un programa que permita al usuario introducir los nombres de los alumnos de una clase y las notas que\n",
    "han obtenido. Cada alumno puede tener distinta cantidad de notas. Guarda la información en un diccionario\n",
    "cuyas claves serán los nombres de los alumnos y los valores serán listas con las notas de cada alumno.\n",
    "1\n",
    "El programa va a pedir el nombre de un estudiante e irá pidiendo sus notas (del 1 al 10) hasta que introduzcamos\n",
    "un 0. Al final, cuando el nombre que introduzcamos sea un string vacío, el programa nos mostrará la\n",
    "lista de alumnos y la nota media obtenida por cada uno de ellos.\n",
    "PISTA: Vas a necesitar la función sum().\n",
    "Ejercicio 7\n",
    "Crea un programa que pida un número entero positivo por teclado y que cree un diccionario cuyas claves\n",
    "sean desde el número 1 hasta el número indicado. Los valores de cada clave serán tantos símbolos \"*\" como\n",
    "indique la clave.\n",
    "Ejercicio 8\n",
    "Crea un programa que pida el número de palabras a introducir. Crear un diccionario de clave la palabra y\n",
    "de valor la longitud de dicha palabra.\n",
    "Ejercicio 9\n",
    "Crea un programa que pida el número de palabras a introducir. Crear un diccionario de clave la palabra y\n",
    "de valor el número de vocales de la palabra.\n",
    "Ejercicio 10\n",
    "Dada una matriz, crea un diccionario que guarde el número de filas, el de columnas y cada fila en una entrada\n",
    "de un diccionario."
   ]
  },
  {
   "cell_type": "code",
   "execution_count": 3,
   "id": "1aed6d84",
   "metadata": {},
   "outputs": [
    {
     "name": "stdout",
     "output_type": "stream",
     "text": [
      "Ingreas un número entero positivo: 6\n",
      "{1: 1, 2: 8, 3: 27, 4: 64, 5: 125, 6: 216}\n"
     ]
    }
   ],
   "source": [
    "#Ejercicio 1\n",
    "#Crea un programa que pida un número entero positivo por teclado y que cree un diccionario cuyas claves\n",
    "#sean desde el número 1 hasta el número indicado. Los valores de cada clave serán las propias claves elevadas\n",
    "#al cubo.\n",
    "\n",
    "num = int(input(\"Ingreas un número entero positivo: \"))\n",
    "\n",
    "dic = {}\n",
    "\n",
    "for i in range(1, num+1):\n",
    "    dic[i] = i**3\n",
    "\n",
    "print(dic)"
   ]
  },
  {
   "cell_type": "code",
   "execution_count": 6,
   "id": "f726f1dc",
   "metadata": {},
   "outputs": [
    {
     "name": "stdout",
     "output_type": "stream",
     "text": [
      "Ingrese su nombre: Rubens\n",
      "Ingrese su edad: 35\n",
      "Ingrese su teléfono: 3\n",
      "Rubens tiene 35 años y su número de teléfono es 3\n"
     ]
    }
   ],
   "source": [
    "usuario = {}\n",
    "\n",
    "usuario[\"nombre\"] = str(input(\"Ingrese su nombre: \"))\n",
    "usuario[\"edad\"] = int(input(\"Ingrese su edad: \"))\n",
    "usuario[\"tel\"] = int(input(\"Ingrese su teléfono: \"))\n",
    "\n",
    "print(\"{} tiene {} años y su número de teléfono es {}\".format(usuario[\"nombre\"],usuario[\"edad\"],usuario[\"tel\"]))"
   ]
  },
  {
   "cell_type": "code",
   "execution_count": null,
   "id": "dddeb9fb",
   "metadata": {},
   "outputs": [],
   "source": []
  }
 ],
 "metadata": {
  "kernelspec": {
   "display_name": "Python 3",
   "language": "python",
   "name": "python3"
  },
  "language_info": {
   "codemirror_mode": {
    "name": "ipython",
    "version": 3
   },
   "file_extension": ".py",
   "mimetype": "text/x-python",
   "name": "python",
   "nbconvert_exporter": "python",
   "pygments_lexer": "ipython3",
   "version": "3.8.8"
  }
 },
 "nbformat": 4,
 "nbformat_minor": 5
}
