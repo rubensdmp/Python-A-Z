{
 "cells": [
  {
   "cell_type": "code",
   "execution_count": 4,
   "id": "3f7d4186",
   "metadata": {},
   "outputs": [
    {
     "name": "stdout",
     "output_type": "stream",
     "text": [
      "¿Cuántos números enteros vas a introducir? 3\n",
      "6\n",
      "2\n",
      "1\n",
      "[(6, 'par'), (2, 'par'), (1, 'impar')]\n"
     ]
    }
   ],
   "source": [
    "n = int(input(\"¿Cuántos números enteros vas a introducir? \"))\n",
    "nums = []\n",
    "\n",
    "for _ in range(n):\n",
    "    isEven = False\n",
    "    num = int(input())\n",
    "    if num % 2 == 0:\n",
    "        isEven = True\n",
    "    nums.append((num, \"par\" if isEven else \"impar\"))\n",
    "\n",
    "print(nums)"
   ]
  },
  {
   "cell_type": "code",
   "execution_count": 3,
   "id": "2c1035a4",
   "metadata": {},
   "outputs": [
    {
     "name": "stdout",
     "output_type": "stream",
     "text": [
      "Introduce un año 1985\n",
      "(1985, 'Buey')\n"
     ]
    }
   ],
   "source": [
    "year = int(input(\"Introduce un año \"))\n",
    "horoscopes = [\"Mono\", \"Gallo\", \"Perro\", \"Cerdo\", \"Rata\", \"Buey\", \"Tigre\", \"Conejo\", \"Dragón\", \"Serpiente\", \"Caballo\", \"Cabra\"]\n",
    "horoscope = horoscopes[year % 12]\n",
    "result = (year, horoscope)\n",
    "print(result)\n"
   ]
  },
  {
   "cell_type": "code",
   "execution_count": 6,
   "id": "b7141d8d",
   "metadata": {},
   "outputs": [
    {
     "name": "stdout",
     "output_type": "stream",
     "text": [
      "Escribe una frase: loco de atar\n",
      "[('loco', 4, 'l', 0), ('de', 2, 'd', 1), ('atar', 4, 'a', 2)]\n"
     ]
    }
   ],
   "source": [
    "s = input(\"Escribe una frase: \")\n",
    "s = s.lower()\n",
    "words = s.split(\" \")\n",
    "info = []\n",
    "for i in range(len(words)):\n",
    "    info.append((words[i], len(words[i]), words[i][0], i))\n",
    "print(info)"
   ]
  },
  {
   "cell_type": "code",
   "execution_count": 8,
   "id": "d00532f9",
   "metadata": {},
   "outputs": [
    {
     "name": "stdout",
     "output_type": "stream",
     "text": [
      "Escribe una palabra (vacío para terminar): lle\n",
      "Escribe una palabra (vacío para terminar): la\n",
      "Escribe una palabra (vacío para terminar): \n",
      "Primera palabra: lle\n",
      "Última palabra: la\n"
     ]
    }
   ],
   "source": [
    "w = input(\"Escribe una palabra (vacío para terminar): \")\n",
    "words = []\n",
    "while w != \"\":\n",
    "    words.append(w)\n",
    "    w = input(\"Escribe una palabra (vacío para terminar): \")\n",
    "\n",
    "words = tuple(words)\n",
    "\n",
    "first, *_, last = words\n",
    "print(\"Primera palabra:\", first)\n",
    "print(\"Última palabra:\", last)"
   ]
  },
  {
   "cell_type": "code",
   "execution_count": 10,
   "id": "27cdb5d1",
   "metadata": {},
   "outputs": [
    {
     "name": "stdout",
     "output_type": "stream",
     "text": [
      "{'Mazorca': 7, 'Peñarol': 7, 'Valverde': 8, 'zarangandunga': 13}\n"
     ]
    }
   ],
   "source": [
    "words = [\"Mazorca\", \"Peñarol\", \"Valverde\", \"zarangandunga\"]\n",
    "words_len = []\n",
    "\n",
    "for w in words:\n",
    "    words_len.append(len(w))\n",
    "    \n",
    "print(dict(zip(words, words_len)))"
   ]
  },
  {
   "cell_type": "code",
   "execution_count": 14,
   "id": "3fc5835d",
   "metadata": {},
   "outputs": [
    {
     "name": "stdout",
     "output_type": "stream",
     "text": [
      "Escribe una palabra (vacío para terminar): d\n",
      "Escribe una palabra (vacío para terminar): la\n",
      "Escribe una palabra (vacío para terminar): concha\n",
      "Escribe una palabra (vacío para terminar): de\n",
      "Escribe una palabra (vacío para terminar): tu madre\n",
      "Escribe una palabra (vacío para terminar): \n",
      "Tus palabras han sido ('d', 'la', 'concha', 'de', 'tu madre') y suman 19 caracteres\n"
     ]
    }
   ],
   "source": [
    "w = input(\"Escribe una palabra (vacío para terminar): \")\n",
    "words = []\n",
    "\n",
    "while w != \"\":\n",
    "    words.append(w)\n",
    "    w = input(\"Escribe una palabra (vacío para terminar): \")\n",
    "    \n",
    "words = tuple(words)\n",
    "total_chrs = 0\n",
    "\n",
    "for w in words:\n",
    "    total_chrs += len(w)\n",
    "\n",
    "print(\"Tus palabras han sido {} y suman {} caracteres\".format(words, total_chrs))"
   ]
  },
  {
   "cell_type": "code",
   "execution_count": 16,
   "id": "ef4955bc",
   "metadata": {},
   "outputs": [
    {
     "name": "stdout",
     "output_type": "stream",
     "text": [
      "\n",
      "=== TABLA DEL 1===\n",
      "1 x 1 = 1\n",
      "1 x 2 = 2\n",
      "1 x 3 = 3\n",
      "1 x 4 = 4\n",
      "1 x 5 = 5\n",
      "1 x 6 = 6\n",
      "1 x 7 = 7\n",
      "1 x 8 = 8\n",
      "1 x 9 = 9\n",
      "1 x 10 = 10\n",
      "\n",
      "=== TABLA DEL 2===\n",
      "2 x 1 = 2\n",
      "2 x 2 = 4\n",
      "2 x 3 = 6\n",
      "2 x 4 = 8\n",
      "2 x 5 = 10\n",
      "2 x 6 = 12\n",
      "2 x 7 = 14\n",
      "2 x 8 = 16\n",
      "2 x 9 = 18\n",
      "2 x 10 = 20\n",
      "\n",
      "=== TABLA DEL 3===\n",
      "3 x 1 = 3\n",
      "3 x 2 = 6\n",
      "3 x 3 = 9\n",
      "3 x 4 = 12\n",
      "3 x 5 = 15\n",
      "3 x 6 = 18\n",
      "3 x 7 = 21\n",
      "3 x 8 = 24\n",
      "3 x 9 = 27\n",
      "3 x 10 = 30\n",
      "\n",
      "=== TABLA DEL 4===\n",
      "4 x 1 = 4\n",
      "4 x 2 = 8\n",
      "4 x 3 = 12\n",
      "4 x 4 = 16\n",
      "4 x 5 = 20\n",
      "4 x 6 = 24\n",
      "4 x 7 = 28\n",
      "4 x 8 = 32\n",
      "4 x 9 = 36\n",
      "4 x 10 = 40\n",
      "\n",
      "=== TABLA DEL 5===\n",
      "5 x 1 = 5\n",
      "5 x 2 = 10\n",
      "5 x 3 = 15\n",
      "5 x 4 = 20\n",
      "5 x 5 = 25\n",
      "5 x 6 = 30\n",
      "5 x 7 = 35\n",
      "5 x 8 = 40\n",
      "5 x 9 = 45\n",
      "5 x 10 = 50\n",
      "\n",
      "=== TABLA DEL 6===\n",
      "6 x 1 = 6\n",
      "6 x 2 = 12\n",
      "6 x 3 = 18\n",
      "6 x 4 = 24\n",
      "6 x 5 = 30\n",
      "6 x 6 = 36\n",
      "6 x 7 = 42\n",
      "6 x 8 = 48\n",
      "6 x 9 = 54\n",
      "6 x 10 = 60\n",
      "\n",
      "=== TABLA DEL 7===\n",
      "7 x 1 = 7\n",
      "7 x 2 = 14\n",
      "7 x 3 = 21\n",
      "7 x 4 = 28\n",
      "7 x 5 = 35\n",
      "7 x 6 = 42\n",
      "7 x 7 = 49\n",
      "7 x 8 = 56\n",
      "7 x 9 = 63\n",
      "7 x 10 = 70\n",
      "\n",
      "=== TABLA DEL 8===\n",
      "8 x 1 = 8\n",
      "8 x 2 = 16\n",
      "8 x 3 = 24\n",
      "8 x 4 = 32\n",
      "8 x 5 = 40\n",
      "8 x 6 = 48\n",
      "8 x 7 = 56\n",
      "8 x 8 = 64\n",
      "8 x 9 = 72\n",
      "8 x 10 = 80\n",
      "\n",
      "=== TABLA DEL 9===\n",
      "9 x 1 = 9\n",
      "9 x 2 = 18\n",
      "9 x 3 = 27\n",
      "9 x 4 = 36\n",
      "9 x 5 = 45\n",
      "9 x 6 = 54\n",
      "9 x 7 = 63\n",
      "9 x 8 = 72\n",
      "9 x 9 = 81\n",
      "9 x 10 = 90\n",
      "\n",
      "=== TABLA DEL 10===\n",
      "10 x 1 = 10\n",
      "10 x 2 = 20\n",
      "10 x 3 = 30\n",
      "10 x 4 = 40\n",
      "10 x 5 = 50\n",
      "10 x 6 = 60\n",
      "10 x 7 = 70\n",
      "10 x 8 = 80\n",
      "10 x 9 = 90\n",
      "10 x 10 = 100\n",
      "\n",
      "=== TABLA DEL 11===\n",
      "11 x 1 = 11\n",
      "11 x 2 = 22\n",
      "11 x 3 = 33\n",
      "11 x 4 = 44\n",
      "11 x 5 = 55\n",
      "11 x 6 = 66\n",
      "11 x 7 = 77\n",
      "11 x 8 = 88\n",
      "11 x 9 = 99\n",
      "11 x 10 = 110\n",
      "\n",
      "=== TABLA DEL 12===\n",
      "12 x 1 = 12\n",
      "12 x 2 = 24\n",
      "12 x 3 = 36\n",
      "12 x 4 = 48\n",
      "12 x 5 = 60\n",
      "12 x 6 = 72\n",
      "12 x 7 = 84\n",
      "12 x 8 = 96\n",
      "12 x 9 = 108\n",
      "12 x 10 = 120\n",
      "\n",
      "=== TABLA DEL 13===\n",
      "13 x 1 = 13\n",
      "13 x 2 = 26\n",
      "13 x 3 = 39\n",
      "13 x 4 = 52\n",
      "13 x 5 = 65\n",
      "13 x 6 = 78\n",
      "13 x 7 = 91\n",
      "13 x 8 = 104\n",
      "13 x 9 = 117\n",
      "13 x 10 = 130\n",
      "\n",
      "=== TABLA DEL 14===\n",
      "14 x 1 = 14\n",
      "14 x 2 = 28\n",
      "14 x 3 = 42\n",
      "14 x 4 = 56\n",
      "14 x 5 = 70\n",
      "14 x 6 = 84\n",
      "14 x 7 = 98\n",
      "14 x 8 = 112\n",
      "14 x 9 = 126\n",
      "14 x 10 = 140\n",
      "\n",
      "=== TABLA DEL 15===\n",
      "15 x 1 = 15\n",
      "15 x 2 = 30\n",
      "15 x 3 = 45\n",
      "15 x 4 = 60\n",
      "15 x 5 = 75\n",
      "15 x 6 = 90\n",
      "15 x 7 = 105\n",
      "15 x 8 = 120\n",
      "15 x 9 = 135\n",
      "15 x 10 = 150\n",
      "\n",
      "=== TABLA DEL 16===\n",
      "16 x 1 = 16\n",
      "16 x 2 = 32\n",
      "16 x 3 = 48\n",
      "16 x 4 = 64\n",
      "16 x 5 = 80\n",
      "16 x 6 = 96\n",
      "16 x 7 = 112\n",
      "16 x 8 = 128\n",
      "16 x 9 = 144\n",
      "16 x 10 = 160\n",
      "\n",
      "=== TABLA DEL 17===\n",
      "17 x 1 = 17\n",
      "17 x 2 = 34\n",
      "17 x 3 = 51\n",
      "17 x 4 = 68\n",
      "17 x 5 = 85\n",
      "17 x 6 = 102\n",
      "17 x 7 = 119\n",
      "17 x 8 = 136\n",
      "17 x 9 = 153\n",
      "17 x 10 = 170\n",
      "\n",
      "=== TABLA DEL 18===\n",
      "18 x 1 = 18\n",
      "18 x 2 = 36\n",
      "18 x 3 = 54\n",
      "18 x 4 = 72\n",
      "18 x 5 = 90\n",
      "18 x 6 = 108\n",
      "18 x 7 = 126\n",
      "18 x 8 = 144\n",
      "18 x 9 = 162\n",
      "18 x 10 = 180\n",
      "\n",
      "=== TABLA DEL 19===\n",
      "19 x 1 = 19\n",
      "19 x 2 = 38\n",
      "19 x 3 = 57\n",
      "19 x 4 = 76\n",
      "19 x 5 = 95\n",
      "19 x 6 = 114\n",
      "19 x 7 = 133\n",
      "19 x 8 = 152\n",
      "19 x 9 = 171\n",
      "19 x 10 = 190\n",
      "\n",
      "=== TABLA DEL 20===\n",
      "20 x 1 = 20\n",
      "20 x 2 = 40\n",
      "20 x 3 = 60\n",
      "20 x 4 = 80\n",
      "20 x 5 = 100\n",
      "20 x 6 = 120\n",
      "20 x 7 = 140\n",
      "20 x 8 = 160\n",
      "20 x 9 = 180\n",
      "20 x 10 = 200\n"
     ]
    }
   ],
   "source": [
    "multiplication_tables = []\n",
    "\n",
    "for i in range(1, 21):\n",
    "    multiplication_tables.append((i, [i * j for j in range(1, 11)]))\n",
    "\n",
    "for item in multiplication_tables:\n",
    "    print(\"\\n=== TABLA DEL {}===\".format(item[0]))\n",
    "\n",
    "    for multiple in item[1]:\n",
    "        print(\"{} x {} = {}\".format(item[0], item[1].index(multiple) + 1, multiple))"
   ]
  },
  {
   "cell_type": "code",
   "execution_count": 17,
   "id": "5328845a",
   "metadata": {},
   "outputs": [
    {
     "name": "stdout",
     "output_type": "stream",
     "text": [
      "Introduce un número entero: 2\n",
      "Introduce un número entero menor o igual al anterior: 1\n",
      "(2, 1, 2, 0)\n"
     ]
    }
   ],
   "source": [
    "dividend = int(input(\"Introduce un número entero: \"))\n",
    "divisor = int(input(\"Introduce un número entero menor o igual al anterior: \"))\n",
    "\n",
    "if divisor > dividend:\n",
    "    print(\"El segundo número entero que introduzcas debe ser menor o igual al primero\")\n",
    "else:\n",
    "    print((dividend, divisor, dividend // divisor, dividend % divisor))"
   ]
  },
  {
   "cell_type": "code",
   "execution_count": 18,
   "id": "0cbe7161",
   "metadata": {},
   "outputs": [
    {
     "name": "stdout",
     "output_type": "stream",
     "text": [
      "Introduce un número del intervalo [0, 360] 4\n",
      "(4.0, 0.06981317007977318)\n"
     ]
    }
   ],
   "source": [
    "degree = float(input(\"Introduce un número del intervalo [0, 360] \"))\n",
    "print((degree, degree * 2 * 3.141592653589793 / 360))"
   ]
  },
  {
   "cell_type": "code",
   "execution_count": 19,
   "id": "385b44c4",
   "metadata": {},
   "outputs": [
    {
     "name": "stdout",
     "output_type": "stream",
     "text": [
      "Introduce la parte real de un número complejo: 1\n",
      "Introduce la parte imaginaria de un número complejo: 5\n",
      "((1+5j), (-1-5j), (1-5j))\n"
     ]
    }
   ],
   "source": [
    "z = complex(float(input(\"Introduce la parte real de un número complejo: \")),\n",
    "            float(input(\"Introduce la parte imaginaria de un número complejo: \")))\n",
    "print((z, -z, z.conjugate()))"
   ]
  },
  {
   "cell_type": "code",
   "execution_count": null,
   "id": "44518c84",
   "metadata": {},
   "outputs": [],
   "source": []
  },
  {
   "cell_type": "code",
   "execution_count": null,
   "id": "4ad8d503",
   "metadata": {},
   "outputs": [],
   "source": []
  },
  {
   "cell_type": "code",
   "execution_count": null,
   "id": "fb1323f3",
   "metadata": {},
   "outputs": [],
   "source": []
  },
  {
   "cell_type": "code",
   "execution_count": null,
   "id": "2e8cce15",
   "metadata": {},
   "outputs": [],
   "source": []
  }
 ],
 "metadata": {
  "kernelspec": {
   "display_name": "Python 3",
   "language": "python",
   "name": "python3"
  },
  "language_info": {
   "codemirror_mode": {
    "name": "ipython",
    "version": 3
   },
   "file_extension": ".py",
   "mimetype": "text/x-python",
   "name": "python",
   "nbconvert_exporter": "python",
   "pygments_lexer": "ipython3",
   "version": "3.8.8"
  }
 },
 "nbformat": 4,
 "nbformat_minor": 5
}
