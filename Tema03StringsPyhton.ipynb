{
 "cells": [
  {
   "cell_type": "markdown",
   "metadata": {
    "colab_type": "text",
    "id": "view-in-github"
   },
   "source": [
    "<a href=\"https://colab.research.google.com/github/rubensdmp/Python-A-Z/blob/main/Tema03.ipynb\" target=\"_parent\"><img src=\"https://colab.research.google.com/assets/colab-badge.svg\" alt=\"Open In Colab\"/></a>"
   ]
  },
  {
   "cell_type": "markdown",
   "metadata": {
    "id": "pWGdvvZGDSM7"
   },
   "source": [
    "# Strings en `Python`"
   ]
  },
  {
   "cell_type": "markdown",
   "metadata": {
    "id": "p1MJUGv7DXFh"
   },
   "source": [
    "## Variable string\n",
    "\n",
    "**String.** Cadena ordenada de caracteres.\n",
    "\n",
    "Una variable de tipo string es aquella que guarda un string. Cuando queremos que una variable se trate de una variable de tipo string, `str` en `Python`, a la hora de declararla, el contenido de la variable debe ir o bien entre comillas dobles `\" \"`, o bien entre comillas simples `' ' `."
   ]
  },
  {
   "cell_type": "code",
   "execution_count": null,
   "metadata": {
    "colab": {
     "base_uri": "https://localhost:8080/"
    },
    "id": "z9K1rKqJDUL2",
    "outputId": "2205c46d-9fe4-4634-ed6a-b0cbd7592a6f"
   },
   "outputs": [
    {
     "data": {
      "text/plain": [
       "str"
      ]
     },
     "execution_count": 24,
     "metadata": {
      "tags": []
     },
     "output_type": "execute_result"
    }
   ],
   "source": [
    "s1 = \"Esto es un string entre comillas dobles\"\n",
    "type(s1)"
   ]
  },
  {
   "cell_type": "code",
   "execution_count": null,
   "metadata": {
    "colab": {
     "base_uri": "https://localhost:8080/"
    },
    "id": "mzpZ1jlRDvzG",
    "outputId": "d5aee9a1-7668-4b3b-eb60-31fe1e6d7b82"
   },
   "outputs": [
    {
     "data": {
      "text/plain": [
       "str"
      ]
     },
     "execution_count": 25,
     "metadata": {
      "tags": []
     },
     "output_type": "execute_result"
    }
   ],
   "source": [
    "s2 = 'Esto es un string entre comillas simples'\n",
    "type(s2)"
   ]
  },
  {
   "cell_type": "markdown",
   "metadata": {
    "id": "CP00rWi1NqN8"
   },
   "source": [
    "**¡Cuidado!** `Python` no trabaja bien con los acentos. Por tanto, aunque no esté del todo bien escrito, mejor evitarlos, pues nos ahorraremos muchos problemas."
   ]
  },
  {
   "cell_type": "markdown",
   "metadata": {
    "id": "yQE5dsY9EsBd"
   },
   "source": [
    "### String literals\n",
    "\n",
    "El hecho de que el contenido de las variables de tipo `str` vaya entre comillas, ya sean simples o dobles, conlleva a que algunos caracteres deban ser tratados de forma especial. \n",
    "\n",
    "Aquí entran en juego los string literals. Algunos de los más utilizados se muestran en la siguiente tabla:\n",
    "\n",
    "Código | Significado |\n",
    "--- | --- |\n",
    "`\\\\` | Backslash, `\\`| \n",
    "`\\'` | Comilla simple, `'`| \n",
    "`\\\"` | Comilla doble, `\"`|  \n",
    "`\\n` | Salto de línea| \n",
    "`\\t` | Tabulación horizontal| \n",
    "\n",
    "Para más información acerca de los string literals ir a la [documentación](https://docs.python.org/3.7/reference/lexical_analysis.html#string-and-bytes-literals).\n"
   ]
  },
  {
   "cell_type": "markdown",
   "metadata": {
    "id": "jSI6oVIcHPAK"
   },
   "source": [
    "---\n",
    "#### Ejemplo 1\n",
    "\n",
    "Si queremos guardar en una variable el siguiente texto, \n",
    "\n",
    "`Juan dijo: \"me gusta el chocolate\"` \n",
    "\n",
    "lo tendremos que hacer del siguiente modo"
   ]
  },
  {
   "cell_type": "code",
   "execution_count": null,
   "metadata": {
    "colab": {
     "base_uri": "https://localhost:8080/",
     "height": 35
    },
    "id": "q5TXs8tMEKZj",
    "outputId": "bc171040-a658-4449-fc2f-159300b5f0e7"
   },
   "outputs": [
    {
     "data": {
      "application/vnd.google.colaboratory.intrinsic+json": {
       "type": "string"
      },
      "text/plain": [
       "'Juan dijo: \"me gusta el chocolate \"'"
      ]
     },
     "execution_count": 7,
     "metadata": {
      "tags": []
     },
     "output_type": "execute_result"
    }
   ],
   "source": [
    "s1 = \"Juan dijo: \\\"me gusta el chocolate \\\"\"\n",
    "s1"
   ]
  },
  {
   "cell_type": "code",
   "execution_count": null,
   "metadata": {
    "colab": {
     "base_uri": "https://localhost:8080/",
     "height": 35
    },
    "id": "DMlEKKGRILc_",
    "outputId": "fe00d98e-00fb-481f-a9d6-a4d697013c3a"
   },
   "outputs": [
    {
     "data": {
      "application/vnd.google.colaboratory.intrinsic+json": {
       "type": "string"
      },
      "text/plain": [
       "'Juan dijo: \"me gusta el chocolate \"'"
      ]
     },
     "execution_count": 5,
     "metadata": {
      "tags": []
     },
     "output_type": "execute_result"
    }
   ],
   "source": [
    "s2 = 'Juan dijo: \"me gusta el chocolate \"'\n",
    "s2"
   ]
  },
  {
   "cell_type": "markdown",
   "metadata": {
    "id": "v-6s10ZbIaV3"
   },
   "source": [
    "**Observación.** Si usamos comillas dobles, para guardar la frase de este ejemplo necesitaremos usar string literals, ya que si no nos saltará error. Sin embargo, si usamos comillas simples, para guardar la frase de este ejemplo en una variable no hace falta que cambiemos nada.\n",
    "\n",
    "---\n",
    "\n",
    "---\n",
    "#### Ejemplo 2\n",
    "\n",
    "Si queremos guardar en una variable el siguiente texto, \n",
    "\n",
    "`Ricardo dijo: 'me gusta la playa'` \n",
    "\n",
    "lo tendremos que hacer del siguiente modo"
   ]
  },
  {
   "cell_type": "code",
   "execution_count": null,
   "metadata": {
    "colab": {
     "base_uri": "https://localhost:8080/",
     "height": 35
    },
    "id": "NJUu6Z9IIO7c",
    "outputId": "a0a5d3f2-a072-44c5-e344-50d48b80aacd"
   },
   "outputs": [
    {
     "data": {
      "application/vnd.google.colaboratory.intrinsic+json": {
       "type": "string"
      },
      "text/plain": [
       "\"Ricardo dijo: 'me gusta la playa'\""
      ]
     },
     "execution_count": 8,
     "metadata": {
      "tags": []
     },
     "output_type": "execute_result"
    }
   ],
   "source": [
    "s1 = \"Ricardo dijo: 'me gusta la playa'\"\n",
    "s1"
   ]
  },
  {
   "cell_type": "code",
   "execution_count": null,
   "metadata": {
    "colab": {
     "base_uri": "https://localhost:8080/",
     "height": 35
    },
    "id": "o7h1UMMfJD9e",
    "outputId": "b87331fc-49a4-40f3-d29c-6ec6a27a12d8"
   },
   "outputs": [
    {
     "data": {
      "application/vnd.google.colaboratory.intrinsic+json": {
       "type": "string"
      },
      "text/plain": [
       "\"Ricardo dijo: 'me gusta la playa'\""
      ]
     },
     "execution_count": 9,
     "metadata": {
      "tags": []
     },
     "output_type": "execute_result"
    }
   ],
   "source": [
    "s2 = 'Ricardo dijo: \\'me gusta la playa\\''\n",
    "s2"
   ]
  },
  {
   "cell_type": "markdown",
   "metadata": {
    "id": "_ScRiZYLJK3f"
   },
   "source": [
    "**Observación.** Si usamos comillas dobles, para guardar la frase de este ejemplo no necesitaremos usar string literals. Sin embargo, si usamos comillas simples, para guardar la frase de este ejemplo en una variable tendremos que usar string literals, porque si no nos saltará un error.\n",
    "\n",
    "---\n",
    "\n"
   ]
  },
  {
   "cell_type": "markdown",
   "metadata": {
    "id": "qHOqGw_WDVxv"
   },
   "source": [
    "---\n",
    "#### Ejemplo 3\n",
    "\n",
    "Si queremos guardar en una variable el siguiente texto y que se conserve el salto de línea, \n",
    "\n",
    "`Con diez cañones por banda,`\n",
    "\n",
    "`viento en popa a toda vela` \n",
    "\n",
    "lo tendremos que hacer del siguiente modo"
   ]
  },
  {
   "cell_type": "code",
   "execution_count": null,
   "metadata": {
    "colab": {
     "base_uri": "https://localhost:8080/",
     "height": 35
    },
    "id": "vItHOB6gR0Nh",
    "outputId": "fd1cc9b4-8dc3-4e74-be9d-a525144f7974"
   },
   "outputs": [
    {
     "data": {
      "application/vnd.google.colaboratory.intrinsic+json": {
       "type": "string"
      },
      "text/plain": [
       "'Con diez cañones por banda,\\nviento en popa a toda vela'"
      ]
     },
     "execution_count": 1,
     "metadata": {
      "tags": []
     },
     "output_type": "execute_result"
    }
   ],
   "source": [
    "s3 = \"Con diez cañones por banda,\\nviento en popa a toda vela\"\n",
    "s3"
   ]
  },
  {
   "cell_type": "markdown",
   "metadata": {
    "id": "_pXp4xoPSDOD"
   },
   "source": [
    "**Observación.** El resultado con el salto de línea aplicado lo veremos cuando hablemos de la función `print()`, cosa que haremos más adelante en esta sección.\n",
    "\n",
    "---"
   ]
  },
  {
   "cell_type": "markdown",
   "metadata": {
    "id": "ALPGQb7JJcg6"
   },
   "source": [
    "## Concatenación de strings\n",
    "\n",
    "La concatenación es una operación que une dos o más strings en uno solo.\n",
    "\n",
    "En `Python`, para concatenar dos variables de tipo string usamos la función `+`."
   ]
  },
  {
   "cell_type": "code",
   "execution_count": null,
   "metadata": {
    "colab": {
     "base_uri": "https://localhost:8080/",
     "height": 35
    },
    "id": "z_7YiTa_JJBl",
    "outputId": "e599ec10-8d67-44fc-a163-dd3a7015100b"
   },
   "outputs": [
    {
     "data": {
      "application/vnd.google.colaboratory.intrinsic+json": {
       "type": "string"
      },
      "text/plain": [
       "'Hola, Juan'"
      ]
     },
     "execution_count": 2,
     "metadata": {
      "tags": []
     },
     "output_type": "execute_result"
    }
   ],
   "source": [
    "s1 = \"Hola, \"\n",
    "s2 = \"Juan\"\n",
    "s1 + s2"
   ]
  },
  {
   "cell_type": "markdown",
   "metadata": {
    "id": "rNOCfEiSJwYw"
   },
   "source": [
    "**Observación.** La concatenación viene a ser como pegar el final del primer string con el princio del segundo. Entonces, conviene poner un espacio al final de la primera variable a concatenar, o bien al principio de la segunda para que así, al realizar la concatenación, exista ese espacio entre las palabras.\n",
    "\n",
    "De no añadir espacios adicionales, obtendríamos resultados como el mostrado en el siguiente chunk:"
   ]
  },
  {
   "cell_type": "code",
   "execution_count": null,
   "metadata": {
    "colab": {
     "base_uri": "https://localhost:8080/",
     "height": 35
    },
    "id": "jdF-7yN2Juxn",
    "outputId": "2e4147ca-543c-4d0e-ffd1-39780aa0a8fd"
   },
   "outputs": [
    {
     "data": {
      "application/vnd.google.colaboratory.intrinsic+json": {
       "type": "string"
      },
      "text/plain": [
       "'Bienvenidoal curso.'"
      ]
     },
     "execution_count": 3,
     "metadata": {
      "tags": []
     },
     "output_type": "execute_result"
    }
   ],
   "source": [
    "s1 = \"Bienvenido\"\n",
    "s2 = \"al curso.\"\n",
    "s1 + s2"
   ]
  },
  {
   "cell_type": "markdown",
   "metadata": {
    "id": "d9dZEzk_KWAz"
   },
   "source": [
    "Si dejamos un espacio adicional al final del string `s1`, obtenemos"
   ]
  },
  {
   "cell_type": "code",
   "execution_count": null,
   "metadata": {
    "colab": {
     "base_uri": "https://localhost:8080/",
     "height": 35
    },
    "id": "_EJuV27TKRbh",
    "outputId": "19c66f11-4a31-4682-e914-bc3871b0e7e8"
   },
   "outputs": [
    {
     "data": {
      "application/vnd.google.colaboratory.intrinsic+json": {
       "type": "string"
      },
      "text/plain": [
       "'Bienvenido al curso.'"
      ]
     },
     "execution_count": 4,
     "metadata": {
      "tags": []
     },
     "output_type": "execute_result"
    }
   ],
   "source": [
    "s1 = \"Bienvenido \"\n",
    "s2 = \"al curso.\"\n",
    "s1 + s2"
   ]
  },
  {
   "cell_type": "markdown",
   "metadata": {
    "id": "9du5E41ZKav0"
   },
   "source": [
    "Si dejamos un espacio adicional al principio del string `s2` obtenemos"
   ]
  },
  {
   "cell_type": "code",
   "execution_count": null,
   "metadata": {
    "colab": {
     "base_uri": "https://localhost:8080/",
     "height": 35
    },
    "id": "3vP2F5IaKZ_6",
    "outputId": "2fb991f5-de92-4ad0-f585-a9b79b69773d"
   },
   "outputs": [
    {
     "data": {
      "application/vnd.google.colaboratory.intrinsic+json": {
       "type": "string"
      },
      "text/plain": [
       "'Bienvenido al curso.'"
      ]
     },
     "execution_count": 5,
     "metadata": {
      "tags": []
     },
     "output_type": "execute_result"
    }
   ],
   "source": [
    "s1 = \"Bienvenido\"\n",
    "s2 = \" al curso.\"\n",
    "s1 + s2"
   ]
  },
  {
   "cell_type": "markdown",
   "metadata": {
    "id": "Ym6pM_JpKjZc"
   },
   "source": [
    "Si dejamos un espacio adicional tanto al final del string `s1` como al principio del string `s2` obtenemos"
   ]
  },
  {
   "cell_type": "code",
   "execution_count": null,
   "metadata": {
    "colab": {
     "base_uri": "https://localhost:8080/",
     "height": 35
    },
    "id": "9LuM4dKXKgXm",
    "outputId": "c2ba1eef-9d13-4fce-eb29-69f6e76b2698"
   },
   "outputs": [
    {
     "data": {
      "application/vnd.google.colaboratory.intrinsic+json": {
       "type": "string"
      },
      "text/plain": [
       "'Bienvenido  al curso.'"
      ]
     },
     "execution_count": 6,
     "metadata": {
      "tags": []
     },
     "output_type": "execute_result"
    }
   ],
   "source": [
    "s1 = \"Bienvenido \"\n",
    "s2 = \" al curso.\"\n",
    "s1 + s2"
   ]
  },
  {
   "cell_type": "markdown",
   "metadata": {
    "id": "NU_rFNFgK89O"
   },
   "source": [
    "Si dejamos más de un espacio adicional ya sea al final del string `s1` como al principio del string `s2` obtenemos"
   ]
  },
  {
   "cell_type": "code",
   "execution_count": null,
   "metadata": {
    "colab": {
     "base_uri": "https://localhost:8080/",
     "height": 35
    },
    "id": "r7Z3Nk5aKntY",
    "outputId": "6caf3db9-35fb-43cd-b269-d0d760bcfd50"
   },
   "outputs": [
    {
     "data": {
      "application/vnd.google.colaboratory.intrinsic+json": {
       "type": "string"
      },
      "text/plain": [
       "'Bienvenido   al curso.'"
      ]
     },
     "execution_count": 7,
     "metadata": {
      "tags": []
     },
     "output_type": "execute_result"
    }
   ],
   "source": [
    "s1 = \"Bienvenido   \" # Se han dejado 3 espacios adicionales\n",
    "s2 = \"al curso.\"\n",
    "s1 + s2"
   ]
  },
  {
   "cell_type": "markdown",
   "metadata": {
    "id": "vzQYnkCGLGkm"
   },
   "source": [
    "**Observación.** El número de espacios añadidos se conserva. Más adelante en esta sección veremos como eliminar los posibles espacios en blanco sobrantes."
   ]
  },
  {
   "cell_type": "markdown",
   "metadata": {
    "id": "qHgzWLOSLinW"
   },
   "source": [
    "## Repetición de strings\n",
    "\n",
    "La repetición es una operación que repite la variable string tantas veces como indiquemos.\n",
    "\n",
    "En `Python`, para repetir una variable de tipo string usamos la función `*`. El orden de los factores no altera el producto. Es decir, tanto da usar la sintaxis `num_repeticiones * variable_str` como `variable_str * num__repeticiones`."
   ]
  },
  {
   "cell_type": "code",
   "execution_count": null,
   "metadata": {
    "colab": {
     "base_uri": "https://localhost:8080/",
     "height": 35
    },
    "id": "LpodGsA0LEin",
    "outputId": "c288395f-3ee0-4755-cd74-627d48ecfede"
   },
   "outputs": [
    {
     "data": {
      "application/vnd.google.colaboratory.intrinsic+json": {
       "type": "string"
      },
      "text/plain": [
       "'¿Falta mucho? ¿Falta mucho? ¿Falta mucho? ¿Falta mucho? ¿Falta mucho? '"
      ]
     },
     "execution_count": 8,
     "metadata": {
      "tags": []
     },
     "output_type": "execute_result"
    }
   ],
   "source": [
    "s1 = \"¿Falta mucho? \"\n",
    "s1 * 5"
   ]
  },
  {
   "cell_type": "code",
   "execution_count": null,
   "metadata": {
    "colab": {
     "base_uri": "https://localhost:8080/",
     "height": 35
    },
    "id": "sztiZXAvLyZ6",
    "outputId": "6bd3c979-cc85-462e-c2b8-e4043f62d205"
   },
   "outputs": [
    {
     "data": {
      "application/vnd.google.colaboratory.intrinsic+json": {
       "type": "string"
      },
      "text/plain": [
       "' ¿Hemos llegado ya? ¿Hemos llegado ya? ¿Hemos llegado ya? ¿Hemos llegado ya? ¿Hemos llegado ya?'"
      ]
     },
     "execution_count": 9,
     "metadata": {
      "tags": []
     },
     "output_type": "execute_result"
    }
   ],
   "source": [
    "s2 = \" ¿Hemos llegado ya?\"\n",
    "5 * s2"
   ]
  },
  {
   "cell_type": "markdown",
   "metadata": {
    "id": "cSIsJQ_BL_Y9"
   },
   "source": [
    "**Observación.** Al igual que ocurría con la concatenación, hay que añadir manualmente uno o más espacios en blanco al principio o al final del string para que las repeticiones no estén pegadas las unas a las otras, tal y como ocurre en el siguiente chunk de código."
   ]
  },
  {
   "cell_type": "code",
   "execution_count": null,
   "metadata": {
    "colab": {
     "base_uri": "https://localhost:8080/",
     "height": 35
    },
    "id": "_pzo0JaSL7Vp",
    "outputId": "430d6037-d736-4a83-b7ee-ee4b67f33c2d"
   },
   "outputs": [
    {
     "data": {
      "application/vnd.google.colaboratory.intrinsic+json": {
       "type": "string"
      },
      "text/plain": [
       "'Había una vez un barquito chiquititoHabía una vez un barquito chiquitito'"
      ]
     },
     "execution_count": 10,
     "metadata": {
      "tags": []
     },
     "output_type": "execute_result"
    }
   ],
   "source": [
    "s3 = \"Había una vez un barquito chiquitito\"\n",
    "s3 * 2"
   ]
  },
  {
   "cell_type": "markdown",
   "metadata": {
    "id": "wo25mW-rOrXR"
   },
   "source": [
    "## La función `print()`\n",
    "\n",
    "Hasta ahora, cada vez que mostrábamos strings por pantalla, estos salían entre comillas simples.\n",
    "\n",
    "La función `print()` nos sirve, entre otras muchas cosas, para mostrar strings por pantalla."
   ]
  },
  {
   "cell_type": "code",
   "execution_count": null,
   "metadata": {
    "colab": {
     "base_uri": "https://localhost:8080/",
     "height": 35
    },
    "id": "K2MoiN21M1uA",
    "outputId": "df10937e-89a8-4667-db6e-010c57d25485"
   },
   "outputs": [
    {
     "data": {
      "application/vnd.google.colaboratory.intrinsic+json": {
       "type": "string"
      },
      "text/plain": [
       "'Hello world'"
      ]
     },
     "execution_count": 11,
     "metadata": {
      "tags": []
     },
     "output_type": "execute_result"
    }
   ],
   "source": [
    "s = \"Hello world\"\n",
    "s"
   ]
  },
  {
   "cell_type": "code",
   "execution_count": null,
   "metadata": {
    "colab": {
     "base_uri": "https://localhost:8080/"
    },
    "id": "xVQc9sEsPO8Z",
    "outputId": "7856c0a2-33e7-45f2-b909-d7d526794f0a"
   },
   "outputs": [
    {
     "name": "stdout",
     "output_type": "stream",
     "text": [
      "Hello world\n"
     ]
    }
   ],
   "source": [
    "print(s)"
   ]
  },
  {
   "cell_type": "markdown",
   "metadata": {
    "id": "dtYOLUMpPTIW"
   },
   "source": [
    "**Observación.** Como véis, una de las principales diferencias entre usar la función `print()` o no usarla es que a la hora de mostrar la cadena de caracteres por pantalla, ésta no va entre comillas simples y el formato en que se imprime también es diferente."
   ]
  },
  {
   "cell_type": "markdown",
   "metadata": {
    "id": "MYnRe5auPdQY"
   },
   "source": [
    "No solamente podemos imprimir strings, sino que podemos mostrar el resultado de cualquier variable (numérica o de tipo string)"
   ]
  },
  {
   "cell_type": "code",
   "execution_count": null,
   "metadata": {
    "colab": {
     "base_uri": "https://localhost:8080/"
    },
    "id": "ENJnmijKPPZC",
    "outputId": "539e0083-ee0f-4edf-9e2d-041ef31a24f8"
   },
   "outputs": [
    {
     "name": "stdout",
     "output_type": "stream",
     "text": [
      "Vivo en una isla\n"
     ]
    }
   ],
   "source": [
    "x = \"Vivo en una isla\"\n",
    "print(x)"
   ]
  },
  {
   "cell_type": "code",
   "execution_count": null,
   "metadata": {
    "colab": {
     "base_uri": "https://localhost:8080/"
    },
    "id": "dtGN6_P1PiP-",
    "outputId": "e353b9df-1a4d-48ca-e2ab-cb611edde575"
   },
   "outputs": [
    {
     "name": "stdout",
     "output_type": "stream",
     "text": [
      "2.0\n"
     ]
    }
   ],
   "source": [
    "y = 2.0\n",
    "print(y)"
   ]
  },
  {
   "cell_type": "markdown",
   "metadata": {
    "id": "GHlENu3_PkfP"
   },
   "source": [
    "Al igual que podíamos concatenar strings con la función `+`, combinando ésta junto con la función `print()` podemos concatenar strings con variables que almacenan strings"
   ]
  },
  {
   "cell_type": "code",
   "execution_count": null,
   "metadata": {
    "colab": {
     "base_uri": "https://localhost:8080/"
    },
    "id": "HB77iDi_Pjkg",
    "outputId": "104833c3-f49a-4740-e2c7-c9a4fa11e115"
   },
   "outputs": [
    {
     "name": "stdout",
     "output_type": "stream",
     "text": [
      "¡Buenos días, Don Pepito!\n"
     ]
    }
   ],
   "source": [
    "name = \"Don Pepito\"\n",
    "print(\"¡Buenos días, \" + name + \"!\")"
   ]
  },
  {
   "cell_type": "markdown",
   "metadata": {
    "id": "MDtylwkDQIkh"
   },
   "source": [
    "**Observación.** Recordad introducir un espacio adicional siempre que vayáis a concatenar cualquier cosa (strings con strings, strings con variables...), para que así el resultado quede legible.\n",
    "\n",
    "**Observación.** Utilizando la función `print()`, el uso de acentos o de algunos caracteres especiales como `¿` o `¡` ya no dan problemas a la hora de mostrarse por pantalla.\n",
    "\n",
    "**Observación.** Podemos obtener exactamente el mismo resultado utilizando comas (`,`) en vez de la función `+`. Eso sí, después de cada coma se nos añade automáticamente un espacio en blanco que no siempre buscamos, como ocurre a continuación después del resultado de la variable `name`."
   ]
  },
  {
   "cell_type": "code",
   "execution_count": null,
   "metadata": {
    "colab": {
     "base_uri": "https://localhost:8080/"
    },
    "id": "XXvLP3cZkCBz",
    "outputId": "44d9d965-bd86-42c3-db42-6939bf616580"
   },
   "outputs": [
    {
     "name": "stdout",
     "output_type": "stream",
     "text": [
      "¡Buenos días, Don Pepito !\n"
     ]
    }
   ],
   "source": [
    "name = \"Don Pepito\"\n",
    "print(\"¡Buenos días,\", name, \"!\")"
   ]
  },
  {
   "cell_type": "markdown",
   "metadata": {
    "id": "FfdJvochQjiq"
   },
   "source": [
    "Al igual que podíamos repetir un mismo string un número cualquiera de veces con la función `*`, combinando ésta junto con la función `print()` podemos multiplicar un string o variables que contengan strings"
   ]
  },
  {
   "cell_type": "code",
   "execution_count": null,
   "metadata": {
    "colab": {
     "base_uri": "https://localhost:8080/"
    },
    "id": "OihlvdsJPz4g",
    "outputId": "58e0d4c2-3b85-4e80-b6cb-35b7a894d2ea"
   },
   "outputs": [
    {
     "name": "stdout",
     "output_type": "stream",
     "text": [
      "¿Falta mucho? ¿Falta mucho? ¿Falta mucho? ¿Falta mucho? ¿Falta mucho? \n"
     ]
    }
   ],
   "source": [
    "print(\"¿Falta mucho? \" * 5)"
   ]
  },
  {
   "cell_type": "code",
   "execution_count": null,
   "metadata": {
    "colab": {
     "base_uri": "https://localhost:8080/"
    },
    "id": "YSdUxXurQpJA",
    "outputId": "171ce0e8-bfca-4015-aaff-54dcec02f392"
   },
   "outputs": [
    {
     "name": "stdout",
     "output_type": "stream",
     "text": [
      "¿Falta mucho? ¿Falta mucho? ¿Falta mucho? ¿Falta mucho? ¿Falta mucho? \n"
     ]
    }
   ],
   "source": [
    "pregunta = \"¿Falta mucho? \"\n",
    "print(pregunta * 5)"
   ]
  },
  {
   "cell_type": "markdown",
   "metadata": {
    "id": "wvEiZ5QaQtlO"
   },
   "source": [
    "### La función `str()`\n",
    "\n",
    "Con la función `str()`, podemos concatenar strings y variables de cualquier tipo dentro de un `print()`:"
   ]
  },
  {
   "cell_type": "code",
   "execution_count": null,
   "metadata": {
    "colab": {
     "base_uri": "https://localhost:8080/"
    },
    "id": "AX3MbsTIQqtw",
    "outputId": "8ef69a6c-b870-4be3-dfc8-8878d1a90277"
   },
   "outputs": [
    {
     "name": "stdout",
     "output_type": "stream",
     "text": [
      "Mi hermana se llama María y su edad es 22\n"
     ]
    }
   ],
   "source": [
    "nombre = \"María\"\n",
    "edad = 22\n",
    "print(\"Mi hermana se llama \" + nombre + \" y su edad es \" + str(edad))"
   ]
  },
  {
   "cell_type": "markdown",
   "metadata": {
    "id": "Ih9glB7MQ86u"
   },
   "source": [
    "### El método `.format()`\n",
    "\n",
    "Existe otra forma de concatenar strings y variables de cualquier tipo dentro de un `print()` y es gracias al método `.format()`. Lo que hay que hacer es indicar con llaves, `{}`, donde queremos situar el resultado de las variables y luego, dentro de los paréntesis del método `.format()`, indicar las variables en su respectivo orden"
   ]
  },
  {
   "cell_type": "code",
   "execution_count": null,
   "metadata": {
    "colab": {
     "base_uri": "https://localhost:8080/"
    },
    "id": "JXsuEE6mQ5-2",
    "outputId": "f9294588-a09b-449c-be2a-5fd8e4228e8d"
   },
   "outputs": [
    {
     "name": "stdout",
     "output_type": "stream",
     "text": [
      "Mi abuelo se llama Ricardo y tiene 3 gatos\n"
     ]
    }
   ],
   "source": [
    "nombre = \"Ricardo\"\n",
    "numero_gatos = 3\n",
    "print(\"Mi abuelo se llama {} y tiene {} gatos\".format(nombre, numero_gatos))"
   ]
  },
  {
   "cell_type": "markdown",
   "metadata": {
    "id": "h1aW0ELISP5F"
   },
   "source": [
    "### Saltos de línea y tabulaciones\n",
    "\n",
    "Si recordáis el ejemplo 3, teníamos la variable `s3`, que contenía un salto de línea"
   ]
  },
  {
   "cell_type": "code",
   "execution_count": null,
   "metadata": {
    "id": "iWt5g6NYROV6"
   },
   "outputs": [],
   "source": [
    "s3 = \"Con diez cañones por banda,\\nviento en popa a toda vela\""
   ]
  },
  {
   "cell_type": "markdown",
   "metadata": {
    "id": "LB2fFkedSeGH"
   },
   "source": [
    "Con la función `print()`, seremos capaces de visualizar dicho salto de línea"
   ]
  },
  {
   "cell_type": "code",
   "execution_count": null,
   "metadata": {
    "colab": {
     "base_uri": "https://localhost:8080/"
    },
    "id": "_GkauiL5SdL6",
    "outputId": "19a0384c-73ae-470a-a015-51749be06a12"
   },
   "outputs": [
    {
     "name": "stdout",
     "output_type": "stream",
     "text": [
      "Con diez cañones por banda,\n",
      "viento en popa a toda vela\n"
     ]
    }
   ],
   "source": [
    "print(s3)"
   ]
  },
  {
   "cell_type": "markdown",
   "metadata": {
    "id": "s3XBd_rTSjzf"
   },
   "source": [
    "Y lo mismo ocurriría con la tabulación horizontal."
   ]
  },
  {
   "cell_type": "code",
   "execution_count": null,
   "metadata": {
    "colab": {
     "base_uri": "https://localhost:8080/",
     "height": 35
    },
    "id": "0SKrWJ9wSipI",
    "outputId": "3c32bcdd-8499-47ab-a39d-79989761bafb"
   },
   "outputs": [
    {
     "data": {
      "application/vnd.google.colaboratory.intrinsic+json": {
       "type": "string"
      },
      "text/plain": [
       "'La string literal \\\\t producía \\t una tabulación horizontal'"
      ]
     },
     "execution_count": 23,
     "metadata": {
      "tags": []
     },
     "output_type": "execute_result"
    }
   ],
   "source": [
    "s4 = \"La string literal \\\\t producía \\t una tabulación horizontal\"\n",
    "s4"
   ]
  },
  {
   "cell_type": "code",
   "execution_count": null,
   "metadata": {
    "colab": {
     "base_uri": "https://localhost:8080/"
    },
    "id": "X6bxByQ1Sx1l",
    "outputId": "3cea97c8-dc1a-482a-f81f-5a245dd40e57"
   },
   "outputs": [
    {
     "name": "stdout",
     "output_type": "stream",
     "text": [
      "La string literal \\t producía \t una tabulación horizontal\n"
     ]
    }
   ],
   "source": [
    "print(s4)"
   ]
  },
  {
   "cell_type": "markdown",
   "metadata": {
    "id": "WoD3EBWYS4ts"
   },
   "source": [
    "## Substrings\n",
    "\n",
    "Para acceder a un caracter de una variable string usamos la sintaxis de `[]`"
   ]
  },
  {
   "cell_type": "code",
   "execution_count": null,
   "metadata": {
    "id": "HDNHCkOuS84O"
   },
   "outputs": [],
   "source": [
    "s = \"Soy fan de los videojuegos\""
   ]
  },
  {
   "cell_type": "code",
   "execution_count": null,
   "metadata": {
    "colab": {
     "base_uri": "https://localhost:8080/",
     "height": 35
    },
    "id": "mleJd9yDz2aO",
    "outputId": "1b2aa582-1224-4a8d-f3c3-4ec952e81382"
   },
   "outputs": [
    {
     "data": {
      "application/vnd.google.colaboratory.intrinsic+json": {
       "type": "string"
      },
      "text/plain": [
       "'S'"
      ]
     },
     "execution_count": 26,
     "metadata": {
      "tags": []
     },
     "output_type": "execute_result"
    }
   ],
   "source": [
    "s[0] # Primer caracter"
   ]
  },
  {
   "cell_type": "code",
   "execution_count": null,
   "metadata": {
    "colab": {
     "base_uri": "https://localhost:8080/",
     "height": 35
    },
    "id": "zuTsx3EWz20K",
    "outputId": "2426e91d-4136-4b88-ce98-b7265167db25"
   },
   "outputs": [
    {
     "data": {
      "application/vnd.google.colaboratory.intrinsic+json": {
       "type": "string"
      },
      "text/plain": [
       "'a'"
      ]
     },
     "execution_count": 27,
     "metadata": {
      "tags": []
     },
     "output_type": "execute_result"
    }
   ],
   "source": [
    "s[5] # Sexto caracter"
   ]
  },
  {
   "cell_type": "markdown",
   "metadata": {
    "id": "LHb1cjRfz9qi"
   },
   "source": [
    "**¡Cuidado!** En `Python`, los índices siempre empiezan en 0, al contrario de lo que ocurre con otros lenguajes de programación, como por ejemplo `R`."
   ]
  },
  {
   "cell_type": "markdown",
   "metadata": {
    "id": "hLzZPNdt0Gha"
   },
   "source": [
    "Si precedemos el índice por un `-`, entonces empezamos desde el final"
   ]
  },
  {
   "cell_type": "code",
   "execution_count": null,
   "metadata": {
    "colab": {
     "base_uri": "https://localhost:8080/",
     "height": 37
    },
    "id": "GkCm5VQVz6uM",
    "outputId": "175701ae-77fe-4e3d-e8d5-53b847db3d0a"
   },
   "outputs": [
    {
     "data": {
      "application/vnd.google.colaboratory.intrinsic+json": {
       "type": "string"
      },
      "text/plain": [
       "'s'"
      ]
     },
     "execution_count": 4,
     "metadata": {
      "tags": []
     },
     "output_type": "execute_result"
    }
   ],
   "source": [
    "s[-1] # Último elemento"
   ]
  },
  {
   "cell_type": "code",
   "execution_count": null,
   "metadata": {
    "colab": {
     "base_uri": "https://localhost:8080/",
     "height": 37
    },
    "id": "niBjyqij0LHK",
    "outputId": "de4fba97-f38b-487f-eb5e-9f2945097539"
   },
   "outputs": [
    {
     "data": {
      "application/vnd.google.colaboratory.intrinsic+json": {
       "type": "string"
      },
      "text/plain": [
       "'o'"
      ]
     },
     "execution_count": 5,
     "metadata": {
      "tags": []
     },
     "output_type": "execute_result"
    }
   ],
   "source": [
    "s[-7] # Séptimo elemento empezando por el final"
   ]
  },
  {
   "cell_type": "markdown",
   "metadata": {
    "id": "TUyZcCC10cw7"
   },
   "source": [
    "Si queremos acceder a varios caracteres seguidos, podemos utilizar la función `:`"
   ]
  },
  {
   "cell_type": "code",
   "execution_count": null,
   "metadata": {
    "colab": {
     "base_uri": "https://localhost:8080/",
     "height": 35
    },
    "id": "_RoR2o970Phv",
    "outputId": "8d940521-08b3-4ef1-a836-1765cb62af82"
   },
   "outputs": [
    {
     "data": {
      "application/vnd.google.colaboratory.intrinsic+json": {
       "type": "string"
      },
      "text/plain": [
       "'fan'"
      ]
     },
     "execution_count": 28,
     "metadata": {
      "tags": []
     },
     "output_type": "execute_result"
    }
   ],
   "source": [
    "s[4:7] # Del quinto al séptimo"
   ]
  },
  {
   "cell_type": "code",
   "execution_count": null,
   "metadata": {
    "colab": {
     "base_uri": "https://localhost:8080/",
     "height": 35
    },
    "id": "AxGN5YDN0hUI",
    "outputId": "571a1899-278d-4517-9670-b9e83945af24"
   },
   "outputs": [
    {
     "data": {
      "application/vnd.google.colaboratory.intrinsic+json": {
       "type": "string"
      },
      "text/plain": [
       "'Soy fan'"
      ]
     },
     "execution_count": 29,
     "metadata": {
      "tags": []
     },
     "output_type": "execute_result"
    }
   ],
   "source": [
    "s[:7] # Del primero al séptimo"
   ]
  },
  {
   "cell_type": "code",
   "execution_count": null,
   "metadata": {
    "colab": {
     "base_uri": "https://localhost:8080/",
     "height": 37
    },
    "id": "teaoOQ6-0wTL",
    "outputId": "332b665a-62ad-4dc4-998e-c1ac7b99b922"
   },
   "outputs": [
    {
     "data": {
      "application/vnd.google.colaboratory.intrinsic+json": {
       "type": "string"
      },
      "text/plain": [
       "'e los videojuegos'"
      ]
     },
     "execution_count": 10,
     "metadata": {
      "tags": []
     },
     "output_type": "execute_result"
    }
   ],
   "source": [
    "s[8:] # Del noveno al final"
   ]
  },
  {
   "cell_type": "markdown",
   "metadata": {
    "id": "5K42r-av1Afn"
   },
   "source": [
    "**¡Cuidado!** En `Python`, siempre que usemos la función `:`, el índice que se encuentra a la derecha nunca es incluido, tal y como hemos visto en los ejemplos anteriores."
   ]
  },
  {
   "cell_type": "markdown",
   "metadata": {
    "id": "0rlXs9bj1ODn"
   },
   "source": [
    "Si precedemos por `-` al índice de la izquierda de `:` y no ponemos ninguno a su derecha, lo que hacemos es obtener los últimos elementos"
   ]
  },
  {
   "cell_type": "code",
   "execution_count": null,
   "metadata": {
    "colab": {
     "base_uri": "https://localhost:8080/",
     "height": 35
    },
    "id": "cyF8_JVM07ju",
    "outputId": "591dea98-195d-4399-b773-8f6ccbfc7ee9"
   },
   "outputs": [
    {
     "data": {
      "application/vnd.google.colaboratory.intrinsic+json": {
       "type": "string"
      },
      "text/plain": [
       "'ideojuegos'"
      ]
     },
     "execution_count": 30,
     "metadata": {
      "tags": []
     },
     "output_type": "execute_result"
    }
   ],
   "source": [
    "s[-10:] # Diez últimos elementos"
   ]
  },
  {
   "cell_type": "markdown",
   "metadata": {
    "id": "f6j9wom51fMl"
   },
   "source": [
    "Si al contrario, precedemos por `-` al índice de la derecha, sin poner ningún índice a la izquierda de `:`, obtendremos todos los elementos salvo el número de elementos indicados por el índice (recordemos que si precedíamos por `-`, los índices empezaban desde el final)."
   ]
  },
  {
   "cell_type": "code",
   "execution_count": null,
   "metadata": {
    "colab": {
     "base_uri": "https://localhost:8080/",
     "height": 35
    },
    "id": "WVoZjls11Wj2",
    "outputId": "8f1d50b6-aef2-4518-d131-5b517b055922"
   },
   "outputs": [
    {
     "data": {
      "application/vnd.google.colaboratory.intrinsic+json": {
       "type": "string"
      },
      "text/plain": [
       "'Soy fan de los v'"
      ]
     },
     "execution_count": 31,
     "metadata": {
      "tags": []
     },
     "output_type": "execute_result"
    }
   ],
   "source": [
    "s[:-10]"
   ]
  },
  {
   "cell_type": "markdown",
   "metadata": {
    "id": "u7sP_Cdi2dZk"
   },
   "source": [
    "## Métodos para trabajar con strings\n",
    "\n",
    "El método `.lower()` nos transforma el string que indiquemos a minúsculas."
   ]
  },
  {
   "cell_type": "code",
   "execution_count": null,
   "metadata": {
    "colab": {
     "base_uri": "https://localhost:8080/",
     "height": 35
    },
    "id": "Gn-wbbuA2ffk",
    "outputId": "8d83f78d-e152-42f6-d398-f2a998ecea7e"
   },
   "outputs": [
    {
     "data": {
      "application/vnd.google.colaboratory.intrinsic+json": {
       "type": "string"
      },
      "text/plain": [
       "'me encantan el chocolate y las galletas'"
      ]
     },
     "execution_count": 32,
     "metadata": {
      "tags": []
     },
     "output_type": "execute_result"
    }
   ],
   "source": [
    "s = \"Me ENCANTAN el chocolate y las galletas\"\n",
    "s.lower()"
   ]
  },
  {
   "cell_type": "markdown",
   "metadata": {
    "id": "pVwPf8GF2rP9"
   },
   "source": [
    "El método `.upper()`, por el contrario, lo transforma a mayúsculas."
   ]
  },
  {
   "cell_type": "code",
   "execution_count": null,
   "metadata": {
    "colab": {
     "base_uri": "https://localhost:8080/",
     "height": 35
    },
    "id": "GjKFBLe12ono",
    "outputId": "4abab68c-9db9-4560-c827-4e2682ca81ee"
   },
   "outputs": [
    {
     "data": {
      "application/vnd.google.colaboratory.intrinsic+json": {
       "type": "string"
      },
      "text/plain": [
       "'ME ENCANTAN EL CHOCOLATE Y LAS GALLETAS'"
      ]
     },
     "execution_count": 33,
     "metadata": {
      "tags": []
     },
     "output_type": "execute_result"
    }
   ],
   "source": [
    "s.upper()"
   ]
  },
  {
   "cell_type": "markdown",
   "metadata": {
    "id": "d-U6pEFr2w_8"
   },
   "source": [
    "El método `.count()` cuenta cuántas veces aparece una letra o un string dentro del string al cuál le aplicamos dicho método."
   ]
  },
  {
   "cell_type": "code",
   "execution_count": null,
   "metadata": {
    "colab": {
     "base_uri": "https://localhost:8080/"
    },
    "id": "WHrUtUGm22Qv",
    "outputId": "57078580-f350-4237-cf69-f2121ae0021b"
   },
   "outputs": [
    {
     "data": {
      "text/plain": [
       "2"
      ]
     },
     "execution_count": 34,
     "metadata": {
      "tags": []
     },
     "output_type": "execute_result"
    }
   ],
   "source": [
    "s.count(\"o\")"
   ]
  },
  {
   "cell_type": "code",
   "execution_count": null,
   "metadata": {
    "colab": {
     "base_uri": "https://localhost:8080/"
    },
    "id": "v1NpXiaw23Zy",
    "outputId": "b122bf0d-c03f-4493-b845-98dc436e2cad"
   },
   "outputs": [
    {
     "data": {
      "text/plain": [
       "2"
      ]
     },
     "execution_count": 35,
     "metadata": {
      "tags": []
     },
     "output_type": "execute_result"
    }
   ],
   "source": [
    "s.count(\"la\")"
   ]
  },
  {
   "cell_type": "markdown",
   "metadata": {
    "id": "gTXHdGeP24_0"
   },
   "source": [
    "El método `.capitalize()` convierte a mayúscula el primer caracter de un string."
   ]
  },
  {
   "cell_type": "code",
   "execution_count": null,
   "metadata": {
    "colab": {
     "base_uri": "https://localhost:8080/",
     "height": 35
    },
    "id": "BszJBqto299f",
    "outputId": "7fd4b057-c8a7-4eae-fd82-bf02a10181f1"
   },
   "outputs": [
    {
     "data": {
      "application/vnd.google.colaboratory.intrinsic+json": {
       "type": "string"
      },
      "text/plain": [
       "'Me encanta aprender con udemy'"
      ]
     },
     "execution_count": 36,
     "metadata": {
      "tags": []
     },
     "output_type": "execute_result"
    }
   ],
   "source": [
    "s = \"me encanta aprender con udemy\"\n",
    "s.capitalize()"
   ]
  },
  {
   "cell_type": "markdown",
   "metadata": {
    "id": "1zIb1zEU3BQN"
   },
   "source": [
    "El método `.title()` convierte a mayúscula el primer caracter de cada palabra de un string."
   ]
  },
  {
   "cell_type": "code",
   "execution_count": null,
   "metadata": {
    "colab": {
     "base_uri": "https://localhost:8080/",
     "height": 35
    },
    "id": "s2gL1zRF3AoF",
    "outputId": "ea5e794a-5cf6-43a8-8311-0e9dfbfe83aa"
   },
   "outputs": [
    {
     "data": {
      "application/vnd.google.colaboratory.intrinsic+json": {
       "type": "string"
      },
      "text/plain": [
       "'Me Encanta Aprender Con Udemy'"
      ]
     },
     "execution_count": 37,
     "metadata": {
      "tags": []
     },
     "output_type": "execute_result"
    }
   ],
   "source": [
    "s.title()"
   ]
  },
  {
   "cell_type": "markdown",
   "metadata": {
    "id": "2fqeJUOn3ILj"
   },
   "source": [
    "El método `.swapcase()` convierte a mayúscula las minúsculas y viceversa."
   ]
  },
  {
   "cell_type": "code",
   "execution_count": null,
   "metadata": {
    "colab": {
     "base_uri": "https://localhost:8080/",
     "height": 35
    },
    "id": "VeU1qC4u3HXP",
    "outputId": "0d327abd-0782-404f-818d-8d284dfec243"
   },
   "outputs": [
    {
     "data": {
      "application/vnd.google.colaboratory.intrinsic+json": {
       "type": "string"
      },
      "text/plain": [
       "'mE encanta APRENDER CON uDEMY'"
      ]
     },
     "execution_count": 38,
     "metadata": {
      "tags": []
     },
     "output_type": "execute_result"
    }
   ],
   "source": [
    "s = \"Me ENCANTA aprender con Udemy\"\n",
    "s.swapcase()"
   ]
  },
  {
   "cell_type": "markdown",
   "metadata": {
    "id": "5WVp6XYF3lo7"
   },
   "source": [
    "El método `.replace()` reemplaza el caracter (o caracteres) que le indiquemos por el string que queramos."
   ]
  },
  {
   "cell_type": "code",
   "execution_count": null,
   "metadata": {
    "colab": {
     "base_uri": "https://localhost:8080/",
     "height": 35
    },
    "id": "xQkL3nnw3iHq",
    "outputId": "51ef3a0a-d53b-455d-c260-2c43bbff5e12"
   },
   "outputs": [
    {
     "data": {
      "application/vnd.google.colaboratory.intrinsic+json": {
       "type": "string"
      },
      "text/plain": [
       "'Los tomberis son malos'"
      ]
     },
     "execution_count": 39,
     "metadata": {
      "tags": []
     },
     "output_type": "execute_result"
    }
   ],
   "source": [
    "s = \"Los tomberis son buenos\"\n",
    "s.replace(\"buenos\", \"malos\")"
   ]
  },
  {
   "cell_type": "markdown",
   "metadata": {
    "id": "gxSJQG3K3mTr"
   },
   "source": [
    "El método `.split()` rompe el string en el caracter que le indiquemos y elimina dicho caracter."
   ]
  },
  {
   "cell_type": "code",
   "execution_count": null,
   "metadata": {
    "colab": {
     "base_uri": "https://localhost:8080/"
    },
    "id": "jhGO866B3mlm",
    "outputId": "5a79563f-055a-4914-d9b7-ee052f61bd93"
   },
   "outputs": [
    {
     "data": {
      "text/plain": [
       "['El ', 'l', 'fant', ' ti', 'n', ' las or', 'jas muy grand', 's']"
      ]
     },
     "execution_count": 40,
     "metadata": {
      "tags": []
     },
     "output_type": "execute_result"
    }
   ],
   "source": [
    "s = \"El elefante tiene las orejas muy grandes\"\n",
    "s.split(\"e\") # Rompemos por la letra e minúscula"
   ]
  },
  {
   "cell_type": "code",
   "execution_count": null,
   "metadata": {
    "colab": {
     "base_uri": "https://localhost:8080/"
    },
    "id": "DOgE3iLB3w5a",
    "outputId": "64a5abaa-b9df-4a7d-916e-c344af69a40f"
   },
   "outputs": [
    {
     "data": {
      "text/plain": [
       "['El', 'elefante', 'tiene', 'las', 'orejas', 'muy', 'grandes']"
      ]
     },
     "execution_count": 41,
     "metadata": {
      "tags": []
     },
     "output_type": "execute_result"
    }
   ],
   "source": [
    "s.split(\" \") # Rompemos por los espacios"
   ]
  },
  {
   "cell_type": "code",
   "execution_count": null,
   "metadata": {
    "colab": {
     "base_uri": "https://localhost:8080/"
    },
    "id": "ZBHs-oAf30f7",
    "outputId": "875aba5e-6f76-403c-86ff-b80012b39f84"
   },
   "outputs": [
    {
     "data": {
      "text/plain": [
       "['El elefante ', ' las orejas muy grandes']"
      ]
     },
     "execution_count": 42,
     "metadata": {
      "tags": []
     },
     "output_type": "execute_result"
    }
   ],
   "source": [
    "s.split(\"tiene\") # Rompemos por la palabra tiene"
   ]
  },
  {
   "cell_type": "markdown",
   "metadata": {
    "id": "jnkzw3ud3zWr"
   },
   "source": [
    "El método `.strip()` elimina los espacios sobrantes a principio y final del string."
   ]
  },
  {
   "cell_type": "code",
   "execution_count": null,
   "metadata": {
    "colab": {
     "base_uri": "https://localhost:8080/",
     "height": 35
    },
    "id": "174KMod83z6f",
    "outputId": "b097b563-1eee-48f9-e217-1b47645a4ddb"
   },
   "outputs": [
    {
     "data": {
      "application/vnd.google.colaboratory.intrinsic+json": {
       "type": "string"
      },
      "text/plain": [
       "'El elefante tiene las orejas muy grandes'"
      ]
     },
     "execution_count": 43,
     "metadata": {
      "tags": []
     },
     "output_type": "execute_result"
    }
   ],
   "source": [
    "s = \"       El elefante tiene las orejas muy grandes        \"\n",
    "s.strip()"
   ]
  },
  {
   "cell_type": "markdown",
   "metadata": {
    "id": "M34jtbv23mw2"
   },
   "source": [
    "El método `.rstrip()` elimina los espacios sobrantes al final del string."
   ]
  },
  {
   "cell_type": "code",
   "execution_count": null,
   "metadata": {
    "colab": {
     "base_uri": "https://localhost:8080/",
     "height": 35
    },
    "id": "7QFOJlwt3m7S",
    "outputId": "51f17b8f-563c-4491-85b2-f1a022b2c14c"
   },
   "outputs": [
    {
     "data": {
      "application/vnd.google.colaboratory.intrinsic+json": {
       "type": "string"
      },
      "text/plain": [
       "'       El elefante tiene las orejas muy grandes'"
      ]
     },
     "execution_count": 44,
     "metadata": {
      "tags": []
     },
     "output_type": "execute_result"
    }
   ],
   "source": [
    "s.rstrip()"
   ]
  },
  {
   "cell_type": "markdown",
   "metadata": {
    "id": "0yM1RMrb3nEM"
   },
   "source": [
    "El método .lstrip() elimina los espacios sobrantes al principio del string."
   ]
  },
  {
   "cell_type": "code",
   "execution_count": null,
   "metadata": {
    "colab": {
     "base_uri": "https://localhost:8080/",
     "height": 35
    },
    "id": "4FCine1W3nNk",
    "outputId": "33b79f0f-b4d2-449c-e17c-cdbf2c59b8f5"
   },
   "outputs": [
    {
     "data": {
      "application/vnd.google.colaboratory.intrinsic+json": {
       "type": "string"
      },
      "text/plain": [
       "'El elefante tiene las orejas muy grandes        '"
      ]
     },
     "execution_count": 45,
     "metadata": {
      "tags": []
     },
     "output_type": "execute_result"
    }
   ],
   "source": [
    "s.lstrip()"
   ]
  },
  {
   "cell_type": "markdown",
   "metadata": {
    "id": "Z9oSmTbA4L3W"
   },
   "source": [
    "El método `.find()` busca el caracter que indiquemos y nos devuelve la primera posición en la que aparece."
   ]
  },
  {
   "cell_type": "code",
   "execution_count": null,
   "metadata": {
    "colab": {
     "base_uri": "https://localhost:8080/"
    },
    "id": "rEaaxUSd4MDY",
    "outputId": "2281a15a-9b52-4537-f536-c033e00be162"
   },
   "outputs": [
    {
     "data": {
      "text/plain": [
       "3"
      ]
     },
     "execution_count": 47,
     "metadata": {
      "tags": []
     },
     "output_type": "execute_result"
    }
   ],
   "source": [
    "s = \"Este es un curso de Python para hacer en casa o en cualquier lado\"\n",
    "s.find(\"e\")"
   ]
  },
  {
   "cell_type": "markdown",
   "metadata": {
    "id": "4Y2hu9Jt4ML4"
   },
   "source": [
    "Si le pedimos buscar un conjunto de caracteres, nos devuelve la posición del primer caracter de dicho conjunto"
   ]
  },
  {
   "cell_type": "code",
   "execution_count": null,
   "metadata": {
    "colab": {
     "base_uri": "https://localhost:8080/"
    },
    "id": "gsnhV2gR4MWf",
    "outputId": "01e4f791-364c-4aa4-b1d8-90dbdc7f2ef8"
   },
   "outputs": [
    {
     "data": {
      "text/plain": [
       "41"
      ]
     },
     "execution_count": 48,
     "metadata": {
      "tags": []
     },
     "output_type": "execute_result"
    }
   ],
   "source": [
    "s.find(\"casa\")"
   ]
  },
  {
   "cell_type": "markdown",
   "metadata": {
    "id": "AfIpgQEd4Mfp"
   },
   "source": [
    "El método `.find()` tiene otros dos parámetros de uso opcional: `start` y `end`, que sirven para indicar donde queremos que empiece la búsqueda y donde queremos que acabe."
   ]
  },
  {
   "cell_type": "code",
   "execution_count": null,
   "metadata": {
    "colab": {
     "base_uri": "https://localhost:8080/"
    },
    "id": "6GZODGOe4MqF",
    "outputId": "87b5d56d-fcd7-481f-d988-a30a18952dfe"
   },
   "outputs": [
    {
     "data": {
      "text/plain": [
       "18"
      ]
     },
     "execution_count": 49,
     "metadata": {
      "tags": []
     },
     "output_type": "execute_result"
    }
   ],
   "source": [
    "s.find(\"e\", 10) # Solamente indicamos start"
   ]
  },
  {
   "cell_type": "code",
   "execution_count": null,
   "metadata": {
    "colab": {
     "base_uri": "https://localhost:8080/"
    },
    "id": "pxqhw5R74Jkc",
    "outputId": "42dc7657-406b-494c-8724-f615a02d6e12"
   },
   "outputs": [
    {
     "data": {
      "text/plain": [
       "35"
      ]
     },
     "execution_count": 50,
     "metadata": {
      "tags": []
     },
     "output_type": "execute_result"
    }
   ],
   "source": [
    "s.find(\"e\", 30, 40) # Indicamos start y end"
   ]
  },
  {
   "cell_type": "markdown",
   "metadata": {
    "id": "lv0GUT774du7"
   },
   "source": [
    "El método `.index()` busca el caracter que indiquemos y nos devuelve la primera posición en la que aparece."
   ]
  },
  {
   "cell_type": "code",
   "execution_count": null,
   "metadata": {
    "colab": {
     "base_uri": "https://localhost:8080/"
    },
    "id": "mhAHevAp4c-D",
    "outputId": "ecd54fe7-cc72-4ba0-9096-28026f88b28d"
   },
   "outputs": [
    {
     "data": {
      "text/plain": [
       "3"
      ]
     },
     "execution_count": 51,
     "metadata": {
      "tags": []
     },
     "output_type": "execute_result"
    }
   ],
   "source": [
    "s = \"Este es un curso de Python para hacer en casa o en cualquier lado\"\n",
    "s.index(\"e\")"
   ]
  },
  {
   "cell_type": "markdown",
   "metadata": {
    "id": "ReL419Ff4f2O"
   },
   "source": [
    "Si le pedimos buscar un conjunto de caracteres, nos devuelve la posición del primer caracter de dicho conjunto"
   ]
  },
  {
   "cell_type": "code",
   "execution_count": null,
   "metadata": {
    "colab": {
     "base_uri": "https://localhost:8080/"
    },
    "id": "3qw39rOo4gAs",
    "outputId": "c60836bd-567c-44d8-d0ed-f47e5a8e6ca7"
   },
   "outputs": [
    {
     "data": {
      "text/plain": [
       "41"
      ]
     },
     "execution_count": 52,
     "metadata": {
      "tags": []
     },
     "output_type": "execute_result"
    }
   ],
   "source": [
    "s.index(\"casa\")"
   ]
  },
  {
   "cell_type": "markdown",
   "metadata": {
    "id": "Q55AVtkc4gJb"
   },
   "source": [
    "El método `.index()` tiene otros dos parámetros de uso opcional: `start` y `end`, que sirven para indicar donde queremos que empiece la búsqueda y donde queremos que acabe."
   ]
  },
  {
   "cell_type": "code",
   "execution_count": null,
   "metadata": {
    "colab": {
     "base_uri": "https://localhost:8080/"
    },
    "id": "PL2h_YI_4gSq",
    "outputId": "a9bf83b5-4752-4b25-a124-340d4bf0b2eb"
   },
   "outputs": [
    {
     "data": {
      "text/plain": [
       "18"
      ]
     },
     "execution_count": 53,
     "metadata": {
      "tags": []
     },
     "output_type": "execute_result"
    }
   ],
   "source": [
    "s.index(\"e\", 10) # Solamente indicamos start"
   ]
  },
  {
   "cell_type": "code",
   "execution_count": null,
   "metadata": {
    "colab": {
     "base_uri": "https://localhost:8080/"
    },
    "id": "SzG-6ySH4gh3",
    "outputId": "71ab95be-3fe9-44d3-d3c5-5ea03ce1729c"
   },
   "outputs": [
    {
     "data": {
      "text/plain": [
       "35"
      ]
     },
     "execution_count": 54,
     "metadata": {
      "tags": []
     },
     "output_type": "execute_result"
    }
   ],
   "source": [
    "s.index(\"e\", 30, 40) # Indicamos start y end"
   ]
  },
  {
   "cell_type": "markdown",
   "metadata": {
    "id": "QdICgelP41YE"
   },
   "source": [
    "**Observación.** Observemos que los métodos `.index()` y `.find()` son casi idénticos. El único punto en que difieren es que si el caracter indicado no se encuentra en el string, el método `.index()` arroja error, mientras que `.find()` arroja el índice -1."
   ]
  },
  {
   "cell_type": "markdown",
   "metadata": {
    "id": "9fR30sFA5AVz"
   },
   "source": [
    "El método `.rindex()` busca el caracter que indiquemos y devuelve el último indice en el que fue encontrado."
   ]
  },
  {
   "cell_type": "code",
   "execution_count": null,
   "metadata": {
    "colab": {
     "base_uri": "https://localhost:8080/"
    },
    "id": "liuRHCVn4z9x",
    "outputId": "ea1b0ecf-7992-47b6-9e99-9967e5204202"
   },
   "outputs": [
    {
     "data": {
      "text/plain": [
       "58"
      ]
     },
     "execution_count": 55,
     "metadata": {
      "tags": []
     },
     "output_type": "execute_result"
    }
   ],
   "source": [
    "s.rindex(\"e\")"
   ]
  },
  {
   "cell_type": "markdown",
   "metadata": {
    "id": "nuQI5n_v5EWq"
   },
   "source": [
    "También consta de los dos parámetros de uso opcional: `start` y `end`, que sirven para indicar donde queremos que empiece la búsqueda y donde queremos que acabe."
   ]
  },
  {
   "cell_type": "markdown",
   "metadata": {
    "id": "jH8Zr1mK40lM"
   },
   "source": [
    "## Otras funciones a tener en cuenta\n",
    "\n",
    "La función `len()` nos devuelve el número de caracteres del string."
   ]
  },
  {
   "cell_type": "code",
   "execution_count": null,
   "metadata": {
    "colab": {
     "base_uri": "https://localhost:8080/"
    },
    "id": "z50sileY4g1z",
    "outputId": "c08ee6d2-b9a1-4b3c-c200-9279eb4e70cf"
   },
   "outputs": [
    {
     "data": {
      "text/plain": [
       "12"
      ]
     },
     "execution_count": 56,
     "metadata": {
      "tags": []
     },
     "output_type": "execute_result"
    }
   ],
   "source": [
    "s = \"Tengo hambre\"\n",
    "len(s)"
   ]
  },
  {
   "cell_type": "markdown",
   "metadata": {
    "id": "EEJNBlbC5T-7"
   },
   "source": [
    "**Observación.** Los espacios en blanco también son caracteres, por lo que éstos también son incluidos al contar el número de caracteres de los que consta un string."
   ]
  },
  {
   "cell_type": "markdown",
   "metadata": {
    "id": "3nZ0nBmv4hk0"
   },
   "source": [
    "Si tenemos un número en formato string, por mucho que sea un número para nosotros, en realidad `Python` no lo ve así. El gran problema es cuando queremos operar con un número que se encuentra en formato string. Ahí es donde entran en juego las funciones `int()` y `float()`, que lo que hacen es convertir a formato integer o float, respectivamente."
   ]
  },
  {
   "cell_type": "code",
   "execution_count": null,
   "metadata": {
    "colab": {
     "base_uri": "https://localhost:8080/"
    },
    "id": "cU-KTJuE5kJU",
    "outputId": "c55da4a3-82a4-4419-a6c6-d6d3dfb50770"
   },
   "outputs": [
    {
     "data": {
      "text/plain": [
       "str"
      ]
     },
     "execution_count": 58,
     "metadata": {
      "tags": []
     },
     "output_type": "execute_result"
    }
   ],
   "source": [
    "numero = \"5\" \n",
    "type(numero)"
   ]
  },
  {
   "cell_type": "markdown",
   "metadata": {
    "id": "qbKkQv974hH6"
   },
   "source": [
    "En este caso, pasamos a formato integer:"
   ]
  },
  {
   "cell_type": "code",
   "execution_count": null,
   "metadata": {
    "colab": {
     "base_uri": "https://localhost:8080/"
    },
    "id": "2kVHNJMh5oYW",
    "outputId": "d7f7e2a9-3bdb-4c80-945d-d5d7a8667491"
   },
   "outputs": [
    {
     "data": {
      "text/plain": [
       "5"
      ]
     },
     "execution_count": 59,
     "metadata": {
      "tags": []
     },
     "output_type": "execute_result"
    }
   ],
   "source": [
    "numero_int = int(numero)\n",
    "numero_int"
   ]
  },
  {
   "cell_type": "code",
   "execution_count": null,
   "metadata": {
    "colab": {
     "base_uri": "https://localhost:8080/"
    },
    "id": "PPRmbP5X5rwP",
    "outputId": "718f0126-53e0-4e52-b8e6-ee631baa661c"
   },
   "outputs": [
    {
     "data": {
      "text/plain": [
       "25"
      ]
     },
     "execution_count": 60,
     "metadata": {
      "tags": []
     },
     "output_type": "execute_result"
    }
   ],
   "source": [
    "numero_int ** 2"
   ]
  },
  {
   "cell_type": "code",
   "execution_count": null,
   "metadata": {
    "colab": {
     "base_uri": "https://localhost:8080/"
    },
    "id": "kHioebTH5sfv",
    "outputId": "5c6b7d8d-6586-4a43-e035-06d6743937bd"
   },
   "outputs": [
    {
     "data": {
      "text/plain": [
       "int"
      ]
     },
     "execution_count": 61,
     "metadata": {
      "tags": []
     },
     "output_type": "execute_result"
    }
   ],
   "source": [
    "type(numero_int)"
   ]
  },
  {
   "cell_type": "markdown",
   "metadata": {
    "id": "bQsxU4Zx4guI"
   },
   "source": [
    "En este otro caso, pasamos a formato float:"
   ]
  },
  {
   "cell_type": "code",
   "execution_count": null,
   "metadata": {
    "colab": {
     "base_uri": "https://localhost:8080/"
    },
    "id": "ktSLVA5f5xTW",
    "outputId": "416ca8fa-7ce6-4199-d2cc-a5dd865f6e7c"
   },
   "outputs": [
    {
     "data": {
      "text/plain": [
       "5.0"
      ]
     },
     "execution_count": 62,
     "metadata": {
      "tags": []
     },
     "output_type": "execute_result"
    }
   ],
   "source": [
    "numero_float = float(numero)\n",
    "numero_float"
   ]
  },
  {
   "cell_type": "code",
   "execution_count": null,
   "metadata": {
    "colab": {
     "base_uri": "https://localhost:8080/"
    },
    "id": "ZVTn6fCW5xiS",
    "outputId": "f4ffc392-5b7b-4810-b901-dece4a309176"
   },
   "outputs": [
    {
     "data": {
      "text/plain": [
       "20.0"
      ]
     },
     "execution_count": 63,
     "metadata": {
      "tags": []
     },
     "output_type": "execute_result"
    }
   ],
   "source": [
    "numero_float ** 2 - numero_float"
   ]
  },
  {
   "cell_type": "code",
   "execution_count": null,
   "metadata": {
    "colab": {
     "base_uri": "https://localhost:8080/"
    },
    "id": "tIGai4WN5xw0",
    "outputId": "b4aff40f-3523-4c2a-c64a-da12827c5e90"
   },
   "outputs": [
    {
     "data": {
      "text/plain": [
       "float"
      ]
     },
     "execution_count": 64,
     "metadata": {
      "tags": []
     },
     "output_type": "execute_result"
    }
   ],
   "source": [
    "type(numero_float)"
   ]
  },
  {
   "cell_type": "markdown",
   "metadata": {
    "id": "8ORueZaL4gbA"
   },
   "source": [
    "La función `input()` sirve para que el usuario introduzca un string por consola:"
   ]
  },
  {
   "cell_type": "code",
   "execution_count": null,
   "metadata": {
    "colab": {
     "base_uri": "https://localhost:8080/"
    },
    "id": "Gx6GXzVx57u5",
    "outputId": "d4aaf52a-f7b6-4561-eaf3-1a345c33fa6f"
   },
   "outputs": [
    {
     "name": "stdout",
     "output_type": "stream",
     "text": [
      "Introduce tu nombre: \n",
      "Nombre: Juan Gabriel Gomila\n"
     ]
    }
   ],
   "source": [
    "print(\"Introduce tu nombre: \")\n",
    "name = input(\"Nombre: \")"
   ]
  },
  {
   "cell_type": "code",
   "execution_count": null,
   "metadata": {
    "colab": {
     "base_uri": "https://localhost:8080/",
     "height": 35
    },
    "id": "qnzcoY_s59oq",
    "outputId": "d3dc31d8-5d33-4176-d52b-e5e6286d32f3"
   },
   "outputs": [
    {
     "data": {
      "application/vnd.google.colaboratory.intrinsic+json": {
       "type": "string"
      },
      "text/plain": [
       "'Juan Gabriel Gomila'"
      ]
     },
     "execution_count": 73,
     "metadata": {
      "tags": []
     },
     "output_type": "execute_result"
    }
   ],
   "source": [
    "name"
   ]
  },
  {
   "cell_type": "markdown",
   "metadata": {
    "id": "llPqUXvI6FAj"
   },
   "source": [
    "Aquí también nos serán útiles las funciones `int()` y `float()`, pues si en vez del nombre queremos que el usuario nos indique su edad o su altura, querremos tratar dichos valores como números. Entonces, haríamos lo siguiente"
   ]
  },
  {
   "cell_type": "code",
   "execution_count": null,
   "metadata": {
    "colab": {
     "base_uri": "https://localhost:8080/"
    },
    "id": "gXoEV0_o6Axu",
    "outputId": "1cc7f5d2-ed82-4de0-b68e-8e5c7464370c"
   },
   "outputs": [
    {
     "name": "stdout",
     "output_type": "stream",
     "text": [
      "Introduce tu edad: \n",
      "Edad: 32\n"
     ]
    }
   ],
   "source": [
    "print(\"Introduce tu edad: \")\n",
    "age = int(input(\"Edad: \"))"
   ]
  },
  {
   "cell_type": "code",
   "execution_count": null,
   "metadata": {
    "colab": {
     "base_uri": "https://localhost:8080/"
    },
    "id": "ianS3k6G6L5p",
    "outputId": "9b0ff897-0479-43f1-8dec-8b8888c108a1"
   },
   "outputs": [
    {
     "name": "stdout",
     "output_type": "stream",
     "text": [
      "Introduce tu altura: \n",
      "Altura (en m): 1.66\n"
     ]
    }
   ],
   "source": [
    "print(\"Introduce tu altura: \")\n",
    "height = float(input(\"Altura (en m): \"))"
   ]
  },
  {
   "cell_type": "code",
   "execution_count": null,
   "metadata": {
    "colab": {
     "base_uri": "https://localhost:8080/"
    },
    "id": "qUCy1G-v6Owg",
    "outputId": "1e066d95-d679-4776-b3b0-fea58e10c025",
    "scrolled": true
   },
   "outputs": [
    {
     "name": "stdout",
     "output_type": "stream",
     "text": [
      "La edad de Juan Gabriel Gomila es 32 y mide 1.66m\n"
     ]
    }
   ],
   "source": [
    "print(\"La edad de {} es {} y mide {}m\".format(name, age, height))"
   ]
  },
  {
   "cell_type": "code",
   "execution_count": 6,
   "metadata": {},
   "outputs": [
    {
     "name": "stdout",
     "output_type": "stream",
     "text": [
      "En ASCCI el 0 es: \u0000\n",
      "En ASCCI el 1 es: \u0001\n",
      "En ASCCI el 2 es: \u0002\n",
      "En ASCCI el 3 es: \u0003\n",
      "En ASCCI el 4 es: \u0004\n",
      "En ASCCI el 5 es: \u0005\n",
      "En ASCCI el 6 es: \u0006\n",
      "En ASCCI el 7 es: \u0007\n",
      "En ASCCI el 8 es: \b\n",
      "En ASCCI el 9 es: \t\n",
      "En ASCCI el 10 es: \n",
      "\n",
      "En ASCCI el 11 es: \u000b",
      "\n",
      "En ASCCI el 12 es: \f",
      "\n",
      "En ASCCI el 13 es: \r\n",
      "En ASCCI el 14 es: \u000e\n",
      "En ASCCI el 15 es: \u000f\n",
      "En ASCCI el 16 es: \u0010\n",
      "En ASCCI el 17 es: \u0011\n",
      "En ASCCI el 18 es: \u0012\n",
      "En ASCCI el 19 es: \u0013\n",
      "En ASCCI el 20 es: \u0014\n",
      "En ASCCI el 21 es: \u0015\n",
      "En ASCCI el 22 es: \u0016\n",
      "En ASCCI el 23 es: \u0017\n",
      "En ASCCI el 24 es: \u0018\n",
      "En ASCCI el 25 es: \u0019\n",
      "En ASCCI el 26 es: \u001a\n",
      "En ASCCI el 27 es: \u001b\n",
      "En ASCCI el 28 es: \u001c",
      "\n",
      "En ASCCI el 29 es: \u001d",
      "\n",
      "En ASCCI el 30 es: \u001e",
      "\n",
      "En ASCCI el 31 es: \u001f\n",
      "En ASCCI el 32 es:  \n",
      "En ASCCI el 33 es: !\n",
      "En ASCCI el 34 es: \"\n",
      "En ASCCI el 35 es: #\n",
      "En ASCCI el 36 es: $\n",
      "En ASCCI el 37 es: %\n",
      "En ASCCI el 38 es: &\n",
      "En ASCCI el 39 es: '\n",
      "En ASCCI el 40 es: (\n",
      "En ASCCI el 41 es: )\n",
      "En ASCCI el 42 es: *\n",
      "En ASCCI el 43 es: +\n",
      "En ASCCI el 44 es: ,\n",
      "En ASCCI el 45 es: -\n",
      "En ASCCI el 46 es: .\n",
      "En ASCCI el 47 es: /\n",
      "En ASCCI el 48 es: 0\n",
      "En ASCCI el 49 es: 1\n",
      "En ASCCI el 50 es: 2\n",
      "En ASCCI el 51 es: 3\n",
      "En ASCCI el 52 es: 4\n",
      "En ASCCI el 53 es: 5\n",
      "En ASCCI el 54 es: 6\n",
      "En ASCCI el 55 es: 7\n",
      "En ASCCI el 56 es: 8\n",
      "En ASCCI el 57 es: 9\n",
      "En ASCCI el 58 es: :\n",
      "En ASCCI el 59 es: ;\n",
      "En ASCCI el 60 es: <\n",
      "En ASCCI el 61 es: =\n",
      "En ASCCI el 62 es: >\n",
      "En ASCCI el 63 es: ?\n",
      "En ASCCI el 64 es: @\n",
      "En ASCCI el 65 es: A\n",
      "En ASCCI el 66 es: B\n",
      "En ASCCI el 67 es: C\n",
      "En ASCCI el 68 es: D\n",
      "En ASCCI el 69 es: E\n",
      "En ASCCI el 70 es: F\n",
      "En ASCCI el 71 es: G\n",
      "En ASCCI el 72 es: H\n",
      "En ASCCI el 73 es: I\n",
      "En ASCCI el 74 es: J\n",
      "En ASCCI el 75 es: K\n",
      "En ASCCI el 76 es: L\n",
      "En ASCCI el 77 es: M\n",
      "En ASCCI el 78 es: N\n",
      "En ASCCI el 79 es: O\n",
      "En ASCCI el 80 es: P\n",
      "En ASCCI el 81 es: Q\n",
      "En ASCCI el 82 es: R\n",
      "En ASCCI el 83 es: S\n",
      "En ASCCI el 84 es: T\n",
      "En ASCCI el 85 es: U\n",
      "En ASCCI el 86 es: V\n",
      "En ASCCI el 87 es: W\n",
      "En ASCCI el 88 es: X\n",
      "En ASCCI el 89 es: Y\n",
      "En ASCCI el 90 es: Z\n",
      "En ASCCI el 91 es: [\n",
      "En ASCCI el 92 es: \\\n",
      "En ASCCI el 93 es: ]\n",
      "En ASCCI el 94 es: ^\n",
      "En ASCCI el 95 es: _\n",
      "En ASCCI el 96 es: `\n",
      "En ASCCI el 97 es: a\n",
      "En ASCCI el 98 es: b\n",
      "En ASCCI el 99 es: c\n",
      "En ASCCI el 100 es: d\n",
      "En ASCCI el 101 es: e\n",
      "En ASCCI el 102 es: f\n",
      "En ASCCI el 103 es: g\n",
      "En ASCCI el 104 es: h\n",
      "En ASCCI el 105 es: i\n",
      "En ASCCI el 106 es: j\n",
      "En ASCCI el 107 es: k\n",
      "En ASCCI el 108 es: l\n",
      "En ASCCI el 109 es: m\n",
      "En ASCCI el 110 es: n\n",
      "En ASCCI el 111 es: o\n",
      "En ASCCI el 112 es: p\n",
      "En ASCCI el 113 es: q\n",
      "En ASCCI el 114 es: r\n",
      "En ASCCI el 115 es: s\n",
      "En ASCCI el 116 es: t\n",
      "En ASCCI el 117 es: u\n",
      "En ASCCI el 118 es: v\n",
      "En ASCCI el 119 es: w\n",
      "En ASCCI el 120 es: x\n",
      "En ASCCI el 121 es: y\n",
      "En ASCCI el 122 es: z\n",
      "En ASCCI el 123 es: {\n",
      "En ASCCI el 124 es: |\n",
      "En ASCCI el 125 es: }\n",
      "En ASCCI el 126 es: ~\n",
      "En ASCCI el 127 es: \n",
      "En ASCCI el 128 es: \n",
      "En ASCCI el 129 es: \n",
      "En ASCCI el 130 es: \n",
      "En ASCCI el 131 es: \n",
      "En ASCCI el 132 es: \n",
      "En ASCCI el 133 es: ",
      "\n",
      "En ASCCI el 134 es: \n",
      "En ASCCI el 135 es: \n",
      "En ASCCI el 136 es: \n",
      "En ASCCI el 137 es: \n",
      "En ASCCI el 138 es: \n",
      "En ASCCI el 139 es: \n",
      "En ASCCI el 140 es: \n",
      "En ASCCI el 141 es: \n",
      "En ASCCI el 142 es: \n",
      "En ASCCI el 143 es: \n",
      "En ASCCI el 144 es: \n",
      "En ASCCI el 145 es: \n",
      "En ASCCI el 146 es: \n",
      "En ASCCI el 147 es: \n",
      "En ASCCI el 148 es: \n",
      "En ASCCI el 149 es: \n",
      "En ASCCI el 150 es: \n",
      "En ASCCI el 151 es: \n",
      "En ASCCI el 152 es: \n",
      "En ASCCI el 153 es: \n",
      "En ASCCI el 154 es: \n",
      "En ASCCI el 155 es: \n",
      "En ASCCI el 156 es: \n",
      "En ASCCI el 157 es: \n",
      "En ASCCI el 158 es: \n",
      "En ASCCI el 159 es: \n",
      "En ASCCI el 160 es:  \n",
      "En ASCCI el 161 es: ¡\n",
      "En ASCCI el 162 es: ¢\n",
      "En ASCCI el 163 es: £\n",
      "En ASCCI el 164 es: ¤\n",
      "En ASCCI el 165 es: ¥\n",
      "En ASCCI el 166 es: ¦\n",
      "En ASCCI el 167 es: §\n",
      "En ASCCI el 168 es: ¨\n",
      "En ASCCI el 169 es: ©\n",
      "En ASCCI el 170 es: ª\n",
      "En ASCCI el 171 es: «\n",
      "En ASCCI el 172 es: ¬\n",
      "En ASCCI el 173 es: ­\n",
      "En ASCCI el 174 es: ®\n",
      "En ASCCI el 175 es: ¯\n",
      "En ASCCI el 176 es: °\n",
      "En ASCCI el 177 es: ±\n",
      "En ASCCI el 178 es: ²\n",
      "En ASCCI el 179 es: ³\n",
      "En ASCCI el 180 es: ´\n",
      "En ASCCI el 181 es: µ\n",
      "En ASCCI el 182 es: ¶\n",
      "En ASCCI el 183 es: ·\n",
      "En ASCCI el 184 es: ¸\n",
      "En ASCCI el 185 es: ¹\n",
      "En ASCCI el 186 es: º\n",
      "En ASCCI el 187 es: »\n",
      "En ASCCI el 188 es: ¼\n",
      "En ASCCI el 189 es: ½\n",
      "En ASCCI el 190 es: ¾\n",
      "En ASCCI el 191 es: ¿\n",
      "En ASCCI el 192 es: À\n",
      "En ASCCI el 193 es: Á\n",
      "En ASCCI el 194 es: Â\n",
      "En ASCCI el 195 es: Ã\n",
      "En ASCCI el 196 es: Ä\n",
      "En ASCCI el 197 es: Å\n",
      "En ASCCI el 198 es: Æ\n",
      "En ASCCI el 199 es: Ç\n",
      "En ASCCI el 200 es: È\n",
      "En ASCCI el 201 es: É\n",
      "En ASCCI el 202 es: Ê\n",
      "En ASCCI el 203 es: Ë\n",
      "En ASCCI el 204 es: Ì\n",
      "En ASCCI el 205 es: Í\n",
      "En ASCCI el 206 es: Î\n",
      "En ASCCI el 207 es: Ï\n",
      "En ASCCI el 208 es: Ð\n",
      "En ASCCI el 209 es: Ñ\n",
      "En ASCCI el 210 es: Ò\n",
      "En ASCCI el 211 es: Ó\n",
      "En ASCCI el 212 es: Ô\n",
      "En ASCCI el 213 es: Õ\n",
      "En ASCCI el 214 es: Ö\n",
      "En ASCCI el 215 es: ×\n",
      "En ASCCI el 216 es: Ø\n",
      "En ASCCI el 217 es: Ù\n",
      "En ASCCI el 218 es: Ú\n",
      "En ASCCI el 219 es: Û\n",
      "En ASCCI el 220 es: Ü\n",
      "En ASCCI el 221 es: Ý\n",
      "En ASCCI el 222 es: Þ\n",
      "En ASCCI el 223 es: ß\n",
      "En ASCCI el 224 es: à\n",
      "En ASCCI el 225 es: á\n",
      "En ASCCI el 226 es: â\n",
      "En ASCCI el 227 es: ã\n",
      "En ASCCI el 228 es: ä\n",
      "En ASCCI el 229 es: å\n",
      "En ASCCI el 230 es: æ\n",
      "En ASCCI el 231 es: ç\n",
      "En ASCCI el 232 es: è\n",
      "En ASCCI el 233 es: é\n",
      "En ASCCI el 234 es: ê\n",
      "En ASCCI el 235 es: ë\n",
      "En ASCCI el 236 es: ì\n",
      "En ASCCI el 237 es: í\n",
      "En ASCCI el 238 es: î\n",
      "En ASCCI el 239 es: ï\n",
      "En ASCCI el 240 es: ð\n",
      "En ASCCI el 241 es: ñ\n",
      "En ASCCI el 242 es: ò\n",
      "En ASCCI el 243 es: ó\n",
      "En ASCCI el 244 es: ô\n",
      "En ASCCI el 245 es: õ\n",
      "En ASCCI el 246 es: ö\n",
      "En ASCCI el 247 es: ÷\n",
      "En ASCCI el 248 es: ø\n",
      "En ASCCI el 249 es: ù\n",
      "En ASCCI el 250 es: ú\n",
      "En ASCCI el 251 es: û\n",
      "En ASCCI el 252 es: ü\n",
      "En ASCCI el 253 es: ý\n",
      "En ASCCI el 254 es: þ\n",
      "En ASCCI el 255 es: ÿ\n",
      "En ASCCI el 256 es: Ā\n",
      "En ASCCI el 257 es: ā\n",
      "En ASCCI el 258 es: Ă\n",
      "En ASCCI el 259 es: ă\n",
      "En ASCCI el 260 es: Ą\n",
      "En ASCCI el 261 es: ą\n",
      "En ASCCI el 262 es: Ć\n",
      "En ASCCI el 263 es: ć\n",
      "En ASCCI el 264 es: Ĉ\n",
      "En ASCCI el 265 es: ĉ\n",
      "En ASCCI el 266 es: Ċ\n",
      "En ASCCI el 267 es: ċ\n",
      "En ASCCI el 268 es: Č\n",
      "En ASCCI el 269 es: č\n",
      "En ASCCI el 270 es: Ď\n",
      "En ASCCI el 271 es: ď\n",
      "En ASCCI el 272 es: Đ\n",
      "En ASCCI el 273 es: đ\n",
      "En ASCCI el 274 es: Ē\n",
      "En ASCCI el 275 es: ē\n",
      "En ASCCI el 276 es: Ĕ\n",
      "En ASCCI el 277 es: ĕ\n",
      "En ASCCI el 278 es: Ė\n",
      "En ASCCI el 279 es: ė\n",
      "En ASCCI el 280 es: Ę\n",
      "En ASCCI el 281 es: ę\n",
      "En ASCCI el 282 es: Ě\n",
      "En ASCCI el 283 es: ě\n",
      "En ASCCI el 284 es: Ĝ\n",
      "En ASCCI el 285 es: ĝ\n",
      "En ASCCI el 286 es: Ğ\n",
      "En ASCCI el 287 es: ğ\n",
      "En ASCCI el 288 es: Ġ\n",
      "En ASCCI el 289 es: ġ\n",
      "En ASCCI el 290 es: Ģ\n",
      "En ASCCI el 291 es: ģ\n",
      "En ASCCI el 292 es: Ĥ\n",
      "En ASCCI el 293 es: ĥ\n",
      "En ASCCI el 294 es: Ħ\n",
      "En ASCCI el 295 es: ħ\n",
      "En ASCCI el 296 es: Ĩ\n",
      "En ASCCI el 297 es: ĩ\n",
      "En ASCCI el 298 es: Ī\n",
      "En ASCCI el 299 es: ī\n",
      "En ASCCI el 300 es: Ĭ\n",
      "En ASCCI el 301 es: ĭ\n",
      "En ASCCI el 302 es: Į\n",
      "En ASCCI el 303 es: į\n",
      "En ASCCI el 304 es: İ\n",
      "En ASCCI el 305 es: ı\n",
      "En ASCCI el 306 es: Ĳ\n",
      "En ASCCI el 307 es: ĳ\n",
      "En ASCCI el 308 es: Ĵ\n",
      "En ASCCI el 309 es: ĵ\n",
      "En ASCCI el 310 es: Ķ\n",
      "En ASCCI el 311 es: ķ\n",
      "En ASCCI el 312 es: ĸ\n",
      "En ASCCI el 313 es: Ĺ\n",
      "En ASCCI el 314 es: ĺ\n",
      "En ASCCI el 315 es: Ļ\n",
      "En ASCCI el 316 es: ļ\n",
      "En ASCCI el 317 es: Ľ\n",
      "En ASCCI el 318 es: ľ\n",
      "En ASCCI el 319 es: Ŀ\n",
      "En ASCCI el 320 es: ŀ\n",
      "En ASCCI el 321 es: Ł\n",
      "En ASCCI el 322 es: ł\n",
      "En ASCCI el 323 es: Ń\n",
      "En ASCCI el 324 es: ń\n",
      "En ASCCI el 325 es: Ņ\n",
      "En ASCCI el 326 es: ņ\n",
      "En ASCCI el 327 es: Ň\n",
      "En ASCCI el 328 es: ň\n",
      "En ASCCI el 329 es: ŉ\n",
      "En ASCCI el 330 es: Ŋ\n",
      "En ASCCI el 331 es: ŋ\n",
      "En ASCCI el 332 es: Ō\n",
      "En ASCCI el 333 es: ō\n",
      "En ASCCI el 334 es: Ŏ\n",
      "En ASCCI el 335 es: ŏ\n",
      "En ASCCI el 336 es: Ő\n",
      "En ASCCI el 337 es: ő\n",
      "En ASCCI el 338 es: Œ\n",
      "En ASCCI el 339 es: œ\n",
      "En ASCCI el 340 es: Ŕ\n",
      "En ASCCI el 341 es: ŕ\n",
      "En ASCCI el 342 es: Ŗ\n",
      "En ASCCI el 343 es: ŗ\n",
      "En ASCCI el 344 es: Ř\n",
      "En ASCCI el 345 es: ř\n",
      "En ASCCI el 346 es: Ś\n",
      "En ASCCI el 347 es: ś\n",
      "En ASCCI el 348 es: Ŝ\n",
      "En ASCCI el 349 es: ŝ\n",
      "En ASCCI el 350 es: Ş\n",
      "En ASCCI el 351 es: ş\n",
      "En ASCCI el 352 es: Š\n",
      "En ASCCI el 353 es: š\n",
      "En ASCCI el 354 es: Ţ\n",
      "En ASCCI el 355 es: ţ\n",
      "En ASCCI el 356 es: Ť\n",
      "En ASCCI el 357 es: ť\n",
      "En ASCCI el 358 es: Ŧ\n",
      "En ASCCI el 359 es: ŧ\n",
      "En ASCCI el 360 es: Ũ\n",
      "En ASCCI el 361 es: ũ\n",
      "En ASCCI el 362 es: Ū\n",
      "En ASCCI el 363 es: ū\n",
      "En ASCCI el 364 es: Ŭ\n",
      "En ASCCI el 365 es: ŭ\n",
      "En ASCCI el 366 es: Ů\n",
      "En ASCCI el 367 es: ů\n",
      "En ASCCI el 368 es: Ű\n",
      "En ASCCI el 369 es: ű\n",
      "En ASCCI el 370 es: Ų\n",
      "En ASCCI el 371 es: ų\n",
      "En ASCCI el 372 es: Ŵ\n",
      "En ASCCI el 373 es: ŵ\n",
      "En ASCCI el 374 es: Ŷ\n",
      "En ASCCI el 375 es: ŷ\n",
      "En ASCCI el 376 es: Ÿ\n",
      "En ASCCI el 377 es: Ź\n",
      "En ASCCI el 378 es: ź\n",
      "En ASCCI el 379 es: Ż\n",
      "En ASCCI el 380 es: ż\n",
      "En ASCCI el 381 es: Ž\n",
      "En ASCCI el 382 es: ž\n",
      "En ASCCI el 383 es: ſ\n",
      "En ASCCI el 384 es: ƀ\n",
      "En ASCCI el 385 es: Ɓ\n",
      "En ASCCI el 386 es: Ƃ\n",
      "En ASCCI el 387 es: ƃ\n",
      "En ASCCI el 388 es: Ƅ\n",
      "En ASCCI el 389 es: ƅ\n",
      "En ASCCI el 390 es: Ɔ\n",
      "En ASCCI el 391 es: Ƈ\n",
      "En ASCCI el 392 es: ƈ\n",
      "En ASCCI el 393 es: Ɖ\n",
      "En ASCCI el 394 es: Ɗ\n",
      "En ASCCI el 395 es: Ƌ\n",
      "En ASCCI el 396 es: ƌ\n",
      "En ASCCI el 397 es: ƍ\n",
      "En ASCCI el 398 es: Ǝ\n",
      "En ASCCI el 399 es: Ə\n",
      "En ASCCI el 400 es: Ɛ\n",
      "En ASCCI el 401 es: Ƒ\n",
      "En ASCCI el 402 es: ƒ\n",
      "En ASCCI el 403 es: Ɠ\n",
      "En ASCCI el 404 es: Ɣ\n",
      "En ASCCI el 405 es: ƕ\n",
      "En ASCCI el 406 es: Ɩ\n",
      "En ASCCI el 407 es: Ɨ\n",
      "En ASCCI el 408 es: Ƙ\n",
      "En ASCCI el 409 es: ƙ\n",
      "En ASCCI el 410 es: ƚ\n",
      "En ASCCI el 411 es: ƛ\n",
      "En ASCCI el 412 es: Ɯ\n",
      "En ASCCI el 413 es: Ɲ\n",
      "En ASCCI el 414 es: ƞ\n",
      "En ASCCI el 415 es: Ɵ\n",
      "En ASCCI el 416 es: Ơ\n",
      "En ASCCI el 417 es: ơ\n",
      "En ASCCI el 418 es: Ƣ\n",
      "En ASCCI el 419 es: ƣ\n",
      "En ASCCI el 420 es: Ƥ\n",
      "En ASCCI el 421 es: ƥ\n",
      "En ASCCI el 422 es: Ʀ\n",
      "En ASCCI el 423 es: Ƨ\n",
      "En ASCCI el 424 es: ƨ\n",
      "En ASCCI el 425 es: Ʃ\n",
      "En ASCCI el 426 es: ƪ\n",
      "En ASCCI el 427 es: ƫ\n",
      "En ASCCI el 428 es: Ƭ\n",
      "En ASCCI el 429 es: ƭ\n",
      "En ASCCI el 430 es: Ʈ\n",
      "En ASCCI el 431 es: Ư\n",
      "En ASCCI el 432 es: ư\n",
      "En ASCCI el 433 es: Ʊ\n",
      "En ASCCI el 434 es: Ʋ\n",
      "En ASCCI el 435 es: Ƴ\n",
      "En ASCCI el 436 es: ƴ\n",
      "En ASCCI el 437 es: Ƶ\n",
      "En ASCCI el 438 es: ƶ\n",
      "En ASCCI el 439 es: Ʒ\n",
      "En ASCCI el 440 es: Ƹ\n",
      "En ASCCI el 441 es: ƹ\n",
      "En ASCCI el 442 es: ƺ\n",
      "En ASCCI el 443 es: ƻ\n",
      "En ASCCI el 444 es: Ƽ\n",
      "En ASCCI el 445 es: ƽ\n",
      "En ASCCI el 446 es: ƾ\n",
      "En ASCCI el 447 es: ƿ\n",
      "En ASCCI el 448 es: ǀ\n",
      "En ASCCI el 449 es: ǁ\n",
      "En ASCCI el 450 es: ǂ\n",
      "En ASCCI el 451 es: ǃ\n",
      "En ASCCI el 452 es: Ǆ\n",
      "En ASCCI el 453 es: ǅ\n",
      "En ASCCI el 454 es: ǆ\n",
      "En ASCCI el 455 es: Ǉ\n",
      "En ASCCI el 456 es: ǈ\n",
      "En ASCCI el 457 es: ǉ\n",
      "En ASCCI el 458 es: Ǌ\n",
      "En ASCCI el 459 es: ǋ\n",
      "En ASCCI el 460 es: ǌ\n",
      "En ASCCI el 461 es: Ǎ\n",
      "En ASCCI el 462 es: ǎ\n",
      "En ASCCI el 463 es: Ǐ\n",
      "En ASCCI el 464 es: ǐ\n",
      "En ASCCI el 465 es: Ǒ\n",
      "En ASCCI el 466 es: ǒ\n",
      "En ASCCI el 467 es: Ǔ\n",
      "En ASCCI el 468 es: ǔ\n",
      "En ASCCI el 469 es: Ǖ\n",
      "En ASCCI el 470 es: ǖ\n",
      "En ASCCI el 471 es: Ǘ\n",
      "En ASCCI el 472 es: ǘ\n",
      "En ASCCI el 473 es: Ǚ\n",
      "En ASCCI el 474 es: ǚ\n",
      "En ASCCI el 475 es: Ǜ\n",
      "En ASCCI el 476 es: ǜ\n",
      "En ASCCI el 477 es: ǝ\n",
      "En ASCCI el 478 es: Ǟ\n",
      "En ASCCI el 479 es: ǟ\n",
      "En ASCCI el 480 es: Ǡ\n",
      "En ASCCI el 481 es: ǡ\n",
      "En ASCCI el 482 es: Ǣ\n",
      "En ASCCI el 483 es: ǣ\n",
      "En ASCCI el 484 es: Ǥ\n",
      "En ASCCI el 485 es: ǥ\n",
      "En ASCCI el 486 es: Ǧ\n",
      "En ASCCI el 487 es: ǧ\n",
      "En ASCCI el 488 es: Ǩ\n",
      "En ASCCI el 489 es: ǩ\n",
      "En ASCCI el 490 es: Ǫ\n",
      "En ASCCI el 491 es: ǫ\n",
      "En ASCCI el 492 es: Ǭ\n",
      "En ASCCI el 493 es: ǭ\n",
      "En ASCCI el 494 es: Ǯ\n",
      "En ASCCI el 495 es: ǯ\n",
      "En ASCCI el 496 es: ǰ\n",
      "En ASCCI el 497 es: Ǳ\n",
      "En ASCCI el 498 es: ǲ\n",
      "En ASCCI el 499 es: ǳ\n",
      "En ASCCI el 500 es: Ǵ\n",
      "En ASCCI el 501 es: ǵ\n",
      "En ASCCI el 502 es: Ƕ\n",
      "En ASCCI el 503 es: Ƿ\n",
      "En ASCCI el 504 es: Ǹ\n",
      "En ASCCI el 505 es: ǹ\n",
      "En ASCCI el 506 es: Ǻ\n",
      "En ASCCI el 507 es: ǻ\n",
      "En ASCCI el 508 es: Ǽ\n",
      "En ASCCI el 509 es: ǽ\n",
      "En ASCCI el 510 es: Ǿ\n",
      "En ASCCI el 511 es: ǿ\n",
      "En ASCCI el 512 es: Ȁ\n",
      "En ASCCI el 513 es: ȁ\n",
      "En ASCCI el 514 es: Ȃ\n",
      "En ASCCI el 515 es: ȃ\n",
      "En ASCCI el 516 es: Ȅ\n",
      "En ASCCI el 517 es: ȅ\n",
      "En ASCCI el 518 es: Ȇ\n",
      "En ASCCI el 519 es: ȇ\n",
      "En ASCCI el 520 es: Ȉ\n",
      "En ASCCI el 521 es: ȉ\n",
      "En ASCCI el 522 es: Ȋ\n",
      "En ASCCI el 523 es: ȋ\n",
      "En ASCCI el 524 es: Ȍ\n",
      "En ASCCI el 525 es: ȍ\n",
      "En ASCCI el 526 es: Ȏ\n",
      "En ASCCI el 527 es: ȏ\n",
      "En ASCCI el 528 es: Ȑ\n",
      "En ASCCI el 529 es: ȑ\n",
      "En ASCCI el 530 es: Ȓ\n",
      "En ASCCI el 531 es: ȓ\n",
      "En ASCCI el 532 es: Ȕ\n",
      "En ASCCI el 533 es: ȕ\n",
      "En ASCCI el 534 es: Ȗ\n",
      "En ASCCI el 535 es: ȗ\n",
      "En ASCCI el 536 es: Ș\n",
      "En ASCCI el 537 es: ș\n",
      "En ASCCI el 538 es: Ț\n",
      "En ASCCI el 539 es: ț\n",
      "En ASCCI el 540 es: Ȝ\n",
      "En ASCCI el 541 es: ȝ\n",
      "En ASCCI el 542 es: Ȟ\n",
      "En ASCCI el 543 es: ȟ\n",
      "En ASCCI el 544 es: Ƞ\n",
      "En ASCCI el 545 es: ȡ\n",
      "En ASCCI el 546 es: Ȣ\n",
      "En ASCCI el 547 es: ȣ\n",
      "En ASCCI el 548 es: Ȥ\n",
      "En ASCCI el 549 es: ȥ\n",
      "En ASCCI el 550 es: Ȧ\n",
      "En ASCCI el 551 es: ȧ\n",
      "En ASCCI el 552 es: Ȩ\n",
      "En ASCCI el 553 es: ȩ\n",
      "En ASCCI el 554 es: Ȫ\n",
      "En ASCCI el 555 es: ȫ\n",
      "En ASCCI el 556 es: Ȭ\n",
      "En ASCCI el 557 es: ȭ\n",
      "En ASCCI el 558 es: Ȯ\n",
      "En ASCCI el 559 es: ȯ\n",
      "En ASCCI el 560 es: Ȱ\n",
      "En ASCCI el 561 es: ȱ\n",
      "En ASCCI el 562 es: Ȳ\n",
      "En ASCCI el 563 es: ȳ\n",
      "En ASCCI el 564 es: ȴ\n",
      "En ASCCI el 565 es: ȵ\n",
      "En ASCCI el 566 es: ȶ\n",
      "En ASCCI el 567 es: ȷ\n",
      "En ASCCI el 568 es: ȸ\n",
      "En ASCCI el 569 es: ȹ\n",
      "En ASCCI el 570 es: Ⱥ\n",
      "En ASCCI el 571 es: Ȼ\n",
      "En ASCCI el 572 es: ȼ\n",
      "En ASCCI el 573 es: Ƚ\n",
      "En ASCCI el 574 es: Ⱦ\n",
      "En ASCCI el 575 es: ȿ\n",
      "En ASCCI el 576 es: ɀ\n",
      "En ASCCI el 577 es: Ɂ\n",
      "En ASCCI el 578 es: ɂ\n",
      "En ASCCI el 579 es: Ƀ\n",
      "En ASCCI el 580 es: Ʉ\n",
      "En ASCCI el 581 es: Ʌ\n",
      "En ASCCI el 582 es: Ɇ\n",
      "En ASCCI el 583 es: ɇ\n",
      "En ASCCI el 584 es: Ɉ\n",
      "En ASCCI el 585 es: ɉ\n",
      "En ASCCI el 586 es: Ɋ\n",
      "En ASCCI el 587 es: ɋ\n",
      "En ASCCI el 588 es: Ɍ\n",
      "En ASCCI el 589 es: ɍ\n",
      "En ASCCI el 590 es: Ɏ\n",
      "En ASCCI el 591 es: ɏ\n",
      "En ASCCI el 592 es: ɐ\n",
      "En ASCCI el 593 es: ɑ\n",
      "En ASCCI el 594 es: ɒ\n",
      "En ASCCI el 595 es: ɓ\n",
      "En ASCCI el 596 es: ɔ\n",
      "En ASCCI el 597 es: ɕ\n",
      "En ASCCI el 598 es: ɖ\n",
      "En ASCCI el 599 es: ɗ\n",
      "En ASCCI el 600 es: ɘ\n",
      "En ASCCI el 601 es: ə\n",
      "En ASCCI el 602 es: ɚ\n",
      "En ASCCI el 603 es: ɛ\n",
      "En ASCCI el 604 es: ɜ\n",
      "En ASCCI el 605 es: ɝ\n",
      "En ASCCI el 606 es: ɞ\n",
      "En ASCCI el 607 es: ɟ\n",
      "En ASCCI el 608 es: ɠ\n",
      "En ASCCI el 609 es: ɡ\n",
      "En ASCCI el 610 es: ɢ\n",
      "En ASCCI el 611 es: ɣ\n",
      "En ASCCI el 612 es: ɤ\n",
      "En ASCCI el 613 es: ɥ\n",
      "En ASCCI el 614 es: ɦ\n",
      "En ASCCI el 615 es: ɧ\n",
      "En ASCCI el 616 es: ɨ\n",
      "En ASCCI el 617 es: ɩ\n",
      "En ASCCI el 618 es: ɪ\n",
      "En ASCCI el 619 es: ɫ\n",
      "En ASCCI el 620 es: ɬ\n",
      "En ASCCI el 621 es: ɭ\n",
      "En ASCCI el 622 es: ɮ\n",
      "En ASCCI el 623 es: ɯ\n",
      "En ASCCI el 624 es: ɰ\n",
      "En ASCCI el 625 es: ɱ\n",
      "En ASCCI el 626 es: ɲ\n",
      "En ASCCI el 627 es: ɳ\n",
      "En ASCCI el 628 es: ɴ\n",
      "En ASCCI el 629 es: ɵ\n",
      "En ASCCI el 630 es: ɶ\n",
      "En ASCCI el 631 es: ɷ\n",
      "En ASCCI el 632 es: ɸ\n",
      "En ASCCI el 633 es: ɹ\n",
      "En ASCCI el 634 es: ɺ\n",
      "En ASCCI el 635 es: ɻ\n",
      "En ASCCI el 636 es: ɼ\n",
      "En ASCCI el 637 es: ɽ\n",
      "En ASCCI el 638 es: ɾ\n",
      "En ASCCI el 639 es: ɿ\n",
      "En ASCCI el 640 es: ʀ\n",
      "En ASCCI el 641 es: ʁ\n",
      "En ASCCI el 642 es: ʂ\n",
      "En ASCCI el 643 es: ʃ\n",
      "En ASCCI el 644 es: ʄ\n",
      "En ASCCI el 645 es: ʅ\n",
      "En ASCCI el 646 es: ʆ\n",
      "En ASCCI el 647 es: ʇ\n",
      "En ASCCI el 648 es: ʈ\n",
      "En ASCCI el 649 es: ʉ\n",
      "En ASCCI el 650 es: ʊ\n",
      "En ASCCI el 651 es: ʋ\n",
      "En ASCCI el 652 es: ʌ\n",
      "En ASCCI el 653 es: ʍ\n",
      "En ASCCI el 654 es: ʎ\n",
      "En ASCCI el 655 es: ʏ\n",
      "En ASCCI el 656 es: ʐ\n",
      "En ASCCI el 657 es: ʑ\n",
      "En ASCCI el 658 es: ʒ\n",
      "En ASCCI el 659 es: ʓ\n",
      "En ASCCI el 660 es: ʔ\n",
      "En ASCCI el 661 es: ʕ\n",
      "En ASCCI el 662 es: ʖ\n",
      "En ASCCI el 663 es: ʗ\n",
      "En ASCCI el 664 es: ʘ\n",
      "En ASCCI el 665 es: ʙ\n",
      "En ASCCI el 666 es: ʚ\n",
      "En ASCCI el 667 es: ʛ\n",
      "En ASCCI el 668 es: ʜ\n",
      "En ASCCI el 669 es: ʝ\n",
      "En ASCCI el 670 es: ʞ\n",
      "En ASCCI el 671 es: ʟ\n",
      "En ASCCI el 672 es: ʠ\n",
      "En ASCCI el 673 es: ʡ\n",
      "En ASCCI el 674 es: ʢ\n",
      "En ASCCI el 675 es: ʣ\n",
      "En ASCCI el 676 es: ʤ\n",
      "En ASCCI el 677 es: ʥ\n",
      "En ASCCI el 678 es: ʦ\n",
      "En ASCCI el 679 es: ʧ\n",
      "En ASCCI el 680 es: ʨ\n",
      "En ASCCI el 681 es: ʩ\n",
      "En ASCCI el 682 es: ʪ\n",
      "En ASCCI el 683 es: ʫ\n",
      "En ASCCI el 684 es: ʬ\n",
      "En ASCCI el 685 es: ʭ\n",
      "En ASCCI el 686 es: ʮ\n",
      "En ASCCI el 687 es: ʯ\n",
      "En ASCCI el 688 es: ʰ\n",
      "En ASCCI el 689 es: ʱ\n",
      "En ASCCI el 690 es: ʲ\n",
      "En ASCCI el 691 es: ʳ\n",
      "En ASCCI el 692 es: ʴ\n",
      "En ASCCI el 693 es: ʵ\n",
      "En ASCCI el 694 es: ʶ\n",
      "En ASCCI el 695 es: ʷ\n",
      "En ASCCI el 696 es: ʸ\n",
      "En ASCCI el 697 es: ʹ\n",
      "En ASCCI el 698 es: ʺ\n",
      "En ASCCI el 699 es: ʻ\n",
      "En ASCCI el 700 es: ʼ\n",
      "En ASCCI el 701 es: ʽ\n",
      "En ASCCI el 702 es: ʾ\n",
      "En ASCCI el 703 es: ʿ\n",
      "En ASCCI el 704 es: ˀ\n",
      "En ASCCI el 705 es: ˁ\n",
      "En ASCCI el 706 es: ˂\n",
      "En ASCCI el 707 es: ˃\n",
      "En ASCCI el 708 es: ˄\n",
      "En ASCCI el 709 es: ˅\n",
      "En ASCCI el 710 es: ˆ\n",
      "En ASCCI el 711 es: ˇ\n",
      "En ASCCI el 712 es: ˈ\n",
      "En ASCCI el 713 es: ˉ\n",
      "En ASCCI el 714 es: ˊ\n",
      "En ASCCI el 715 es: ˋ\n",
      "En ASCCI el 716 es: ˌ\n",
      "En ASCCI el 717 es: ˍ\n",
      "En ASCCI el 718 es: ˎ\n",
      "En ASCCI el 719 es: ˏ\n",
      "En ASCCI el 720 es: ː\n",
      "En ASCCI el 721 es: ˑ\n",
      "En ASCCI el 722 es: ˒\n",
      "En ASCCI el 723 es: ˓\n",
      "En ASCCI el 724 es: ˔\n",
      "En ASCCI el 725 es: ˕\n",
      "En ASCCI el 726 es: ˖\n",
      "En ASCCI el 727 es: ˗\n",
      "En ASCCI el 728 es: ˘\n",
      "En ASCCI el 729 es: ˙\n",
      "En ASCCI el 730 es: ˚\n",
      "En ASCCI el 731 es: ˛\n",
      "En ASCCI el 732 es: ˜\n",
      "En ASCCI el 733 es: ˝\n",
      "En ASCCI el 734 es: ˞\n",
      "En ASCCI el 735 es: ˟\n",
      "En ASCCI el 736 es: ˠ\n",
      "En ASCCI el 737 es: ˡ\n",
      "En ASCCI el 738 es: ˢ\n",
      "En ASCCI el 739 es: ˣ\n",
      "En ASCCI el 740 es: ˤ\n",
      "En ASCCI el 741 es: ˥\n",
      "En ASCCI el 742 es: ˦\n",
      "En ASCCI el 743 es: ˧\n",
      "En ASCCI el 744 es: ˨\n",
      "En ASCCI el 745 es: ˩\n",
      "En ASCCI el 746 es: ˪\n",
      "En ASCCI el 747 es: ˫\n",
      "En ASCCI el 748 es: ˬ\n",
      "En ASCCI el 749 es: ˭\n",
      "En ASCCI el 750 es: ˮ\n",
      "En ASCCI el 751 es: ˯\n",
      "En ASCCI el 752 es: ˰\n",
      "En ASCCI el 753 es: ˱\n",
      "En ASCCI el 754 es: ˲\n",
      "En ASCCI el 755 es: ˳\n",
      "En ASCCI el 756 es: ˴\n",
      "En ASCCI el 757 es: ˵\n",
      "En ASCCI el 758 es: ˶\n",
      "En ASCCI el 759 es: ˷\n",
      "En ASCCI el 760 es: ˸\n",
      "En ASCCI el 761 es: ˹\n",
      "En ASCCI el 762 es: ˺\n",
      "En ASCCI el 763 es: ˻\n",
      "En ASCCI el 764 es: ˼\n",
      "En ASCCI el 765 es: ˽\n",
      "En ASCCI el 766 es: ˾\n",
      "En ASCCI el 767 es: ˿\n",
      "En ASCCI el 768 es: ̀\n",
      "En ASCCI el 769 es: ́\n",
      "En ASCCI el 770 es: ̂\n",
      "En ASCCI el 771 es: ̃\n",
      "En ASCCI el 772 es: ̄\n",
      "En ASCCI el 773 es: ̅\n",
      "En ASCCI el 774 es: ̆\n",
      "En ASCCI el 775 es: ̇\n",
      "En ASCCI el 776 es: ̈\n",
      "En ASCCI el 777 es: ̉\n",
      "En ASCCI el 778 es: ̊\n",
      "En ASCCI el 779 es: ̋\n",
      "En ASCCI el 780 es: ̌\n",
      "En ASCCI el 781 es: ̍\n",
      "En ASCCI el 782 es: ̎\n",
      "En ASCCI el 783 es: ̏\n",
      "En ASCCI el 784 es: ̐\n",
      "En ASCCI el 785 es: ̑\n",
      "En ASCCI el 786 es: ̒\n",
      "En ASCCI el 787 es: ̓\n",
      "En ASCCI el 788 es: ̔\n",
      "En ASCCI el 789 es: ̕\n",
      "En ASCCI el 790 es: ̖\n",
      "En ASCCI el 791 es: ̗\n",
      "En ASCCI el 792 es: ̘\n",
      "En ASCCI el 793 es: ̙\n",
      "En ASCCI el 794 es: ̚\n",
      "En ASCCI el 795 es: ̛\n",
      "En ASCCI el 796 es: ̜\n",
      "En ASCCI el 797 es: ̝\n",
      "En ASCCI el 798 es: ̞\n",
      "En ASCCI el 799 es: ̟\n",
      "En ASCCI el 800 es: ̠\n",
      "En ASCCI el 801 es: ̡\n",
      "En ASCCI el 802 es: ̢\n",
      "En ASCCI el 803 es: ̣\n",
      "En ASCCI el 804 es: ̤\n",
      "En ASCCI el 805 es: ̥\n",
      "En ASCCI el 806 es: ̦\n",
      "En ASCCI el 807 es: ̧\n",
      "En ASCCI el 808 es: ̨\n",
      "En ASCCI el 809 es: ̩\n",
      "En ASCCI el 810 es: ̪\n",
      "En ASCCI el 811 es: ̫\n",
      "En ASCCI el 812 es: ̬\n",
      "En ASCCI el 813 es: ̭\n",
      "En ASCCI el 814 es: ̮\n",
      "En ASCCI el 815 es: ̯\n",
      "En ASCCI el 816 es: ̰\n",
      "En ASCCI el 817 es: ̱\n",
      "En ASCCI el 818 es: ̲\n",
      "En ASCCI el 819 es: ̳\n",
      "En ASCCI el 820 es: ̴\n",
      "En ASCCI el 821 es: ̵\n",
      "En ASCCI el 822 es: ̶\n",
      "En ASCCI el 823 es: ̷\n",
      "En ASCCI el 824 es: ̸\n",
      "En ASCCI el 825 es: ̹\n",
      "En ASCCI el 826 es: ̺\n",
      "En ASCCI el 827 es: ̻\n",
      "En ASCCI el 828 es: ̼\n",
      "En ASCCI el 829 es: ̽\n",
      "En ASCCI el 830 es: ̾\n",
      "En ASCCI el 831 es: ̿\n",
      "En ASCCI el 832 es: ̀\n",
      "En ASCCI el 833 es: ́\n",
      "En ASCCI el 834 es: ͂\n",
      "En ASCCI el 835 es: ̓\n",
      "En ASCCI el 836 es: ̈́\n",
      "En ASCCI el 837 es: ͅ\n",
      "En ASCCI el 838 es: ͆\n",
      "En ASCCI el 839 es: ͇\n",
      "En ASCCI el 840 es: ͈\n",
      "En ASCCI el 841 es: ͉\n",
      "En ASCCI el 842 es: ͊\n",
      "En ASCCI el 843 es: ͋\n",
      "En ASCCI el 844 es: ͌\n",
      "En ASCCI el 845 es: ͍\n",
      "En ASCCI el 846 es: ͎\n",
      "En ASCCI el 847 es: ͏\n",
      "En ASCCI el 848 es: ͐\n",
      "En ASCCI el 849 es: ͑\n",
      "En ASCCI el 850 es: ͒\n",
      "En ASCCI el 851 es: ͓\n",
      "En ASCCI el 852 es: ͔\n",
      "En ASCCI el 853 es: ͕\n",
      "En ASCCI el 854 es: ͖\n",
      "En ASCCI el 855 es: ͗\n",
      "En ASCCI el 856 es: ͘\n",
      "En ASCCI el 857 es: ͙\n",
      "En ASCCI el 858 es: ͚\n",
      "En ASCCI el 859 es: ͛\n",
      "En ASCCI el 860 es: ͜\n",
      "En ASCCI el 861 es: ͝\n",
      "En ASCCI el 862 es: ͞\n",
      "En ASCCI el 863 es: ͟\n",
      "En ASCCI el 864 es: ͠\n",
      "En ASCCI el 865 es: ͡\n",
      "En ASCCI el 866 es: ͢\n",
      "En ASCCI el 867 es: ͣ\n",
      "En ASCCI el 868 es: ͤ\n",
      "En ASCCI el 869 es: ͥ\n",
      "En ASCCI el 870 es: ͦ\n",
      "En ASCCI el 871 es: ͧ\n",
      "En ASCCI el 872 es: ͨ\n",
      "En ASCCI el 873 es: ͩ\n",
      "En ASCCI el 874 es: ͪ\n",
      "En ASCCI el 875 es: ͫ\n",
      "En ASCCI el 876 es: ͬ\n",
      "En ASCCI el 877 es: ͭ\n",
      "En ASCCI el 878 es: ͮ\n",
      "En ASCCI el 879 es: ͯ\n",
      "En ASCCI el 880 es: Ͱ\n",
      "En ASCCI el 881 es: ͱ\n",
      "En ASCCI el 882 es: Ͳ\n",
      "En ASCCI el 883 es: ͳ\n",
      "En ASCCI el 884 es: ʹ\n",
      "En ASCCI el 885 es: ͵\n",
      "En ASCCI el 886 es: Ͷ\n",
      "En ASCCI el 887 es: ͷ\n",
      "En ASCCI el 888 es: ͸\n",
      "En ASCCI el 889 es: ͹\n",
      "En ASCCI el 890 es: ͺ\n",
      "En ASCCI el 891 es: ͻ\n",
      "En ASCCI el 892 es: ͼ\n",
      "En ASCCI el 893 es: ͽ\n",
      "En ASCCI el 894 es: ;\n",
      "En ASCCI el 895 es: Ϳ\n",
      "En ASCCI el 896 es: ΀\n",
      "En ASCCI el 897 es: ΁\n",
      "En ASCCI el 898 es: ΂\n",
      "En ASCCI el 899 es: ΃\n",
      "En ASCCI el 900 es: ΄\n",
      "En ASCCI el 901 es: ΅\n",
      "En ASCCI el 902 es: Ά\n",
      "En ASCCI el 903 es: ·\n",
      "En ASCCI el 904 es: Έ\n",
      "En ASCCI el 905 es: Ή\n",
      "En ASCCI el 906 es: Ί\n",
      "En ASCCI el 907 es: ΋\n",
      "En ASCCI el 908 es: Ό\n",
      "En ASCCI el 909 es: ΍\n",
      "En ASCCI el 910 es: Ύ\n",
      "En ASCCI el 911 es: Ώ\n",
      "En ASCCI el 912 es: ΐ\n",
      "En ASCCI el 913 es: Α\n",
      "En ASCCI el 914 es: Β\n",
      "En ASCCI el 915 es: Γ\n",
      "En ASCCI el 916 es: Δ\n",
      "En ASCCI el 917 es: Ε\n",
      "En ASCCI el 918 es: Ζ\n",
      "En ASCCI el 919 es: Η\n",
      "En ASCCI el 920 es: Θ\n",
      "En ASCCI el 921 es: Ι\n",
      "En ASCCI el 922 es: Κ\n",
      "En ASCCI el 923 es: Λ\n",
      "En ASCCI el 924 es: Μ\n",
      "En ASCCI el 925 es: Ν\n",
      "En ASCCI el 926 es: Ξ\n",
      "En ASCCI el 927 es: Ο\n",
      "En ASCCI el 928 es: Π\n",
      "En ASCCI el 929 es: Ρ\n",
      "En ASCCI el 930 es: ΢\n",
      "En ASCCI el 931 es: Σ\n",
      "En ASCCI el 932 es: Τ\n",
      "En ASCCI el 933 es: Υ\n",
      "En ASCCI el 934 es: Φ\n",
      "En ASCCI el 935 es: Χ\n",
      "En ASCCI el 936 es: Ψ\n",
      "En ASCCI el 937 es: Ω\n",
      "En ASCCI el 938 es: Ϊ\n",
      "En ASCCI el 939 es: Ϋ\n",
      "En ASCCI el 940 es: ά\n",
      "En ASCCI el 941 es: έ\n",
      "En ASCCI el 942 es: ή\n",
      "En ASCCI el 943 es: ί\n",
      "En ASCCI el 944 es: ΰ\n",
      "En ASCCI el 945 es: α\n",
      "En ASCCI el 946 es: β\n",
      "En ASCCI el 947 es: γ\n",
      "En ASCCI el 948 es: δ\n",
      "En ASCCI el 949 es: ε\n",
      "En ASCCI el 950 es: ζ\n",
      "En ASCCI el 951 es: η\n",
      "En ASCCI el 952 es: θ\n",
      "En ASCCI el 953 es: ι\n",
      "En ASCCI el 954 es: κ\n",
      "En ASCCI el 955 es: λ\n",
      "En ASCCI el 956 es: μ\n",
      "En ASCCI el 957 es: ν\n",
      "En ASCCI el 958 es: ξ\n",
      "En ASCCI el 959 es: ο\n",
      "En ASCCI el 960 es: π\n",
      "En ASCCI el 961 es: ρ\n",
      "En ASCCI el 962 es: ς\n",
      "En ASCCI el 963 es: σ\n",
      "En ASCCI el 964 es: τ\n",
      "En ASCCI el 965 es: υ\n",
      "En ASCCI el 966 es: φ\n",
      "En ASCCI el 967 es: χ\n",
      "En ASCCI el 968 es: ψ\n",
      "En ASCCI el 969 es: ω\n",
      "En ASCCI el 970 es: ϊ\n",
      "En ASCCI el 971 es: ϋ\n",
      "En ASCCI el 972 es: ό\n",
      "En ASCCI el 973 es: ύ\n",
      "En ASCCI el 974 es: ώ\n",
      "En ASCCI el 975 es: Ϗ\n",
      "En ASCCI el 976 es: ϐ\n",
      "En ASCCI el 977 es: ϑ\n",
      "En ASCCI el 978 es: ϒ\n",
      "En ASCCI el 979 es: ϓ\n",
      "En ASCCI el 980 es: ϔ\n",
      "En ASCCI el 981 es: ϕ\n",
      "En ASCCI el 982 es: ϖ\n",
      "En ASCCI el 983 es: ϗ\n",
      "En ASCCI el 984 es: Ϙ\n",
      "En ASCCI el 985 es: ϙ\n",
      "En ASCCI el 986 es: Ϛ\n",
      "En ASCCI el 987 es: ϛ\n",
      "En ASCCI el 988 es: Ϝ\n",
      "En ASCCI el 989 es: ϝ\n",
      "En ASCCI el 990 es: Ϟ\n",
      "En ASCCI el 991 es: ϟ\n",
      "En ASCCI el 992 es: Ϡ\n",
      "En ASCCI el 993 es: ϡ\n",
      "En ASCCI el 994 es: Ϣ\n",
      "En ASCCI el 995 es: ϣ\n",
      "En ASCCI el 996 es: Ϥ\n",
      "En ASCCI el 997 es: ϥ\n",
      "En ASCCI el 998 es: Ϧ\n",
      "En ASCCI el 999 es: ϧ\n",
      "En ASCCI el 1000 es: Ϩ\n",
      "En ASCCI el 1001 es: ϩ\n",
      "En ASCCI el 1002 es: Ϫ\n",
      "En ASCCI el 1003 es: ϫ\n",
      "En ASCCI el 1004 es: Ϭ\n",
      "En ASCCI el 1005 es: ϭ\n",
      "En ASCCI el 1006 es: Ϯ\n",
      "En ASCCI el 1007 es: ϯ\n",
      "En ASCCI el 1008 es: ϰ\n",
      "En ASCCI el 1009 es: ϱ\n",
      "En ASCCI el 1010 es: ϲ\n",
      "En ASCCI el 1011 es: ϳ\n",
      "En ASCCI el 1012 es: ϴ\n",
      "En ASCCI el 1013 es: ϵ\n",
      "En ASCCI el 1014 es: ϶\n",
      "En ASCCI el 1015 es: Ϸ\n",
      "En ASCCI el 1016 es: ϸ\n",
      "En ASCCI el 1017 es: Ϲ\n",
      "En ASCCI el 1018 es: Ϻ\n",
      "En ASCCI el 1019 es: ϻ\n",
      "En ASCCI el 1020 es: ϼ\n",
      "En ASCCI el 1021 es: Ͻ\n",
      "En ASCCI el 1022 es: Ͼ\n",
      "En ASCCI el 1023 es: Ͽ\n",
      "En ASCCI el 1024 es: Ѐ\n",
      "En ASCCI el 1025 es: Ё\n",
      "En ASCCI el 1026 es: Ђ\n",
      "En ASCCI el 1027 es: Ѓ\n",
      "En ASCCI el 1028 es: Є\n",
      "En ASCCI el 1029 es: Ѕ\n",
      "En ASCCI el 1030 es: І\n",
      "En ASCCI el 1031 es: Ї\n",
      "En ASCCI el 1032 es: Ј\n",
      "En ASCCI el 1033 es: Љ\n",
      "En ASCCI el 1034 es: Њ\n",
      "En ASCCI el 1035 es: Ћ\n",
      "En ASCCI el 1036 es: Ќ\n",
      "En ASCCI el 1037 es: Ѝ\n",
      "En ASCCI el 1038 es: Ў\n",
      "En ASCCI el 1039 es: Џ\n",
      "En ASCCI el 1040 es: А\n",
      "En ASCCI el 1041 es: Б\n",
      "En ASCCI el 1042 es: В\n",
      "En ASCCI el 1043 es: Г\n",
      "En ASCCI el 1044 es: Д\n",
      "En ASCCI el 1045 es: Е\n",
      "En ASCCI el 1046 es: Ж\n",
      "En ASCCI el 1047 es: З\n",
      "En ASCCI el 1048 es: И\n",
      "En ASCCI el 1049 es: Й\n",
      "En ASCCI el 1050 es: К\n",
      "En ASCCI el 1051 es: Л\n",
      "En ASCCI el 1052 es: М\n",
      "En ASCCI el 1053 es: Н\n",
      "En ASCCI el 1054 es: О\n",
      "En ASCCI el 1055 es: П\n",
      "En ASCCI el 1056 es: Р\n",
      "En ASCCI el 1057 es: С\n",
      "En ASCCI el 1058 es: Т\n",
      "En ASCCI el 1059 es: У\n",
      "En ASCCI el 1060 es: Ф\n",
      "En ASCCI el 1061 es: Х\n",
      "En ASCCI el 1062 es: Ц\n",
      "En ASCCI el 1063 es: Ч\n",
      "En ASCCI el 1064 es: Ш\n",
      "En ASCCI el 1065 es: Щ\n",
      "En ASCCI el 1066 es: Ъ\n",
      "En ASCCI el 1067 es: Ы\n",
      "En ASCCI el 1068 es: Ь\n",
      "En ASCCI el 1069 es: Э\n",
      "En ASCCI el 1070 es: Ю\n",
      "En ASCCI el 1071 es: Я\n",
      "En ASCCI el 1072 es: а\n",
      "En ASCCI el 1073 es: б\n",
      "En ASCCI el 1074 es: в\n",
      "En ASCCI el 1075 es: г\n",
      "En ASCCI el 1076 es: д\n",
      "En ASCCI el 1077 es: е\n",
      "En ASCCI el 1078 es: ж\n",
      "En ASCCI el 1079 es: з\n",
      "En ASCCI el 1080 es: и\n",
      "En ASCCI el 1081 es: й\n",
      "En ASCCI el 1082 es: к\n",
      "En ASCCI el 1083 es: л\n",
      "En ASCCI el 1084 es: м\n",
      "En ASCCI el 1085 es: н\n",
      "En ASCCI el 1086 es: о\n",
      "En ASCCI el 1087 es: п\n",
      "En ASCCI el 1088 es: р\n",
      "En ASCCI el 1089 es: с\n",
      "En ASCCI el 1090 es: т\n",
      "En ASCCI el 1091 es: у\n",
      "En ASCCI el 1092 es: ф\n",
      "En ASCCI el 1093 es: х\n",
      "En ASCCI el 1094 es: ц\n",
      "En ASCCI el 1095 es: ч\n",
      "En ASCCI el 1096 es: ш\n",
      "En ASCCI el 1097 es: щ\n",
      "En ASCCI el 1098 es: ъ\n",
      "En ASCCI el 1099 es: ы\n",
      "En ASCCI el 1100 es: ь\n",
      "En ASCCI el 1101 es: э\n",
      "En ASCCI el 1102 es: ю\n",
      "En ASCCI el 1103 es: я\n",
      "En ASCCI el 1104 es: ѐ\n",
      "En ASCCI el 1105 es: ё\n",
      "En ASCCI el 1106 es: ђ\n",
      "En ASCCI el 1107 es: ѓ\n",
      "En ASCCI el 1108 es: є\n",
      "En ASCCI el 1109 es: ѕ\n",
      "En ASCCI el 1110 es: і\n",
      "En ASCCI el 1111 es: ї\n",
      "En ASCCI el 1112 es: ј\n",
      "En ASCCI el 1113 es: љ\n",
      "En ASCCI el 1114 es: њ\n",
      "En ASCCI el 1115 es: ћ\n",
      "En ASCCI el 1116 es: ќ\n",
      "En ASCCI el 1117 es: ѝ\n",
      "En ASCCI el 1118 es: ў\n",
      "En ASCCI el 1119 es: џ\n",
      "En ASCCI el 1120 es: Ѡ\n",
      "En ASCCI el 1121 es: ѡ\n",
      "En ASCCI el 1122 es: Ѣ\n",
      "En ASCCI el 1123 es: ѣ\n",
      "En ASCCI el 1124 es: Ѥ\n",
      "En ASCCI el 1125 es: ѥ\n",
      "En ASCCI el 1126 es: Ѧ\n",
      "En ASCCI el 1127 es: ѧ\n",
      "En ASCCI el 1128 es: Ѩ\n",
      "En ASCCI el 1129 es: ѩ\n",
      "En ASCCI el 1130 es: Ѫ\n",
      "En ASCCI el 1131 es: ѫ\n",
      "En ASCCI el 1132 es: Ѭ\n",
      "En ASCCI el 1133 es: ѭ\n",
      "En ASCCI el 1134 es: Ѯ\n",
      "En ASCCI el 1135 es: ѯ\n",
      "En ASCCI el 1136 es: Ѱ\n",
      "En ASCCI el 1137 es: ѱ\n",
      "En ASCCI el 1138 es: Ѳ\n",
      "En ASCCI el 1139 es: ѳ\n",
      "En ASCCI el 1140 es: Ѵ\n",
      "En ASCCI el 1141 es: ѵ\n",
      "En ASCCI el 1142 es: Ѷ\n",
      "En ASCCI el 1143 es: ѷ\n",
      "En ASCCI el 1144 es: Ѹ\n",
      "En ASCCI el 1145 es: ѹ\n",
      "En ASCCI el 1146 es: Ѻ\n",
      "En ASCCI el 1147 es: ѻ\n",
      "En ASCCI el 1148 es: Ѽ\n",
      "En ASCCI el 1149 es: ѽ\n",
      "En ASCCI el 1150 es: Ѿ\n",
      "En ASCCI el 1151 es: ѿ\n",
      "En ASCCI el 1152 es: Ҁ\n",
      "En ASCCI el 1153 es: ҁ\n",
      "En ASCCI el 1154 es: ҂\n",
      "En ASCCI el 1155 es: ҃\n",
      "En ASCCI el 1156 es: ҄\n",
      "En ASCCI el 1157 es: ҅\n",
      "En ASCCI el 1158 es: ҆\n",
      "En ASCCI el 1159 es: ҇\n",
      "En ASCCI el 1160 es: ҈\n",
      "En ASCCI el 1161 es: ҉\n",
      "En ASCCI el 1162 es: Ҋ\n",
      "En ASCCI el 1163 es: ҋ\n",
      "En ASCCI el 1164 es: Ҍ\n",
      "En ASCCI el 1165 es: ҍ\n",
      "En ASCCI el 1166 es: Ҏ\n",
      "En ASCCI el 1167 es: ҏ\n",
      "En ASCCI el 1168 es: Ґ\n",
      "En ASCCI el 1169 es: ґ\n",
      "En ASCCI el 1170 es: Ғ\n",
      "En ASCCI el 1171 es: ғ\n",
      "En ASCCI el 1172 es: Ҕ\n",
      "En ASCCI el 1173 es: ҕ\n",
      "En ASCCI el 1174 es: Җ\n",
      "En ASCCI el 1175 es: җ\n",
      "En ASCCI el 1176 es: Ҙ\n",
      "En ASCCI el 1177 es: ҙ\n",
      "En ASCCI el 1178 es: Қ\n",
      "En ASCCI el 1179 es: қ\n",
      "En ASCCI el 1180 es: Ҝ\n",
      "En ASCCI el 1181 es: ҝ\n",
      "En ASCCI el 1182 es: Ҟ\n",
      "En ASCCI el 1183 es: ҟ\n",
      "En ASCCI el 1184 es: Ҡ\n",
      "En ASCCI el 1185 es: ҡ\n",
      "En ASCCI el 1186 es: Ң\n",
      "En ASCCI el 1187 es: ң\n",
      "En ASCCI el 1188 es: Ҥ\n",
      "En ASCCI el 1189 es: ҥ\n",
      "En ASCCI el 1190 es: Ҧ\n",
      "En ASCCI el 1191 es: ҧ\n",
      "En ASCCI el 1192 es: Ҩ\n",
      "En ASCCI el 1193 es: ҩ\n",
      "En ASCCI el 1194 es: Ҫ\n",
      "En ASCCI el 1195 es: ҫ\n",
      "En ASCCI el 1196 es: Ҭ\n",
      "En ASCCI el 1197 es: ҭ\n",
      "En ASCCI el 1198 es: Ү\n",
      "En ASCCI el 1199 es: ү\n",
      "En ASCCI el 1200 es: Ұ\n",
      "En ASCCI el 1201 es: ұ\n",
      "En ASCCI el 1202 es: Ҳ\n",
      "En ASCCI el 1203 es: ҳ\n",
      "En ASCCI el 1204 es: Ҵ\n",
      "En ASCCI el 1205 es: ҵ\n",
      "En ASCCI el 1206 es: Ҷ\n",
      "En ASCCI el 1207 es: ҷ\n",
      "En ASCCI el 1208 es: Ҹ\n",
      "En ASCCI el 1209 es: ҹ\n",
      "En ASCCI el 1210 es: Һ\n",
      "En ASCCI el 1211 es: һ\n",
      "En ASCCI el 1212 es: Ҽ\n",
      "En ASCCI el 1213 es: ҽ\n",
      "En ASCCI el 1214 es: Ҿ\n",
      "En ASCCI el 1215 es: ҿ\n",
      "En ASCCI el 1216 es: Ӏ\n",
      "En ASCCI el 1217 es: Ӂ\n",
      "En ASCCI el 1218 es: ӂ\n",
      "En ASCCI el 1219 es: Ӄ\n",
      "En ASCCI el 1220 es: ӄ\n",
      "En ASCCI el 1221 es: Ӆ\n",
      "En ASCCI el 1222 es: ӆ\n",
      "En ASCCI el 1223 es: Ӈ\n",
      "En ASCCI el 1224 es: ӈ\n",
      "En ASCCI el 1225 es: Ӊ\n",
      "En ASCCI el 1226 es: ӊ\n",
      "En ASCCI el 1227 es: Ӌ\n",
      "En ASCCI el 1228 es: ӌ\n",
      "En ASCCI el 1229 es: Ӎ\n",
      "En ASCCI el 1230 es: ӎ\n",
      "En ASCCI el 1231 es: ӏ\n",
      "En ASCCI el 1232 es: Ӑ\n",
      "En ASCCI el 1233 es: ӑ\n",
      "En ASCCI el 1234 es: Ӓ\n",
      "En ASCCI el 1235 es: ӓ\n",
      "En ASCCI el 1236 es: Ӕ\n",
      "En ASCCI el 1237 es: ӕ\n",
      "En ASCCI el 1238 es: Ӗ\n",
      "En ASCCI el 1239 es: ӗ\n",
      "En ASCCI el 1240 es: Ә\n",
      "En ASCCI el 1241 es: ә\n",
      "En ASCCI el 1242 es: Ӛ\n",
      "En ASCCI el 1243 es: ӛ\n",
      "En ASCCI el 1244 es: Ӝ\n",
      "En ASCCI el 1245 es: ӝ\n",
      "En ASCCI el 1246 es: Ӟ\n",
      "En ASCCI el 1247 es: ӟ\n",
      "En ASCCI el 1248 es: Ӡ\n",
      "En ASCCI el 1249 es: ӡ\n",
      "En ASCCI el 1250 es: Ӣ\n",
      "En ASCCI el 1251 es: ӣ\n",
      "En ASCCI el 1252 es: Ӥ\n",
      "En ASCCI el 1253 es: ӥ\n",
      "En ASCCI el 1254 es: Ӧ\n",
      "En ASCCI el 1255 es: ӧ\n",
      "En ASCCI el 1256 es: Ө\n",
      "En ASCCI el 1257 es: ө\n",
      "En ASCCI el 1258 es: Ӫ\n",
      "En ASCCI el 1259 es: ӫ\n",
      "En ASCCI el 1260 es: Ӭ\n",
      "En ASCCI el 1261 es: ӭ\n",
      "En ASCCI el 1262 es: Ӯ\n",
      "En ASCCI el 1263 es: ӯ\n",
      "En ASCCI el 1264 es: Ӱ\n",
      "En ASCCI el 1265 es: ӱ\n",
      "En ASCCI el 1266 es: Ӳ\n",
      "En ASCCI el 1267 es: ӳ\n",
      "En ASCCI el 1268 es: Ӵ\n",
      "En ASCCI el 1269 es: ӵ\n",
      "En ASCCI el 1270 es: Ӷ\n",
      "En ASCCI el 1271 es: ӷ\n",
      "En ASCCI el 1272 es: Ӹ\n",
      "En ASCCI el 1273 es: ӹ\n",
      "En ASCCI el 1274 es: Ӻ\n",
      "En ASCCI el 1275 es: ӻ\n",
      "En ASCCI el 1276 es: Ӽ\n",
      "En ASCCI el 1277 es: ӽ\n",
      "En ASCCI el 1278 es: Ӿ\n",
      "En ASCCI el 1279 es: ӿ\n",
      "En ASCCI el 1280 es: Ԁ\n",
      "En ASCCI el 1281 es: ԁ\n",
      "En ASCCI el 1282 es: Ԃ\n",
      "En ASCCI el 1283 es: ԃ\n",
      "En ASCCI el 1284 es: Ԅ\n",
      "En ASCCI el 1285 es: ԅ\n",
      "En ASCCI el 1286 es: Ԇ\n",
      "En ASCCI el 1287 es: ԇ\n",
      "En ASCCI el 1288 es: Ԉ\n",
      "En ASCCI el 1289 es: ԉ\n",
      "En ASCCI el 1290 es: Ԋ\n",
      "En ASCCI el 1291 es: ԋ\n",
      "En ASCCI el 1292 es: Ԍ\n",
      "En ASCCI el 1293 es: ԍ\n",
      "En ASCCI el 1294 es: Ԏ\n",
      "En ASCCI el 1295 es: ԏ\n",
      "En ASCCI el 1296 es: Ԑ\n",
      "En ASCCI el 1297 es: ԑ\n",
      "En ASCCI el 1298 es: Ԓ\n",
      "En ASCCI el 1299 es: ԓ\n",
      "En ASCCI el 1300 es: Ԕ\n",
      "En ASCCI el 1301 es: ԕ\n",
      "En ASCCI el 1302 es: Ԗ\n",
      "En ASCCI el 1303 es: ԗ\n",
      "En ASCCI el 1304 es: Ԙ\n",
      "En ASCCI el 1305 es: ԙ\n",
      "En ASCCI el 1306 es: Ԛ\n",
      "En ASCCI el 1307 es: ԛ\n",
      "En ASCCI el 1308 es: Ԝ\n",
      "En ASCCI el 1309 es: ԝ\n",
      "En ASCCI el 1310 es: Ԟ\n",
      "En ASCCI el 1311 es: ԟ\n",
      "En ASCCI el 1312 es: Ԡ\n",
      "En ASCCI el 1313 es: ԡ\n",
      "En ASCCI el 1314 es: Ԣ\n",
      "En ASCCI el 1315 es: ԣ\n",
      "En ASCCI el 1316 es: Ԥ\n",
      "En ASCCI el 1317 es: ԥ\n",
      "En ASCCI el 1318 es: Ԧ\n",
      "En ASCCI el 1319 es: ԧ\n",
      "En ASCCI el 1320 es: Ԩ\n",
      "En ASCCI el 1321 es: ԩ\n",
      "En ASCCI el 1322 es: Ԫ\n",
      "En ASCCI el 1323 es: ԫ\n",
      "En ASCCI el 1324 es: Ԭ\n",
      "En ASCCI el 1325 es: ԭ\n",
      "En ASCCI el 1326 es: Ԯ\n",
      "En ASCCI el 1327 es: ԯ\n",
      "En ASCCI el 1328 es: ԰\n",
      "En ASCCI el 1329 es: Ա\n",
      "En ASCCI el 1330 es: Բ\n",
      "En ASCCI el 1331 es: Գ\n",
      "En ASCCI el 1332 es: Դ\n",
      "En ASCCI el 1333 es: Ե\n",
      "En ASCCI el 1334 es: Զ\n",
      "En ASCCI el 1335 es: Է\n",
      "En ASCCI el 1336 es: Ը\n",
      "En ASCCI el 1337 es: Թ\n",
      "En ASCCI el 1338 es: Ժ\n",
      "En ASCCI el 1339 es: Ի\n",
      "En ASCCI el 1340 es: Լ\n",
      "En ASCCI el 1341 es: Խ\n",
      "En ASCCI el 1342 es: Ծ\n",
      "En ASCCI el 1343 es: Կ\n",
      "En ASCCI el 1344 es: Հ\n",
      "En ASCCI el 1345 es: Ձ\n",
      "En ASCCI el 1346 es: Ղ\n",
      "En ASCCI el 1347 es: Ճ\n",
      "En ASCCI el 1348 es: Մ\n",
      "En ASCCI el 1349 es: Յ\n",
      "En ASCCI el 1350 es: Ն\n",
      "En ASCCI el 1351 es: Շ\n",
      "En ASCCI el 1352 es: Ո\n",
      "En ASCCI el 1353 es: Չ\n",
      "En ASCCI el 1354 es: Պ\n",
      "En ASCCI el 1355 es: Ջ\n",
      "En ASCCI el 1356 es: Ռ\n",
      "En ASCCI el 1357 es: Ս\n",
      "En ASCCI el 1358 es: Վ\n",
      "En ASCCI el 1359 es: Տ\n",
      "En ASCCI el 1360 es: Ր\n",
      "En ASCCI el 1361 es: Ց\n",
      "En ASCCI el 1362 es: Ւ\n",
      "En ASCCI el 1363 es: Փ\n",
      "En ASCCI el 1364 es: Ք\n",
      "En ASCCI el 1365 es: Օ\n",
      "En ASCCI el 1366 es: Ֆ\n",
      "En ASCCI el 1367 es: ՗\n",
      "En ASCCI el 1368 es: ՘\n",
      "En ASCCI el 1369 es: ՙ\n",
      "En ASCCI el 1370 es: ՚\n",
      "En ASCCI el 1371 es: ՛\n",
      "En ASCCI el 1372 es: ՜\n",
      "En ASCCI el 1373 es: ՝\n",
      "En ASCCI el 1374 es: ՞\n",
      "En ASCCI el 1375 es: ՟\n",
      "En ASCCI el 1376 es: ՠ\n",
      "En ASCCI el 1377 es: ա\n",
      "En ASCCI el 1378 es: բ\n",
      "En ASCCI el 1379 es: գ\n",
      "En ASCCI el 1380 es: դ\n",
      "En ASCCI el 1381 es: ե\n",
      "En ASCCI el 1382 es: զ\n",
      "En ASCCI el 1383 es: է\n",
      "En ASCCI el 1384 es: ը\n",
      "En ASCCI el 1385 es: թ\n",
      "En ASCCI el 1386 es: ժ\n",
      "En ASCCI el 1387 es: ի\n",
      "En ASCCI el 1388 es: լ\n",
      "En ASCCI el 1389 es: խ\n",
      "En ASCCI el 1390 es: ծ\n",
      "En ASCCI el 1391 es: կ\n",
      "En ASCCI el 1392 es: հ\n",
      "En ASCCI el 1393 es: ձ\n",
      "En ASCCI el 1394 es: ղ\n",
      "En ASCCI el 1395 es: ճ\n",
      "En ASCCI el 1396 es: մ\n",
      "En ASCCI el 1397 es: յ\n",
      "En ASCCI el 1398 es: ն\n",
      "En ASCCI el 1399 es: շ\n",
      "En ASCCI el 1400 es: ո\n",
      "En ASCCI el 1401 es: չ\n",
      "En ASCCI el 1402 es: պ\n",
      "En ASCCI el 1403 es: ջ\n",
      "En ASCCI el 1404 es: ռ\n",
      "En ASCCI el 1405 es: ս\n",
      "En ASCCI el 1406 es: վ\n",
      "En ASCCI el 1407 es: տ\n",
      "En ASCCI el 1408 es: ր\n",
      "En ASCCI el 1409 es: ց\n",
      "En ASCCI el 1410 es: ւ\n",
      "En ASCCI el 1411 es: փ\n",
      "En ASCCI el 1412 es: ք\n",
      "En ASCCI el 1413 es: օ\n",
      "En ASCCI el 1414 es: ֆ\n",
      "En ASCCI el 1415 es: և\n",
      "En ASCCI el 1416 es: ֈ\n",
      "En ASCCI el 1417 es: ։\n",
      "En ASCCI el 1418 es: ֊\n",
      "En ASCCI el 1419 es: ֋\n",
      "En ASCCI el 1420 es: ֌\n",
      "En ASCCI el 1421 es: ֍\n",
      "En ASCCI el 1422 es: ֎\n",
      "En ASCCI el 1423 es: ֏\n",
      "En ASCCI el 1424 es: ֐\n",
      "En ASCCI el 1425 es: ֑\n",
      "En ASCCI el 1426 es: ֒\n",
      "En ASCCI el 1427 es: ֓\n",
      "En ASCCI el 1428 es: ֔\n",
      "En ASCCI el 1429 es: ֕\n",
      "En ASCCI el 1430 es: ֖\n",
      "En ASCCI el 1431 es: ֗\n",
      "En ASCCI el 1432 es: ֘\n",
      "En ASCCI el 1433 es: ֙\n",
      "En ASCCI el 1434 es: ֚\n",
      "En ASCCI el 1435 es: ֛\n",
      "En ASCCI el 1436 es: ֜\n",
      "En ASCCI el 1437 es: ֝\n",
      "En ASCCI el 1438 es: ֞\n",
      "En ASCCI el 1439 es: ֟\n",
      "En ASCCI el 1440 es: ֠\n",
      "En ASCCI el 1441 es: ֡\n",
      "En ASCCI el 1442 es: ֢\n",
      "En ASCCI el 1443 es: ֣\n",
      "En ASCCI el 1444 es: ֤\n",
      "En ASCCI el 1445 es: ֥\n",
      "En ASCCI el 1446 es: ֦\n",
      "En ASCCI el 1447 es: ֧\n",
      "En ASCCI el 1448 es: ֨\n",
      "En ASCCI el 1449 es: ֩\n",
      "En ASCCI el 1450 es: ֪\n",
      "En ASCCI el 1451 es: ֫\n",
      "En ASCCI el 1452 es: ֬\n",
      "En ASCCI el 1453 es: ֭\n",
      "En ASCCI el 1454 es: ֮\n",
      "En ASCCI el 1455 es: ֯\n",
      "En ASCCI el 1456 es: ְ\n",
      "En ASCCI el 1457 es: ֱ\n",
      "En ASCCI el 1458 es: ֲ\n",
      "En ASCCI el 1459 es: ֳ\n",
      "En ASCCI el 1460 es: ִ\n",
      "En ASCCI el 1461 es: ֵ\n",
      "En ASCCI el 1462 es: ֶ\n",
      "En ASCCI el 1463 es: ַ\n",
      "En ASCCI el 1464 es: ָ\n",
      "En ASCCI el 1465 es: ֹ\n",
      "En ASCCI el 1466 es: ֺ\n",
      "En ASCCI el 1467 es: ֻ\n",
      "En ASCCI el 1468 es: ּ\n",
      "En ASCCI el 1469 es: ֽ\n",
      "En ASCCI el 1470 es: ־\n",
      "En ASCCI el 1471 es: ֿ\n",
      "En ASCCI el 1472 es: ׀\n",
      "En ASCCI el 1473 es: ׁ\n",
      "En ASCCI el 1474 es: ׂ\n",
      "En ASCCI el 1475 es: ׃\n",
      "En ASCCI el 1476 es: ׄ\n",
      "En ASCCI el 1477 es: ׅ\n",
      "En ASCCI el 1478 es: ׆\n",
      "En ASCCI el 1479 es: ׇ\n",
      "En ASCCI el 1480 es: ׈\n",
      "En ASCCI el 1481 es: ׉\n",
      "En ASCCI el 1482 es: ׊\n",
      "En ASCCI el 1483 es: ׋\n",
      "En ASCCI el 1484 es: ׌\n",
      "En ASCCI el 1485 es: ׍\n",
      "En ASCCI el 1486 es: ׎\n",
      "En ASCCI el 1487 es: ׏\n",
      "En ASCCI el 1488 es: א\n",
      "En ASCCI el 1489 es: ב\n",
      "En ASCCI el 1490 es: ג\n",
      "En ASCCI el 1491 es: ד\n",
      "En ASCCI el 1492 es: ה\n",
      "En ASCCI el 1493 es: ו\n",
      "En ASCCI el 1494 es: ז\n",
      "En ASCCI el 1495 es: ח\n",
      "En ASCCI el 1496 es: ט\n",
      "En ASCCI el 1497 es: י\n",
      "En ASCCI el 1498 es: ך\n",
      "En ASCCI el 1499 es: כ\n",
      "En ASCCI el 1500 es: ל\n",
      "En ASCCI el 1501 es: ם\n",
      "En ASCCI el 1502 es: מ\n",
      "En ASCCI el 1503 es: ן\n",
      "En ASCCI el 1504 es: נ\n",
      "En ASCCI el 1505 es: ס\n",
      "En ASCCI el 1506 es: ע\n",
      "En ASCCI el 1507 es: ף\n",
      "En ASCCI el 1508 es: פ\n",
      "En ASCCI el 1509 es: ץ\n",
      "En ASCCI el 1510 es: צ\n",
      "En ASCCI el 1511 es: ק\n",
      "En ASCCI el 1512 es: ר\n",
      "En ASCCI el 1513 es: ש\n",
      "En ASCCI el 1514 es: ת\n",
      "En ASCCI el 1515 es: ׫\n",
      "En ASCCI el 1516 es: ׬\n",
      "En ASCCI el 1517 es: ׭\n",
      "En ASCCI el 1518 es: ׮\n",
      "En ASCCI el 1519 es: ׯ\n",
      "En ASCCI el 1520 es: װ\n",
      "En ASCCI el 1521 es: ױ\n",
      "En ASCCI el 1522 es: ײ\n",
      "En ASCCI el 1523 es: ׳\n",
      "En ASCCI el 1524 es: ״\n",
      "En ASCCI el 1525 es: ׵\n",
      "En ASCCI el 1526 es: ׶\n",
      "En ASCCI el 1527 es: ׷\n",
      "En ASCCI el 1528 es: ׸\n",
      "En ASCCI el 1529 es: ׹\n",
      "En ASCCI el 1530 es: ׺\n",
      "En ASCCI el 1531 es: ׻\n",
      "En ASCCI el 1532 es: ׼\n",
      "En ASCCI el 1533 es: ׽\n",
      "En ASCCI el 1534 es: ׾\n",
      "En ASCCI el 1535 es: ׿\n",
      "En ASCCI el 1536 es: ؀\n",
      "En ASCCI el 1537 es: ؁\n",
      "En ASCCI el 1538 es: ؂\n",
      "En ASCCI el 1539 es: ؃\n",
      "En ASCCI el 1540 es: ؄\n",
      "En ASCCI el 1541 es: ؅\n",
      "En ASCCI el 1542 es: ؆\n",
      "En ASCCI el 1543 es: ؇\n",
      "En ASCCI el 1544 es: ؈\n",
      "En ASCCI el 1545 es: ؉\n",
      "En ASCCI el 1546 es: ؊\n",
      "En ASCCI el 1547 es: ؋\n",
      "En ASCCI el 1548 es: ،\n",
      "En ASCCI el 1549 es: ؍\n",
      "En ASCCI el 1550 es: ؎\n",
      "En ASCCI el 1551 es: ؏\n",
      "En ASCCI el 1552 es: ؐ\n",
      "En ASCCI el 1553 es: ؑ\n",
      "En ASCCI el 1554 es: ؒ\n",
      "En ASCCI el 1555 es: ؓ\n",
      "En ASCCI el 1556 es: ؔ\n",
      "En ASCCI el 1557 es: ؕ\n",
      "En ASCCI el 1558 es: ؖ\n",
      "En ASCCI el 1559 es: ؗ\n",
      "En ASCCI el 1560 es: ؘ\n",
      "En ASCCI el 1561 es: ؙ\n",
      "En ASCCI el 1562 es: ؚ\n",
      "En ASCCI el 1563 es: ؛\n",
      "En ASCCI el 1564 es: ؜\n",
      "En ASCCI el 1565 es: ؝\n",
      "En ASCCI el 1566 es: ؞\n",
      "En ASCCI el 1567 es: ؟\n",
      "En ASCCI el 1568 es: ؠ\n",
      "En ASCCI el 1569 es: ء\n",
      "En ASCCI el 1570 es: آ\n",
      "En ASCCI el 1571 es: أ\n",
      "En ASCCI el 1572 es: ؤ\n",
      "En ASCCI el 1573 es: إ\n",
      "En ASCCI el 1574 es: ئ\n",
      "En ASCCI el 1575 es: ا\n",
      "En ASCCI el 1576 es: ب\n",
      "En ASCCI el 1577 es: ة\n",
      "En ASCCI el 1578 es: ت\n",
      "En ASCCI el 1579 es: ث\n",
      "En ASCCI el 1580 es: ج\n",
      "En ASCCI el 1581 es: ح\n",
      "En ASCCI el 1582 es: خ\n",
      "En ASCCI el 1583 es: د\n",
      "En ASCCI el 1584 es: ذ\n",
      "En ASCCI el 1585 es: ر\n",
      "En ASCCI el 1586 es: ز\n",
      "En ASCCI el 1587 es: س\n",
      "En ASCCI el 1588 es: ش\n",
      "En ASCCI el 1589 es: ص\n",
      "En ASCCI el 1590 es: ض\n",
      "En ASCCI el 1591 es: ط\n",
      "En ASCCI el 1592 es: ظ\n",
      "En ASCCI el 1593 es: ع\n",
      "En ASCCI el 1594 es: غ\n",
      "En ASCCI el 1595 es: ػ\n",
      "En ASCCI el 1596 es: ؼ\n",
      "En ASCCI el 1597 es: ؽ\n",
      "En ASCCI el 1598 es: ؾ\n",
      "En ASCCI el 1599 es: ؿ\n",
      "En ASCCI el 1600 es: ـ\n",
      "En ASCCI el 1601 es: ف\n",
      "En ASCCI el 1602 es: ق\n",
      "En ASCCI el 1603 es: ك\n",
      "En ASCCI el 1604 es: ل\n",
      "En ASCCI el 1605 es: م\n",
      "En ASCCI el 1606 es: ن\n",
      "En ASCCI el 1607 es: ه\n",
      "En ASCCI el 1608 es: و\n",
      "En ASCCI el 1609 es: ى\n",
      "En ASCCI el 1610 es: ي\n",
      "En ASCCI el 1611 es: ً\n",
      "En ASCCI el 1612 es: ٌ\n",
      "En ASCCI el 1613 es: ٍ\n",
      "En ASCCI el 1614 es: َ\n",
      "En ASCCI el 1615 es: ُ\n",
      "En ASCCI el 1616 es: ِ\n",
      "En ASCCI el 1617 es: ّ\n",
      "En ASCCI el 1618 es: ْ\n",
      "En ASCCI el 1619 es: ٓ\n",
      "En ASCCI el 1620 es: ٔ\n",
      "En ASCCI el 1621 es: ٕ\n",
      "En ASCCI el 1622 es: ٖ\n",
      "En ASCCI el 1623 es: ٗ\n",
      "En ASCCI el 1624 es: ٘\n",
      "En ASCCI el 1625 es: ٙ\n",
      "En ASCCI el 1626 es: ٚ\n",
      "En ASCCI el 1627 es: ٛ\n",
      "En ASCCI el 1628 es: ٜ\n",
      "En ASCCI el 1629 es: ٝ\n",
      "En ASCCI el 1630 es: ٞ\n",
      "En ASCCI el 1631 es: ٟ\n",
      "En ASCCI el 1632 es: ٠\n",
      "En ASCCI el 1633 es: ١\n",
      "En ASCCI el 1634 es: ٢\n",
      "En ASCCI el 1635 es: ٣\n",
      "En ASCCI el 1636 es: ٤\n",
      "En ASCCI el 1637 es: ٥\n",
      "En ASCCI el 1638 es: ٦\n",
      "En ASCCI el 1639 es: ٧\n",
      "En ASCCI el 1640 es: ٨\n",
      "En ASCCI el 1641 es: ٩\n",
      "En ASCCI el 1642 es: ٪\n",
      "En ASCCI el 1643 es: ٫\n",
      "En ASCCI el 1644 es: ٬\n",
      "En ASCCI el 1645 es: ٭\n",
      "En ASCCI el 1646 es: ٮ\n",
      "En ASCCI el 1647 es: ٯ\n",
      "En ASCCI el 1648 es: ٰ\n",
      "En ASCCI el 1649 es: ٱ\n",
      "En ASCCI el 1650 es: ٲ\n",
      "En ASCCI el 1651 es: ٳ\n",
      "En ASCCI el 1652 es: ٴ\n",
      "En ASCCI el 1653 es: ٵ\n",
      "En ASCCI el 1654 es: ٶ\n",
      "En ASCCI el 1655 es: ٷ\n",
      "En ASCCI el 1656 es: ٸ\n",
      "En ASCCI el 1657 es: ٹ\n",
      "En ASCCI el 1658 es: ٺ\n",
      "En ASCCI el 1659 es: ٻ\n",
      "En ASCCI el 1660 es: ټ\n",
      "En ASCCI el 1661 es: ٽ\n",
      "En ASCCI el 1662 es: پ\n",
      "En ASCCI el 1663 es: ٿ\n",
      "En ASCCI el 1664 es: ڀ\n",
      "En ASCCI el 1665 es: ځ\n",
      "En ASCCI el 1666 es: ڂ\n",
      "En ASCCI el 1667 es: ڃ\n",
      "En ASCCI el 1668 es: ڄ\n",
      "En ASCCI el 1669 es: څ\n",
      "En ASCCI el 1670 es: چ\n",
      "En ASCCI el 1671 es: ڇ\n",
      "En ASCCI el 1672 es: ڈ\n",
      "En ASCCI el 1673 es: ډ\n",
      "En ASCCI el 1674 es: ڊ\n",
      "En ASCCI el 1675 es: ڋ\n",
      "En ASCCI el 1676 es: ڌ\n",
      "En ASCCI el 1677 es: ڍ\n",
      "En ASCCI el 1678 es: ڎ\n",
      "En ASCCI el 1679 es: ڏ\n",
      "En ASCCI el 1680 es: ڐ\n",
      "En ASCCI el 1681 es: ڑ\n",
      "En ASCCI el 1682 es: ڒ\n",
      "En ASCCI el 1683 es: ړ\n",
      "En ASCCI el 1684 es: ڔ\n",
      "En ASCCI el 1685 es: ڕ\n",
      "En ASCCI el 1686 es: ږ\n",
      "En ASCCI el 1687 es: ڗ\n",
      "En ASCCI el 1688 es: ژ\n",
      "En ASCCI el 1689 es: ڙ\n",
      "En ASCCI el 1690 es: ښ\n",
      "En ASCCI el 1691 es: ڛ\n",
      "En ASCCI el 1692 es: ڜ\n",
      "En ASCCI el 1693 es: ڝ\n",
      "En ASCCI el 1694 es: ڞ\n",
      "En ASCCI el 1695 es: ڟ\n",
      "En ASCCI el 1696 es: ڠ\n",
      "En ASCCI el 1697 es: ڡ\n"
     ]
    },
    {
     "name": "stdout",
     "output_type": "stream",
     "text": [
      "En ASCCI el 1698 es: ڢ\n",
      "En ASCCI el 1699 es: ڣ\n",
      "En ASCCI el 1700 es: ڤ\n",
      "En ASCCI el 1701 es: ڥ\n",
      "En ASCCI el 1702 es: ڦ\n",
      "En ASCCI el 1703 es: ڧ\n",
      "En ASCCI el 1704 es: ڨ\n",
      "En ASCCI el 1705 es: ک\n",
      "En ASCCI el 1706 es: ڪ\n",
      "En ASCCI el 1707 es: ګ\n",
      "En ASCCI el 1708 es: ڬ\n",
      "En ASCCI el 1709 es: ڭ\n",
      "En ASCCI el 1710 es: ڮ\n",
      "En ASCCI el 1711 es: گ\n",
      "En ASCCI el 1712 es: ڰ\n",
      "En ASCCI el 1713 es: ڱ\n",
      "En ASCCI el 1714 es: ڲ\n",
      "En ASCCI el 1715 es: ڳ\n",
      "En ASCCI el 1716 es: ڴ\n",
      "En ASCCI el 1717 es: ڵ\n",
      "En ASCCI el 1718 es: ڶ\n",
      "En ASCCI el 1719 es: ڷ\n",
      "En ASCCI el 1720 es: ڸ\n",
      "En ASCCI el 1721 es: ڹ\n",
      "En ASCCI el 1722 es: ں\n",
      "En ASCCI el 1723 es: ڻ\n",
      "En ASCCI el 1724 es: ڼ\n",
      "En ASCCI el 1725 es: ڽ\n",
      "En ASCCI el 1726 es: ھ\n",
      "En ASCCI el 1727 es: ڿ\n",
      "En ASCCI el 1728 es: ۀ\n",
      "En ASCCI el 1729 es: ہ\n",
      "En ASCCI el 1730 es: ۂ\n",
      "En ASCCI el 1731 es: ۃ\n",
      "En ASCCI el 1732 es: ۄ\n",
      "En ASCCI el 1733 es: ۅ\n",
      "En ASCCI el 1734 es: ۆ\n",
      "En ASCCI el 1735 es: ۇ\n",
      "En ASCCI el 1736 es: ۈ\n",
      "En ASCCI el 1737 es: ۉ\n",
      "En ASCCI el 1738 es: ۊ\n",
      "En ASCCI el 1739 es: ۋ\n",
      "En ASCCI el 1740 es: ی\n",
      "En ASCCI el 1741 es: ۍ\n",
      "En ASCCI el 1742 es: ێ\n",
      "En ASCCI el 1743 es: ۏ\n",
      "En ASCCI el 1744 es: ې\n",
      "En ASCCI el 1745 es: ۑ\n",
      "En ASCCI el 1746 es: ے\n",
      "En ASCCI el 1747 es: ۓ\n",
      "En ASCCI el 1748 es: ۔\n",
      "En ASCCI el 1749 es: ە\n",
      "En ASCCI el 1750 es: ۖ\n",
      "En ASCCI el 1751 es: ۗ\n",
      "En ASCCI el 1752 es: ۘ\n",
      "En ASCCI el 1753 es: ۙ\n",
      "En ASCCI el 1754 es: ۚ\n",
      "En ASCCI el 1755 es: ۛ\n",
      "En ASCCI el 1756 es: ۜ\n",
      "En ASCCI el 1757 es: ۝\n",
      "En ASCCI el 1758 es: ۞\n",
      "En ASCCI el 1759 es: ۟\n",
      "En ASCCI el 1760 es: ۠\n",
      "En ASCCI el 1761 es: ۡ\n",
      "En ASCCI el 1762 es: ۢ\n",
      "En ASCCI el 1763 es: ۣ\n",
      "En ASCCI el 1764 es: ۤ\n",
      "En ASCCI el 1765 es: ۥ\n",
      "En ASCCI el 1766 es: ۦ\n",
      "En ASCCI el 1767 es: ۧ\n",
      "En ASCCI el 1768 es: ۨ\n",
      "En ASCCI el 1769 es: ۩\n",
      "En ASCCI el 1770 es: ۪\n",
      "En ASCCI el 1771 es: ۫\n",
      "En ASCCI el 1772 es: ۬\n",
      "En ASCCI el 1773 es: ۭ\n",
      "En ASCCI el 1774 es: ۮ\n",
      "En ASCCI el 1775 es: ۯ\n",
      "En ASCCI el 1776 es: ۰\n",
      "En ASCCI el 1777 es: ۱\n",
      "En ASCCI el 1778 es: ۲\n",
      "En ASCCI el 1779 es: ۳\n",
      "En ASCCI el 1780 es: ۴\n",
      "En ASCCI el 1781 es: ۵\n",
      "En ASCCI el 1782 es: ۶\n",
      "En ASCCI el 1783 es: ۷\n",
      "En ASCCI el 1784 es: ۸\n",
      "En ASCCI el 1785 es: ۹\n",
      "En ASCCI el 1786 es: ۺ\n",
      "En ASCCI el 1787 es: ۻ\n",
      "En ASCCI el 1788 es: ۼ\n",
      "En ASCCI el 1789 es: ۽\n",
      "En ASCCI el 1790 es: ۾\n",
      "En ASCCI el 1791 es: ۿ\n",
      "En ASCCI el 1792 es: ܀\n",
      "En ASCCI el 1793 es: ܁\n",
      "En ASCCI el 1794 es: ܂\n",
      "En ASCCI el 1795 es: ܃\n",
      "En ASCCI el 1796 es: ܄\n",
      "En ASCCI el 1797 es: ܅\n",
      "En ASCCI el 1798 es: ܆\n",
      "En ASCCI el 1799 es: ܇\n",
      "En ASCCI el 1800 es: ܈\n",
      "En ASCCI el 1801 es: ܉\n",
      "En ASCCI el 1802 es: ܊\n",
      "En ASCCI el 1803 es: ܋\n",
      "En ASCCI el 1804 es: ܌\n",
      "En ASCCI el 1805 es: ܍\n",
      "En ASCCI el 1806 es: ܎\n",
      "En ASCCI el 1807 es: ܏\n",
      "En ASCCI el 1808 es: ܐ\n",
      "En ASCCI el 1809 es: ܑ\n",
      "En ASCCI el 1810 es: ܒ\n",
      "En ASCCI el 1811 es: ܓ\n",
      "En ASCCI el 1812 es: ܔ\n",
      "En ASCCI el 1813 es: ܕ\n",
      "En ASCCI el 1814 es: ܖ\n",
      "En ASCCI el 1815 es: ܗ\n",
      "En ASCCI el 1816 es: ܘ\n",
      "En ASCCI el 1817 es: ܙ\n",
      "En ASCCI el 1818 es: ܚ\n",
      "En ASCCI el 1819 es: ܛ\n",
      "En ASCCI el 1820 es: ܜ\n",
      "En ASCCI el 1821 es: ܝ\n",
      "En ASCCI el 1822 es: ܞ\n",
      "En ASCCI el 1823 es: ܟ\n",
      "En ASCCI el 1824 es: ܠ\n",
      "En ASCCI el 1825 es: ܡ\n",
      "En ASCCI el 1826 es: ܢ\n",
      "En ASCCI el 1827 es: ܣ\n",
      "En ASCCI el 1828 es: ܤ\n",
      "En ASCCI el 1829 es: ܥ\n",
      "En ASCCI el 1830 es: ܦ\n",
      "En ASCCI el 1831 es: ܧ\n",
      "En ASCCI el 1832 es: ܨ\n",
      "En ASCCI el 1833 es: ܩ\n",
      "En ASCCI el 1834 es: ܪ\n",
      "En ASCCI el 1835 es: ܫ\n",
      "En ASCCI el 1836 es: ܬ\n",
      "En ASCCI el 1837 es: ܭ\n",
      "En ASCCI el 1838 es: ܮ\n",
      "En ASCCI el 1839 es: ܯ\n",
      "En ASCCI el 1840 es: ܰ\n",
      "En ASCCI el 1841 es: ܱ\n",
      "En ASCCI el 1842 es: ܲ\n",
      "En ASCCI el 1843 es: ܳ\n",
      "En ASCCI el 1844 es: ܴ\n",
      "En ASCCI el 1845 es: ܵ\n",
      "En ASCCI el 1846 es: ܶ\n",
      "En ASCCI el 1847 es: ܷ\n",
      "En ASCCI el 1848 es: ܸ\n",
      "En ASCCI el 1849 es: ܹ\n",
      "En ASCCI el 1850 es: ܺ\n",
      "En ASCCI el 1851 es: ܻ\n",
      "En ASCCI el 1852 es: ܼ\n",
      "En ASCCI el 1853 es: ܽ\n",
      "En ASCCI el 1854 es: ܾ\n",
      "En ASCCI el 1855 es: ܿ\n",
      "En ASCCI el 1856 es: ݀\n",
      "En ASCCI el 1857 es: ݁\n",
      "En ASCCI el 1858 es: ݂\n",
      "En ASCCI el 1859 es: ݃\n",
      "En ASCCI el 1860 es: ݄\n",
      "En ASCCI el 1861 es: ݅\n",
      "En ASCCI el 1862 es: ݆\n",
      "En ASCCI el 1863 es: ݇\n",
      "En ASCCI el 1864 es: ݈\n",
      "En ASCCI el 1865 es: ݉\n",
      "En ASCCI el 1866 es: ݊\n",
      "En ASCCI el 1867 es: ݋\n",
      "En ASCCI el 1868 es: ݌\n",
      "En ASCCI el 1869 es: ݍ\n",
      "En ASCCI el 1870 es: ݎ\n",
      "En ASCCI el 1871 es: ݏ\n",
      "En ASCCI el 1872 es: ݐ\n",
      "En ASCCI el 1873 es: ݑ\n",
      "En ASCCI el 1874 es: ݒ\n",
      "En ASCCI el 1875 es: ݓ\n",
      "En ASCCI el 1876 es: ݔ\n",
      "En ASCCI el 1877 es: ݕ\n",
      "En ASCCI el 1878 es: ݖ\n",
      "En ASCCI el 1879 es: ݗ\n",
      "En ASCCI el 1880 es: ݘ\n",
      "En ASCCI el 1881 es: ݙ\n",
      "En ASCCI el 1882 es: ݚ\n",
      "En ASCCI el 1883 es: ݛ\n",
      "En ASCCI el 1884 es: ݜ\n",
      "En ASCCI el 1885 es: ݝ\n",
      "En ASCCI el 1886 es: ݞ\n",
      "En ASCCI el 1887 es: ݟ\n",
      "En ASCCI el 1888 es: ݠ\n",
      "En ASCCI el 1889 es: ݡ\n",
      "En ASCCI el 1890 es: ݢ\n",
      "En ASCCI el 1891 es: ݣ\n",
      "En ASCCI el 1892 es: ݤ\n",
      "En ASCCI el 1893 es: ݥ\n",
      "En ASCCI el 1894 es: ݦ\n",
      "En ASCCI el 1895 es: ݧ\n",
      "En ASCCI el 1896 es: ݨ\n",
      "En ASCCI el 1897 es: ݩ\n",
      "En ASCCI el 1898 es: ݪ\n",
      "En ASCCI el 1899 es: ݫ\n",
      "En ASCCI el 1900 es: ݬ\n",
      "En ASCCI el 1901 es: ݭ\n",
      "En ASCCI el 1902 es: ݮ\n",
      "En ASCCI el 1903 es: ݯ\n",
      "En ASCCI el 1904 es: ݰ\n",
      "En ASCCI el 1905 es: ݱ\n",
      "En ASCCI el 1906 es: ݲ\n",
      "En ASCCI el 1907 es: ݳ\n",
      "En ASCCI el 1908 es: ݴ\n",
      "En ASCCI el 1909 es: ݵ\n",
      "En ASCCI el 1910 es: ݶ\n",
      "En ASCCI el 1911 es: ݷ\n",
      "En ASCCI el 1912 es: ݸ\n",
      "En ASCCI el 1913 es: ݹ\n",
      "En ASCCI el 1914 es: ݺ\n",
      "En ASCCI el 1915 es: ݻ\n",
      "En ASCCI el 1916 es: ݼ\n",
      "En ASCCI el 1917 es: ݽ\n",
      "En ASCCI el 1918 es: ݾ\n",
      "En ASCCI el 1919 es: ݿ\n",
      "En ASCCI el 1920 es: ހ\n",
      "En ASCCI el 1921 es: ށ\n",
      "En ASCCI el 1922 es: ނ\n",
      "En ASCCI el 1923 es: ރ\n",
      "En ASCCI el 1924 es: ބ\n",
      "En ASCCI el 1925 es: ޅ\n",
      "En ASCCI el 1926 es: ކ\n",
      "En ASCCI el 1927 es: އ\n",
      "En ASCCI el 1928 es: ވ\n",
      "En ASCCI el 1929 es: މ\n",
      "En ASCCI el 1930 es: ފ\n",
      "En ASCCI el 1931 es: ދ\n",
      "En ASCCI el 1932 es: ތ\n",
      "En ASCCI el 1933 es: ލ\n",
      "En ASCCI el 1934 es: ގ\n",
      "En ASCCI el 1935 es: ޏ\n",
      "En ASCCI el 1936 es: ސ\n",
      "En ASCCI el 1937 es: ޑ\n",
      "En ASCCI el 1938 es: ޒ\n",
      "En ASCCI el 1939 es: ޓ\n",
      "En ASCCI el 1940 es: ޔ\n",
      "En ASCCI el 1941 es: ޕ\n",
      "En ASCCI el 1942 es: ޖ\n",
      "En ASCCI el 1943 es: ޗ\n",
      "En ASCCI el 1944 es: ޘ\n",
      "En ASCCI el 1945 es: ޙ\n",
      "En ASCCI el 1946 es: ޚ\n",
      "En ASCCI el 1947 es: ޛ\n",
      "En ASCCI el 1948 es: ޜ\n",
      "En ASCCI el 1949 es: ޝ\n",
      "En ASCCI el 1950 es: ޞ\n",
      "En ASCCI el 1951 es: ޟ\n",
      "En ASCCI el 1952 es: ޠ\n",
      "En ASCCI el 1953 es: ޡ\n",
      "En ASCCI el 1954 es: ޢ\n",
      "En ASCCI el 1955 es: ޣ\n",
      "En ASCCI el 1956 es: ޤ\n",
      "En ASCCI el 1957 es: ޥ\n",
      "En ASCCI el 1958 es: ަ\n",
      "En ASCCI el 1959 es: ާ\n",
      "En ASCCI el 1960 es: ި\n",
      "En ASCCI el 1961 es: ީ\n",
      "En ASCCI el 1962 es: ު\n",
      "En ASCCI el 1963 es: ޫ\n",
      "En ASCCI el 1964 es: ެ\n",
      "En ASCCI el 1965 es: ޭ\n",
      "En ASCCI el 1966 es: ޮ\n",
      "En ASCCI el 1967 es: ޯ\n",
      "En ASCCI el 1968 es: ް\n",
      "En ASCCI el 1969 es: ޱ\n",
      "En ASCCI el 1970 es: ޲\n",
      "En ASCCI el 1971 es: ޳\n",
      "En ASCCI el 1972 es: ޴\n",
      "En ASCCI el 1973 es: ޵\n",
      "En ASCCI el 1974 es: ޶\n",
      "En ASCCI el 1975 es: ޷\n",
      "En ASCCI el 1976 es: ޸\n",
      "En ASCCI el 1977 es: ޹\n",
      "En ASCCI el 1978 es: ޺\n",
      "En ASCCI el 1979 es: ޻\n",
      "En ASCCI el 1980 es: ޼\n",
      "En ASCCI el 1981 es: ޽\n",
      "En ASCCI el 1982 es: ޾\n",
      "En ASCCI el 1983 es: ޿\n",
      "En ASCCI el 1984 es: ߀\n",
      "En ASCCI el 1985 es: ߁\n",
      "En ASCCI el 1986 es: ߂\n",
      "En ASCCI el 1987 es: ߃\n",
      "En ASCCI el 1988 es: ߄\n",
      "En ASCCI el 1989 es: ߅\n",
      "En ASCCI el 1990 es: ߆\n",
      "En ASCCI el 1991 es: ߇\n",
      "En ASCCI el 1992 es: ߈\n",
      "En ASCCI el 1993 es: ߉\n",
      "En ASCCI el 1994 es: ߊ\n",
      "En ASCCI el 1995 es: ߋ\n",
      "En ASCCI el 1996 es: ߌ\n",
      "En ASCCI el 1997 es: ߍ\n",
      "En ASCCI el 1998 es: ߎ\n",
      "En ASCCI el 1999 es: ߏ\n",
      "En ASCCI el 2000 es: ߐ\n",
      "En ASCCI el 2001 es: ߑ\n",
      "En ASCCI el 2002 es: ߒ\n",
      "En ASCCI el 2003 es: ߓ\n",
      "En ASCCI el 2004 es: ߔ\n",
      "En ASCCI el 2005 es: ߕ\n",
      "En ASCCI el 2006 es: ߖ\n",
      "En ASCCI el 2007 es: ߗ\n",
      "En ASCCI el 2008 es: ߘ\n",
      "En ASCCI el 2009 es: ߙ\n",
      "En ASCCI el 2010 es: ߚ\n",
      "En ASCCI el 2011 es: ߛ\n",
      "En ASCCI el 2012 es: ߜ\n",
      "En ASCCI el 2013 es: ߝ\n",
      "En ASCCI el 2014 es: ߞ\n",
      "En ASCCI el 2015 es: ߟ\n",
      "En ASCCI el 2016 es: ߠ\n",
      "En ASCCI el 2017 es: ߡ\n",
      "En ASCCI el 2018 es: ߢ\n",
      "En ASCCI el 2019 es: ߣ\n",
      "En ASCCI el 2020 es: ߤ\n",
      "En ASCCI el 2021 es: ߥ\n",
      "En ASCCI el 2022 es: ߦ\n",
      "En ASCCI el 2023 es: ߧ\n",
      "En ASCCI el 2024 es: ߨ\n",
      "En ASCCI el 2025 es: ߩ\n",
      "En ASCCI el 2026 es: ߪ\n",
      "En ASCCI el 2027 es: ߫\n",
      "En ASCCI el 2028 es: ߬\n",
      "En ASCCI el 2029 es: ߭\n",
      "En ASCCI el 2030 es: ߮\n",
      "En ASCCI el 2031 es: ߯\n",
      "En ASCCI el 2032 es: ߰\n",
      "En ASCCI el 2033 es: ߱\n",
      "En ASCCI el 2034 es: ߲\n",
      "En ASCCI el 2035 es: ߳\n",
      "En ASCCI el 2036 es: ߴ\n",
      "En ASCCI el 2037 es: ߵ\n",
      "En ASCCI el 2038 es: ߶\n",
      "En ASCCI el 2039 es: ߷\n",
      "En ASCCI el 2040 es: ߸\n",
      "En ASCCI el 2041 es: ߹\n",
      "En ASCCI el 2042 es: ߺ\n",
      "En ASCCI el 2043 es: ߻\n",
      "En ASCCI el 2044 es: ߼\n",
      "En ASCCI el 2045 es: ߽\n",
      "En ASCCI el 2046 es: ߾\n",
      "En ASCCI el 2047 es: ߿\n",
      "En ASCCI el 2048 es: ࠀ\n",
      "En ASCCI el 2049 es: ࠁ\n",
      "En ASCCI el 2050 es: ࠂ\n",
      "En ASCCI el 2051 es: ࠃ\n",
      "En ASCCI el 2052 es: ࠄ\n",
      "En ASCCI el 2053 es: ࠅ\n",
      "En ASCCI el 2054 es: ࠆ\n",
      "En ASCCI el 2055 es: ࠇ\n",
      "En ASCCI el 2056 es: ࠈ\n",
      "En ASCCI el 2057 es: ࠉ\n",
      "En ASCCI el 2058 es: ࠊ\n",
      "En ASCCI el 2059 es: ࠋ\n",
      "En ASCCI el 2060 es: ࠌ\n",
      "En ASCCI el 2061 es: ࠍ\n",
      "En ASCCI el 2062 es: ࠎ\n",
      "En ASCCI el 2063 es: ࠏ\n",
      "En ASCCI el 2064 es: ࠐ\n",
      "En ASCCI el 2065 es: ࠑ\n",
      "En ASCCI el 2066 es: ࠒ\n",
      "En ASCCI el 2067 es: ࠓ\n",
      "En ASCCI el 2068 es: ࠔ\n",
      "En ASCCI el 2069 es: ࠕ\n",
      "En ASCCI el 2070 es: ࠖ\n",
      "En ASCCI el 2071 es: ࠗ\n",
      "En ASCCI el 2072 es: ࠘\n",
      "En ASCCI el 2073 es: ࠙\n",
      "En ASCCI el 2074 es: ࠚ\n",
      "En ASCCI el 2075 es: ࠛ\n",
      "En ASCCI el 2076 es: ࠜ\n",
      "En ASCCI el 2077 es: ࠝ\n",
      "En ASCCI el 2078 es: ࠞ\n",
      "En ASCCI el 2079 es: ࠟ\n",
      "En ASCCI el 2080 es: ࠠ\n",
      "En ASCCI el 2081 es: ࠡ\n",
      "En ASCCI el 2082 es: ࠢ\n",
      "En ASCCI el 2083 es: ࠣ\n",
      "En ASCCI el 2084 es: ࠤ\n",
      "En ASCCI el 2085 es: ࠥ\n",
      "En ASCCI el 2086 es: ࠦ\n",
      "En ASCCI el 2087 es: ࠧ\n",
      "En ASCCI el 2088 es: ࠨ\n",
      "En ASCCI el 2089 es: ࠩ\n",
      "En ASCCI el 2090 es: ࠪ\n",
      "En ASCCI el 2091 es: ࠫ\n",
      "En ASCCI el 2092 es: ࠬ\n",
      "En ASCCI el 2093 es: ࠭\n",
      "En ASCCI el 2094 es: ࠮\n",
      "En ASCCI el 2095 es: ࠯\n",
      "En ASCCI el 2096 es: ࠰\n",
      "En ASCCI el 2097 es: ࠱\n",
      "En ASCCI el 2098 es: ࠲\n",
      "En ASCCI el 2099 es: ࠳\n",
      "En ASCCI el 2100 es: ࠴\n",
      "En ASCCI el 2101 es: ࠵\n",
      "En ASCCI el 2102 es: ࠶\n",
      "En ASCCI el 2103 es: ࠷\n",
      "En ASCCI el 2104 es: ࠸\n",
      "En ASCCI el 2105 es: ࠹\n",
      "En ASCCI el 2106 es: ࠺\n",
      "En ASCCI el 2107 es: ࠻\n",
      "En ASCCI el 2108 es: ࠼\n",
      "En ASCCI el 2109 es: ࠽\n",
      "En ASCCI el 2110 es: ࠾\n",
      "En ASCCI el 2111 es: ࠿\n",
      "En ASCCI el 2112 es: ࡀ\n",
      "En ASCCI el 2113 es: ࡁ\n",
      "En ASCCI el 2114 es: ࡂ\n",
      "En ASCCI el 2115 es: ࡃ\n",
      "En ASCCI el 2116 es: ࡄ\n",
      "En ASCCI el 2117 es: ࡅ\n",
      "En ASCCI el 2118 es: ࡆ\n",
      "En ASCCI el 2119 es: ࡇ\n",
      "En ASCCI el 2120 es: ࡈ\n",
      "En ASCCI el 2121 es: ࡉ\n",
      "En ASCCI el 2122 es: ࡊ\n",
      "En ASCCI el 2123 es: ࡋ\n",
      "En ASCCI el 2124 es: ࡌ\n",
      "En ASCCI el 2125 es: ࡍ\n",
      "En ASCCI el 2126 es: ࡎ\n",
      "En ASCCI el 2127 es: ࡏ\n",
      "En ASCCI el 2128 es: ࡐ\n",
      "En ASCCI el 2129 es: ࡑ\n",
      "En ASCCI el 2130 es: ࡒ\n",
      "En ASCCI el 2131 es: ࡓ\n",
      "En ASCCI el 2132 es: ࡔ\n",
      "En ASCCI el 2133 es: ࡕ\n",
      "En ASCCI el 2134 es: ࡖ\n",
      "En ASCCI el 2135 es: ࡗ\n",
      "En ASCCI el 2136 es: ࡘ\n",
      "En ASCCI el 2137 es: ࡙\n",
      "En ASCCI el 2138 es: ࡚\n",
      "En ASCCI el 2139 es: ࡛\n",
      "En ASCCI el 2140 es: ࡜\n",
      "En ASCCI el 2141 es: ࡝\n",
      "En ASCCI el 2142 es: ࡞\n",
      "En ASCCI el 2143 es: ࡟\n",
      "En ASCCI el 2144 es: ࡠ\n",
      "En ASCCI el 2145 es: ࡡ\n",
      "En ASCCI el 2146 es: ࡢ\n",
      "En ASCCI el 2147 es: ࡣ\n",
      "En ASCCI el 2148 es: ࡤ\n",
      "En ASCCI el 2149 es: ࡥ\n",
      "En ASCCI el 2150 es: ࡦ\n",
      "En ASCCI el 2151 es: ࡧ\n",
      "En ASCCI el 2152 es: ࡨ\n",
      "En ASCCI el 2153 es: ࡩ\n",
      "En ASCCI el 2154 es: ࡪ\n",
      "En ASCCI el 2155 es: ࡫\n",
      "En ASCCI el 2156 es: ࡬\n",
      "En ASCCI el 2157 es: ࡭\n",
      "En ASCCI el 2158 es: ࡮\n",
      "En ASCCI el 2159 es: ࡯\n",
      "En ASCCI el 2160 es: ࡰ\n",
      "En ASCCI el 2161 es: ࡱ\n",
      "En ASCCI el 2162 es: ࡲ\n",
      "En ASCCI el 2163 es: ࡳ\n",
      "En ASCCI el 2164 es: ࡴ\n",
      "En ASCCI el 2165 es: ࡵ\n",
      "En ASCCI el 2166 es: ࡶ\n",
      "En ASCCI el 2167 es: ࡷ\n",
      "En ASCCI el 2168 es: ࡸ\n",
      "En ASCCI el 2169 es: ࡹ\n",
      "En ASCCI el 2170 es: ࡺ\n",
      "En ASCCI el 2171 es: ࡻ\n",
      "En ASCCI el 2172 es: ࡼ\n",
      "En ASCCI el 2173 es: ࡽ\n",
      "En ASCCI el 2174 es: ࡾ\n",
      "En ASCCI el 2175 es: ࡿ\n",
      "En ASCCI el 2176 es: ࢀ\n",
      "En ASCCI el 2177 es: ࢁ\n",
      "En ASCCI el 2178 es: ࢂ\n",
      "En ASCCI el 2179 es: ࢃ\n",
      "En ASCCI el 2180 es: ࢄ\n",
      "En ASCCI el 2181 es: ࢅ\n",
      "En ASCCI el 2182 es: ࢆ\n",
      "En ASCCI el 2183 es: ࢇ\n",
      "En ASCCI el 2184 es: ࢈\n",
      "En ASCCI el 2185 es: ࢉ\n",
      "En ASCCI el 2186 es: ࢊ\n",
      "En ASCCI el 2187 es: ࢋ\n",
      "En ASCCI el 2188 es: ࢌ\n",
      "En ASCCI el 2189 es: ࢍ\n",
      "En ASCCI el 2190 es: ࢎ\n",
      "En ASCCI el 2191 es: ࢏\n",
      "En ASCCI el 2192 es: ࢐\n",
      "En ASCCI el 2193 es: ࢑\n",
      "En ASCCI el 2194 es: ࢒\n",
      "En ASCCI el 2195 es: ࢓\n",
      "En ASCCI el 2196 es: ࢔\n",
      "En ASCCI el 2197 es: ࢕\n",
      "En ASCCI el 2198 es: ࢖\n",
      "En ASCCI el 2199 es: ࢗ\n",
      "En ASCCI el 2200 es: ࢘\n",
      "En ASCCI el 2201 es: ࢙\n",
      "En ASCCI el 2202 es: ࢚\n",
      "En ASCCI el 2203 es: ࢛\n",
      "En ASCCI el 2204 es: ࢜\n",
      "En ASCCI el 2205 es: ࢝\n",
      "En ASCCI el 2206 es: ࢞\n",
      "En ASCCI el 2207 es: ࢟\n",
      "En ASCCI el 2208 es: ࢠ\n",
      "En ASCCI el 2209 es: ࢡ\n",
      "En ASCCI el 2210 es: ࢢ\n",
      "En ASCCI el 2211 es: ࢣ\n",
      "En ASCCI el 2212 es: ࢤ\n",
      "En ASCCI el 2213 es: ࢥ\n",
      "En ASCCI el 2214 es: ࢦ\n",
      "En ASCCI el 2215 es: ࢧ\n",
      "En ASCCI el 2216 es: ࢨ\n",
      "En ASCCI el 2217 es: ࢩ\n",
      "En ASCCI el 2218 es: ࢪ\n",
      "En ASCCI el 2219 es: ࢫ\n",
      "En ASCCI el 2220 es: ࢬ\n",
      "En ASCCI el 2221 es: ࢭ\n",
      "En ASCCI el 2222 es: ࢮ\n",
      "En ASCCI el 2223 es: ࢯ\n",
      "En ASCCI el 2224 es: ࢰ\n",
      "En ASCCI el 2225 es: ࢱ\n",
      "En ASCCI el 2226 es: ࢲ\n",
      "En ASCCI el 2227 es: ࢳ\n",
      "En ASCCI el 2228 es: ࢴ\n",
      "En ASCCI el 2229 es: ࢵ\n",
      "En ASCCI el 2230 es: ࢶ\n",
      "En ASCCI el 2231 es: ࢷ\n",
      "En ASCCI el 2232 es: ࢸ\n",
      "En ASCCI el 2233 es: ࢹ\n",
      "En ASCCI el 2234 es: ࢺ\n",
      "En ASCCI el 2235 es: ࢻ\n",
      "En ASCCI el 2236 es: ࢼ\n",
      "En ASCCI el 2237 es: ࢽ\n",
      "En ASCCI el 2238 es: ࢾ\n",
      "En ASCCI el 2239 es: ࢿ\n",
      "En ASCCI el 2240 es: ࣀ\n",
      "En ASCCI el 2241 es: ࣁ\n",
      "En ASCCI el 2242 es: ࣂ\n",
      "En ASCCI el 2243 es: ࣃ\n",
      "En ASCCI el 2244 es: ࣄ\n",
      "En ASCCI el 2245 es: ࣅ\n",
      "En ASCCI el 2246 es: ࣆ\n",
      "En ASCCI el 2247 es: ࣇ\n",
      "En ASCCI el 2248 es: ࣈ\n",
      "En ASCCI el 2249 es: ࣉ\n",
      "En ASCCI el 2250 es: ࣊\n",
      "En ASCCI el 2251 es: ࣋\n",
      "En ASCCI el 2252 es: ࣌\n",
      "En ASCCI el 2253 es: ࣍\n",
      "En ASCCI el 2254 es: ࣎\n",
      "En ASCCI el 2255 es: ࣏\n",
      "En ASCCI el 2256 es: ࣐\n",
      "En ASCCI el 2257 es: ࣑\n",
      "En ASCCI el 2258 es: ࣒\n",
      "En ASCCI el 2259 es: ࣓\n",
      "En ASCCI el 2260 es: ࣔ\n",
      "En ASCCI el 2261 es: ࣕ\n",
      "En ASCCI el 2262 es: ࣖ\n",
      "En ASCCI el 2263 es: ࣗ\n",
      "En ASCCI el 2264 es: ࣘ\n",
      "En ASCCI el 2265 es: ࣙ\n",
      "En ASCCI el 2266 es: ࣚ\n",
      "En ASCCI el 2267 es: ࣛ\n",
      "En ASCCI el 2268 es: ࣜ\n",
      "En ASCCI el 2269 es: ࣝ\n",
      "En ASCCI el 2270 es: ࣞ\n",
      "En ASCCI el 2271 es: ࣟ\n",
      "En ASCCI el 2272 es: ࣠\n",
      "En ASCCI el 2273 es: ࣡\n",
      "En ASCCI el 2274 es: ࣢\n",
      "En ASCCI el 2275 es: ࣣ\n",
      "En ASCCI el 2276 es: ࣤ\n",
      "En ASCCI el 2277 es: ࣥ\n",
      "En ASCCI el 2278 es: ࣦ\n",
      "En ASCCI el 2279 es: ࣧ\n",
      "En ASCCI el 2280 es: ࣨ\n",
      "En ASCCI el 2281 es: ࣩ\n",
      "En ASCCI el 2282 es: ࣪\n",
      "En ASCCI el 2283 es: ࣫\n",
      "En ASCCI el 2284 es: ࣬\n",
      "En ASCCI el 2285 es: ࣭\n",
      "En ASCCI el 2286 es: ࣮\n",
      "En ASCCI el 2287 es: ࣯\n",
      "En ASCCI el 2288 es: ࣰ\n",
      "En ASCCI el 2289 es: ࣱ\n",
      "En ASCCI el 2290 es: ࣲ\n",
      "En ASCCI el 2291 es: ࣳ\n",
      "En ASCCI el 2292 es: ࣴ\n",
      "En ASCCI el 2293 es: ࣵ\n",
      "En ASCCI el 2294 es: ࣶ\n",
      "En ASCCI el 2295 es: ࣷ\n",
      "En ASCCI el 2296 es: ࣸ\n",
      "En ASCCI el 2297 es: ࣹ\n",
      "En ASCCI el 2298 es: ࣺ\n",
      "En ASCCI el 2299 es: ࣻ\n",
      "En ASCCI el 2300 es: ࣼ\n",
      "En ASCCI el 2301 es: ࣽ\n",
      "En ASCCI el 2302 es: ࣾ\n",
      "En ASCCI el 2303 es: ࣿ\n",
      "En ASCCI el 2304 es: ऀ\n",
      "En ASCCI el 2305 es: ँ\n",
      "En ASCCI el 2306 es: ं\n",
      "En ASCCI el 2307 es: ः\n",
      "En ASCCI el 2308 es: ऄ\n",
      "En ASCCI el 2309 es: अ\n",
      "En ASCCI el 2310 es: आ\n",
      "En ASCCI el 2311 es: इ\n",
      "En ASCCI el 2312 es: ई\n",
      "En ASCCI el 2313 es: उ\n",
      "En ASCCI el 2314 es: ऊ\n",
      "En ASCCI el 2315 es: ऋ\n",
      "En ASCCI el 2316 es: ऌ\n",
      "En ASCCI el 2317 es: ऍ\n",
      "En ASCCI el 2318 es: ऎ\n",
      "En ASCCI el 2319 es: ए\n",
      "En ASCCI el 2320 es: ऐ\n",
      "En ASCCI el 2321 es: ऑ\n",
      "En ASCCI el 2322 es: ऒ\n",
      "En ASCCI el 2323 es: ओ\n",
      "En ASCCI el 2324 es: औ\n",
      "En ASCCI el 2325 es: क\n",
      "En ASCCI el 2326 es: ख\n",
      "En ASCCI el 2327 es: ग\n",
      "En ASCCI el 2328 es: घ\n",
      "En ASCCI el 2329 es: ङ\n",
      "En ASCCI el 2330 es: च\n",
      "En ASCCI el 2331 es: छ\n",
      "En ASCCI el 2332 es: ज\n",
      "En ASCCI el 2333 es: झ\n",
      "En ASCCI el 2334 es: ञ\n",
      "En ASCCI el 2335 es: ट\n",
      "En ASCCI el 2336 es: ठ\n",
      "En ASCCI el 2337 es: ड\n",
      "En ASCCI el 2338 es: ढ\n",
      "En ASCCI el 2339 es: ण\n",
      "En ASCCI el 2340 es: त\n",
      "En ASCCI el 2341 es: थ\n",
      "En ASCCI el 2342 es: द\n",
      "En ASCCI el 2343 es: ध\n",
      "En ASCCI el 2344 es: न\n",
      "En ASCCI el 2345 es: ऩ\n",
      "En ASCCI el 2346 es: प\n",
      "En ASCCI el 2347 es: फ\n",
      "En ASCCI el 2348 es: ब\n",
      "En ASCCI el 2349 es: भ\n",
      "En ASCCI el 2350 es: म\n",
      "En ASCCI el 2351 es: य\n",
      "En ASCCI el 2352 es: र\n",
      "En ASCCI el 2353 es: ऱ\n",
      "En ASCCI el 2354 es: ल\n",
      "En ASCCI el 2355 es: ळ\n",
      "En ASCCI el 2356 es: ऴ\n",
      "En ASCCI el 2357 es: व\n",
      "En ASCCI el 2358 es: श\n",
      "En ASCCI el 2359 es: ष\n",
      "En ASCCI el 2360 es: स\n",
      "En ASCCI el 2361 es: ह\n",
      "En ASCCI el 2362 es: ऺ\n",
      "En ASCCI el 2363 es: ऻ\n",
      "En ASCCI el 2364 es: ़\n",
      "En ASCCI el 2365 es: ऽ\n",
      "En ASCCI el 2366 es: ा\n",
      "En ASCCI el 2367 es: ि\n",
      "En ASCCI el 2368 es: ी\n",
      "En ASCCI el 2369 es: ु\n",
      "En ASCCI el 2370 es: ू\n",
      "En ASCCI el 2371 es: ृ\n",
      "En ASCCI el 2372 es: ॄ\n",
      "En ASCCI el 2373 es: ॅ\n",
      "En ASCCI el 2374 es: ॆ\n",
      "En ASCCI el 2375 es: े\n",
      "En ASCCI el 2376 es: ै\n",
      "En ASCCI el 2377 es: ॉ\n",
      "En ASCCI el 2378 es: ॊ\n",
      "En ASCCI el 2379 es: ो\n",
      "En ASCCI el 2380 es: ौ\n",
      "En ASCCI el 2381 es: ्\n",
      "En ASCCI el 2382 es: ॎ\n",
      "En ASCCI el 2383 es: ॏ\n",
      "En ASCCI el 2384 es: ॐ\n",
      "En ASCCI el 2385 es: ॑\n",
      "En ASCCI el 2386 es: ॒\n",
      "En ASCCI el 2387 es: ॓\n",
      "En ASCCI el 2388 es: ॔\n",
      "En ASCCI el 2389 es: ॕ\n",
      "En ASCCI el 2390 es: ॖ\n",
      "En ASCCI el 2391 es: ॗ\n",
      "En ASCCI el 2392 es: क़\n",
      "En ASCCI el 2393 es: ख़\n",
      "En ASCCI el 2394 es: ग़\n",
      "En ASCCI el 2395 es: ज़\n",
      "En ASCCI el 2396 es: ड़\n",
      "En ASCCI el 2397 es: ढ़\n",
      "En ASCCI el 2398 es: फ़\n",
      "En ASCCI el 2399 es: य़\n",
      "En ASCCI el 2400 es: ॠ\n",
      "En ASCCI el 2401 es: ॡ\n",
      "En ASCCI el 2402 es: ॢ\n",
      "En ASCCI el 2403 es: ॣ\n",
      "En ASCCI el 2404 es: ।\n",
      "En ASCCI el 2405 es: ॥\n",
      "En ASCCI el 2406 es: ०\n",
      "En ASCCI el 2407 es: १\n",
      "En ASCCI el 2408 es: २\n",
      "En ASCCI el 2409 es: ३\n",
      "En ASCCI el 2410 es: ४\n",
      "En ASCCI el 2411 es: ५\n",
      "En ASCCI el 2412 es: ६\n",
      "En ASCCI el 2413 es: ७\n",
      "En ASCCI el 2414 es: ८\n",
      "En ASCCI el 2415 es: ९\n",
      "En ASCCI el 2416 es: ॰\n",
      "En ASCCI el 2417 es: ॱ\n",
      "En ASCCI el 2418 es: ॲ\n",
      "En ASCCI el 2419 es: ॳ\n",
      "En ASCCI el 2420 es: ॴ\n",
      "En ASCCI el 2421 es: ॵ\n",
      "En ASCCI el 2422 es: ॶ\n",
      "En ASCCI el 2423 es: ॷ\n",
      "En ASCCI el 2424 es: ॸ\n",
      "En ASCCI el 2425 es: ॹ\n",
      "En ASCCI el 2426 es: ॺ\n",
      "En ASCCI el 2427 es: ॻ\n",
      "En ASCCI el 2428 es: ॼ\n",
      "En ASCCI el 2429 es: ॽ\n",
      "En ASCCI el 2430 es: ॾ\n",
      "En ASCCI el 2431 es: ॿ\n",
      "En ASCCI el 2432 es: ঀ\n",
      "En ASCCI el 2433 es: ঁ\n",
      "En ASCCI el 2434 es: ং\n",
      "En ASCCI el 2435 es: ঃ\n",
      "En ASCCI el 2436 es: ঄\n",
      "En ASCCI el 2437 es: অ\n",
      "En ASCCI el 2438 es: আ\n",
      "En ASCCI el 2439 es: ই\n",
      "En ASCCI el 2440 es: ঈ\n",
      "En ASCCI el 2441 es: উ\n",
      "En ASCCI el 2442 es: ঊ\n",
      "En ASCCI el 2443 es: ঋ\n",
      "En ASCCI el 2444 es: ঌ\n",
      "En ASCCI el 2445 es: ঍\n",
      "En ASCCI el 2446 es: ঎\n",
      "En ASCCI el 2447 es: এ\n",
      "En ASCCI el 2448 es: ঐ\n",
      "En ASCCI el 2449 es: ঑\n",
      "En ASCCI el 2450 es: ঒\n",
      "En ASCCI el 2451 es: ও\n",
      "En ASCCI el 2452 es: ঔ\n",
      "En ASCCI el 2453 es: ক\n",
      "En ASCCI el 2454 es: খ\n",
      "En ASCCI el 2455 es: গ\n",
      "En ASCCI el 2456 es: ঘ\n",
      "En ASCCI el 2457 es: ঙ\n",
      "En ASCCI el 2458 es: চ\n",
      "En ASCCI el 2459 es: ছ\n",
      "En ASCCI el 2460 es: জ\n",
      "En ASCCI el 2461 es: ঝ\n",
      "En ASCCI el 2462 es: ঞ\n",
      "En ASCCI el 2463 es: ট\n",
      "En ASCCI el 2464 es: ঠ\n",
      "En ASCCI el 2465 es: ড\n",
      "En ASCCI el 2466 es: ঢ\n",
      "En ASCCI el 2467 es: ণ\n",
      "En ASCCI el 2468 es: ত\n",
      "En ASCCI el 2469 es: থ\n",
      "En ASCCI el 2470 es: দ\n",
      "En ASCCI el 2471 es: ধ\n",
      "En ASCCI el 2472 es: ন\n",
      "En ASCCI el 2473 es: ঩\n",
      "En ASCCI el 2474 es: প\n",
      "En ASCCI el 2475 es: ফ\n",
      "En ASCCI el 2476 es: ব\n",
      "En ASCCI el 2477 es: ভ\n",
      "En ASCCI el 2478 es: ম\n",
      "En ASCCI el 2479 es: য\n",
      "En ASCCI el 2480 es: র\n",
      "En ASCCI el 2481 es: ঱\n",
      "En ASCCI el 2482 es: ল\n",
      "En ASCCI el 2483 es: ঳\n",
      "En ASCCI el 2484 es: ঴\n",
      "En ASCCI el 2485 es: ঵\n",
      "En ASCCI el 2486 es: শ\n",
      "En ASCCI el 2487 es: ষ\n",
      "En ASCCI el 2488 es: স\n",
      "En ASCCI el 2489 es: হ\n",
      "En ASCCI el 2490 es: ঺\n",
      "En ASCCI el 2491 es: ঻\n",
      "En ASCCI el 2492 es: ়\n",
      "En ASCCI el 2493 es: ঽ\n",
      "En ASCCI el 2494 es: া\n",
      "En ASCCI el 2495 es: ি\n",
      "En ASCCI el 2496 es: ী\n",
      "En ASCCI el 2497 es: ু\n",
      "En ASCCI el 2498 es: ূ\n",
      "En ASCCI el 2499 es: ৃ\n",
      "En ASCCI el 2500 es: ৄ\n",
      "En ASCCI el 2501 es: ৅\n",
      "En ASCCI el 2502 es: ৆\n",
      "En ASCCI el 2503 es: ে\n",
      "En ASCCI el 2504 es: ৈ\n",
      "En ASCCI el 2505 es: ৉\n",
      "En ASCCI el 2506 es: ৊\n",
      "En ASCCI el 2507 es: ো\n",
      "En ASCCI el 2508 es: ৌ\n",
      "En ASCCI el 2509 es: ্\n",
      "En ASCCI el 2510 es: ৎ\n",
      "En ASCCI el 2511 es: ৏\n",
      "En ASCCI el 2512 es: ৐\n",
      "En ASCCI el 2513 es: ৑\n",
      "En ASCCI el 2514 es: ৒\n",
      "En ASCCI el 2515 es: ৓\n",
      "En ASCCI el 2516 es: ৔\n",
      "En ASCCI el 2517 es: ৕\n",
      "En ASCCI el 2518 es: ৖\n",
      "En ASCCI el 2519 es: ৗ\n",
      "En ASCCI el 2520 es: ৘\n",
      "En ASCCI el 2521 es: ৙\n",
      "En ASCCI el 2522 es: ৚\n",
      "En ASCCI el 2523 es: ৛\n",
      "En ASCCI el 2524 es: ড়\n",
      "En ASCCI el 2525 es: ঢ়\n",
      "En ASCCI el 2526 es: ৞\n",
      "En ASCCI el 2527 es: য়\n",
      "En ASCCI el 2528 es: ৠ\n",
      "En ASCCI el 2529 es: ৡ\n",
      "En ASCCI el 2530 es: ৢ\n",
      "En ASCCI el 2531 es: ৣ\n",
      "En ASCCI el 2532 es: ৤\n",
      "En ASCCI el 2533 es: ৥\n",
      "En ASCCI el 2534 es: ০\n",
      "En ASCCI el 2535 es: ১\n",
      "En ASCCI el 2536 es: ২\n",
      "En ASCCI el 2537 es: ৩\n",
      "En ASCCI el 2538 es: ৪\n",
      "En ASCCI el 2539 es: ৫\n",
      "En ASCCI el 2540 es: ৬\n",
      "En ASCCI el 2541 es: ৭\n",
      "En ASCCI el 2542 es: ৮\n",
      "En ASCCI el 2543 es: ৯\n",
      "En ASCCI el 2544 es: ৰ\n",
      "En ASCCI el 2545 es: ৱ\n",
      "En ASCCI el 2546 es: ৲\n",
      "En ASCCI el 2547 es: ৳\n",
      "En ASCCI el 2548 es: ৴\n",
      "En ASCCI el 2549 es: ৵\n",
      "En ASCCI el 2550 es: ৶\n",
      "En ASCCI el 2551 es: ৷\n",
      "En ASCCI el 2552 es: ৸\n",
      "En ASCCI el 2553 es: ৹\n",
      "En ASCCI el 2554 es: ৺\n",
      "En ASCCI el 2555 es: ৻\n",
      "En ASCCI el 2556 es: ৼ\n",
      "En ASCCI el 2557 es: ৽\n",
      "En ASCCI el 2558 es: ৾\n",
      "En ASCCI el 2559 es: ৿\n",
      "En ASCCI el 2560 es: ਀\n",
      "En ASCCI el 2561 es: ਁ\n",
      "En ASCCI el 2562 es: ਂ\n",
      "En ASCCI el 2563 es: ਃ\n",
      "En ASCCI el 2564 es: ਄\n",
      "En ASCCI el 2565 es: ਅ\n",
      "En ASCCI el 2566 es: ਆ\n",
      "En ASCCI el 2567 es: ਇ\n",
      "En ASCCI el 2568 es: ਈ\n",
      "En ASCCI el 2569 es: ਉ\n",
      "En ASCCI el 2570 es: ਊ\n",
      "En ASCCI el 2571 es: ਋\n",
      "En ASCCI el 2572 es: ਌\n",
      "En ASCCI el 2573 es: ਍\n",
      "En ASCCI el 2574 es: ਎\n",
      "En ASCCI el 2575 es: ਏ\n",
      "En ASCCI el 2576 es: ਐ\n",
      "En ASCCI el 2577 es: ਑\n",
      "En ASCCI el 2578 es: ਒\n",
      "En ASCCI el 2579 es: ਓ\n",
      "En ASCCI el 2580 es: ਔ\n",
      "En ASCCI el 2581 es: ਕ\n",
      "En ASCCI el 2582 es: ਖ\n",
      "En ASCCI el 2583 es: ਗ\n",
      "En ASCCI el 2584 es: ਘ\n",
      "En ASCCI el 2585 es: ਙ\n",
      "En ASCCI el 2586 es: ਚ\n",
      "En ASCCI el 2587 es: ਛ\n",
      "En ASCCI el 2588 es: ਜ\n",
      "En ASCCI el 2589 es: ਝ\n",
      "En ASCCI el 2590 es: ਞ\n",
      "En ASCCI el 2591 es: ਟ\n",
      "En ASCCI el 2592 es: ਠ\n",
      "En ASCCI el 2593 es: ਡ\n",
      "En ASCCI el 2594 es: ਢ\n",
      "En ASCCI el 2595 es: ਣ\n",
      "En ASCCI el 2596 es: ਤ\n",
      "En ASCCI el 2597 es: ਥ\n",
      "En ASCCI el 2598 es: ਦ\n",
      "En ASCCI el 2599 es: ਧ\n",
      "En ASCCI el 2600 es: ਨ\n",
      "En ASCCI el 2601 es: ਩\n",
      "En ASCCI el 2602 es: ਪ\n",
      "En ASCCI el 2603 es: ਫ\n",
      "En ASCCI el 2604 es: ਬ\n",
      "En ASCCI el 2605 es: ਭ\n",
      "En ASCCI el 2606 es: ਮ\n",
      "En ASCCI el 2607 es: ਯ\n",
      "En ASCCI el 2608 es: ਰ\n",
      "En ASCCI el 2609 es: ਱\n",
      "En ASCCI el 2610 es: ਲ\n",
      "En ASCCI el 2611 es: ਲ਼\n",
      "En ASCCI el 2612 es: ਴\n",
      "En ASCCI el 2613 es: ਵ\n",
      "En ASCCI el 2614 es: ਸ਼\n",
      "En ASCCI el 2615 es: ਷\n",
      "En ASCCI el 2616 es: ਸ\n",
      "En ASCCI el 2617 es: ਹ\n",
      "En ASCCI el 2618 es: ਺\n",
      "En ASCCI el 2619 es: ਻\n",
      "En ASCCI el 2620 es: ਼\n",
      "En ASCCI el 2621 es: ਽\n",
      "En ASCCI el 2622 es: ਾ\n",
      "En ASCCI el 2623 es: ਿ\n",
      "En ASCCI el 2624 es: ੀ\n",
      "En ASCCI el 2625 es: ੁ\n",
      "En ASCCI el 2626 es: ੂ\n",
      "En ASCCI el 2627 es: ੃\n",
      "En ASCCI el 2628 es: ੄\n",
      "En ASCCI el 2629 es: ੅\n",
      "En ASCCI el 2630 es: ੆\n",
      "En ASCCI el 2631 es: ੇ\n",
      "En ASCCI el 2632 es: ੈ\n",
      "En ASCCI el 2633 es: ੉\n",
      "En ASCCI el 2634 es: ੊\n",
      "En ASCCI el 2635 es: ੋ\n",
      "En ASCCI el 2636 es: ੌ\n",
      "En ASCCI el 2637 es: ੍\n",
      "En ASCCI el 2638 es: ੎\n",
      "En ASCCI el 2639 es: ੏\n",
      "En ASCCI el 2640 es: ੐\n",
      "En ASCCI el 2641 es: ੑ\n",
      "En ASCCI el 2642 es: ੒\n",
      "En ASCCI el 2643 es: ੓\n",
      "En ASCCI el 2644 es: ੔\n",
      "En ASCCI el 2645 es: ੕\n",
      "En ASCCI el 2646 es: ੖\n",
      "En ASCCI el 2647 es: ੗\n",
      "En ASCCI el 2648 es: ੘\n",
      "En ASCCI el 2649 es: ਖ਼\n",
      "En ASCCI el 2650 es: ਗ਼\n",
      "En ASCCI el 2651 es: ਜ਼\n",
      "En ASCCI el 2652 es: ੜ\n",
      "En ASCCI el 2653 es: ੝\n",
      "En ASCCI el 2654 es: ਫ਼\n",
      "En ASCCI el 2655 es: ੟\n",
      "En ASCCI el 2656 es: ੠\n",
      "En ASCCI el 2657 es: ੡\n",
      "En ASCCI el 2658 es: ੢\n",
      "En ASCCI el 2659 es: ੣\n",
      "En ASCCI el 2660 es: ੤\n",
      "En ASCCI el 2661 es: ੥\n",
      "En ASCCI el 2662 es: ੦\n",
      "En ASCCI el 2663 es: ੧\n",
      "En ASCCI el 2664 es: ੨\n",
      "En ASCCI el 2665 es: ੩\n",
      "En ASCCI el 2666 es: ੪\n",
      "En ASCCI el 2667 es: ੫\n",
      "En ASCCI el 2668 es: ੬\n",
      "En ASCCI el 2669 es: ੭\n",
      "En ASCCI el 2670 es: ੮\n",
      "En ASCCI el 2671 es: ੯\n",
      "En ASCCI el 2672 es: ੰ\n",
      "En ASCCI el 2673 es: ੱ\n",
      "En ASCCI el 2674 es: ੲ\n",
      "En ASCCI el 2675 es: ੳ\n",
      "En ASCCI el 2676 es: ੴ\n",
      "En ASCCI el 2677 es: ੵ\n",
      "En ASCCI el 2678 es: ੶\n",
      "En ASCCI el 2679 es: ੷\n",
      "En ASCCI el 2680 es: ੸\n",
      "En ASCCI el 2681 es: ੹\n",
      "En ASCCI el 2682 es: ੺\n",
      "En ASCCI el 2683 es: ੻\n",
      "En ASCCI el 2684 es: ੼\n",
      "En ASCCI el 2685 es: ੽\n",
      "En ASCCI el 2686 es: ੾\n",
      "En ASCCI el 2687 es: ੿\n",
      "En ASCCI el 2688 es: ઀\n",
      "En ASCCI el 2689 es: ઁ\n",
      "En ASCCI el 2690 es: ં\n",
      "En ASCCI el 2691 es: ઃ\n",
      "En ASCCI el 2692 es: ઄\n",
      "En ASCCI el 2693 es: અ\n",
      "En ASCCI el 2694 es: આ\n",
      "En ASCCI el 2695 es: ઇ\n",
      "En ASCCI el 2696 es: ઈ\n",
      "En ASCCI el 2697 es: ઉ\n",
      "En ASCCI el 2698 es: ઊ\n",
      "En ASCCI el 2699 es: ઋ\n",
      "En ASCCI el 2700 es: ઌ\n",
      "En ASCCI el 2701 es: ઍ\n",
      "En ASCCI el 2702 es: ઎\n",
      "En ASCCI el 2703 es: એ\n",
      "En ASCCI el 2704 es: ઐ\n",
      "En ASCCI el 2705 es: ઑ\n",
      "En ASCCI el 2706 es: ઒\n",
      "En ASCCI el 2707 es: ઓ\n",
      "En ASCCI el 2708 es: ઔ\n",
      "En ASCCI el 2709 es: ક\n",
      "En ASCCI el 2710 es: ખ\n",
      "En ASCCI el 2711 es: ગ\n",
      "En ASCCI el 2712 es: ઘ\n",
      "En ASCCI el 2713 es: ઙ\n",
      "En ASCCI el 2714 es: ચ\n",
      "En ASCCI el 2715 es: છ\n",
      "En ASCCI el 2716 es: જ\n",
      "En ASCCI el 2717 es: ઝ\n",
      "En ASCCI el 2718 es: ઞ\n",
      "En ASCCI el 2719 es: ટ\n",
      "En ASCCI el 2720 es: ઠ\n",
      "En ASCCI el 2721 es: ડ\n",
      "En ASCCI el 2722 es: ઢ\n",
      "En ASCCI el 2723 es: ણ\n",
      "En ASCCI el 2724 es: ત\n",
      "En ASCCI el 2725 es: થ\n",
      "En ASCCI el 2726 es: દ\n",
      "En ASCCI el 2727 es: ધ\n",
      "En ASCCI el 2728 es: ન\n",
      "En ASCCI el 2729 es: ઩\n",
      "En ASCCI el 2730 es: પ\n",
      "En ASCCI el 2731 es: ફ\n",
      "En ASCCI el 2732 es: બ\n",
      "En ASCCI el 2733 es: ભ\n",
      "En ASCCI el 2734 es: મ\n",
      "En ASCCI el 2735 es: ય\n",
      "En ASCCI el 2736 es: ર\n",
      "En ASCCI el 2737 es: ઱\n",
      "En ASCCI el 2738 es: લ\n",
      "En ASCCI el 2739 es: ળ\n",
      "En ASCCI el 2740 es: ઴\n",
      "En ASCCI el 2741 es: વ\n",
      "En ASCCI el 2742 es: શ\n",
      "En ASCCI el 2743 es: ષ\n",
      "En ASCCI el 2744 es: સ\n",
      "En ASCCI el 2745 es: હ\n",
      "En ASCCI el 2746 es: ઺\n",
      "En ASCCI el 2747 es: ઻\n",
      "En ASCCI el 2748 es: ઼\n",
      "En ASCCI el 2749 es: ઽ\n",
      "En ASCCI el 2750 es: ા\n",
      "En ASCCI el 2751 es: િ\n",
      "En ASCCI el 2752 es: ી\n",
      "En ASCCI el 2753 es: ુ\n",
      "En ASCCI el 2754 es: ૂ\n",
      "En ASCCI el 2755 es: ૃ\n",
      "En ASCCI el 2756 es: ૄ\n",
      "En ASCCI el 2757 es: ૅ\n",
      "En ASCCI el 2758 es: ૆\n",
      "En ASCCI el 2759 es: ે\n",
      "En ASCCI el 2760 es: ૈ\n",
      "En ASCCI el 2761 es: ૉ\n",
      "En ASCCI el 2762 es: ૊\n",
      "En ASCCI el 2763 es: ો\n",
      "En ASCCI el 2764 es: ૌ\n",
      "En ASCCI el 2765 es: ્\n",
      "En ASCCI el 2766 es: ૎\n",
      "En ASCCI el 2767 es: ૏\n",
      "En ASCCI el 2768 es: ૐ\n",
      "En ASCCI el 2769 es: ૑\n",
      "En ASCCI el 2770 es: ૒\n",
      "En ASCCI el 2771 es: ૓\n",
      "En ASCCI el 2772 es: ૔\n",
      "En ASCCI el 2773 es: ૕\n",
      "En ASCCI el 2774 es: ૖\n",
      "En ASCCI el 2775 es: ૗\n",
      "En ASCCI el 2776 es: ૘\n",
      "En ASCCI el 2777 es: ૙\n",
      "En ASCCI el 2778 es: ૚\n",
      "En ASCCI el 2779 es: ૛\n",
      "En ASCCI el 2780 es: ૜\n",
      "En ASCCI el 2781 es: ૝\n",
      "En ASCCI el 2782 es: ૞\n",
      "En ASCCI el 2783 es: ૟\n",
      "En ASCCI el 2784 es: ૠ\n",
      "En ASCCI el 2785 es: ૡ\n",
      "En ASCCI el 2786 es: ૢ\n",
      "En ASCCI el 2787 es: ૣ\n",
      "En ASCCI el 2788 es: ૤\n",
      "En ASCCI el 2789 es: ૥\n",
      "En ASCCI el 2790 es: ૦\n",
      "En ASCCI el 2791 es: ૧\n",
      "En ASCCI el 2792 es: ૨\n",
      "En ASCCI el 2793 es: ૩\n",
      "En ASCCI el 2794 es: ૪\n",
      "En ASCCI el 2795 es: ૫\n",
      "En ASCCI el 2796 es: ૬\n",
      "En ASCCI el 2797 es: ૭\n",
      "En ASCCI el 2798 es: ૮\n",
      "En ASCCI el 2799 es: ૯\n",
      "En ASCCI el 2800 es: ૰\n",
      "En ASCCI el 2801 es: ૱\n",
      "En ASCCI el 2802 es: ૲\n",
      "En ASCCI el 2803 es: ૳\n",
      "En ASCCI el 2804 es: ૴\n",
      "En ASCCI el 2805 es: ૵\n",
      "En ASCCI el 2806 es: ૶\n",
      "En ASCCI el 2807 es: ૷\n",
      "En ASCCI el 2808 es: ૸\n",
      "En ASCCI el 2809 es: ૹ\n",
      "En ASCCI el 2810 es: ૺ\n",
      "En ASCCI el 2811 es: ૻ\n",
      "En ASCCI el 2812 es: ૼ\n",
      "En ASCCI el 2813 es: ૽\n",
      "En ASCCI el 2814 es: ૾\n",
      "En ASCCI el 2815 es: ૿\n",
      "En ASCCI el 2816 es: ଀\n",
      "En ASCCI el 2817 es: ଁ\n",
      "En ASCCI el 2818 es: ଂ\n",
      "En ASCCI el 2819 es: ଃ\n",
      "En ASCCI el 2820 es: ଄\n",
      "En ASCCI el 2821 es: ଅ\n",
      "En ASCCI el 2822 es: ଆ\n",
      "En ASCCI el 2823 es: ଇ\n",
      "En ASCCI el 2824 es: ଈ\n",
      "En ASCCI el 2825 es: ଉ\n",
      "En ASCCI el 2826 es: ଊ\n",
      "En ASCCI el 2827 es: ଋ\n",
      "En ASCCI el 2828 es: ଌ\n",
      "En ASCCI el 2829 es: ଍\n",
      "En ASCCI el 2830 es: ଎\n",
      "En ASCCI el 2831 es: ଏ\n",
      "En ASCCI el 2832 es: ଐ\n",
      "En ASCCI el 2833 es: ଑\n",
      "En ASCCI el 2834 es: ଒\n",
      "En ASCCI el 2835 es: ଓ\n",
      "En ASCCI el 2836 es: ଔ\n",
      "En ASCCI el 2837 es: କ\n",
      "En ASCCI el 2838 es: ଖ\n",
      "En ASCCI el 2839 es: ଗ\n",
      "En ASCCI el 2840 es: ଘ\n",
      "En ASCCI el 2841 es: ଙ\n",
      "En ASCCI el 2842 es: ଚ\n",
      "En ASCCI el 2843 es: ଛ\n",
      "En ASCCI el 2844 es: ଜ\n",
      "En ASCCI el 2845 es: ଝ\n",
      "En ASCCI el 2846 es: ଞ\n",
      "En ASCCI el 2847 es: ଟ\n",
      "En ASCCI el 2848 es: ଠ\n",
      "En ASCCI el 2849 es: ଡ\n",
      "En ASCCI el 2850 es: ଢ\n",
      "En ASCCI el 2851 es: ଣ\n",
      "En ASCCI el 2852 es: ତ\n",
      "En ASCCI el 2853 es: ଥ\n",
      "En ASCCI el 2854 es: ଦ\n",
      "En ASCCI el 2855 es: ଧ\n",
      "En ASCCI el 2856 es: ନ\n",
      "En ASCCI el 2857 es: ଩\n",
      "En ASCCI el 2858 es: ପ\n",
      "En ASCCI el 2859 es: ଫ\n",
      "En ASCCI el 2860 es: ବ\n",
      "En ASCCI el 2861 es: ଭ\n",
      "En ASCCI el 2862 es: ମ\n",
      "En ASCCI el 2863 es: ଯ\n",
      "En ASCCI el 2864 es: ର\n",
      "En ASCCI el 2865 es: ଱\n",
      "En ASCCI el 2866 es: ଲ\n",
      "En ASCCI el 2867 es: ଳ\n",
      "En ASCCI el 2868 es: ଴\n",
      "En ASCCI el 2869 es: ଵ\n",
      "En ASCCI el 2870 es: ଶ\n",
      "En ASCCI el 2871 es: ଷ\n",
      "En ASCCI el 2872 es: ସ\n",
      "En ASCCI el 2873 es: ହ\n",
      "En ASCCI el 2874 es: ଺\n",
      "En ASCCI el 2875 es: ଻\n",
      "En ASCCI el 2876 es: ଼\n",
      "En ASCCI el 2877 es: ଽ\n",
      "En ASCCI el 2878 es: ା\n",
      "En ASCCI el 2879 es: ି\n",
      "En ASCCI el 2880 es: ୀ\n",
      "En ASCCI el 2881 es: ୁ\n",
      "En ASCCI el 2882 es: ୂ\n",
      "En ASCCI el 2883 es: ୃ\n",
      "En ASCCI el 2884 es: ୄ\n",
      "En ASCCI el 2885 es: ୅\n",
      "En ASCCI el 2886 es: ୆\n",
      "En ASCCI el 2887 es: େ\n",
      "En ASCCI el 2888 es: ୈ\n",
      "En ASCCI el 2889 es: ୉\n",
      "En ASCCI el 2890 es: ୊\n",
      "En ASCCI el 2891 es: ୋ\n",
      "En ASCCI el 2892 es: ୌ\n",
      "En ASCCI el 2893 es: ୍\n",
      "En ASCCI el 2894 es: ୎\n",
      "En ASCCI el 2895 es: ୏\n",
      "En ASCCI el 2896 es: ୐\n",
      "En ASCCI el 2897 es: ୑\n",
      "En ASCCI el 2898 es: ୒\n",
      "En ASCCI el 2899 es: ୓\n",
      "En ASCCI el 2900 es: ୔\n",
      "En ASCCI el 2901 es: ୕\n",
      "En ASCCI el 2902 es: ୖ\n",
      "En ASCCI el 2903 es: ୗ\n",
      "En ASCCI el 2904 es: ୘\n",
      "En ASCCI el 2905 es: ୙\n",
      "En ASCCI el 2906 es: ୚\n",
      "En ASCCI el 2907 es: ୛\n",
      "En ASCCI el 2908 es: ଡ଼\n",
      "En ASCCI el 2909 es: ଢ଼\n",
      "En ASCCI el 2910 es: ୞\n",
      "En ASCCI el 2911 es: ୟ\n",
      "En ASCCI el 2912 es: ୠ\n",
      "En ASCCI el 2913 es: ୡ\n",
      "En ASCCI el 2914 es: ୢ\n",
      "En ASCCI el 2915 es: ୣ\n",
      "En ASCCI el 2916 es: ୤\n",
      "En ASCCI el 2917 es: ୥\n",
      "En ASCCI el 2918 es: ୦\n",
      "En ASCCI el 2919 es: ୧\n",
      "En ASCCI el 2920 es: ୨\n",
      "En ASCCI el 2921 es: ୩\n",
      "En ASCCI el 2922 es: ୪\n",
      "En ASCCI el 2923 es: ୫\n",
      "En ASCCI el 2924 es: ୬\n",
      "En ASCCI el 2925 es: ୭\n",
      "En ASCCI el 2926 es: ୮\n",
      "En ASCCI el 2927 es: ୯\n",
      "En ASCCI el 2928 es: ୰\n",
      "En ASCCI el 2929 es: ୱ\n",
      "En ASCCI el 2930 es: ୲\n",
      "En ASCCI el 2931 es: ୳\n",
      "En ASCCI el 2932 es: ୴\n",
      "En ASCCI el 2933 es: ୵\n",
      "En ASCCI el 2934 es: ୶\n",
      "En ASCCI el 2935 es: ୷\n",
      "En ASCCI el 2936 es: ୸\n",
      "En ASCCI el 2937 es: ୹\n",
      "En ASCCI el 2938 es: ୺\n",
      "En ASCCI el 2939 es: ୻\n",
      "En ASCCI el 2940 es: ୼\n",
      "En ASCCI el 2941 es: ୽\n",
      "En ASCCI el 2942 es: ୾\n",
      "En ASCCI el 2943 es: ୿\n",
      "En ASCCI el 2944 es: ஀\n",
      "En ASCCI el 2945 es: ஁\n",
      "En ASCCI el 2946 es: ஂ\n",
      "En ASCCI el 2947 es: ஃ\n",
      "En ASCCI el 2948 es: ஄\n",
      "En ASCCI el 2949 es: அ\n",
      "En ASCCI el 2950 es: ஆ\n",
      "En ASCCI el 2951 es: இ\n",
      "En ASCCI el 2952 es: ஈ\n",
      "En ASCCI el 2953 es: உ\n",
      "En ASCCI el 2954 es: ஊ\n",
      "En ASCCI el 2955 es: ஋\n",
      "En ASCCI el 2956 es: ஌\n",
      "En ASCCI el 2957 es: ஍\n",
      "En ASCCI el 2958 es: எ\n",
      "En ASCCI el 2959 es: ஏ\n",
      "En ASCCI el 2960 es: ஐ\n",
      "En ASCCI el 2961 es: ஑\n",
      "En ASCCI el 2962 es: ஒ\n",
      "En ASCCI el 2963 es: ஓ\n",
      "En ASCCI el 2964 es: ஔ\n",
      "En ASCCI el 2965 es: க\n",
      "En ASCCI el 2966 es: ஖\n",
      "En ASCCI el 2967 es: ஗\n",
      "En ASCCI el 2968 es: ஘\n",
      "En ASCCI el 2969 es: ங\n",
      "En ASCCI el 2970 es: ச\n",
      "En ASCCI el 2971 es: ஛\n",
      "En ASCCI el 2972 es: ஜ\n",
      "En ASCCI el 2973 es: ஝\n",
      "En ASCCI el 2974 es: ஞ\n",
      "En ASCCI el 2975 es: ட\n",
      "En ASCCI el 2976 es: ஠\n",
      "En ASCCI el 2977 es: ஡\n",
      "En ASCCI el 2978 es: ஢\n",
      "En ASCCI el 2979 es: ண\n",
      "En ASCCI el 2980 es: த\n",
      "En ASCCI el 2981 es: ஥\n",
      "En ASCCI el 2982 es: ஦\n",
      "En ASCCI el 2983 es: ஧\n",
      "En ASCCI el 2984 es: ந\n",
      "En ASCCI el 2985 es: ன\n",
      "En ASCCI el 2986 es: ப\n",
      "En ASCCI el 2987 es: ஫\n",
      "En ASCCI el 2988 es: ஬\n",
      "En ASCCI el 2989 es: ஭\n",
      "En ASCCI el 2990 es: ம\n",
      "En ASCCI el 2991 es: ய\n",
      "En ASCCI el 2992 es: ர\n",
      "En ASCCI el 2993 es: ற\n",
      "En ASCCI el 2994 es: ல\n",
      "En ASCCI el 2995 es: ள\n",
      "En ASCCI el 2996 es: ழ\n",
      "En ASCCI el 2997 es: வ\n",
      "En ASCCI el 2998 es: ஶ\n",
      "En ASCCI el 2999 es: ஷ\n",
      "En ASCCI el 3000 es: ஸ\n",
      "En ASCCI el 3001 es: ஹ\n",
      "En ASCCI el 3002 es: ஺\n",
      "En ASCCI el 3003 es: ஻\n",
      "En ASCCI el 3004 es: ஼\n",
      "En ASCCI el 3005 es: ஽\n",
      "En ASCCI el 3006 es: ா\n",
      "En ASCCI el 3007 es: ி\n",
      "En ASCCI el 3008 es: ீ\n",
      "En ASCCI el 3009 es: ு\n",
      "En ASCCI el 3010 es: ூ\n",
      "En ASCCI el 3011 es: ௃\n",
      "En ASCCI el 3012 es: ௄\n",
      "En ASCCI el 3013 es: ௅\n",
      "En ASCCI el 3014 es: ெ\n",
      "En ASCCI el 3015 es: ே\n",
      "En ASCCI el 3016 es: ை\n",
      "En ASCCI el 3017 es: ௉\n",
      "En ASCCI el 3018 es: ொ\n",
      "En ASCCI el 3019 es: ோ\n",
      "En ASCCI el 3020 es: ௌ\n",
      "En ASCCI el 3021 es: ்\n",
      "En ASCCI el 3022 es: ௎\n",
      "En ASCCI el 3023 es: ௏\n",
      "En ASCCI el 3024 es: ௐ\n",
      "En ASCCI el 3025 es: ௑\n",
      "En ASCCI el 3026 es: ௒\n",
      "En ASCCI el 3027 es: ௓\n",
      "En ASCCI el 3028 es: ௔\n",
      "En ASCCI el 3029 es: ௕\n",
      "En ASCCI el 3030 es: ௖\n",
      "En ASCCI el 3031 es: ௗ\n",
      "En ASCCI el 3032 es: ௘\n",
      "En ASCCI el 3033 es: ௙\n",
      "En ASCCI el 3034 es: ௚\n",
      "En ASCCI el 3035 es: ௛\n",
      "En ASCCI el 3036 es: ௜\n",
      "En ASCCI el 3037 es: ௝\n",
      "En ASCCI el 3038 es: ௞\n",
      "En ASCCI el 3039 es: ௟\n",
      "En ASCCI el 3040 es: ௠\n",
      "En ASCCI el 3041 es: ௡\n",
      "En ASCCI el 3042 es: ௢\n",
      "En ASCCI el 3043 es: ௣\n",
      "En ASCCI el 3044 es: ௤\n",
      "En ASCCI el 3045 es: ௥\n",
      "En ASCCI el 3046 es: ௦\n",
      "En ASCCI el 3047 es: ௧\n",
      "En ASCCI el 3048 es: ௨\n",
      "En ASCCI el 3049 es: ௩\n",
      "En ASCCI el 3050 es: ௪\n",
      "En ASCCI el 3051 es: ௫\n",
      "En ASCCI el 3052 es: ௬\n",
      "En ASCCI el 3053 es: ௭\n",
      "En ASCCI el 3054 es: ௮\n",
      "En ASCCI el 3055 es: ௯\n",
      "En ASCCI el 3056 es: ௰\n",
      "En ASCCI el 3057 es: ௱\n",
      "En ASCCI el 3058 es: ௲\n",
      "En ASCCI el 3059 es: ௳\n",
      "En ASCCI el 3060 es: ௴\n",
      "En ASCCI el 3061 es: ௵\n",
      "En ASCCI el 3062 es: ௶\n",
      "En ASCCI el 3063 es: ௷\n",
      "En ASCCI el 3064 es: ௸\n",
      "En ASCCI el 3065 es: ௹\n",
      "En ASCCI el 3066 es: ௺\n",
      "En ASCCI el 3067 es: ௻\n",
      "En ASCCI el 3068 es: ௼\n",
      "En ASCCI el 3069 es: ௽\n",
      "En ASCCI el 3070 es: ௾\n",
      "En ASCCI el 3071 es: ௿\n",
      "En ASCCI el 3072 es: ఀ\n",
      "En ASCCI el 3073 es: ఁ\n",
      "En ASCCI el 3074 es: ం\n",
      "En ASCCI el 3075 es: ః\n",
      "En ASCCI el 3076 es: ఄ\n",
      "En ASCCI el 3077 es: అ\n",
      "En ASCCI el 3078 es: ఆ\n",
      "En ASCCI el 3079 es: ఇ\n",
      "En ASCCI el 3080 es: ఈ\n",
      "En ASCCI el 3081 es: ఉ\n",
      "En ASCCI el 3082 es: ఊ\n",
      "En ASCCI el 3083 es: ఋ\n",
      "En ASCCI el 3084 es: ఌ\n",
      "En ASCCI el 3085 es: ఍\n",
      "En ASCCI el 3086 es: ఎ\n",
      "En ASCCI el 3087 es: ఏ\n",
      "En ASCCI el 3088 es: ఐ\n",
      "En ASCCI el 3089 es: ఑\n",
      "En ASCCI el 3090 es: ఒ\n",
      "En ASCCI el 3091 es: ఓ\n",
      "En ASCCI el 3092 es: ఔ\n",
      "En ASCCI el 3093 es: క\n",
      "En ASCCI el 3094 es: ఖ\n",
      "En ASCCI el 3095 es: గ\n",
      "En ASCCI el 3096 es: ఘ\n",
      "En ASCCI el 3097 es: ఙ\n",
      "En ASCCI el 3098 es: చ\n",
      "En ASCCI el 3099 es: ఛ\n",
      "En ASCCI el 3100 es: జ\n",
      "En ASCCI el 3101 es: ఝ\n",
      "En ASCCI el 3102 es: ఞ\n",
      "En ASCCI el 3103 es: ట\n",
      "En ASCCI el 3104 es: ఠ\n",
      "En ASCCI el 3105 es: డ\n",
      "En ASCCI el 3106 es: ఢ\n",
      "En ASCCI el 3107 es: ణ\n",
      "En ASCCI el 3108 es: త\n",
      "En ASCCI el 3109 es: థ\n",
      "En ASCCI el 3110 es: ద\n",
      "En ASCCI el 3111 es: ధ\n",
      "En ASCCI el 3112 es: న\n",
      "En ASCCI el 3113 es: ఩\n",
      "En ASCCI el 3114 es: ప\n",
      "En ASCCI el 3115 es: ఫ\n",
      "En ASCCI el 3116 es: బ\n",
      "En ASCCI el 3117 es: భ\n",
      "En ASCCI el 3118 es: మ\n",
      "En ASCCI el 3119 es: య\n",
      "En ASCCI el 3120 es: ర\n",
      "En ASCCI el 3121 es: ఱ\n",
      "En ASCCI el 3122 es: ల\n",
      "En ASCCI el 3123 es: ళ\n",
      "En ASCCI el 3124 es: ఴ\n",
      "En ASCCI el 3125 es: వ\n",
      "En ASCCI el 3126 es: శ\n",
      "En ASCCI el 3127 es: ష\n",
      "En ASCCI el 3128 es: స\n",
      "En ASCCI el 3129 es: హ\n",
      "En ASCCI el 3130 es: ఺\n",
      "En ASCCI el 3131 es: ఻\n",
      "En ASCCI el 3132 es: ఼\n",
      "En ASCCI el 3133 es: ఽ\n",
      "En ASCCI el 3134 es: ా\n",
      "En ASCCI el 3135 es: ి\n",
      "En ASCCI el 3136 es: ీ\n",
      "En ASCCI el 3137 es: ు\n",
      "En ASCCI el 3138 es: ూ\n",
      "En ASCCI el 3139 es: ృ\n",
      "En ASCCI el 3140 es: ౄ\n",
      "En ASCCI el 3141 es: ౅\n",
      "En ASCCI el 3142 es: ె\n",
      "En ASCCI el 3143 es: ే\n",
      "En ASCCI el 3144 es: ై\n",
      "En ASCCI el 3145 es: ౉\n",
      "En ASCCI el 3146 es: ొ\n",
      "En ASCCI el 3147 es: ో\n",
      "En ASCCI el 3148 es: ౌ\n",
      "En ASCCI el 3149 es: ్\n",
      "En ASCCI el 3150 es: ౎\n",
      "En ASCCI el 3151 es: ౏\n",
      "En ASCCI el 3152 es: ౐\n",
      "En ASCCI el 3153 es: ౑\n",
      "En ASCCI el 3154 es: ౒\n",
      "En ASCCI el 3155 es: ౓\n",
      "En ASCCI el 3156 es: ౔\n",
      "En ASCCI el 3157 es: ౕ\n",
      "En ASCCI el 3158 es: ౖ\n",
      "En ASCCI el 3159 es: ౗\n",
      "En ASCCI el 3160 es: ౘ\n",
      "En ASCCI el 3161 es: ౙ\n",
      "En ASCCI el 3162 es: ౚ\n",
      "En ASCCI el 3163 es: ౛\n",
      "En ASCCI el 3164 es: ౜\n",
      "En ASCCI el 3165 es: ౝ\n",
      "En ASCCI el 3166 es: ౞\n",
      "En ASCCI el 3167 es: ౟\n",
      "En ASCCI el 3168 es: ౠ\n",
      "En ASCCI el 3169 es: ౡ\n",
      "En ASCCI el 3170 es: ౢ\n",
      "En ASCCI el 3171 es: ౣ\n",
      "En ASCCI el 3172 es: ౤\n",
      "En ASCCI el 3173 es: ౥\n",
      "En ASCCI el 3174 es: ౦\n",
      "En ASCCI el 3175 es: ౧\n",
      "En ASCCI el 3176 es: ౨\n",
      "En ASCCI el 3177 es: ౩\n",
      "En ASCCI el 3178 es: ౪\n",
      "En ASCCI el 3179 es: ౫\n",
      "En ASCCI el 3180 es: ౬\n",
      "En ASCCI el 3181 es: ౭\n",
      "En ASCCI el 3182 es: ౮\n",
      "En ASCCI el 3183 es: ౯\n",
      "En ASCCI el 3184 es: ౰\n",
      "En ASCCI el 3185 es: ౱\n",
      "En ASCCI el 3186 es: ౲\n",
      "En ASCCI el 3187 es: ౳\n",
      "En ASCCI el 3188 es: ౴\n",
      "En ASCCI el 3189 es: ౵\n",
      "En ASCCI el 3190 es: ౶\n",
      "En ASCCI el 3191 es: ౷\n",
      "En ASCCI el 3192 es: ౸\n",
      "En ASCCI el 3193 es: ౹\n",
      "En ASCCI el 3194 es: ౺\n",
      "En ASCCI el 3195 es: ౻\n",
      "En ASCCI el 3196 es: ౼\n",
      "En ASCCI el 3197 es: ౽\n"
     ]
    },
    {
     "name": "stdout",
     "output_type": "stream",
     "text": [
      "En ASCCI el 3198 es: ౾\n",
      "En ASCCI el 3199 es: ౿\n",
      "En ASCCI el 3200 es: ಀ\n",
      "En ASCCI el 3201 es: ಁ\n",
      "En ASCCI el 3202 es: ಂ\n",
      "En ASCCI el 3203 es: ಃ\n",
      "En ASCCI el 3204 es: ಄\n",
      "En ASCCI el 3205 es: ಅ\n",
      "En ASCCI el 3206 es: ಆ\n",
      "En ASCCI el 3207 es: ಇ\n",
      "En ASCCI el 3208 es: ಈ\n",
      "En ASCCI el 3209 es: ಉ\n",
      "En ASCCI el 3210 es: ಊ\n",
      "En ASCCI el 3211 es: ಋ\n",
      "En ASCCI el 3212 es: ಌ\n",
      "En ASCCI el 3213 es: ಍\n",
      "En ASCCI el 3214 es: ಎ\n",
      "En ASCCI el 3215 es: ಏ\n",
      "En ASCCI el 3216 es: ಐ\n",
      "En ASCCI el 3217 es: ಑\n",
      "En ASCCI el 3218 es: ಒ\n",
      "En ASCCI el 3219 es: ಓ\n",
      "En ASCCI el 3220 es: ಔ\n",
      "En ASCCI el 3221 es: ಕ\n",
      "En ASCCI el 3222 es: ಖ\n",
      "En ASCCI el 3223 es: ಗ\n",
      "En ASCCI el 3224 es: ಘ\n",
      "En ASCCI el 3225 es: ಙ\n",
      "En ASCCI el 3226 es: ಚ\n",
      "En ASCCI el 3227 es: ಛ\n",
      "En ASCCI el 3228 es: ಜ\n",
      "En ASCCI el 3229 es: ಝ\n",
      "En ASCCI el 3230 es: ಞ\n",
      "En ASCCI el 3231 es: ಟ\n",
      "En ASCCI el 3232 es: ಠ\n",
      "En ASCCI el 3233 es: ಡ\n",
      "En ASCCI el 3234 es: ಢ\n",
      "En ASCCI el 3235 es: ಣ\n",
      "En ASCCI el 3236 es: ತ\n",
      "En ASCCI el 3237 es: ಥ\n",
      "En ASCCI el 3238 es: ದ\n",
      "En ASCCI el 3239 es: ಧ\n",
      "En ASCCI el 3240 es: ನ\n",
      "En ASCCI el 3241 es: ಩\n",
      "En ASCCI el 3242 es: ಪ\n",
      "En ASCCI el 3243 es: ಫ\n",
      "En ASCCI el 3244 es: ಬ\n",
      "En ASCCI el 3245 es: ಭ\n",
      "En ASCCI el 3246 es: ಮ\n",
      "En ASCCI el 3247 es: ಯ\n",
      "En ASCCI el 3248 es: ರ\n",
      "En ASCCI el 3249 es: ಱ\n",
      "En ASCCI el 3250 es: ಲ\n",
      "En ASCCI el 3251 es: ಳ\n",
      "En ASCCI el 3252 es: ಴\n",
      "En ASCCI el 3253 es: ವ\n",
      "En ASCCI el 3254 es: ಶ\n",
      "En ASCCI el 3255 es: ಷ\n",
      "En ASCCI el 3256 es: ಸ\n",
      "En ASCCI el 3257 es: ಹ\n",
      "En ASCCI el 3258 es: ಺\n",
      "En ASCCI el 3259 es: ಻\n",
      "En ASCCI el 3260 es: ಼\n",
      "En ASCCI el 3261 es: ಽ\n",
      "En ASCCI el 3262 es: ಾ\n",
      "En ASCCI el 3263 es: ಿ\n",
      "En ASCCI el 3264 es: ೀ\n",
      "En ASCCI el 3265 es: ು\n",
      "En ASCCI el 3266 es: ೂ\n",
      "En ASCCI el 3267 es: ೃ\n",
      "En ASCCI el 3268 es: ೄ\n",
      "En ASCCI el 3269 es: ೅\n",
      "En ASCCI el 3270 es: ೆ\n",
      "En ASCCI el 3271 es: ೇ\n",
      "En ASCCI el 3272 es: ೈ\n",
      "En ASCCI el 3273 es: ೉\n",
      "En ASCCI el 3274 es: ೊ\n",
      "En ASCCI el 3275 es: ೋ\n",
      "En ASCCI el 3276 es: ೌ\n",
      "En ASCCI el 3277 es: ್\n",
      "En ASCCI el 3278 es: ೎\n",
      "En ASCCI el 3279 es: ೏\n",
      "En ASCCI el 3280 es: ೐\n",
      "En ASCCI el 3281 es: ೑\n",
      "En ASCCI el 3282 es: ೒\n",
      "En ASCCI el 3283 es: ೓\n",
      "En ASCCI el 3284 es: ೔\n",
      "En ASCCI el 3285 es: ೕ\n",
      "En ASCCI el 3286 es: ೖ\n",
      "En ASCCI el 3287 es: ೗\n",
      "En ASCCI el 3288 es: ೘\n",
      "En ASCCI el 3289 es: ೙\n",
      "En ASCCI el 3290 es: ೚\n",
      "En ASCCI el 3291 es: ೛\n",
      "En ASCCI el 3292 es: ೜\n",
      "En ASCCI el 3293 es: ೝ\n",
      "En ASCCI el 3294 es: ೞ\n",
      "En ASCCI el 3295 es: ೟\n",
      "En ASCCI el 3296 es: ೠ\n",
      "En ASCCI el 3297 es: ೡ\n",
      "En ASCCI el 3298 es: ೢ\n",
      "En ASCCI el 3299 es: ೣ\n",
      "En ASCCI el 3300 es: ೤\n",
      "En ASCCI el 3301 es: ೥\n",
      "En ASCCI el 3302 es: ೦\n",
      "En ASCCI el 3303 es: ೧\n",
      "En ASCCI el 3304 es: ೨\n",
      "En ASCCI el 3305 es: ೩\n",
      "En ASCCI el 3306 es: ೪\n",
      "En ASCCI el 3307 es: ೫\n",
      "En ASCCI el 3308 es: ೬\n",
      "En ASCCI el 3309 es: ೭\n",
      "En ASCCI el 3310 es: ೮\n",
      "En ASCCI el 3311 es: ೯\n",
      "En ASCCI el 3312 es: ೰\n",
      "En ASCCI el 3313 es: ೱ\n",
      "En ASCCI el 3314 es: ೲ\n",
      "En ASCCI el 3315 es: ೳ\n",
      "En ASCCI el 3316 es: ೴\n",
      "En ASCCI el 3317 es: ೵\n",
      "En ASCCI el 3318 es: ೶\n",
      "En ASCCI el 3319 es: ೷\n",
      "En ASCCI el 3320 es: ೸\n",
      "En ASCCI el 3321 es: ೹\n",
      "En ASCCI el 3322 es: ೺\n",
      "En ASCCI el 3323 es: ೻\n",
      "En ASCCI el 3324 es: ೼\n",
      "En ASCCI el 3325 es: ೽\n",
      "En ASCCI el 3326 es: ೾\n",
      "En ASCCI el 3327 es: ೿\n",
      "En ASCCI el 3328 es: ഀ\n",
      "En ASCCI el 3329 es: ഁ\n",
      "En ASCCI el 3330 es: ം\n",
      "En ASCCI el 3331 es: ഃ\n",
      "En ASCCI el 3332 es: ഄ\n",
      "En ASCCI el 3333 es: അ\n",
      "En ASCCI el 3334 es: ആ\n",
      "En ASCCI el 3335 es: ഇ\n",
      "En ASCCI el 3336 es: ഈ\n",
      "En ASCCI el 3337 es: ഉ\n",
      "En ASCCI el 3338 es: ഊ\n",
      "En ASCCI el 3339 es: ഋ\n",
      "En ASCCI el 3340 es: ഌ\n",
      "En ASCCI el 3341 es: ഍\n",
      "En ASCCI el 3342 es: എ\n",
      "En ASCCI el 3343 es: ഏ\n",
      "En ASCCI el 3344 es: ഐ\n",
      "En ASCCI el 3345 es: ഑\n",
      "En ASCCI el 3346 es: ഒ\n",
      "En ASCCI el 3347 es: ഓ\n",
      "En ASCCI el 3348 es: ഔ\n",
      "En ASCCI el 3349 es: ക\n",
      "En ASCCI el 3350 es: ഖ\n",
      "En ASCCI el 3351 es: ഗ\n",
      "En ASCCI el 3352 es: ഘ\n",
      "En ASCCI el 3353 es: ങ\n",
      "En ASCCI el 3354 es: ച\n",
      "En ASCCI el 3355 es: ഛ\n",
      "En ASCCI el 3356 es: ജ\n",
      "En ASCCI el 3357 es: ഝ\n",
      "En ASCCI el 3358 es: ഞ\n",
      "En ASCCI el 3359 es: ട\n",
      "En ASCCI el 3360 es: ഠ\n",
      "En ASCCI el 3361 es: ഡ\n",
      "En ASCCI el 3362 es: ഢ\n",
      "En ASCCI el 3363 es: ണ\n",
      "En ASCCI el 3364 es: ത\n",
      "En ASCCI el 3365 es: ഥ\n",
      "En ASCCI el 3366 es: ദ\n",
      "En ASCCI el 3367 es: ധ\n",
      "En ASCCI el 3368 es: ന\n",
      "En ASCCI el 3369 es: ഩ\n",
      "En ASCCI el 3370 es: പ\n",
      "En ASCCI el 3371 es: ഫ\n",
      "En ASCCI el 3372 es: ബ\n",
      "En ASCCI el 3373 es: ഭ\n",
      "En ASCCI el 3374 es: മ\n",
      "En ASCCI el 3375 es: യ\n",
      "En ASCCI el 3376 es: ര\n",
      "En ASCCI el 3377 es: റ\n",
      "En ASCCI el 3378 es: ല\n",
      "En ASCCI el 3379 es: ള\n",
      "En ASCCI el 3380 es: ഴ\n",
      "En ASCCI el 3381 es: വ\n",
      "En ASCCI el 3382 es: ശ\n",
      "En ASCCI el 3383 es: ഷ\n",
      "En ASCCI el 3384 es: സ\n",
      "En ASCCI el 3385 es: ഹ\n",
      "En ASCCI el 3386 es: ഺ\n",
      "En ASCCI el 3387 es: ഻\n",
      "En ASCCI el 3388 es: ഼\n",
      "En ASCCI el 3389 es: ഽ\n",
      "En ASCCI el 3390 es: ാ\n",
      "En ASCCI el 3391 es: ി\n",
      "En ASCCI el 3392 es: ീ\n",
      "En ASCCI el 3393 es: ു\n",
      "En ASCCI el 3394 es: ൂ\n",
      "En ASCCI el 3395 es: ൃ\n",
      "En ASCCI el 3396 es: ൄ\n",
      "En ASCCI el 3397 es: ൅\n",
      "En ASCCI el 3398 es: െ\n",
      "En ASCCI el 3399 es: േ\n",
      "En ASCCI el 3400 es: ൈ\n",
      "En ASCCI el 3401 es: ൉\n",
      "En ASCCI el 3402 es: ൊ\n",
      "En ASCCI el 3403 es: ോ\n",
      "En ASCCI el 3404 es: ൌ\n",
      "En ASCCI el 3405 es: ്\n",
      "En ASCCI el 3406 es: ൎ\n",
      "En ASCCI el 3407 es: ൏\n",
      "En ASCCI el 3408 es: ൐\n",
      "En ASCCI el 3409 es: ൑\n",
      "En ASCCI el 3410 es: ൒\n",
      "En ASCCI el 3411 es: ൓\n",
      "En ASCCI el 3412 es: ൔ\n",
      "En ASCCI el 3413 es: ൕ\n",
      "En ASCCI el 3414 es: ൖ\n",
      "En ASCCI el 3415 es: ൗ\n",
      "En ASCCI el 3416 es: ൘\n",
      "En ASCCI el 3417 es: ൙\n",
      "En ASCCI el 3418 es: ൚\n",
      "En ASCCI el 3419 es: ൛\n",
      "En ASCCI el 3420 es: ൜\n",
      "En ASCCI el 3421 es: ൝\n",
      "En ASCCI el 3422 es: ൞\n",
      "En ASCCI el 3423 es: ൟ\n",
      "En ASCCI el 3424 es: ൠ\n",
      "En ASCCI el 3425 es: ൡ\n",
      "En ASCCI el 3426 es: ൢ\n",
      "En ASCCI el 3427 es: ൣ\n",
      "En ASCCI el 3428 es: ൤\n",
      "En ASCCI el 3429 es: ൥\n",
      "En ASCCI el 3430 es: ൦\n",
      "En ASCCI el 3431 es: ൧\n",
      "En ASCCI el 3432 es: ൨\n",
      "En ASCCI el 3433 es: ൩\n",
      "En ASCCI el 3434 es: ൪\n",
      "En ASCCI el 3435 es: ൫\n",
      "En ASCCI el 3436 es: ൬\n",
      "En ASCCI el 3437 es: ൭\n",
      "En ASCCI el 3438 es: ൮\n",
      "En ASCCI el 3439 es: ൯\n",
      "En ASCCI el 3440 es: ൰\n",
      "En ASCCI el 3441 es: ൱\n",
      "En ASCCI el 3442 es: ൲\n",
      "En ASCCI el 3443 es: ൳\n",
      "En ASCCI el 3444 es: ൴\n",
      "En ASCCI el 3445 es: ൵\n",
      "En ASCCI el 3446 es: ൶\n",
      "En ASCCI el 3447 es: ൷\n",
      "En ASCCI el 3448 es: ൸\n",
      "En ASCCI el 3449 es: ൹\n",
      "En ASCCI el 3450 es: ൺ\n",
      "En ASCCI el 3451 es: ൻ\n",
      "En ASCCI el 3452 es: ർ\n",
      "En ASCCI el 3453 es: ൽ\n",
      "En ASCCI el 3454 es: ൾ\n",
      "En ASCCI el 3455 es: ൿ\n",
      "En ASCCI el 3456 es: ඀\n",
      "En ASCCI el 3457 es: ඁ\n",
      "En ASCCI el 3458 es: ං\n",
      "En ASCCI el 3459 es: ඃ\n",
      "En ASCCI el 3460 es: ඄\n",
      "En ASCCI el 3461 es: අ\n",
      "En ASCCI el 3462 es: ආ\n",
      "En ASCCI el 3463 es: ඇ\n",
      "En ASCCI el 3464 es: ඈ\n",
      "En ASCCI el 3465 es: ඉ\n",
      "En ASCCI el 3466 es: ඊ\n",
      "En ASCCI el 3467 es: උ\n",
      "En ASCCI el 3468 es: ඌ\n",
      "En ASCCI el 3469 es: ඍ\n",
      "En ASCCI el 3470 es: ඎ\n",
      "En ASCCI el 3471 es: ඏ\n",
      "En ASCCI el 3472 es: ඐ\n",
      "En ASCCI el 3473 es: එ\n",
      "En ASCCI el 3474 es: ඒ\n",
      "En ASCCI el 3475 es: ඓ\n",
      "En ASCCI el 3476 es: ඔ\n",
      "En ASCCI el 3477 es: ඕ\n",
      "En ASCCI el 3478 es: ඖ\n",
      "En ASCCI el 3479 es: ඗\n",
      "En ASCCI el 3480 es: ඘\n",
      "En ASCCI el 3481 es: ඙\n",
      "En ASCCI el 3482 es: ක\n",
      "En ASCCI el 3483 es: ඛ\n",
      "En ASCCI el 3484 es: ග\n",
      "En ASCCI el 3485 es: ඝ\n",
      "En ASCCI el 3486 es: ඞ\n",
      "En ASCCI el 3487 es: ඟ\n",
      "En ASCCI el 3488 es: ච\n",
      "En ASCCI el 3489 es: ඡ\n",
      "En ASCCI el 3490 es: ජ\n",
      "En ASCCI el 3491 es: ඣ\n",
      "En ASCCI el 3492 es: ඤ\n",
      "En ASCCI el 3493 es: ඥ\n",
      "En ASCCI el 3494 es: ඦ\n",
      "En ASCCI el 3495 es: ට\n",
      "En ASCCI el 3496 es: ඨ\n",
      "En ASCCI el 3497 es: ඩ\n",
      "En ASCCI el 3498 es: ඪ\n",
      "En ASCCI el 3499 es: ණ\n",
      "En ASCCI el 3500 es: ඬ\n",
      "En ASCCI el 3501 es: ත\n",
      "En ASCCI el 3502 es: ථ\n",
      "En ASCCI el 3503 es: ද\n",
      "En ASCCI el 3504 es: ධ\n",
      "En ASCCI el 3505 es: න\n",
      "En ASCCI el 3506 es: ඲\n",
      "En ASCCI el 3507 es: ඳ\n",
      "En ASCCI el 3508 es: ප\n",
      "En ASCCI el 3509 es: ඵ\n",
      "En ASCCI el 3510 es: බ\n",
      "En ASCCI el 3511 es: භ\n",
      "En ASCCI el 3512 es: ම\n",
      "En ASCCI el 3513 es: ඹ\n",
      "En ASCCI el 3514 es: ය\n",
      "En ASCCI el 3515 es: ර\n",
      "En ASCCI el 3516 es: ඼\n",
      "En ASCCI el 3517 es: ල\n",
      "En ASCCI el 3518 es: ඾\n",
      "En ASCCI el 3519 es: ඿\n",
      "En ASCCI el 3520 es: ව\n",
      "En ASCCI el 3521 es: ශ\n",
      "En ASCCI el 3522 es: ෂ\n",
      "En ASCCI el 3523 es: ස\n",
      "En ASCCI el 3524 es: හ\n",
      "En ASCCI el 3525 es: ළ\n",
      "En ASCCI el 3526 es: ෆ\n",
      "En ASCCI el 3527 es: ෇\n",
      "En ASCCI el 3528 es: ෈\n",
      "En ASCCI el 3529 es: ෉\n",
      "En ASCCI el 3530 es: ්\n",
      "En ASCCI el 3531 es: ෋\n",
      "En ASCCI el 3532 es: ෌\n",
      "En ASCCI el 3533 es: ෍\n",
      "En ASCCI el 3534 es: ෎\n",
      "En ASCCI el 3535 es: ා\n",
      "En ASCCI el 3536 es: ැ\n",
      "En ASCCI el 3537 es: ෑ\n",
      "En ASCCI el 3538 es: ි\n",
      "En ASCCI el 3539 es: ී\n",
      "En ASCCI el 3540 es: ු\n",
      "En ASCCI el 3541 es: ෕\n",
      "En ASCCI el 3542 es: ූ\n",
      "En ASCCI el 3543 es: ෗\n",
      "En ASCCI el 3544 es: ෘ\n",
      "En ASCCI el 3545 es: ෙ\n",
      "En ASCCI el 3546 es: ේ\n",
      "En ASCCI el 3547 es: ෛ\n",
      "En ASCCI el 3548 es: ො\n",
      "En ASCCI el 3549 es: ෝ\n",
      "En ASCCI el 3550 es: ෞ\n",
      "En ASCCI el 3551 es: ෟ\n",
      "En ASCCI el 3552 es: ෠\n",
      "En ASCCI el 3553 es: ෡\n",
      "En ASCCI el 3554 es: ෢\n",
      "En ASCCI el 3555 es: ෣\n",
      "En ASCCI el 3556 es: ෤\n",
      "En ASCCI el 3557 es: ෥\n",
      "En ASCCI el 3558 es: ෦\n",
      "En ASCCI el 3559 es: ෧\n",
      "En ASCCI el 3560 es: ෨\n",
      "En ASCCI el 3561 es: ෩\n",
      "En ASCCI el 3562 es: ෪\n",
      "En ASCCI el 3563 es: ෫\n",
      "En ASCCI el 3564 es: ෬\n",
      "En ASCCI el 3565 es: ෭\n",
      "En ASCCI el 3566 es: ෮\n",
      "En ASCCI el 3567 es: ෯\n",
      "En ASCCI el 3568 es: ෰\n",
      "En ASCCI el 3569 es: ෱\n",
      "En ASCCI el 3570 es: ෲ\n",
      "En ASCCI el 3571 es: ෳ\n",
      "En ASCCI el 3572 es: ෴\n",
      "En ASCCI el 3573 es: ෵\n",
      "En ASCCI el 3574 es: ෶\n",
      "En ASCCI el 3575 es: ෷\n",
      "En ASCCI el 3576 es: ෸\n",
      "En ASCCI el 3577 es: ෹\n",
      "En ASCCI el 3578 es: ෺\n",
      "En ASCCI el 3579 es: ෻\n",
      "En ASCCI el 3580 es: ෼\n",
      "En ASCCI el 3581 es: ෽\n",
      "En ASCCI el 3582 es: ෾\n",
      "En ASCCI el 3583 es: ෿\n",
      "En ASCCI el 3584 es: ฀\n",
      "En ASCCI el 3585 es: ก\n",
      "En ASCCI el 3586 es: ข\n",
      "En ASCCI el 3587 es: ฃ\n",
      "En ASCCI el 3588 es: ค\n",
      "En ASCCI el 3589 es: ฅ\n",
      "En ASCCI el 3590 es: ฆ\n",
      "En ASCCI el 3591 es: ง\n",
      "En ASCCI el 3592 es: จ\n",
      "En ASCCI el 3593 es: ฉ\n",
      "En ASCCI el 3594 es: ช\n",
      "En ASCCI el 3595 es: ซ\n",
      "En ASCCI el 3596 es: ฌ\n",
      "En ASCCI el 3597 es: ญ\n",
      "En ASCCI el 3598 es: ฎ\n",
      "En ASCCI el 3599 es: ฏ\n",
      "En ASCCI el 3600 es: ฐ\n",
      "En ASCCI el 3601 es: ฑ\n",
      "En ASCCI el 3602 es: ฒ\n",
      "En ASCCI el 3603 es: ณ\n",
      "En ASCCI el 3604 es: ด\n",
      "En ASCCI el 3605 es: ต\n",
      "En ASCCI el 3606 es: ถ\n",
      "En ASCCI el 3607 es: ท\n",
      "En ASCCI el 3608 es: ธ\n",
      "En ASCCI el 3609 es: น\n",
      "En ASCCI el 3610 es: บ\n",
      "En ASCCI el 3611 es: ป\n",
      "En ASCCI el 3612 es: ผ\n",
      "En ASCCI el 3613 es: ฝ\n",
      "En ASCCI el 3614 es: พ\n",
      "En ASCCI el 3615 es: ฟ\n",
      "En ASCCI el 3616 es: ภ\n",
      "En ASCCI el 3617 es: ม\n",
      "En ASCCI el 3618 es: ย\n",
      "En ASCCI el 3619 es: ร\n",
      "En ASCCI el 3620 es: ฤ\n",
      "En ASCCI el 3621 es: ล\n",
      "En ASCCI el 3622 es: ฦ\n",
      "En ASCCI el 3623 es: ว\n",
      "En ASCCI el 3624 es: ศ\n",
      "En ASCCI el 3625 es: ษ\n",
      "En ASCCI el 3626 es: ส\n",
      "En ASCCI el 3627 es: ห\n",
      "En ASCCI el 3628 es: ฬ\n",
      "En ASCCI el 3629 es: อ\n",
      "En ASCCI el 3630 es: ฮ\n",
      "En ASCCI el 3631 es: ฯ\n",
      "En ASCCI el 3632 es: ะ\n",
      "En ASCCI el 3633 es: ั\n",
      "En ASCCI el 3634 es: า\n",
      "En ASCCI el 3635 es: ำ\n",
      "En ASCCI el 3636 es: ิ\n",
      "En ASCCI el 3637 es: ี\n",
      "En ASCCI el 3638 es: ึ\n",
      "En ASCCI el 3639 es: ื\n",
      "En ASCCI el 3640 es: ุ\n",
      "En ASCCI el 3641 es: ู\n",
      "En ASCCI el 3642 es: ฺ\n",
      "En ASCCI el 3643 es: ฻\n",
      "En ASCCI el 3644 es: ฼\n",
      "En ASCCI el 3645 es: ฽\n",
      "En ASCCI el 3646 es: ฾\n",
      "En ASCCI el 3647 es: ฿\n",
      "En ASCCI el 3648 es: เ\n",
      "En ASCCI el 3649 es: แ\n",
      "En ASCCI el 3650 es: โ\n",
      "En ASCCI el 3651 es: ใ\n",
      "En ASCCI el 3652 es: ไ\n",
      "En ASCCI el 3653 es: ๅ\n",
      "En ASCCI el 3654 es: ๆ\n",
      "En ASCCI el 3655 es: ็\n",
      "En ASCCI el 3656 es: ่\n",
      "En ASCCI el 3657 es: ้\n",
      "En ASCCI el 3658 es: ๊\n",
      "En ASCCI el 3659 es: ๋\n",
      "En ASCCI el 3660 es: ์\n",
      "En ASCCI el 3661 es: ํ\n",
      "En ASCCI el 3662 es: ๎\n",
      "En ASCCI el 3663 es: ๏\n",
      "En ASCCI el 3664 es: ๐\n",
      "En ASCCI el 3665 es: ๑\n",
      "En ASCCI el 3666 es: ๒\n",
      "En ASCCI el 3667 es: ๓\n",
      "En ASCCI el 3668 es: ๔\n",
      "En ASCCI el 3669 es: ๕\n",
      "En ASCCI el 3670 es: ๖\n",
      "En ASCCI el 3671 es: ๗\n",
      "En ASCCI el 3672 es: ๘\n",
      "En ASCCI el 3673 es: ๙\n",
      "En ASCCI el 3674 es: ๚\n",
      "En ASCCI el 3675 es: ๛\n",
      "En ASCCI el 3676 es: ๜\n",
      "En ASCCI el 3677 es: ๝\n",
      "En ASCCI el 3678 es: ๞\n",
      "En ASCCI el 3679 es: ๟\n",
      "En ASCCI el 3680 es: ๠\n",
      "En ASCCI el 3681 es: ๡\n",
      "En ASCCI el 3682 es: ๢\n",
      "En ASCCI el 3683 es: ๣\n",
      "En ASCCI el 3684 es: ๤\n",
      "En ASCCI el 3685 es: ๥\n",
      "En ASCCI el 3686 es: ๦\n",
      "En ASCCI el 3687 es: ๧\n",
      "En ASCCI el 3688 es: ๨\n",
      "En ASCCI el 3689 es: ๩\n",
      "En ASCCI el 3690 es: ๪\n",
      "En ASCCI el 3691 es: ๫\n",
      "En ASCCI el 3692 es: ๬\n",
      "En ASCCI el 3693 es: ๭\n",
      "En ASCCI el 3694 es: ๮\n",
      "En ASCCI el 3695 es: ๯\n",
      "En ASCCI el 3696 es: ๰\n",
      "En ASCCI el 3697 es: ๱\n",
      "En ASCCI el 3698 es: ๲\n",
      "En ASCCI el 3699 es: ๳\n",
      "En ASCCI el 3700 es: ๴\n",
      "En ASCCI el 3701 es: ๵\n",
      "En ASCCI el 3702 es: ๶\n",
      "En ASCCI el 3703 es: ๷\n",
      "En ASCCI el 3704 es: ๸\n",
      "En ASCCI el 3705 es: ๹\n",
      "En ASCCI el 3706 es: ๺\n",
      "En ASCCI el 3707 es: ๻\n",
      "En ASCCI el 3708 es: ๼\n",
      "En ASCCI el 3709 es: ๽\n",
      "En ASCCI el 3710 es: ๾\n",
      "En ASCCI el 3711 es: ๿\n",
      "En ASCCI el 3712 es: ຀\n",
      "En ASCCI el 3713 es: ກ\n",
      "En ASCCI el 3714 es: ຂ\n",
      "En ASCCI el 3715 es: ຃\n",
      "En ASCCI el 3716 es: ຄ\n",
      "En ASCCI el 3717 es: ຅\n",
      "En ASCCI el 3718 es: ຆ\n",
      "En ASCCI el 3719 es: ງ\n",
      "En ASCCI el 3720 es: ຈ\n",
      "En ASCCI el 3721 es: ຉ\n",
      "En ASCCI el 3722 es: ຊ\n",
      "En ASCCI el 3723 es: ຋\n",
      "En ASCCI el 3724 es: ຌ\n",
      "En ASCCI el 3725 es: ຍ\n",
      "En ASCCI el 3726 es: ຎ\n",
      "En ASCCI el 3727 es: ຏ\n",
      "En ASCCI el 3728 es: ຐ\n",
      "En ASCCI el 3729 es: ຑ\n",
      "En ASCCI el 3730 es: ຒ\n",
      "En ASCCI el 3731 es: ຓ\n",
      "En ASCCI el 3732 es: ດ\n",
      "En ASCCI el 3733 es: ຕ\n",
      "En ASCCI el 3734 es: ຖ\n",
      "En ASCCI el 3735 es: ທ\n",
      "En ASCCI el 3736 es: ຘ\n",
      "En ASCCI el 3737 es: ນ\n",
      "En ASCCI el 3738 es: ບ\n",
      "En ASCCI el 3739 es: ປ\n",
      "En ASCCI el 3740 es: ຜ\n",
      "En ASCCI el 3741 es: ຝ\n",
      "En ASCCI el 3742 es: ພ\n",
      "En ASCCI el 3743 es: ຟ\n",
      "En ASCCI el 3744 es: ຠ\n",
      "En ASCCI el 3745 es: ມ\n",
      "En ASCCI el 3746 es: ຢ\n",
      "En ASCCI el 3747 es: ຣ\n",
      "En ASCCI el 3748 es: ຤\n",
      "En ASCCI el 3749 es: ລ\n",
      "En ASCCI el 3750 es: ຦\n",
      "En ASCCI el 3751 es: ວ\n",
      "En ASCCI el 3752 es: ຨ\n",
      "En ASCCI el 3753 es: ຩ\n",
      "En ASCCI el 3754 es: ສ\n",
      "En ASCCI el 3755 es: ຫ\n",
      "En ASCCI el 3756 es: ຬ\n",
      "En ASCCI el 3757 es: ອ\n",
      "En ASCCI el 3758 es: ຮ\n",
      "En ASCCI el 3759 es: ຯ\n",
      "En ASCCI el 3760 es: ະ\n",
      "En ASCCI el 3761 es: ັ\n",
      "En ASCCI el 3762 es: າ\n",
      "En ASCCI el 3763 es: ຳ\n",
      "En ASCCI el 3764 es: ິ\n",
      "En ASCCI el 3765 es: ີ\n",
      "En ASCCI el 3766 es: ຶ\n",
      "En ASCCI el 3767 es: ື\n",
      "En ASCCI el 3768 es: ຸ\n",
      "En ASCCI el 3769 es: ູ\n",
      "En ASCCI el 3770 es: ຺\n",
      "En ASCCI el 3771 es: ົ\n",
      "En ASCCI el 3772 es: ຼ\n",
      "En ASCCI el 3773 es: ຽ\n",
      "En ASCCI el 3774 es: ຾\n",
      "En ASCCI el 3775 es: ຿\n",
      "En ASCCI el 3776 es: ເ\n",
      "En ASCCI el 3777 es: ແ\n",
      "En ASCCI el 3778 es: ໂ\n",
      "En ASCCI el 3779 es: ໃ\n",
      "En ASCCI el 3780 es: ໄ\n",
      "En ASCCI el 3781 es: ໅\n",
      "En ASCCI el 3782 es: ໆ\n",
      "En ASCCI el 3783 es: ໇\n",
      "En ASCCI el 3784 es: ່\n",
      "En ASCCI el 3785 es: ້\n",
      "En ASCCI el 3786 es: ໊\n",
      "En ASCCI el 3787 es: ໋\n",
      "En ASCCI el 3788 es: ໌\n",
      "En ASCCI el 3789 es: ໍ\n",
      "En ASCCI el 3790 es: ໎\n",
      "En ASCCI el 3791 es: ໏\n",
      "En ASCCI el 3792 es: ໐\n",
      "En ASCCI el 3793 es: ໑\n",
      "En ASCCI el 3794 es: ໒\n",
      "En ASCCI el 3795 es: ໓\n",
      "En ASCCI el 3796 es: ໔\n",
      "En ASCCI el 3797 es: ໕\n",
      "En ASCCI el 3798 es: ໖\n",
      "En ASCCI el 3799 es: ໗\n",
      "En ASCCI el 3800 es: ໘\n",
      "En ASCCI el 3801 es: ໙\n",
      "En ASCCI el 3802 es: ໚\n",
      "En ASCCI el 3803 es: ໛\n",
      "En ASCCI el 3804 es: ໜ\n",
      "En ASCCI el 3805 es: ໝ\n",
      "En ASCCI el 3806 es: ໞ\n",
      "En ASCCI el 3807 es: ໟ\n",
      "En ASCCI el 3808 es: ໠\n",
      "En ASCCI el 3809 es: ໡\n",
      "En ASCCI el 3810 es: ໢\n",
      "En ASCCI el 3811 es: ໣\n",
      "En ASCCI el 3812 es: ໤\n",
      "En ASCCI el 3813 es: ໥\n",
      "En ASCCI el 3814 es: ໦\n",
      "En ASCCI el 3815 es: ໧\n",
      "En ASCCI el 3816 es: ໨\n",
      "En ASCCI el 3817 es: ໩\n",
      "En ASCCI el 3818 es: ໪\n",
      "En ASCCI el 3819 es: ໫\n",
      "En ASCCI el 3820 es: ໬\n",
      "En ASCCI el 3821 es: ໭\n",
      "En ASCCI el 3822 es: ໮\n",
      "En ASCCI el 3823 es: ໯\n",
      "En ASCCI el 3824 es: ໰\n",
      "En ASCCI el 3825 es: ໱\n",
      "En ASCCI el 3826 es: ໲\n",
      "En ASCCI el 3827 es: ໳\n",
      "En ASCCI el 3828 es: ໴\n",
      "En ASCCI el 3829 es: ໵\n",
      "En ASCCI el 3830 es: ໶\n",
      "En ASCCI el 3831 es: ໷\n",
      "En ASCCI el 3832 es: ໸\n",
      "En ASCCI el 3833 es: ໹\n",
      "En ASCCI el 3834 es: ໺\n",
      "En ASCCI el 3835 es: ໻\n",
      "En ASCCI el 3836 es: ໼\n",
      "En ASCCI el 3837 es: ໽\n",
      "En ASCCI el 3838 es: ໾\n",
      "En ASCCI el 3839 es: ໿\n",
      "En ASCCI el 3840 es: ༀ\n",
      "En ASCCI el 3841 es: ༁\n",
      "En ASCCI el 3842 es: ༂\n",
      "En ASCCI el 3843 es: ༃\n",
      "En ASCCI el 3844 es: ༄\n",
      "En ASCCI el 3845 es: ༅\n",
      "En ASCCI el 3846 es: ༆\n",
      "En ASCCI el 3847 es: ༇\n",
      "En ASCCI el 3848 es: ༈\n",
      "En ASCCI el 3849 es: ༉\n",
      "En ASCCI el 3850 es: ༊\n",
      "En ASCCI el 3851 es: ་\n",
      "En ASCCI el 3852 es: ༌\n",
      "En ASCCI el 3853 es: །\n",
      "En ASCCI el 3854 es: ༎\n",
      "En ASCCI el 3855 es: ༏\n",
      "En ASCCI el 3856 es: ༐\n",
      "En ASCCI el 3857 es: ༑\n",
      "En ASCCI el 3858 es: ༒\n",
      "En ASCCI el 3859 es: ༓\n",
      "En ASCCI el 3860 es: ༔\n",
      "En ASCCI el 3861 es: ༕\n",
      "En ASCCI el 3862 es: ༖\n",
      "En ASCCI el 3863 es: ༗\n",
      "En ASCCI el 3864 es: ༘\n",
      "En ASCCI el 3865 es: ༙\n",
      "En ASCCI el 3866 es: ༚\n",
      "En ASCCI el 3867 es: ༛\n",
      "En ASCCI el 3868 es: ༜\n",
      "En ASCCI el 3869 es: ༝\n",
      "En ASCCI el 3870 es: ༞\n",
      "En ASCCI el 3871 es: ༟\n",
      "En ASCCI el 3872 es: ༠\n",
      "En ASCCI el 3873 es: ༡\n",
      "En ASCCI el 3874 es: ༢\n",
      "En ASCCI el 3875 es: ༣\n",
      "En ASCCI el 3876 es: ༤\n",
      "En ASCCI el 3877 es: ༥\n",
      "En ASCCI el 3878 es: ༦\n",
      "En ASCCI el 3879 es: ༧\n",
      "En ASCCI el 3880 es: ༨\n",
      "En ASCCI el 3881 es: ༩\n",
      "En ASCCI el 3882 es: ༪\n",
      "En ASCCI el 3883 es: ༫\n",
      "En ASCCI el 3884 es: ༬\n",
      "En ASCCI el 3885 es: ༭\n",
      "En ASCCI el 3886 es: ༮\n",
      "En ASCCI el 3887 es: ༯\n",
      "En ASCCI el 3888 es: ༰\n",
      "En ASCCI el 3889 es: ༱\n",
      "En ASCCI el 3890 es: ༲\n",
      "En ASCCI el 3891 es: ༳\n",
      "En ASCCI el 3892 es: ༴\n",
      "En ASCCI el 3893 es: ༵\n",
      "En ASCCI el 3894 es: ༶\n",
      "En ASCCI el 3895 es: ༷\n",
      "En ASCCI el 3896 es: ༸\n",
      "En ASCCI el 3897 es: ༹\n",
      "En ASCCI el 3898 es: ༺\n",
      "En ASCCI el 3899 es: ༻\n",
      "En ASCCI el 3900 es: ༼\n",
      "En ASCCI el 3901 es: ༽\n",
      "En ASCCI el 3902 es: ༾\n",
      "En ASCCI el 3903 es: ༿\n",
      "En ASCCI el 3904 es: ཀ\n",
      "En ASCCI el 3905 es: ཁ\n",
      "En ASCCI el 3906 es: ག\n",
      "En ASCCI el 3907 es: གྷ\n",
      "En ASCCI el 3908 es: ང\n",
      "En ASCCI el 3909 es: ཅ\n",
      "En ASCCI el 3910 es: ཆ\n",
      "En ASCCI el 3911 es: ཇ\n",
      "En ASCCI el 3912 es: ཈\n",
      "En ASCCI el 3913 es: ཉ\n",
      "En ASCCI el 3914 es: ཊ\n",
      "En ASCCI el 3915 es: ཋ\n",
      "En ASCCI el 3916 es: ཌ\n",
      "En ASCCI el 3917 es: ཌྷ\n",
      "En ASCCI el 3918 es: ཎ\n",
      "En ASCCI el 3919 es: ཏ\n",
      "En ASCCI el 3920 es: ཐ\n",
      "En ASCCI el 3921 es: ད\n",
      "En ASCCI el 3922 es: དྷ\n",
      "En ASCCI el 3923 es: ན\n",
      "En ASCCI el 3924 es: པ\n",
      "En ASCCI el 3925 es: ཕ\n",
      "En ASCCI el 3926 es: བ\n",
      "En ASCCI el 3927 es: བྷ\n",
      "En ASCCI el 3928 es: མ\n",
      "En ASCCI el 3929 es: ཙ\n",
      "En ASCCI el 3930 es: ཚ\n",
      "En ASCCI el 3931 es: ཛ\n",
      "En ASCCI el 3932 es: ཛྷ\n",
      "En ASCCI el 3933 es: ཝ\n",
      "En ASCCI el 3934 es: ཞ\n",
      "En ASCCI el 3935 es: ཟ\n",
      "En ASCCI el 3936 es: འ\n",
      "En ASCCI el 3937 es: ཡ\n",
      "En ASCCI el 3938 es: ར\n",
      "En ASCCI el 3939 es: ལ\n",
      "En ASCCI el 3940 es: ཤ\n",
      "En ASCCI el 3941 es: ཥ\n",
      "En ASCCI el 3942 es: ས\n",
      "En ASCCI el 3943 es: ཧ\n",
      "En ASCCI el 3944 es: ཨ\n",
      "En ASCCI el 3945 es: ཀྵ\n",
      "En ASCCI el 3946 es: ཪ\n",
      "En ASCCI el 3947 es: ཫ\n",
      "En ASCCI el 3948 es: ཬ\n",
      "En ASCCI el 3949 es: ཭\n",
      "En ASCCI el 3950 es: ཮\n",
      "En ASCCI el 3951 es: ཯\n",
      "En ASCCI el 3952 es: ཰\n",
      "En ASCCI el 3953 es: ཱ\n",
      "En ASCCI el 3954 es: ི\n",
      "En ASCCI el 3955 es: ཱི\n",
      "En ASCCI el 3956 es: ུ\n",
      "En ASCCI el 3957 es: ཱུ\n",
      "En ASCCI el 3958 es: ྲྀ\n",
      "En ASCCI el 3959 es: ཷ\n",
      "En ASCCI el 3960 es: ླྀ\n",
      "En ASCCI el 3961 es: ཹ\n",
      "En ASCCI el 3962 es: ེ\n",
      "En ASCCI el 3963 es: ཻ\n",
      "En ASCCI el 3964 es: ོ\n",
      "En ASCCI el 3965 es: ཽ\n",
      "En ASCCI el 3966 es: ཾ\n",
      "En ASCCI el 3967 es: ཿ\n",
      "En ASCCI el 3968 es: ྀ\n",
      "En ASCCI el 3969 es: ཱྀ\n",
      "En ASCCI el 3970 es: ྂ\n",
      "En ASCCI el 3971 es: ྃ\n",
      "En ASCCI el 3972 es: ྄\n",
      "En ASCCI el 3973 es: ྅\n",
      "En ASCCI el 3974 es: ྆\n",
      "En ASCCI el 3975 es: ྇\n",
      "En ASCCI el 3976 es: ྈ\n",
      "En ASCCI el 3977 es: ྉ\n",
      "En ASCCI el 3978 es: ྊ\n",
      "En ASCCI el 3979 es: ྋ\n",
      "En ASCCI el 3980 es: ྌ\n",
      "En ASCCI el 3981 es: ྍ\n",
      "En ASCCI el 3982 es: ྎ\n",
      "En ASCCI el 3983 es: ྏ\n",
      "En ASCCI el 3984 es: ྐ\n",
      "En ASCCI el 3985 es: ྑ\n",
      "En ASCCI el 3986 es: ྒ\n",
      "En ASCCI el 3987 es: ྒྷ\n",
      "En ASCCI el 3988 es: ྔ\n",
      "En ASCCI el 3989 es: ྕ\n",
      "En ASCCI el 3990 es: ྖ\n",
      "En ASCCI el 3991 es: ྗ\n",
      "En ASCCI el 3992 es: ྘\n",
      "En ASCCI el 3993 es: ྙ\n",
      "En ASCCI el 3994 es: ྚ\n",
      "En ASCCI el 3995 es: ྛ\n",
      "En ASCCI el 3996 es: ྜ\n",
      "En ASCCI el 3997 es: ྜྷ\n",
      "En ASCCI el 3998 es: ྞ\n",
      "En ASCCI el 3999 es: ྟ\n",
      "En ASCCI el 4000 es: ྠ\n",
      "En ASCCI el 4001 es: ྡ\n",
      "En ASCCI el 4002 es: ྡྷ\n",
      "En ASCCI el 4003 es: ྣ\n",
      "En ASCCI el 4004 es: ྤ\n",
      "En ASCCI el 4005 es: ྥ\n",
      "En ASCCI el 4006 es: ྦ\n",
      "En ASCCI el 4007 es: ྦྷ\n",
      "En ASCCI el 4008 es: ྨ\n",
      "En ASCCI el 4009 es: ྩ\n",
      "En ASCCI el 4010 es: ྪ\n",
      "En ASCCI el 4011 es: ྫ\n",
      "En ASCCI el 4012 es: ྫྷ\n",
      "En ASCCI el 4013 es: ྭ\n",
      "En ASCCI el 4014 es: ྮ\n",
      "En ASCCI el 4015 es: ྯ\n",
      "En ASCCI el 4016 es: ྰ\n",
      "En ASCCI el 4017 es: ྱ\n",
      "En ASCCI el 4018 es: ྲ\n",
      "En ASCCI el 4019 es: ླ\n",
      "En ASCCI el 4020 es: ྴ\n",
      "En ASCCI el 4021 es: ྵ\n",
      "En ASCCI el 4022 es: ྶ\n",
      "En ASCCI el 4023 es: ྷ\n",
      "En ASCCI el 4024 es: ྸ\n",
      "En ASCCI el 4025 es: ྐྵ\n",
      "En ASCCI el 4026 es: ྺ\n",
      "En ASCCI el 4027 es: ྻ\n",
      "En ASCCI el 4028 es: ྼ\n",
      "En ASCCI el 4029 es: ྽\n",
      "En ASCCI el 4030 es: ྾\n",
      "En ASCCI el 4031 es: ྿\n",
      "En ASCCI el 4032 es: ࿀\n",
      "En ASCCI el 4033 es: ࿁\n",
      "En ASCCI el 4034 es: ࿂\n",
      "En ASCCI el 4035 es: ࿃\n",
      "En ASCCI el 4036 es: ࿄\n",
      "En ASCCI el 4037 es: ࿅\n",
      "En ASCCI el 4038 es: ࿆\n",
      "En ASCCI el 4039 es: ࿇\n",
      "En ASCCI el 4040 es: ࿈\n",
      "En ASCCI el 4041 es: ࿉\n",
      "En ASCCI el 4042 es: ࿊\n",
      "En ASCCI el 4043 es: ࿋\n",
      "En ASCCI el 4044 es: ࿌\n",
      "En ASCCI el 4045 es: ࿍\n",
      "En ASCCI el 4046 es: ࿎\n",
      "En ASCCI el 4047 es: ࿏\n",
      "En ASCCI el 4048 es: ࿐\n",
      "En ASCCI el 4049 es: ࿑\n",
      "En ASCCI el 4050 es: ࿒\n",
      "En ASCCI el 4051 es: ࿓\n",
      "En ASCCI el 4052 es: ࿔\n",
      "En ASCCI el 4053 es: ࿕\n",
      "En ASCCI el 4054 es: ࿖\n",
      "En ASCCI el 4055 es: ࿗\n",
      "En ASCCI el 4056 es: ࿘\n",
      "En ASCCI el 4057 es: ࿙\n",
      "En ASCCI el 4058 es: ࿚\n",
      "En ASCCI el 4059 es: ࿛\n",
      "En ASCCI el 4060 es: ࿜\n",
      "En ASCCI el 4061 es: ࿝\n",
      "En ASCCI el 4062 es: ࿞\n",
      "En ASCCI el 4063 es: ࿟\n",
      "En ASCCI el 4064 es: ࿠\n",
      "En ASCCI el 4065 es: ࿡\n",
      "En ASCCI el 4066 es: ࿢\n",
      "En ASCCI el 4067 es: ࿣\n",
      "En ASCCI el 4068 es: ࿤\n",
      "En ASCCI el 4069 es: ࿥\n",
      "En ASCCI el 4070 es: ࿦\n",
      "En ASCCI el 4071 es: ࿧\n",
      "En ASCCI el 4072 es: ࿨\n",
      "En ASCCI el 4073 es: ࿩\n",
      "En ASCCI el 4074 es: ࿪\n",
      "En ASCCI el 4075 es: ࿫\n",
      "En ASCCI el 4076 es: ࿬\n",
      "En ASCCI el 4077 es: ࿭\n",
      "En ASCCI el 4078 es: ࿮\n",
      "En ASCCI el 4079 es: ࿯\n",
      "En ASCCI el 4080 es: ࿰\n",
      "En ASCCI el 4081 es: ࿱\n",
      "En ASCCI el 4082 es: ࿲\n",
      "En ASCCI el 4083 es: ࿳\n",
      "En ASCCI el 4084 es: ࿴\n",
      "En ASCCI el 4085 es: ࿵\n",
      "En ASCCI el 4086 es: ࿶\n",
      "En ASCCI el 4087 es: ࿷\n",
      "En ASCCI el 4088 es: ࿸\n",
      "En ASCCI el 4089 es: ࿹\n",
      "En ASCCI el 4090 es: ࿺\n",
      "En ASCCI el 4091 es: ࿻\n",
      "En ASCCI el 4092 es: ࿼\n",
      "En ASCCI el 4093 es: ࿽\n",
      "En ASCCI el 4094 es: ࿾\n",
      "En ASCCI el 4095 es: ࿿\n",
      "En ASCCI el 4096 es: က\n",
      "En ASCCI el 4097 es: ခ\n",
      "En ASCCI el 4098 es: ဂ\n",
      "En ASCCI el 4099 es: ဃ\n",
      "En ASCCI el 4100 es: င\n",
      "En ASCCI el 4101 es: စ\n",
      "En ASCCI el 4102 es: ဆ\n",
      "En ASCCI el 4103 es: ဇ\n",
      "En ASCCI el 4104 es: ဈ\n",
      "En ASCCI el 4105 es: ဉ\n",
      "En ASCCI el 4106 es: ည\n",
      "En ASCCI el 4107 es: ဋ\n",
      "En ASCCI el 4108 es: ဌ\n",
      "En ASCCI el 4109 es: ဍ\n",
      "En ASCCI el 4110 es: ဎ\n",
      "En ASCCI el 4111 es: ဏ\n",
      "En ASCCI el 4112 es: တ\n",
      "En ASCCI el 4113 es: ထ\n",
      "En ASCCI el 4114 es: ဒ\n",
      "En ASCCI el 4115 es: ဓ\n",
      "En ASCCI el 4116 es: န\n",
      "En ASCCI el 4117 es: ပ\n",
      "En ASCCI el 4118 es: ဖ\n",
      "En ASCCI el 4119 es: ဗ\n",
      "En ASCCI el 4120 es: ဘ\n",
      "En ASCCI el 4121 es: မ\n",
      "En ASCCI el 4122 es: ယ\n",
      "En ASCCI el 4123 es: ရ\n",
      "En ASCCI el 4124 es: လ\n",
      "En ASCCI el 4125 es: ဝ\n",
      "En ASCCI el 4126 es: သ\n",
      "En ASCCI el 4127 es: ဟ\n",
      "En ASCCI el 4128 es: ဠ\n",
      "En ASCCI el 4129 es: အ\n",
      "En ASCCI el 4130 es: ဢ\n",
      "En ASCCI el 4131 es: ဣ\n",
      "En ASCCI el 4132 es: ဤ\n",
      "En ASCCI el 4133 es: ဥ\n",
      "En ASCCI el 4134 es: ဦ\n",
      "En ASCCI el 4135 es: ဧ\n",
      "En ASCCI el 4136 es: ဨ\n",
      "En ASCCI el 4137 es: ဩ\n",
      "En ASCCI el 4138 es: ဪ\n",
      "En ASCCI el 4139 es: ါ\n",
      "En ASCCI el 4140 es: ာ\n",
      "En ASCCI el 4141 es: ိ\n",
      "En ASCCI el 4142 es: ီ\n",
      "En ASCCI el 4143 es: ု\n",
      "En ASCCI el 4144 es: ူ\n",
      "En ASCCI el 4145 es: ေ\n",
      "En ASCCI el 4146 es: ဲ\n",
      "En ASCCI el 4147 es: ဳ\n",
      "En ASCCI el 4148 es: ဴ\n",
      "En ASCCI el 4149 es: ဵ\n",
      "En ASCCI el 4150 es: ံ\n",
      "En ASCCI el 4151 es: ့\n",
      "En ASCCI el 4152 es: း\n",
      "En ASCCI el 4153 es: ္\n",
      "En ASCCI el 4154 es: ်\n",
      "En ASCCI el 4155 es: ျ\n",
      "En ASCCI el 4156 es: ြ\n",
      "En ASCCI el 4157 es: ွ\n",
      "En ASCCI el 4158 es: ှ\n",
      "En ASCCI el 4159 es: ဿ\n",
      "En ASCCI el 4160 es: ၀\n",
      "En ASCCI el 4161 es: ၁\n",
      "En ASCCI el 4162 es: ၂\n",
      "En ASCCI el 4163 es: ၃\n",
      "En ASCCI el 4164 es: ၄\n",
      "En ASCCI el 4165 es: ၅\n",
      "En ASCCI el 4166 es: ၆\n",
      "En ASCCI el 4167 es: ၇\n",
      "En ASCCI el 4168 es: ၈\n",
      "En ASCCI el 4169 es: ၉\n",
      "En ASCCI el 4170 es: ၊\n",
      "En ASCCI el 4171 es: ။\n",
      "En ASCCI el 4172 es: ၌\n",
      "En ASCCI el 4173 es: ၍\n",
      "En ASCCI el 4174 es: ၎\n",
      "En ASCCI el 4175 es: ၏\n",
      "En ASCCI el 4176 es: ၐ\n",
      "En ASCCI el 4177 es: ၑ\n",
      "En ASCCI el 4178 es: ၒ\n",
      "En ASCCI el 4179 es: ၓ\n",
      "En ASCCI el 4180 es: ၔ\n",
      "En ASCCI el 4181 es: ၕ\n",
      "En ASCCI el 4182 es: ၖ\n",
      "En ASCCI el 4183 es: ၗ\n",
      "En ASCCI el 4184 es: ၘ\n",
      "En ASCCI el 4185 es: ၙ\n",
      "En ASCCI el 4186 es: ၚ\n",
      "En ASCCI el 4187 es: ၛ\n",
      "En ASCCI el 4188 es: ၜ\n",
      "En ASCCI el 4189 es: ၝ\n",
      "En ASCCI el 4190 es: ၞ\n",
      "En ASCCI el 4191 es: ၟ\n",
      "En ASCCI el 4192 es: ၠ\n",
      "En ASCCI el 4193 es: ၡ\n",
      "En ASCCI el 4194 es: ၢ\n",
      "En ASCCI el 4195 es: ၣ\n",
      "En ASCCI el 4196 es: ၤ\n",
      "En ASCCI el 4197 es: ၥ\n",
      "En ASCCI el 4198 es: ၦ\n",
      "En ASCCI el 4199 es: ၧ\n",
      "En ASCCI el 4200 es: ၨ\n",
      "En ASCCI el 4201 es: ၩ\n",
      "En ASCCI el 4202 es: ၪ\n",
      "En ASCCI el 4203 es: ၫ\n",
      "En ASCCI el 4204 es: ၬ\n",
      "En ASCCI el 4205 es: ၭ\n",
      "En ASCCI el 4206 es: ၮ\n",
      "En ASCCI el 4207 es: ၯ\n",
      "En ASCCI el 4208 es: ၰ\n",
      "En ASCCI el 4209 es: ၱ\n",
      "En ASCCI el 4210 es: ၲ\n",
      "En ASCCI el 4211 es: ၳ\n",
      "En ASCCI el 4212 es: ၴ\n",
      "En ASCCI el 4213 es: ၵ\n",
      "En ASCCI el 4214 es: ၶ\n",
      "En ASCCI el 4215 es: ၷ\n",
      "En ASCCI el 4216 es: ၸ\n",
      "En ASCCI el 4217 es: ၹ\n",
      "En ASCCI el 4218 es: ၺ\n",
      "En ASCCI el 4219 es: ၻ\n",
      "En ASCCI el 4220 es: ၼ\n",
      "En ASCCI el 4221 es: ၽ\n",
      "En ASCCI el 4222 es: ၾ\n",
      "En ASCCI el 4223 es: ၿ\n",
      "En ASCCI el 4224 es: ႀ\n",
      "En ASCCI el 4225 es: ႁ\n",
      "En ASCCI el 4226 es: ႂ\n",
      "En ASCCI el 4227 es: ႃ\n",
      "En ASCCI el 4228 es: ႄ\n",
      "En ASCCI el 4229 es: ႅ\n",
      "En ASCCI el 4230 es: ႆ\n",
      "En ASCCI el 4231 es: ႇ\n",
      "En ASCCI el 4232 es: ႈ\n",
      "En ASCCI el 4233 es: ႉ\n",
      "En ASCCI el 4234 es: ႊ\n",
      "En ASCCI el 4235 es: ႋ\n",
      "En ASCCI el 4236 es: ႌ\n",
      "En ASCCI el 4237 es: ႍ\n",
      "En ASCCI el 4238 es: ႎ\n",
      "En ASCCI el 4239 es: ႏ\n",
      "En ASCCI el 4240 es: ႐\n",
      "En ASCCI el 4241 es: ႑\n",
      "En ASCCI el 4242 es: ႒\n",
      "En ASCCI el 4243 es: ႓\n",
      "En ASCCI el 4244 es: ႔\n",
      "En ASCCI el 4245 es: ႕\n",
      "En ASCCI el 4246 es: ႖\n",
      "En ASCCI el 4247 es: ႗\n",
      "En ASCCI el 4248 es: ႘\n",
      "En ASCCI el 4249 es: ႙\n",
      "En ASCCI el 4250 es: ႚ\n",
      "En ASCCI el 4251 es: ႛ\n",
      "En ASCCI el 4252 es: ႜ\n",
      "En ASCCI el 4253 es: ႝ\n",
      "En ASCCI el 4254 es: ႞\n",
      "En ASCCI el 4255 es: ႟\n",
      "En ASCCI el 4256 es: Ⴀ\n",
      "En ASCCI el 4257 es: Ⴁ\n",
      "En ASCCI el 4258 es: Ⴂ\n",
      "En ASCCI el 4259 es: Ⴃ\n",
      "En ASCCI el 4260 es: Ⴄ\n",
      "En ASCCI el 4261 es: Ⴅ\n",
      "En ASCCI el 4262 es: Ⴆ\n",
      "En ASCCI el 4263 es: Ⴇ\n",
      "En ASCCI el 4264 es: Ⴈ\n",
      "En ASCCI el 4265 es: Ⴉ\n",
      "En ASCCI el 4266 es: Ⴊ\n",
      "En ASCCI el 4267 es: Ⴋ\n",
      "En ASCCI el 4268 es: Ⴌ\n",
      "En ASCCI el 4269 es: Ⴍ\n",
      "En ASCCI el 4270 es: Ⴎ\n",
      "En ASCCI el 4271 es: Ⴏ\n",
      "En ASCCI el 4272 es: Ⴐ\n",
      "En ASCCI el 4273 es: Ⴑ\n",
      "En ASCCI el 4274 es: Ⴒ\n",
      "En ASCCI el 4275 es: Ⴓ\n",
      "En ASCCI el 4276 es: Ⴔ\n",
      "En ASCCI el 4277 es: Ⴕ\n",
      "En ASCCI el 4278 es: Ⴖ\n",
      "En ASCCI el 4279 es: Ⴗ\n",
      "En ASCCI el 4280 es: Ⴘ\n",
      "En ASCCI el 4281 es: Ⴙ\n",
      "En ASCCI el 4282 es: Ⴚ\n",
      "En ASCCI el 4283 es: Ⴛ\n",
      "En ASCCI el 4284 es: Ⴜ\n",
      "En ASCCI el 4285 es: Ⴝ\n",
      "En ASCCI el 4286 es: Ⴞ\n",
      "En ASCCI el 4287 es: Ⴟ\n",
      "En ASCCI el 4288 es: Ⴠ\n",
      "En ASCCI el 4289 es: Ⴡ\n",
      "En ASCCI el 4290 es: Ⴢ\n",
      "En ASCCI el 4291 es: Ⴣ\n",
      "En ASCCI el 4292 es: Ⴤ\n",
      "En ASCCI el 4293 es: Ⴥ\n",
      "En ASCCI el 4294 es: ჆\n",
      "En ASCCI el 4295 es: Ⴧ\n",
      "En ASCCI el 4296 es: ჈\n",
      "En ASCCI el 4297 es: ჉\n",
      "En ASCCI el 4298 es: ჊\n",
      "En ASCCI el 4299 es: ჋\n",
      "En ASCCI el 4300 es: ჌\n",
      "En ASCCI el 4301 es: Ⴭ\n",
      "En ASCCI el 4302 es: ჎\n",
      "En ASCCI el 4303 es: ჏\n",
      "En ASCCI el 4304 es: ა\n",
      "En ASCCI el 4305 es: ბ\n",
      "En ASCCI el 4306 es: გ\n",
      "En ASCCI el 4307 es: დ\n",
      "En ASCCI el 4308 es: ე\n",
      "En ASCCI el 4309 es: ვ\n",
      "En ASCCI el 4310 es: ზ\n",
      "En ASCCI el 4311 es: თ\n",
      "En ASCCI el 4312 es: ი\n",
      "En ASCCI el 4313 es: კ\n",
      "En ASCCI el 4314 es: ლ\n",
      "En ASCCI el 4315 es: მ\n",
      "En ASCCI el 4316 es: ნ\n",
      "En ASCCI el 4317 es: ო\n",
      "En ASCCI el 4318 es: პ\n",
      "En ASCCI el 4319 es: ჟ\n",
      "En ASCCI el 4320 es: რ\n",
      "En ASCCI el 4321 es: ს\n",
      "En ASCCI el 4322 es: ტ\n",
      "En ASCCI el 4323 es: უ\n",
      "En ASCCI el 4324 es: ფ\n",
      "En ASCCI el 4325 es: ქ\n",
      "En ASCCI el 4326 es: ღ\n",
      "En ASCCI el 4327 es: ყ\n",
      "En ASCCI el 4328 es: შ\n",
      "En ASCCI el 4329 es: ჩ\n",
      "En ASCCI el 4330 es: ც\n",
      "En ASCCI el 4331 es: ძ\n",
      "En ASCCI el 4332 es: წ\n",
      "En ASCCI el 4333 es: ჭ\n",
      "En ASCCI el 4334 es: ხ\n",
      "En ASCCI el 4335 es: ჯ\n",
      "En ASCCI el 4336 es: ჰ\n",
      "En ASCCI el 4337 es: ჱ\n",
      "En ASCCI el 4338 es: ჲ\n",
      "En ASCCI el 4339 es: ჳ\n",
      "En ASCCI el 4340 es: ჴ\n",
      "En ASCCI el 4341 es: ჵ\n",
      "En ASCCI el 4342 es: ჶ\n",
      "En ASCCI el 4343 es: ჷ\n",
      "En ASCCI el 4344 es: ჸ\n",
      "En ASCCI el 4345 es: ჹ\n",
      "En ASCCI el 4346 es: ჺ\n",
      "En ASCCI el 4347 es: ჻\n",
      "En ASCCI el 4348 es: ჼ\n",
      "En ASCCI el 4349 es: ჽ\n",
      "En ASCCI el 4350 es: ჾ\n",
      "En ASCCI el 4351 es: ჿ\n",
      "En ASCCI el 4352 es: ᄀ\n",
      "En ASCCI el 4353 es: ᄁ\n",
      "En ASCCI el 4354 es: ᄂ\n",
      "En ASCCI el 4355 es: ᄃ\n",
      "En ASCCI el 4356 es: ᄄ\n",
      "En ASCCI el 4357 es: ᄅ\n",
      "En ASCCI el 4358 es: ᄆ\n",
      "En ASCCI el 4359 es: ᄇ\n",
      "En ASCCI el 4360 es: ᄈ\n",
      "En ASCCI el 4361 es: ᄉ\n",
      "En ASCCI el 4362 es: ᄊ\n",
      "En ASCCI el 4363 es: ᄋ\n",
      "En ASCCI el 4364 es: ᄌ\n",
      "En ASCCI el 4365 es: ᄍ\n",
      "En ASCCI el 4366 es: ᄎ\n",
      "En ASCCI el 4367 es: ᄏ\n",
      "En ASCCI el 4368 es: ᄐ\n",
      "En ASCCI el 4369 es: ᄑ\n",
      "En ASCCI el 4370 es: ᄒ\n",
      "En ASCCI el 4371 es: ᄓ\n",
      "En ASCCI el 4372 es: ᄔ\n",
      "En ASCCI el 4373 es: ᄕ\n",
      "En ASCCI el 4374 es: ᄖ\n",
      "En ASCCI el 4375 es: ᄗ\n",
      "En ASCCI el 4376 es: ᄘ\n",
      "En ASCCI el 4377 es: ᄙ\n",
      "En ASCCI el 4378 es: ᄚ\n",
      "En ASCCI el 4379 es: ᄛ\n",
      "En ASCCI el 4380 es: ᄜ\n",
      "En ASCCI el 4381 es: ᄝ\n",
      "En ASCCI el 4382 es: ᄞ\n",
      "En ASCCI el 4383 es: ᄟ\n",
      "En ASCCI el 4384 es: ᄠ\n",
      "En ASCCI el 4385 es: ᄡ\n",
      "En ASCCI el 4386 es: ᄢ\n",
      "En ASCCI el 4387 es: ᄣ\n",
      "En ASCCI el 4388 es: ᄤ\n",
      "En ASCCI el 4389 es: ᄥ\n",
      "En ASCCI el 4390 es: ᄦ\n",
      "En ASCCI el 4391 es: ᄧ\n",
      "En ASCCI el 4392 es: ᄨ\n",
      "En ASCCI el 4393 es: ᄩ\n",
      "En ASCCI el 4394 es: ᄪ\n",
      "En ASCCI el 4395 es: ᄫ\n",
      "En ASCCI el 4396 es: ᄬ\n",
      "En ASCCI el 4397 es: ᄭ\n",
      "En ASCCI el 4398 es: ᄮ\n",
      "En ASCCI el 4399 es: ᄯ\n",
      "En ASCCI el 4400 es: ᄰ\n",
      "En ASCCI el 4401 es: ᄱ\n",
      "En ASCCI el 4402 es: ᄲ\n",
      "En ASCCI el 4403 es: ᄳ\n",
      "En ASCCI el 4404 es: ᄴ\n",
      "En ASCCI el 4405 es: ᄵ\n",
      "En ASCCI el 4406 es: ᄶ\n",
      "En ASCCI el 4407 es: ᄷ\n",
      "En ASCCI el 4408 es: ᄸ\n",
      "En ASCCI el 4409 es: ᄹ\n",
      "En ASCCI el 4410 es: ᄺ\n",
      "En ASCCI el 4411 es: ᄻ\n",
      "En ASCCI el 4412 es: ᄼ\n",
      "En ASCCI el 4413 es: ᄽ\n",
      "En ASCCI el 4414 es: ᄾ\n",
      "En ASCCI el 4415 es: ᄿ\n",
      "En ASCCI el 4416 es: ᅀ\n",
      "En ASCCI el 4417 es: ᅁ\n",
      "En ASCCI el 4418 es: ᅂ\n",
      "En ASCCI el 4419 es: ᅃ\n",
      "En ASCCI el 4420 es: ᅄ\n",
      "En ASCCI el 4421 es: ᅅ\n",
      "En ASCCI el 4422 es: ᅆ\n",
      "En ASCCI el 4423 es: ᅇ\n",
      "En ASCCI el 4424 es: ᅈ\n",
      "En ASCCI el 4425 es: ᅉ\n",
      "En ASCCI el 4426 es: ᅊ\n",
      "En ASCCI el 4427 es: ᅋ\n",
      "En ASCCI el 4428 es: ᅌ\n",
      "En ASCCI el 4429 es: ᅍ\n",
      "En ASCCI el 4430 es: ᅎ\n",
      "En ASCCI el 4431 es: ᅏ\n",
      "En ASCCI el 4432 es: ᅐ\n",
      "En ASCCI el 4433 es: ᅑ\n",
      "En ASCCI el 4434 es: ᅒ\n",
      "En ASCCI el 4435 es: ᅓ\n",
      "En ASCCI el 4436 es: ᅔ\n",
      "En ASCCI el 4437 es: ᅕ\n",
      "En ASCCI el 4438 es: ᅖ\n",
      "En ASCCI el 4439 es: ᅗ\n",
      "En ASCCI el 4440 es: ᅘ\n",
      "En ASCCI el 4441 es: ᅙ\n",
      "En ASCCI el 4442 es: ᅚ\n",
      "En ASCCI el 4443 es: ᅛ\n",
      "En ASCCI el 4444 es: ᅜ\n",
      "En ASCCI el 4445 es: ᅝ\n",
      "En ASCCI el 4446 es: ᅞ\n",
      "En ASCCI el 4447 es: ᅟ\n",
      "En ASCCI el 4448 es: ᅠ\n",
      "En ASCCI el 4449 es: ᅡ\n",
      "En ASCCI el 4450 es: ᅢ\n",
      "En ASCCI el 4451 es: ᅣ\n",
      "En ASCCI el 4452 es: ᅤ\n",
      "En ASCCI el 4453 es: ᅥ\n",
      "En ASCCI el 4454 es: ᅦ\n",
      "En ASCCI el 4455 es: ᅧ\n",
      "En ASCCI el 4456 es: ᅨ\n",
      "En ASCCI el 4457 es: ᅩ\n",
      "En ASCCI el 4458 es: ᅪ\n",
      "En ASCCI el 4459 es: ᅫ\n",
      "En ASCCI el 4460 es: ᅬ\n",
      "En ASCCI el 4461 es: ᅭ\n",
      "En ASCCI el 4462 es: ᅮ\n",
      "En ASCCI el 4463 es: ᅯ\n",
      "En ASCCI el 4464 es: ᅰ\n",
      "En ASCCI el 4465 es: ᅱ\n",
      "En ASCCI el 4466 es: ᅲ\n",
      "En ASCCI el 4467 es: ᅳ\n",
      "En ASCCI el 4468 es: ᅴ\n",
      "En ASCCI el 4469 es: ᅵ\n",
      "En ASCCI el 4470 es: ᅶ\n",
      "En ASCCI el 4471 es: ᅷ\n",
      "En ASCCI el 4472 es: ᅸ\n",
      "En ASCCI el 4473 es: ᅹ\n",
      "En ASCCI el 4474 es: ᅺ\n",
      "En ASCCI el 4475 es: ᅻ\n",
      "En ASCCI el 4476 es: ᅼ\n",
      "En ASCCI el 4477 es: ᅽ\n",
      "En ASCCI el 4478 es: ᅾ\n",
      "En ASCCI el 4479 es: ᅿ\n",
      "En ASCCI el 4480 es: ᆀ\n",
      "En ASCCI el 4481 es: ᆁ\n",
      "En ASCCI el 4482 es: ᆂ\n",
      "En ASCCI el 4483 es: ᆃ\n",
      "En ASCCI el 4484 es: ᆄ\n",
      "En ASCCI el 4485 es: ᆅ\n",
      "En ASCCI el 4486 es: ᆆ\n",
      "En ASCCI el 4487 es: ᆇ\n",
      "En ASCCI el 4488 es: ᆈ\n",
      "En ASCCI el 4489 es: ᆉ\n",
      "En ASCCI el 4490 es: ᆊ\n",
      "En ASCCI el 4491 es: ᆋ\n",
      "En ASCCI el 4492 es: ᆌ\n",
      "En ASCCI el 4493 es: ᆍ\n",
      "En ASCCI el 4494 es: ᆎ\n",
      "En ASCCI el 4495 es: ᆏ\n",
      "En ASCCI el 4496 es: ᆐ\n",
      "En ASCCI el 4497 es: ᆑ\n",
      "En ASCCI el 4498 es: ᆒ\n",
      "En ASCCI el 4499 es: ᆓ\n",
      "En ASCCI el 4500 es: ᆔ\n",
      "En ASCCI el 4501 es: ᆕ\n",
      "En ASCCI el 4502 es: ᆖ\n",
      "En ASCCI el 4503 es: ᆗ\n",
      "En ASCCI el 4504 es: ᆘ\n",
      "En ASCCI el 4505 es: ᆙ\n",
      "En ASCCI el 4506 es: ᆚ\n",
      "En ASCCI el 4507 es: ᆛ\n",
      "En ASCCI el 4508 es: ᆜ\n",
      "En ASCCI el 4509 es: ᆝ\n",
      "En ASCCI el 4510 es: ᆞ\n",
      "En ASCCI el 4511 es: ᆟ\n",
      "En ASCCI el 4512 es: ᆠ\n",
      "En ASCCI el 4513 es: ᆡ\n",
      "En ASCCI el 4514 es: ᆢ\n",
      "En ASCCI el 4515 es: ᆣ\n",
      "En ASCCI el 4516 es: ᆤ\n",
      "En ASCCI el 4517 es: ᆥ\n",
      "En ASCCI el 4518 es: ᆦ\n",
      "En ASCCI el 4519 es: ᆧ\n",
      "En ASCCI el 4520 es: ᆨ\n",
      "En ASCCI el 4521 es: ᆩ\n",
      "En ASCCI el 4522 es: ᆪ\n",
      "En ASCCI el 4523 es: ᆫ\n",
      "En ASCCI el 4524 es: ᆬ\n",
      "En ASCCI el 4525 es: ᆭ\n",
      "En ASCCI el 4526 es: ᆮ\n",
      "En ASCCI el 4527 es: ᆯ\n",
      "En ASCCI el 4528 es: ᆰ\n",
      "En ASCCI el 4529 es: ᆱ\n",
      "En ASCCI el 4530 es: ᆲ\n",
      "En ASCCI el 4531 es: ᆳ\n",
      "En ASCCI el 4532 es: ᆴ\n",
      "En ASCCI el 4533 es: ᆵ\n",
      "En ASCCI el 4534 es: ᆶ\n",
      "En ASCCI el 4535 es: ᆷ\n",
      "En ASCCI el 4536 es: ᆸ\n",
      "En ASCCI el 4537 es: ᆹ\n",
      "En ASCCI el 4538 es: ᆺ\n",
      "En ASCCI el 4539 es: ᆻ\n",
      "En ASCCI el 4540 es: ᆼ\n",
      "En ASCCI el 4541 es: ᆽ\n",
      "En ASCCI el 4542 es: ᆾ\n",
      "En ASCCI el 4543 es: ᆿ\n",
      "En ASCCI el 4544 es: ᇀ\n",
      "En ASCCI el 4545 es: ᇁ\n",
      "En ASCCI el 4546 es: ᇂ\n",
      "En ASCCI el 4547 es: ᇃ\n",
      "En ASCCI el 4548 es: ᇄ\n",
      "En ASCCI el 4549 es: ᇅ\n",
      "En ASCCI el 4550 es: ᇆ\n",
      "En ASCCI el 4551 es: ᇇ\n",
      "En ASCCI el 4552 es: ᇈ\n",
      "En ASCCI el 4553 es: ᇉ\n",
      "En ASCCI el 4554 es: ᇊ\n",
      "En ASCCI el 4555 es: ᇋ\n",
      "En ASCCI el 4556 es: ᇌ\n",
      "En ASCCI el 4557 es: ᇍ\n",
      "En ASCCI el 4558 es: ᇎ\n",
      "En ASCCI el 4559 es: ᇏ\n",
      "En ASCCI el 4560 es: ᇐ\n",
      "En ASCCI el 4561 es: ᇑ\n",
      "En ASCCI el 4562 es: ᇒ\n",
      "En ASCCI el 4563 es: ᇓ\n",
      "En ASCCI el 4564 es: ᇔ\n",
      "En ASCCI el 4565 es: ᇕ\n",
      "En ASCCI el 4566 es: ᇖ\n",
      "En ASCCI el 4567 es: ᇗ\n",
      "En ASCCI el 4568 es: ᇘ\n",
      "En ASCCI el 4569 es: ᇙ\n",
      "En ASCCI el 4570 es: ᇚ\n",
      "En ASCCI el 4571 es: ᇛ\n",
      "En ASCCI el 4572 es: ᇜ\n",
      "En ASCCI el 4573 es: ᇝ\n",
      "En ASCCI el 4574 es: ᇞ\n",
      "En ASCCI el 4575 es: ᇟ\n",
      "En ASCCI el 4576 es: ᇠ\n",
      "En ASCCI el 4577 es: ᇡ\n",
      "En ASCCI el 4578 es: ᇢ\n",
      "En ASCCI el 4579 es: ᇣ\n",
      "En ASCCI el 4580 es: ᇤ\n",
      "En ASCCI el 4581 es: ᇥ\n",
      "En ASCCI el 4582 es: ᇦ\n",
      "En ASCCI el 4583 es: ᇧ\n",
      "En ASCCI el 4584 es: ᇨ\n",
      "En ASCCI el 4585 es: ᇩ\n",
      "En ASCCI el 4586 es: ᇪ\n",
      "En ASCCI el 4587 es: ᇫ\n",
      "En ASCCI el 4588 es: ᇬ\n",
      "En ASCCI el 4589 es: ᇭ\n",
      "En ASCCI el 4590 es: ᇮ\n",
      "En ASCCI el 4591 es: ᇯ\n",
      "En ASCCI el 4592 es: ᇰ\n",
      "En ASCCI el 4593 es: ᇱ\n",
      "En ASCCI el 4594 es: ᇲ\n",
      "En ASCCI el 4595 es: ᇳ\n",
      "En ASCCI el 4596 es: ᇴ\n",
      "En ASCCI el 4597 es: ᇵ\n",
      "En ASCCI el 4598 es: ᇶ\n",
      "En ASCCI el 4599 es: ᇷ\n",
      "En ASCCI el 4600 es: ᇸ\n",
      "En ASCCI el 4601 es: ᇹ\n",
      "En ASCCI el 4602 es: ᇺ\n",
      "En ASCCI el 4603 es: ᇻ\n",
      "En ASCCI el 4604 es: ᇼ\n",
      "En ASCCI el 4605 es: ᇽ\n",
      "En ASCCI el 4606 es: ᇾ\n",
      "En ASCCI el 4607 es: ᇿ\n",
      "En ASCCI el 4608 es: ሀ\n",
      "En ASCCI el 4609 es: ሁ\n",
      "En ASCCI el 4610 es: ሂ\n",
      "En ASCCI el 4611 es: ሃ\n",
      "En ASCCI el 4612 es: ሄ\n",
      "En ASCCI el 4613 es: ህ\n",
      "En ASCCI el 4614 es: ሆ\n",
      "En ASCCI el 4615 es: ሇ\n",
      "En ASCCI el 4616 es: ለ\n",
      "En ASCCI el 4617 es: ሉ\n",
      "En ASCCI el 4618 es: ሊ\n",
      "En ASCCI el 4619 es: ላ\n",
      "En ASCCI el 4620 es: ሌ\n",
      "En ASCCI el 4621 es: ል\n",
      "En ASCCI el 4622 es: ሎ\n",
      "En ASCCI el 4623 es: ሏ\n",
      "En ASCCI el 4624 es: ሐ\n",
      "En ASCCI el 4625 es: ሑ\n",
      "En ASCCI el 4626 es: ሒ\n",
      "En ASCCI el 4627 es: ሓ\n",
      "En ASCCI el 4628 es: ሔ\n",
      "En ASCCI el 4629 es: ሕ\n",
      "En ASCCI el 4630 es: ሖ\n",
      "En ASCCI el 4631 es: ሗ\n",
      "En ASCCI el 4632 es: መ\n",
      "En ASCCI el 4633 es: ሙ\n",
      "En ASCCI el 4634 es: ሚ\n",
      "En ASCCI el 4635 es: ማ\n",
      "En ASCCI el 4636 es: ሜ\n",
      "En ASCCI el 4637 es: ም\n",
      "En ASCCI el 4638 es: ሞ\n",
      "En ASCCI el 4639 es: ሟ\n",
      "En ASCCI el 4640 es: ሠ\n",
      "En ASCCI el 4641 es: ሡ\n",
      "En ASCCI el 4642 es: ሢ\n",
      "En ASCCI el 4643 es: ሣ\n",
      "En ASCCI el 4644 es: ሤ\n",
      "En ASCCI el 4645 es: ሥ\n",
      "En ASCCI el 4646 es: ሦ\n",
      "En ASCCI el 4647 es: ሧ\n",
      "En ASCCI el 4648 es: ረ\n",
      "En ASCCI el 4649 es: ሩ\n",
      "En ASCCI el 4650 es: ሪ\n",
      "En ASCCI el 4651 es: ራ\n",
      "En ASCCI el 4652 es: ሬ\n",
      "En ASCCI el 4653 es: ር\n",
      "En ASCCI el 4654 es: ሮ\n",
      "En ASCCI el 4655 es: ሯ\n",
      "En ASCCI el 4656 es: ሰ\n",
      "En ASCCI el 4657 es: ሱ\n",
      "En ASCCI el 4658 es: ሲ\n",
      "En ASCCI el 4659 es: ሳ\n",
      "En ASCCI el 4660 es: ሴ\n",
      "En ASCCI el 4661 es: ስ\n",
      "En ASCCI el 4662 es: ሶ\n",
      "En ASCCI el 4663 es: ሷ\n",
      "En ASCCI el 4664 es: ሸ\n",
      "En ASCCI el 4665 es: ሹ\n",
      "En ASCCI el 4666 es: ሺ\n",
      "En ASCCI el 4667 es: ሻ\n",
      "En ASCCI el 4668 es: ሼ\n",
      "En ASCCI el 4669 es: ሽ\n",
      "En ASCCI el 4670 es: ሾ\n",
      "En ASCCI el 4671 es: ሿ\n",
      "En ASCCI el 4672 es: ቀ\n",
      "En ASCCI el 4673 es: ቁ\n",
      "En ASCCI el 4674 es: ቂ\n",
      "En ASCCI el 4675 es: ቃ\n",
      "En ASCCI el 4676 es: ቄ\n",
      "En ASCCI el 4677 es: ቅ\n",
      "En ASCCI el 4678 es: ቆ\n",
      "En ASCCI el 4679 es: ቇ\n",
      "En ASCCI el 4680 es: ቈ\n",
      "En ASCCI el 4681 es: ቉\n",
      "En ASCCI el 4682 es: ቊ\n",
      "En ASCCI el 4683 es: ቋ\n",
      "En ASCCI el 4684 es: ቌ\n",
      "En ASCCI el 4685 es: ቍ\n",
      "En ASCCI el 4686 es: ቎\n",
      "En ASCCI el 4687 es: ቏\n",
      "En ASCCI el 4688 es: ቐ\n",
      "En ASCCI el 4689 es: ቑ\n",
      "En ASCCI el 4690 es: ቒ\n",
      "En ASCCI el 4691 es: ቓ\n",
      "En ASCCI el 4692 es: ቔ\n",
      "En ASCCI el 4693 es: ቕ\n",
      "En ASCCI el 4694 es: ቖ\n",
      "En ASCCI el 4695 es: ቗\n",
      "En ASCCI el 4696 es: ቘ\n"
     ]
    },
    {
     "name": "stdout",
     "output_type": "stream",
     "text": [
      "En ASCCI el 4697 es: ቙\n",
      "En ASCCI el 4698 es: ቚ\n",
      "En ASCCI el 4699 es: ቛ\n",
      "En ASCCI el 4700 es: ቜ\n",
      "En ASCCI el 4701 es: ቝ\n",
      "En ASCCI el 4702 es: ቞\n",
      "En ASCCI el 4703 es: ቟\n",
      "En ASCCI el 4704 es: በ\n",
      "En ASCCI el 4705 es: ቡ\n",
      "En ASCCI el 4706 es: ቢ\n",
      "En ASCCI el 4707 es: ባ\n",
      "En ASCCI el 4708 es: ቤ\n",
      "En ASCCI el 4709 es: ብ\n",
      "En ASCCI el 4710 es: ቦ\n",
      "En ASCCI el 4711 es: ቧ\n",
      "En ASCCI el 4712 es: ቨ\n",
      "En ASCCI el 4713 es: ቩ\n",
      "En ASCCI el 4714 es: ቪ\n",
      "En ASCCI el 4715 es: ቫ\n",
      "En ASCCI el 4716 es: ቬ\n",
      "En ASCCI el 4717 es: ቭ\n",
      "En ASCCI el 4718 es: ቮ\n",
      "En ASCCI el 4719 es: ቯ\n",
      "En ASCCI el 4720 es: ተ\n",
      "En ASCCI el 4721 es: ቱ\n",
      "En ASCCI el 4722 es: ቲ\n",
      "En ASCCI el 4723 es: ታ\n",
      "En ASCCI el 4724 es: ቴ\n",
      "En ASCCI el 4725 es: ት\n",
      "En ASCCI el 4726 es: ቶ\n",
      "En ASCCI el 4727 es: ቷ\n",
      "En ASCCI el 4728 es: ቸ\n",
      "En ASCCI el 4729 es: ቹ\n",
      "En ASCCI el 4730 es: ቺ\n",
      "En ASCCI el 4731 es: ቻ\n",
      "En ASCCI el 4732 es: ቼ\n",
      "En ASCCI el 4733 es: ች\n",
      "En ASCCI el 4734 es: ቾ\n",
      "En ASCCI el 4735 es: ቿ\n",
      "En ASCCI el 4736 es: ኀ\n",
      "En ASCCI el 4737 es: ኁ\n",
      "En ASCCI el 4738 es: ኂ\n",
      "En ASCCI el 4739 es: ኃ\n",
      "En ASCCI el 4740 es: ኄ\n",
      "En ASCCI el 4741 es: ኅ\n",
      "En ASCCI el 4742 es: ኆ\n",
      "En ASCCI el 4743 es: ኇ\n",
      "En ASCCI el 4744 es: ኈ\n",
      "En ASCCI el 4745 es: ኉\n",
      "En ASCCI el 4746 es: ኊ\n",
      "En ASCCI el 4747 es: ኋ\n",
      "En ASCCI el 4748 es: ኌ\n",
      "En ASCCI el 4749 es: ኍ\n",
      "En ASCCI el 4750 es: ኎\n",
      "En ASCCI el 4751 es: ኏\n",
      "En ASCCI el 4752 es: ነ\n",
      "En ASCCI el 4753 es: ኑ\n",
      "En ASCCI el 4754 es: ኒ\n",
      "En ASCCI el 4755 es: ና\n",
      "En ASCCI el 4756 es: ኔ\n",
      "En ASCCI el 4757 es: ን\n",
      "En ASCCI el 4758 es: ኖ\n",
      "En ASCCI el 4759 es: ኗ\n",
      "En ASCCI el 4760 es: ኘ\n",
      "En ASCCI el 4761 es: ኙ\n",
      "En ASCCI el 4762 es: ኚ\n",
      "En ASCCI el 4763 es: ኛ\n",
      "En ASCCI el 4764 es: ኜ\n",
      "En ASCCI el 4765 es: ኝ\n",
      "En ASCCI el 4766 es: ኞ\n",
      "En ASCCI el 4767 es: ኟ\n",
      "En ASCCI el 4768 es: አ\n",
      "En ASCCI el 4769 es: ኡ\n",
      "En ASCCI el 4770 es: ኢ\n",
      "En ASCCI el 4771 es: ኣ\n",
      "En ASCCI el 4772 es: ኤ\n",
      "En ASCCI el 4773 es: እ\n",
      "En ASCCI el 4774 es: ኦ\n",
      "En ASCCI el 4775 es: ኧ\n",
      "En ASCCI el 4776 es: ከ\n",
      "En ASCCI el 4777 es: ኩ\n",
      "En ASCCI el 4778 es: ኪ\n",
      "En ASCCI el 4779 es: ካ\n",
      "En ASCCI el 4780 es: ኬ\n",
      "En ASCCI el 4781 es: ክ\n",
      "En ASCCI el 4782 es: ኮ\n",
      "En ASCCI el 4783 es: ኯ\n",
      "En ASCCI el 4784 es: ኰ\n",
      "En ASCCI el 4785 es: ኱\n",
      "En ASCCI el 4786 es: ኲ\n",
      "En ASCCI el 4787 es: ኳ\n",
      "En ASCCI el 4788 es: ኴ\n",
      "En ASCCI el 4789 es: ኵ\n",
      "En ASCCI el 4790 es: ኶\n",
      "En ASCCI el 4791 es: ኷\n",
      "En ASCCI el 4792 es: ኸ\n",
      "En ASCCI el 4793 es: ኹ\n",
      "En ASCCI el 4794 es: ኺ\n",
      "En ASCCI el 4795 es: ኻ\n",
      "En ASCCI el 4796 es: ኼ\n",
      "En ASCCI el 4797 es: ኽ\n",
      "En ASCCI el 4798 es: ኾ\n",
      "En ASCCI el 4799 es: ኿\n",
      "En ASCCI el 4800 es: ዀ\n",
      "En ASCCI el 4801 es: ዁\n",
      "En ASCCI el 4802 es: ዂ\n",
      "En ASCCI el 4803 es: ዃ\n",
      "En ASCCI el 4804 es: ዄ\n",
      "En ASCCI el 4805 es: ዅ\n",
      "En ASCCI el 4806 es: ዆\n",
      "En ASCCI el 4807 es: ዇\n",
      "En ASCCI el 4808 es: ወ\n",
      "En ASCCI el 4809 es: ዉ\n",
      "En ASCCI el 4810 es: ዊ\n",
      "En ASCCI el 4811 es: ዋ\n",
      "En ASCCI el 4812 es: ዌ\n",
      "En ASCCI el 4813 es: ው\n",
      "En ASCCI el 4814 es: ዎ\n",
      "En ASCCI el 4815 es: ዏ\n",
      "En ASCCI el 4816 es: ዐ\n",
      "En ASCCI el 4817 es: ዑ\n",
      "En ASCCI el 4818 es: ዒ\n",
      "En ASCCI el 4819 es: ዓ\n",
      "En ASCCI el 4820 es: ዔ\n",
      "En ASCCI el 4821 es: ዕ\n",
      "En ASCCI el 4822 es: ዖ\n",
      "En ASCCI el 4823 es: ዗\n",
      "En ASCCI el 4824 es: ዘ\n",
      "En ASCCI el 4825 es: ዙ\n",
      "En ASCCI el 4826 es: ዚ\n",
      "En ASCCI el 4827 es: ዛ\n",
      "En ASCCI el 4828 es: ዜ\n",
      "En ASCCI el 4829 es: ዝ\n",
      "En ASCCI el 4830 es: ዞ\n",
      "En ASCCI el 4831 es: ዟ\n",
      "En ASCCI el 4832 es: ዠ\n",
      "En ASCCI el 4833 es: ዡ\n",
      "En ASCCI el 4834 es: ዢ\n",
      "En ASCCI el 4835 es: ዣ\n",
      "En ASCCI el 4836 es: ዤ\n",
      "En ASCCI el 4837 es: ዥ\n",
      "En ASCCI el 4838 es: ዦ\n",
      "En ASCCI el 4839 es: ዧ\n",
      "En ASCCI el 4840 es: የ\n",
      "En ASCCI el 4841 es: ዩ\n",
      "En ASCCI el 4842 es: ዪ\n",
      "En ASCCI el 4843 es: ያ\n",
      "En ASCCI el 4844 es: ዬ\n",
      "En ASCCI el 4845 es: ይ\n",
      "En ASCCI el 4846 es: ዮ\n",
      "En ASCCI el 4847 es: ዯ\n",
      "En ASCCI el 4848 es: ደ\n",
      "En ASCCI el 4849 es: ዱ\n",
      "En ASCCI el 4850 es: ዲ\n",
      "En ASCCI el 4851 es: ዳ\n",
      "En ASCCI el 4852 es: ዴ\n",
      "En ASCCI el 4853 es: ድ\n",
      "En ASCCI el 4854 es: ዶ\n",
      "En ASCCI el 4855 es: ዷ\n",
      "En ASCCI el 4856 es: ዸ\n",
      "En ASCCI el 4857 es: ዹ\n",
      "En ASCCI el 4858 es: ዺ\n",
      "En ASCCI el 4859 es: ዻ\n",
      "En ASCCI el 4860 es: ዼ\n",
      "En ASCCI el 4861 es: ዽ\n",
      "En ASCCI el 4862 es: ዾ\n",
      "En ASCCI el 4863 es: ዿ\n",
      "En ASCCI el 4864 es: ጀ\n",
      "En ASCCI el 4865 es: ጁ\n",
      "En ASCCI el 4866 es: ጂ\n",
      "En ASCCI el 4867 es: ጃ\n",
      "En ASCCI el 4868 es: ጄ\n",
      "En ASCCI el 4869 es: ጅ\n",
      "En ASCCI el 4870 es: ጆ\n",
      "En ASCCI el 4871 es: ጇ\n",
      "En ASCCI el 4872 es: ገ\n",
      "En ASCCI el 4873 es: ጉ\n",
      "En ASCCI el 4874 es: ጊ\n",
      "En ASCCI el 4875 es: ጋ\n",
      "En ASCCI el 4876 es: ጌ\n",
      "En ASCCI el 4877 es: ግ\n",
      "En ASCCI el 4878 es: ጎ\n",
      "En ASCCI el 4879 es: ጏ\n",
      "En ASCCI el 4880 es: ጐ\n",
      "En ASCCI el 4881 es: ጑\n",
      "En ASCCI el 4882 es: ጒ\n",
      "En ASCCI el 4883 es: ጓ\n",
      "En ASCCI el 4884 es: ጔ\n",
      "En ASCCI el 4885 es: ጕ\n",
      "En ASCCI el 4886 es: ጖\n",
      "En ASCCI el 4887 es: ጗\n",
      "En ASCCI el 4888 es: ጘ\n",
      "En ASCCI el 4889 es: ጙ\n",
      "En ASCCI el 4890 es: ጚ\n",
      "En ASCCI el 4891 es: ጛ\n",
      "En ASCCI el 4892 es: ጜ\n",
      "En ASCCI el 4893 es: ጝ\n",
      "En ASCCI el 4894 es: ጞ\n",
      "En ASCCI el 4895 es: ጟ\n",
      "En ASCCI el 4896 es: ጠ\n",
      "En ASCCI el 4897 es: ጡ\n",
      "En ASCCI el 4898 es: ጢ\n",
      "En ASCCI el 4899 es: ጣ\n",
      "En ASCCI el 4900 es: ጤ\n",
      "En ASCCI el 4901 es: ጥ\n",
      "En ASCCI el 4902 es: ጦ\n",
      "En ASCCI el 4903 es: ጧ\n",
      "En ASCCI el 4904 es: ጨ\n",
      "En ASCCI el 4905 es: ጩ\n",
      "En ASCCI el 4906 es: ጪ\n",
      "En ASCCI el 4907 es: ጫ\n",
      "En ASCCI el 4908 es: ጬ\n",
      "En ASCCI el 4909 es: ጭ\n",
      "En ASCCI el 4910 es: ጮ\n",
      "En ASCCI el 4911 es: ጯ\n",
      "En ASCCI el 4912 es: ጰ\n",
      "En ASCCI el 4913 es: ጱ\n",
      "En ASCCI el 4914 es: ጲ\n",
      "En ASCCI el 4915 es: ጳ\n",
      "En ASCCI el 4916 es: ጴ\n",
      "En ASCCI el 4917 es: ጵ\n",
      "En ASCCI el 4918 es: ጶ\n",
      "En ASCCI el 4919 es: ጷ\n",
      "En ASCCI el 4920 es: ጸ\n",
      "En ASCCI el 4921 es: ጹ\n",
      "En ASCCI el 4922 es: ጺ\n",
      "En ASCCI el 4923 es: ጻ\n",
      "En ASCCI el 4924 es: ጼ\n",
      "En ASCCI el 4925 es: ጽ\n",
      "En ASCCI el 4926 es: ጾ\n",
      "En ASCCI el 4927 es: ጿ\n",
      "En ASCCI el 4928 es: ፀ\n",
      "En ASCCI el 4929 es: ፁ\n",
      "En ASCCI el 4930 es: ፂ\n",
      "En ASCCI el 4931 es: ፃ\n",
      "En ASCCI el 4932 es: ፄ\n",
      "En ASCCI el 4933 es: ፅ\n",
      "En ASCCI el 4934 es: ፆ\n",
      "En ASCCI el 4935 es: ፇ\n",
      "En ASCCI el 4936 es: ፈ\n",
      "En ASCCI el 4937 es: ፉ\n",
      "En ASCCI el 4938 es: ፊ\n",
      "En ASCCI el 4939 es: ፋ\n",
      "En ASCCI el 4940 es: ፌ\n",
      "En ASCCI el 4941 es: ፍ\n",
      "En ASCCI el 4942 es: ፎ\n",
      "En ASCCI el 4943 es: ፏ\n",
      "En ASCCI el 4944 es: ፐ\n",
      "En ASCCI el 4945 es: ፑ\n",
      "En ASCCI el 4946 es: ፒ\n",
      "En ASCCI el 4947 es: ፓ\n",
      "En ASCCI el 4948 es: ፔ\n",
      "En ASCCI el 4949 es: ፕ\n",
      "En ASCCI el 4950 es: ፖ\n",
      "En ASCCI el 4951 es: ፗ\n",
      "En ASCCI el 4952 es: ፘ\n",
      "En ASCCI el 4953 es: ፙ\n",
      "En ASCCI el 4954 es: ፚ\n",
      "En ASCCI el 4955 es: ፛\n",
      "En ASCCI el 4956 es: ፜\n",
      "En ASCCI el 4957 es: ፝\n",
      "En ASCCI el 4958 es: ፞\n",
      "En ASCCI el 4959 es: ፟\n",
      "En ASCCI el 4960 es: ፠\n",
      "En ASCCI el 4961 es: ፡\n",
      "En ASCCI el 4962 es: ።\n",
      "En ASCCI el 4963 es: ፣\n",
      "En ASCCI el 4964 es: ፤\n",
      "En ASCCI el 4965 es: ፥\n",
      "En ASCCI el 4966 es: ፦\n",
      "En ASCCI el 4967 es: ፧\n",
      "En ASCCI el 4968 es: ፨\n",
      "En ASCCI el 4969 es: ፩\n",
      "En ASCCI el 4970 es: ፪\n",
      "En ASCCI el 4971 es: ፫\n",
      "En ASCCI el 4972 es: ፬\n",
      "En ASCCI el 4973 es: ፭\n",
      "En ASCCI el 4974 es: ፮\n",
      "En ASCCI el 4975 es: ፯\n",
      "En ASCCI el 4976 es: ፰\n",
      "En ASCCI el 4977 es: ፱\n",
      "En ASCCI el 4978 es: ፲\n",
      "En ASCCI el 4979 es: ፳\n",
      "En ASCCI el 4980 es: ፴\n",
      "En ASCCI el 4981 es: ፵\n",
      "En ASCCI el 4982 es: ፶\n",
      "En ASCCI el 4983 es: ፷\n",
      "En ASCCI el 4984 es: ፸\n",
      "En ASCCI el 4985 es: ፹\n",
      "En ASCCI el 4986 es: ፺\n",
      "En ASCCI el 4987 es: ፻\n",
      "En ASCCI el 4988 es: ፼\n",
      "En ASCCI el 4989 es: ፽\n",
      "En ASCCI el 4990 es: ፾\n",
      "En ASCCI el 4991 es: ፿\n",
      "En ASCCI el 4992 es: ᎀ\n",
      "En ASCCI el 4993 es: ᎁ\n",
      "En ASCCI el 4994 es: ᎂ\n",
      "En ASCCI el 4995 es: ᎃ\n",
      "En ASCCI el 4996 es: ᎄ\n",
      "En ASCCI el 4997 es: ᎅ\n",
      "En ASCCI el 4998 es: ᎆ\n",
      "En ASCCI el 4999 es: ᎇ\n"
     ]
    }
   ],
   "source": [
    "#extremadamente útil porque muestra los caracteres ASCCI\n",
    "\n",
    "for i in range(5000):\n",
    "    print(\"En ASCCI el {} es: {}\".format(i,chr(i)))"
   ]
  }
 ],
 "metadata": {
  "colab": {
   "collapsed_sections": [],
   "include_colab_link": true,
   "name": "Tema03.ipynb",
   "provenance": []
  },
  "kernelspec": {
   "display_name": "Python 3",
   "language": "python",
   "name": "python3"
  },
  "language_info": {
   "codemirror_mode": {
    "name": "ipython",
    "version": 3
   },
   "file_extension": ".py",
   "mimetype": "text/x-python",
   "name": "python",
   "nbconvert_exporter": "python",
   "pygments_lexer": "ipython3",
   "version": "3.8.8"
  }
 },
 "nbformat": 4,
 "nbformat_minor": 1
}
